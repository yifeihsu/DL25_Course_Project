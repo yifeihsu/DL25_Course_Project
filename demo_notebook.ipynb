{
 "cells": [
  {
   "cell_type": "markdown",
   "id": "aebcc2be-8a49-437c-8d11-524a233b98f4",
   "metadata": {},
   "source": [
    "# SEResNet for CIFAR-10"
   ]
  },
  {
   "cell_type": "markdown",
   "id": "419cf2d8-b99a-49c7-a8c2-2c8c2ee1aff9",
   "metadata": {},
   "source": [
    "This notebook could fully reproduce the "
   ]
  },
  {
   "cell_type": "markdown",
   "id": "22d4c1ed-008d-48eb-acd6-8bedf384e333",
   "metadata": {},
   "source": [
    "## Imports and Configurations"
   ]
  },
  {
   "cell_type": "code",
   "id": "ae902588-3108-473f-947a-1ae294161674",
   "metadata": {
    "ExecuteTime": {
     "end_time": "2025-03-15T04:15:24.302520Z",
     "start_time": "2025-03-15T04:15:22.395861Z"
    }
   },
   "source": [
    "import math\n",
    "import random\n",
    "import numpy as np\n",
    "import torch\n",
    "import torch.nn as nn\n",
    "import torch.optim as optim\n",
    "import torch.backends.cudnn as cudnn\n",
    "import torchvision\n",
    "import torchvision.transforms as transforms\n",
    "from torch.amp import autocast, GradScaler\n",
    "from torchinfo import summary\n",
    "\n",
    "from tqdm import tqdm"
   ],
   "outputs": [],
   "execution_count": 1
  },
  {
   "cell_type": "markdown",
   "id": "7d0bcf60-0055-4387-aaf2-3cd8a77e2165",
   "metadata": {},
   "source": [
    "### 1) Model Definition and Utility Functions"
   ]
  },
  {
   "cell_type": "code",
   "id": "ad5a2bcb-062a-4147-a685-6207c39fa3a7",
   "metadata": {
    "ExecuteTime": {
     "end_time": "2025-03-15T04:15:24.414225Z",
     "start_time": "2025-03-15T04:15:24.408560Z"
    }
   },
   "source": [
    "class SEBlock(nn.Module):\n",
    "    def __init__(self, channels, reduction=16):\n",
    "        super(SEBlock, self).__init__()\n",
    "        mid_channels = channels // reduction\n",
    "        self.avg_pool = nn.AdaptiveAvgPool2d(1)\n",
    "        # Two fully-connected layers (implemented as 1x1 conv for convenience)\n",
    "        self.fc1 = nn.Conv2d(channels, mid_channels, kernel_size=1, bias=True)\n",
    "        self.relu = nn.ReLU(inplace=True)\n",
    "        self.fc2 = nn.Conv2d(mid_channels, channels, kernel_size=1, bias=True)\n",
    "        self.sigmoid = nn.Sigmoid()\n",
    "    def forward(self, x):\n",
    "        w = self.avg_pool(x)\n",
    "        w = self.fc1(w)\n",
    "        w = self.relu(w)\n",
    "        w = self.fc2(w)\n",
    "        w = self.sigmoid(w)\n",
    "        return x * w  # scale the input features by the learned weights\n",
    "\n",
    "# Basic Residual Block (for CIFAR-10 ResNet) with SE attention\n",
    "class BasicBlock(nn.Module):\n",
    "    expansion = 1  # expansion factor for output channels (1 for BasicBlock)\n",
    "    def __init__(self, in_channels, out_channels, stride=1, use_se=False, norm_layer=nn.BatchNorm2d):\n",
    "        super(BasicBlock, self).__init__()\n",
    "        self.use_se = use_se\n",
    "        # First 3x3 convolution (with stride, to downsample if needed)\n",
    "        self.conv1 = nn.Conv2d(in_channels, out_channels, kernel_size=3, stride=stride,\n",
    "                               padding=1, bias=False)\n",
    "        self.bn1 = norm_layer(out_channels)\n",
    "        # Second 3x3 convolution\n",
    "        self.conv2 = nn.Conv2d(out_channels, out_channels, kernel_size=3, stride=1,\n",
    "                               padding=1, bias=False)\n",
    "        self.bn2 = norm_layer(out_channels)\n",
    "        # Shortcut (identity or 1x1 conv if shape mismatch)\n",
    "        if stride != 1 or in_channels != out_channels * BasicBlock.expansion:\n",
    "            # Use 1x1 conv to match dimensions (for downsampling or channel increase)\n",
    "            self.shortcut = nn.Sequential(\n",
    "                nn.Conv2d(in_channels, out_channels * BasicBlock.expansion, kernel_size=1,\n",
    "                          stride=stride, bias=False),\n",
    "                norm_layer(out_channels * BasicBlock.expansion)\n",
    "            )\n",
    "        else:\n",
    "            self.shortcut = nn.Identity()\n",
    "        # Squeeze-and-Excitation module (if use_se is True)\n",
    "        self.se = SEBlock(out_channels * BasicBlock.expansion) if use_se else nn.Identity()\n",
    "        # Activation (ReLU) - we will apply after each BN, and after adding shortcut\n",
    "        self.relu = nn.ReLU(inplace=True)\n",
    "\n",
    "    def forward(self, x):\n",
    "        out = self.relu(self.bn1(self.conv1(x)))\n",
    "        out = self.bn2(self.conv2(out))\n",
    "        out = self.se(out)                 # SE attention (if no SE, this is identity)\n",
    "        out += self.shortcut(x)            # add skip connection\n",
    "        out = self.relu(out)\n",
    "        return out\n",
    "\n",
    "# Modified ResNet model for CIFAR-10\n",
    "class ModifiedResNet(nn.Module):\n",
    "    def __init__(self, num_blocks=[4,4,3], base_channels=64, num_classes=10, use_se=True, norm_layer=nn.BatchNorm2d):\n",
    "        \"\"\"\n",
    "        num_blocks: list of number of residual blocks in each stage.\n",
    "        base_channels: number of channels in first stage (will double each stage).\n",
    "        use_se: whether to include SE attention in blocks.\n",
    "        norm_layer: normalization layer to use (default BatchNorm2d).\n",
    "        \"\"\"\n",
    "        super(ModifiedResNet, self).__init__()\n",
    "        self.in_channels = base_channels\n",
    "        self.use_se = use_se\n",
    "        # Initial conv layer (3x3, same padding)\n",
    "        self.conv1 = nn.Conv2d(3, base_channels, kernel_size=3, stride=1, padding=1, bias=False)\n",
    "        self.bn1  = norm_layer(base_channels)\n",
    "        self.relu = nn.ReLU(inplace=True)\n",
    "        # Build residual stages\n",
    "        self.layers = nn.Sequential()  # will hold all residual blocks\n",
    "        channels = base_channels\n",
    "        for i, blocks in enumerate(num_blocks):\n",
    "            # For each stage i:\n",
    "            # Set stride=2 for stages beyond the first to downsample spatially.\n",
    "            stride = 1 if i == 0 else 2\n",
    "            # First block of this stage (may downsample and/or increase channels)\n",
    "            layer_blocks = []\n",
    "            layer_blocks.append(BasicBlock(self.in_channels, channels, stride=stride,\n",
    "                                           use_se=self.use_se, norm_layer=norm_layer))\n",
    "            self.in_channels = channels * BasicBlock.expansion  # update current channels\n",
    "            # Remaining blocks of this stage (stride=1, same channel count)\n",
    "            for j in range(1, blocks):\n",
    "                layer_blocks.append(BasicBlock(self.in_channels, channels, stride=1,\n",
    "                                               use_se=self.use_se, norm_layer=norm_layer))\n",
    "                # in_channels remains the same within a stage for BasicBlock\n",
    "            # Append this stage's blocks to the Sequential\n",
    "            self.layers.extend(layer_blocks)\n",
    "            # Double the channel count for next stage\n",
    "            channels *= 2\n",
    "        # Global average pool and linear classifier\n",
    "        self.avgpool = nn.AdaptiveAvgPool2d(1)\n",
    "        self.fc = nn.Linear(self.in_channels, num_classes)\n",
    "\n",
    "    def forward(self, x):\n",
    "        # Initial conv + BN + ReLU\n",
    "        out = self.relu(self.bn1(self.conv1(x)))\n",
    "        # Residual blocks\n",
    "        out = self.layers(out)\n",
    "        # Global pooling and output\n",
    "        out = self.avgpool(out)\n",
    "        out = out.view(out.size(0), -1)   # flatten\n",
    "        out = self.fc(out)\n",
    "        return out"
   ],
   "outputs": [],
   "execution_count": 2
  },
  {
   "cell_type": "markdown",
   "id": "f3187991-1d98-4a5a-8543-3bf939265420",
   "metadata": {},
   "source": [
    "# 2) MixUp / CutMix Utilities"
   ]
  },
  {
   "cell_type": "code",
   "id": "03872395-ae28-472c-b837-8ce7252b78c8",
   "metadata": {
    "ExecuteTime": {
     "end_time": "2025-03-15T04:15:24.425689Z",
     "start_time": "2025-03-15T04:15:24.421831Z"
    }
   },
   "source": [
    "def mixup_data(x, y, alpha=1.0):\n",
    "    \"\"\"Compute MixUp data. Returns mixed inputs, pairs of targets, and lambda.\"\"\"\n",
    "    if alpha > 0.0:\n",
    "        lam = np.random.beta(alpha, alpha)\n",
    "    else:\n",
    "        lam = 1.0\n",
    "\n",
    "    batch_size = x.size(0)\n",
    "    index = torch.randperm(batch_size).to(x.device)\n",
    "\n",
    "    mixed_x = lam * x + (1 - lam) * x[index, :]\n",
    "    y_a, y_b = y, y[index]\n",
    "    return mixed_x, y_a, y_b, lam\n",
    "\n",
    "\n",
    "def mixup_criterion(criterion, pred, y_a, y_b, lam):\n",
    "    \"\"\"Compute MixUp loss given the original criterion.\"\"\"\n",
    "    return lam * criterion(pred, y_a) + (1 - lam) * criterion(pred, y_b)\n",
    "\n",
    "\n",
    "def rand_bbox(size, lam):\n",
    "    \"\"\"Generate a random bbox for CutMix.\"\"\"\n",
    "    W = size[2]\n",
    "    H = size[3]\n",
    "    cut_rat = np.sqrt(1. - lam)\n",
    "    cut_w = int(W * cut_rat)\n",
    "    cut_h = int(H * cut_rat)\n",
    "\n",
    "    # uniform center\n",
    "    cx = np.random.randint(W)\n",
    "    cy = np.random.randint(H)\n",
    "\n",
    "    x1 = np.clip(cx - cut_w // 2, 0, W)\n",
    "    y1 = np.clip(cy - cut_h // 2, 0, H)\n",
    "    x2 = np.clip(cx + cut_w // 2, 0, W)\n",
    "    y2 = np.clip(cy + cut_h // 2, 0, H)\n",
    "    return x1, y1, x2, y2\n",
    "\n",
    "\n",
    "def cutmix_data(x, y, alpha=1.0):\n",
    "    \"\"\"Compute CutMix data. Returns cut-mixed inputs, pairs of targets, and lam.\"\"\"\n",
    "    if alpha > 0.0:\n",
    "        lam = np.random.beta(alpha, alpha)\n",
    "    else:\n",
    "        lam = 1.0\n",
    "\n",
    "    batch_size = x.size(0)\n",
    "    index = torch.randperm(batch_size).to(x.device)\n",
    "\n",
    "    x1, y1 = x, y\n",
    "    x2, y2 = x[index, :], y[index]\n",
    "\n",
    "    # random bbox\n",
    "    x1_coord, y1_coord, x2_coord, y2_coord = rand_bbox(x.size(), lam)\n",
    "\n",
    "    # replace\n",
    "    x1[:, :, x1_coord:x2_coord, y1_coord:y2_coord] = \\\n",
    "        x2[:, :, x1_coord:x2_coord, y1_coord:y2_coord]\n",
    "\n",
    "    # adjust lambda to match the exact area of the cut region\n",
    "    cut_area = (x2_coord - x1_coord) * (y2_coord - y1_coord)\n",
    "    lam = 1.0 - cut_area / (x.size(-1) * x.size(-2))\n",
    "\n",
    "    return x1, y1, y2, lam\n",
    "\n",
    "\n",
    "def cutmix_criterion(criterion, pred, y_a, y_b, lam):\n",
    "    \"\"\"Compute CutMix loss given the original criterion.\"\"\"\n",
    "    return lam * criterion(pred, y_a) + (1 - lam) * criterion(pred, y_b)"
   ],
   "outputs": [],
   "execution_count": 3
  },
  {
   "cell_type": "markdown",
   "id": "1640c703-9b50-4a53-8d86-f1434646ac91",
   "metadata": {},
   "source": [
    "### 3) Data Loading"
   ]
  },
  {
   "cell_type": "code",
   "id": "ea9a2034-9ca2-4a0e-a434-0ed22e8c4121",
   "metadata": {
    "ExecuteTime": {
     "end_time": "2025-03-15T04:15:24.437296Z",
     "start_time": "2025-03-15T04:15:24.434580Z"
    }
   },
   "source": [
    "def load_cifar10_data(batch_size=1024):\n",
    "    transform_train = transforms.Compose([\n",
    "        transforms.RandomCrop(32, padding=4),\n",
    "        transforms.RandomHorizontalFlip(),\n",
    "        transforms.AutoAugment(transforms.autoaugment.AutoAugmentPolicy.CIFAR10),\n",
    "        transforms.ToTensor(),\n",
    "        transforms.Normalize((0.4914, 0.4822, 0.4465),\n",
    "                             (0.2470, 0.2435, 0.2616)),\n",
    "    ])\n",
    "    \n",
    "    transform_test = transforms.Compose([\n",
    "        transforms.ToTensor(),\n",
    "        transforms.Normalize((0.4914, 0.4822, 0.4465),\n",
    "                             (0.2470, 0.2435, 0.2616)),\n",
    "    ])\n",
    "    \n",
    "    train_dataset = torchvision.datasets.CIFAR10(\n",
    "        root='./data',\n",
    "        train=True,\n",
    "        download=True,\n",
    "        transform=transform_train\n",
    "    )\n",
    "    test_dataset = torchvision.datasets.CIFAR10(\n",
    "        root='./data',\n",
    "        train=False,\n",
    "        download=True,\n",
    "        transform=transform_test\n",
    "    )\n",
    "\n",
    "    train_loader = torch.utils.data.DataLoader(\n",
    "        train_dataset,\n",
    "        batch_size=batch_size,\n",
    "        shuffle=True,\n",
    "        num_workers=12,\n",
    "        pin_memory=True\n",
    "    )\n",
    "    test_loader = torch.utils.data.DataLoader(\n",
    "        test_dataset,\n",
    "        batch_size=batch_size,\n",
    "        shuffle=False,\n",
    "        num_workers=12,\n",
    "        pin_memory=True\n",
    "    )\n",
    "\n",
    "    return train_loader, test_loader"
   ],
   "outputs": [],
   "execution_count": 4
  },
  {
   "cell_type": "markdown",
   "id": "f39626d8-bd23-4c80-a82e-9f3a4ed643e5",
   "metadata": {},
   "source": [
    "### 4) Training and Evaluation Logic"
   ]
  },
  {
   "cell_type": "code",
   "id": "ce854d5d-a9ec-4edd-b379-0c348f374ed6",
   "metadata": {
    "ExecuteTime": {
     "end_time": "2025-03-15T04:15:24.448993Z",
     "start_time": "2025-03-15T04:15:24.444918Z"
    }
   },
   "source": [
    "def train_one_epoch(model, train_loader, criterion, optimizer, scaler,\n",
    "                    mix_prob=1.0, mixup_alpha=1.0, cutmix_alpha=1.0):\n",
    "    model.train()\n",
    "    total_loss = 0.0\n",
    "    total_correct = 0\n",
    "    total_samples = 0\n",
    "\n",
    "    for images, labels in tqdm(train_loader, desc='Training', leave=False):\n",
    "        images, labels = images.cuda(), labels.cuda()\n",
    "        optimizer.zero_grad()\n",
    "        \n",
    "        with autocast(device_type='cuda'):\n",
    "            # Decide whether to apply MixUp, CutMix, or no mixing\n",
    "            if random.random() < mix_prob:\n",
    "                # 50/50 random choice between MixUp and CutMix\n",
    "                if random.random() < 0.5:\n",
    "                    # MixUp\n",
    "                    mixed_images, targets_a, targets_b, lam = mixup_data(images, labels, alpha=mixup_alpha)\n",
    "                    logits = model(mixed_images)\n",
    "                    loss = mixup_criterion(criterion, logits, targets_a, targets_b, lam)\n",
    "                    _, preds = logits.max(dim=1)\n",
    "                    # Hard to define 'correct' for mixed samples, so we'll skip accuracy tracking or do approximate\n",
    "                else:\n",
    "                    # CutMix\n",
    "                    mixed_images, targets_a, targets_b, lam = cutmix_data(images, labels, alpha=cutmix_alpha)\n",
    "                    logits = model(mixed_images)\n",
    "                    loss = cutmix_criterion(criterion, logits, targets_a, targets_b, lam)\n",
    "                    _, preds = logits.max(dim=1)\n",
    "            else:\n",
    "                # No mixing\n",
    "                logits = model(images)\n",
    "                loss = criterion(logits, labels)\n",
    "                _, preds = logits.max(dim=1)\n",
    "                total_correct += preds.eq(labels).sum().item()\n",
    "            \n",
    "            total_loss += loss.item() * images.size(0)\n",
    "            total_samples += images.size(0)\n",
    "        \n",
    "        scaler.scale(loss).backward()\n",
    "        scaler.step(optimizer)\n",
    "        scaler.update()\n",
    "\n",
    "    avg_loss = total_loss / total_samples\n",
    "    accuracy = 100.0 * total_correct / total_samples\n",
    "    return avg_loss, accuracy\n",
    "\n",
    "def evaluate(model, test_loader, criterion):\n",
    "    model.eval()\n",
    "    total_loss = 0.0\n",
    "    total_correct = 0\n",
    "    total_samples = 0\n",
    "\n",
    "    with torch.no_grad(), autocast(device_type='cuda'):\n",
    "        for images, labels in tqdm(test_loader, desc='Evaluating', leave=False):\n",
    "            images, labels = images.cuda(), labels.cuda()\n",
    "            logits = model(images)\n",
    "            loss = criterion(logits, labels)\n",
    "            _, preds = logits.max(dim=1)\n",
    "            total_correct += preds.eq(labels).sum().item()\n",
    "            total_loss += loss.item() * images.size(0)\n",
    "            total_samples += labels.size(0)\n",
    "    \n",
    "    avg_loss = total_loss / total_samples\n",
    "    accuracy = 100.0 * total_correct / total_samples\n",
    "    return avg_loss, accuracy"
   ],
   "outputs": [],
   "execution_count": 5
  },
  {
   "cell_type": "markdown",
   "id": "7904077d-e474-4cf4-b858-07920a79564f",
   "metadata": {},
   "source": [
    "### 5) Main Experiment / Training Loop"
   ]
  },
  {
   "cell_type": "code",
   "execution_count": 7,
   "id": "1186ddfc-d3ad-4cb3-8905-e1766af8ffa6",
   "metadata": {},
   "outputs": [],
   "source": [
    "def main_experiment(\n",
    "    num_epochs=1000,\n",
    "    batch_size=1024,\n",
    "    initial_lr=0.1,\n",
    "    mix_prob=1.0,\n",
    "    mixup_alpha=1.0,\n",
    "    cutmix_alpha=1.0\n",
    "):\n",
    "    # Data\n",
    "    train_loader, test_loader = load_cifar10_data(batch_size=batch_size)\n",
    "    \n",
    "    # Model\n",
    "    model = ModifiedResNet(\n",
    "        num_blocks=[4,4,3],\n",
    "        base_channels=64,\n",
    "        num_classes=10,\n",
    "        use_se=True\n",
    "    ).cuda()\n",
    "    \n",
    "    summary(model, input_size=(1, 3, 32, 32))\n",
    "    \n",
    "    # Optimizer\n",
    "    optimizer = optim.SGD(\n",
    "        model.parameters(),\n",
    "        lr=initial_lr,\n",
    "        momentum=0.9,\n",
    "        weight_decay=5e-4\n",
    "    )\n",
    "    \n",
    "    # LR Scheduler\n",
    "    def lr_lambda(epoch):\n",
    "        warmup_epochs = 10\n",
    "        total_epochs = num_epochs\n",
    "        if epoch < warmup_epochs:\n",
    "            return float(epoch + 1) / warmup_epochs\n",
    "        else:\n",
    "            return 0.5 * (\n",
    "                1.0 + math.cos(\n",
    "                    math.pi * (epoch - warmup_epochs) / (total_epochs - warmup_epochs)\n",
    "                )\n",
    "            )\n",
    "    scheduler = optim.lr_scheduler.LambdaLR(optimizer, lr_lambda)\n",
    "    \n",
    "    # AMP Gradient Scaler\n",
    "    scaler = GradScaler(device='cuda')\n",
    "    \n",
    "    # Loss\n",
    "    criterion = nn.CrossEntropyLoss(label_smoothing=0.0)\n",
    "\n",
    "    # Visualization Purposes\n",
    "    train_loss_history = []\n",
    "    train_acc_history = []\n",
    "    test_loss_history = []\n",
    "    test_acc_history = []\n",
    "    \n",
    "    best_acc = 0.0\n",
    "    for epoch in range(num_epochs):\n",
    "        print(f'\\nEpoch [{epoch+1}/{num_epochs}]')\n",
    "        \n",
    "        # Train\n",
    "        train_loss, train_acc = train_one_epoch(\n",
    "            model, train_loader, criterion, optimizer, scaler,\n",
    "            mix_prob=mix_prob, mixup_alpha=mixup_alpha, cutmix_alpha=cutmix_alpha\n",
    "        )\n",
    "        \n",
    "        # Step LR\n",
    "        scheduler.step()\n",
    "        \n",
    "        # Evaluate\n",
    "        test_loss, test_acc = evaluate(model, test_loader, criterion)\n",
    "\n",
    "        train_loss_history.append(train_loss)\n",
    "        train_acc_history.append(train_acc)\n",
    "        test_loss_history.append(test_loss)\n",
    "        test_acc_history.append(test_acc)\n",
    "        \n",
    "        # Print metrics for each epoch\n",
    "        print(f'Train Loss: {train_loss:.4f}, Train Acc: {train_acc:.2f}%')\n",
    "        print(f'Test Loss:  {test_loss:.4f}, Test Acc:  {test_acc:.2f}%')\n",
    "        \n",
    "        # Save best\n",
    "        if test_acc > best_acc:\n",
    "            best_acc = test_acc\n",
    "            torch.save(model.state_dict(), 'best_model.pth')\n",
    "            print(f'Saving model with Test Acc: {best_acc:.2f}%')\n",
    "    \n",
    "    print(f'\\nTraining complete. Best Test Accuracy: {best_acc:.2f}%')\n",
    "    return best_acc"
   ]
  },
  {
   "cell_type": "markdown",
   "id": "93743706-7ea0-422a-9771-06fa7758af5f",
   "metadata": {},
   "source": [
    "### 6) Running Experiments"
   ]
  },
  {
   "cell_type": "code",
   "execution_count": null,
   "id": "e8e16011-a253-4d7c-b307-3b684d5308cc",
   "metadata": {},
   "outputs": [
    {
     "name": "stdout",
     "output_type": "stream",
     "text": [
      "Running Experiment: {'num_epochs': 1000, 'batch_size': 1024, 'initial_lr': 0.1, 'mix_prob': 1.0, 'mixup_alpha': 1.0, 'cutmix_alpha': 1.0}\n",
      "\n",
      "Epoch [1/1000]\n"
     ]
    },
    {
     "name": "stderr",
     "output_type": "stream",
     "text": [
      "                                                          \r"
     ]
    },
    {
     "name": "stdout",
     "output_type": "stream",
     "text": [
      "Train Loss: 2.1976, Train Acc: 0.00%\n",
      "Test Loss:  1.9533, Test Acc:  27.20%\n",
      "Saving model with Test Acc: 27.20%\n",
      "\n",
      "Epoch [2/1000]\n"
     ]
    },
    {
     "name": "stderr",
     "output_type": "stream",
     "text": [
      "                                                          \r"
     ]
    },
    {
     "name": "stdout",
     "output_type": "stream",
     "text": [
      "Train Loss: 2.0360, Train Acc: 0.00%\n",
      "Test Loss:  1.5702, Test Acc:  42.01%\n",
      "Saving model with Test Acc: 42.01%\n",
      "\n",
      "Epoch [3/1000]\n"
     ]
    },
    {
     "name": "stderr",
     "output_type": "stream",
     "text": [
      "                                                          \r"
     ]
    },
    {
     "name": "stdout",
     "output_type": "stream",
     "text": [
      "Train Loss: 1.9510, Train Acc: 0.00%\n",
      "Test Loss:  1.3003, Test Acc:  52.73%\n",
      "Saving model with Test Acc: 52.73%\n",
      "\n",
      "Epoch [4/1000]\n"
     ]
    },
    {
     "name": "stderr",
     "output_type": "stream",
     "text": [
      "                                                          \r"
     ]
    },
    {
     "name": "stdout",
     "output_type": "stream",
     "text": [
      "Train Loss: 1.8176, Train Acc: 0.00%\n",
      "Test Loss:  1.3182, Test Acc:  55.68%\n",
      "Saving model with Test Acc: 55.68%\n",
      "\n",
      "Epoch [5/1000]\n"
     ]
    },
    {
     "name": "stderr",
     "output_type": "stream",
     "text": [
      "                                                          \r"
     ]
    },
    {
     "name": "stdout",
     "output_type": "stream",
     "text": [
      "Train Loss: 1.7330, Train Acc: 0.00%\n",
      "Test Loss:  1.5277, Test Acc:  47.10%\n",
      "\n",
      "Epoch [6/1000]\n"
     ]
    },
    {
     "name": "stderr",
     "output_type": "stream",
     "text": [
      "                                                          \r"
     ]
    },
    {
     "name": "stdout",
     "output_type": "stream",
     "text": [
      "Train Loss: 1.6817, Train Acc: 0.00%\n",
      "Test Loss:  1.1474, Test Acc:  60.53%\n",
      "Saving model with Test Acc: 60.53%\n",
      "\n",
      "Epoch [7/1000]\n"
     ]
    },
    {
     "name": "stderr",
     "output_type": "stream",
     "text": [
      "                                                          \r"
     ]
    },
    {
     "name": "stdout",
     "output_type": "stream",
     "text": [
      "Train Loss: 1.6801, Train Acc: 0.00%\n",
      "Test Loss:  1.3479, Test Acc:  51.41%\n",
      "\n",
      "Epoch [8/1000]\n"
     ]
    },
    {
     "name": "stderr",
     "output_type": "stream",
     "text": [
      "                                                          \r"
     ]
    },
    {
     "name": "stdout",
     "output_type": "stream",
     "text": [
      "Train Loss: 1.6594, Train Acc: 0.00%\n",
      "Test Loss:  1.2162, Test Acc:  57.07%\n",
      "\n",
      "Epoch [9/1000]\n"
     ]
    },
    {
     "name": "stderr",
     "output_type": "stream",
     "text": [
      "                                                          \r"
     ]
    },
    {
     "name": "stdout",
     "output_type": "stream",
     "text": [
      "Train Loss: 1.5228, Train Acc: 0.00%\n",
      "Test Loss:  1.0398, Test Acc:  65.31%\n",
      "Saving model with Test Acc: 65.31%\n",
      "\n",
      "Epoch [10/1000]\n"
     ]
    },
    {
     "name": "stderr",
     "output_type": "stream",
     "text": [
      "                                                          \r"
     ]
    },
    {
     "name": "stdout",
     "output_type": "stream",
     "text": [
      "Train Loss: 1.6218, Train Acc: 0.00%\n",
      "Test Loss:  1.0103, Test Acc:  65.66%\n",
      "Saving model with Test Acc: 65.66%\n",
      "\n",
      "Epoch [11/1000]\n"
     ]
    },
    {
     "name": "stderr",
     "output_type": "stream",
     "text": [
      "                                                          \r"
     ]
    },
    {
     "name": "stdout",
     "output_type": "stream",
     "text": [
      "Train Loss: 1.5777, Train Acc: 0.00%\n",
      "Test Loss:  0.9524, Test Acc:  68.44%\n",
      "Saving model with Test Acc: 68.44%\n",
      "\n",
      "Epoch [12/1000]\n"
     ]
    },
    {
     "name": "stderr",
     "output_type": "stream",
     "text": [
      "                                                          \r"
     ]
    },
    {
     "name": "stdout",
     "output_type": "stream",
     "text": [
      "Train Loss: 1.5072, Train Acc: 0.00%\n",
      "Test Loss:  0.7382, Test Acc:  75.59%\n",
      "Saving model with Test Acc: 75.59%\n",
      "\n",
      "Epoch [13/1000]\n"
     ]
    },
    {
     "name": "stderr",
     "output_type": "stream",
     "text": [
      "                                                          \r"
     ]
    },
    {
     "name": "stdout",
     "output_type": "stream",
     "text": [
      "Train Loss: 1.4959, Train Acc: 0.00%\n",
      "Test Loss:  0.8521, Test Acc:  78.28%\n",
      "Saving model with Test Acc: 78.28%\n",
      "\n",
      "Epoch [14/1000]\n"
     ]
    },
    {
     "name": "stderr",
     "output_type": "stream",
     "text": [
      "                                                          \r"
     ]
    },
    {
     "name": "stdout",
     "output_type": "stream",
     "text": [
      "Train Loss: 1.3821, Train Acc: 0.00%\n",
      "Test Loss:  1.0345, Test Acc:  64.01%\n",
      "\n",
      "Epoch [15/1000]\n"
     ]
    },
    {
     "name": "stderr",
     "output_type": "stream",
     "text": [
      "                                                          \r"
     ]
    },
    {
     "name": "stdout",
     "output_type": "stream",
     "text": [
      "Train Loss: 1.4257, Train Acc: 0.00%\n",
      "Test Loss:  0.7160, Test Acc:  77.27%\n",
      "\n",
      "Epoch [16/1000]\n"
     ]
    },
    {
     "name": "stderr",
     "output_type": "stream",
     "text": [
      "                                                          \r"
     ]
    },
    {
     "name": "stdout",
     "output_type": "stream",
     "text": [
      "Train Loss: 1.3500, Train Acc: 0.00%\n",
      "Test Loss:  0.7304, Test Acc:  78.61%\n",
      "Saving model with Test Acc: 78.61%\n",
      "\n",
      "Epoch [17/1000]\n"
     ]
    },
    {
     "name": "stderr",
     "output_type": "stream",
     "text": [
      "                                                          \r"
     ]
    },
    {
     "name": "stdout",
     "output_type": "stream",
     "text": [
      "Train Loss: 1.4335, Train Acc: 0.00%\n",
      "Test Loss:  0.8291, Test Acc:  76.91%\n",
      "\n",
      "Epoch [18/1000]\n"
     ]
    },
    {
     "name": "stderr",
     "output_type": "stream",
     "text": [
      "                                                          \r"
     ]
    },
    {
     "name": "stdout",
     "output_type": "stream",
     "text": [
      "Train Loss: 1.3605, Train Acc: 0.00%\n",
      "Test Loss:  0.7520, Test Acc:  76.76%\n",
      "\n",
      "Epoch [19/1000]\n"
     ]
    },
    {
     "name": "stderr",
     "output_type": "stream",
     "text": [
      "                                                          \r"
     ]
    },
    {
     "name": "stdout",
     "output_type": "stream",
     "text": [
      "Train Loss: 1.4174, Train Acc: 0.00%\n",
      "Test Loss:  0.6638, Test Acc:  79.03%\n",
      "Saving model with Test Acc: 79.03%\n",
      "\n",
      "Epoch [20/1000]\n"
     ]
    },
    {
     "name": "stderr",
     "output_type": "stream",
     "text": [
      "                                                          \r"
     ]
    },
    {
     "name": "stdout",
     "output_type": "stream",
     "text": [
      "Train Loss: 1.3658, Train Acc: 0.00%\n",
      "Test Loss:  0.8042, Test Acc:  73.61%\n",
      "\n",
      "Epoch [21/1000]\n"
     ]
    },
    {
     "name": "stderr",
     "output_type": "stream",
     "text": [
      "                                                          \r"
     ]
    },
    {
     "name": "stdout",
     "output_type": "stream",
     "text": [
      "Train Loss: 1.3299, Train Acc: 0.00%\n",
      "Test Loss:  0.9167, Test Acc:  73.67%\n",
      "\n",
      "Epoch [22/1000]\n"
     ]
    },
    {
     "name": "stderr",
     "output_type": "stream",
     "text": [
      "                                                          \r"
     ]
    },
    {
     "name": "stdout",
     "output_type": "stream",
     "text": [
      "Train Loss: 1.4241, Train Acc: 0.00%\n",
      "Test Loss:  0.7699, Test Acc:  81.00%\n",
      "Saving model with Test Acc: 81.00%\n",
      "\n",
      "Epoch [23/1000]\n"
     ]
    },
    {
     "name": "stderr",
     "output_type": "stream",
     "text": [
      "                                                          \r"
     ]
    },
    {
     "name": "stdout",
     "output_type": "stream",
     "text": [
      "Train Loss: 1.3269, Train Acc: 0.00%\n",
      "Test Loss:  0.5257, Test Acc:  83.63%\n",
      "Saving model with Test Acc: 83.63%\n",
      "\n",
      "Epoch [24/1000]\n"
     ]
    },
    {
     "name": "stderr",
     "output_type": "stream",
     "text": [
      "                                                          \r"
     ]
    },
    {
     "name": "stdout",
     "output_type": "stream",
     "text": [
      "Train Loss: 1.3210, Train Acc: 0.00%\n",
      "Test Loss:  0.6878, Test Acc:  80.21%\n",
      "\n",
      "Epoch [25/1000]\n"
     ]
    },
    {
     "name": "stderr",
     "output_type": "stream",
     "text": [
      "                                                           \r"
     ]
    },
    {
     "name": "stdout",
     "output_type": "stream",
     "text": [
      "Train Loss: 1.3153, Train Acc: 0.00%\n",
      "Test Loss:  0.8204, Test Acc:  76.09%\n",
      "\n",
      "Epoch [26/1000]\n"
     ]
    },
    {
     "name": "stderr",
     "output_type": "stream",
     "text": [
      "                                                          \r"
     ]
    },
    {
     "name": "stdout",
     "output_type": "stream",
     "text": [
      "Train Loss: 1.4122, Train Acc: 0.00%\n",
      "Test Loss:  0.6356, Test Acc:  82.43%\n",
      "\n",
      "Epoch [27/1000]\n"
     ]
    },
    {
     "name": "stderr",
     "output_type": "stream",
     "text": [
      "                                                          \r"
     ]
    },
    {
     "name": "stdout",
     "output_type": "stream",
     "text": [
      "Train Loss: 1.3689, Train Acc: 0.00%\n",
      "Test Loss:  0.7332, Test Acc:  76.93%\n",
      "\n",
      "Epoch [28/1000]\n"
     ]
    },
    {
     "name": "stderr",
     "output_type": "stream",
     "text": [
      "                                                          \r"
     ]
    },
    {
     "name": "stdout",
     "output_type": "stream",
     "text": [
      "Train Loss: 1.3326, Train Acc: 0.00%\n",
      "Test Loss:  0.5243, Test Acc:  83.71%\n",
      "Saving model with Test Acc: 83.71%\n",
      "\n",
      "Epoch [29/1000]\n"
     ]
    },
    {
     "name": "stderr",
     "output_type": "stream",
     "text": [
      "                                                          \r"
     ]
    },
    {
     "name": "stdout",
     "output_type": "stream",
     "text": [
      "Train Loss: 1.3084, Train Acc: 0.00%\n",
      "Test Loss:  0.5837, Test Acc:  83.25%\n",
      "\n",
      "Epoch [30/1000]\n"
     ]
    },
    {
     "name": "stderr",
     "output_type": "stream",
     "text": [
      "                                                          \r"
     ]
    },
    {
     "name": "stdout",
     "output_type": "stream",
     "text": [
      "Train Loss: 1.3270, Train Acc: 0.00%\n",
      "Test Loss:  0.6076, Test Acc:  83.13%\n",
      "\n",
      "Epoch [31/1000]\n"
     ]
    },
    {
     "name": "stderr",
     "output_type": "stream",
     "text": [
      "                                                          \r"
     ]
    },
    {
     "name": "stdout",
     "output_type": "stream",
     "text": [
      "Train Loss: 1.3102, Train Acc: 0.00%\n",
      "Test Loss:  0.7546, Test Acc:  78.91%\n",
      "\n",
      "Epoch [32/1000]\n"
     ]
    },
    {
     "name": "stderr",
     "output_type": "stream",
     "text": [
      "                                                          \r"
     ]
    },
    {
     "name": "stdout",
     "output_type": "stream",
     "text": [
      "Train Loss: 1.3214, Train Acc: 0.00%\n",
      "Test Loss:  0.6333, Test Acc:  83.36%\n",
      "\n",
      "Epoch [33/1000]\n"
     ]
    },
    {
     "name": "stderr",
     "output_type": "stream",
     "text": [
      "                                                          \r"
     ]
    },
    {
     "name": "stdout",
     "output_type": "stream",
     "text": [
      "Train Loss: 1.3371, Train Acc: 0.00%\n",
      "Test Loss:  0.5543, Test Acc:  86.59%\n",
      "Saving model with Test Acc: 86.59%\n",
      "\n",
      "Epoch [34/1000]\n"
     ]
    },
    {
     "name": "stderr",
     "output_type": "stream",
     "text": [
      "                                                          \r"
     ]
    },
    {
     "name": "stdout",
     "output_type": "stream",
     "text": [
      "Train Loss: 1.2425, Train Acc: 0.00%\n",
      "Test Loss:  0.5359, Test Acc:  83.08%\n",
      "\n",
      "Epoch [35/1000]\n"
     ]
    },
    {
     "name": "stderr",
     "output_type": "stream",
     "text": [
      "                                                          \r"
     ]
    },
    {
     "name": "stdout",
     "output_type": "stream",
     "text": [
      "Train Loss: 1.2693, Train Acc: 0.00%\n",
      "Test Loss:  0.5647, Test Acc:  84.57%\n",
      "\n",
      "Epoch [36/1000]\n"
     ]
    },
    {
     "name": "stderr",
     "output_type": "stream",
     "text": [
      "                                                          \r"
     ]
    },
    {
     "name": "stdout",
     "output_type": "stream",
     "text": [
      "Train Loss: 1.2339, Train Acc: 0.00%\n",
      "Test Loss:  0.7084, Test Acc:  79.63%\n",
      "\n",
      "Epoch [37/1000]\n"
     ]
    },
    {
     "name": "stderr",
     "output_type": "stream",
     "text": [
      "                                                          \r"
     ]
    },
    {
     "name": "stdout",
     "output_type": "stream",
     "text": [
      "Train Loss: 1.2701, Train Acc: 0.00%\n",
      "Test Loss:  0.5343, Test Acc:  86.26%\n",
      "\n",
      "Epoch [38/1000]\n"
     ]
    },
    {
     "name": "stderr",
     "output_type": "stream",
     "text": [
      "                                                          \r"
     ]
    },
    {
     "name": "stdout",
     "output_type": "stream",
     "text": [
      "Train Loss: 1.2855, Train Acc: 0.00%\n",
      "Test Loss:  0.5534, Test Acc:  85.76%\n",
      "\n",
      "Epoch [39/1000]\n"
     ]
    },
    {
     "name": "stderr",
     "output_type": "stream",
     "text": [
      "                                                          \r"
     ]
    },
    {
     "name": "stdout",
     "output_type": "stream",
     "text": [
      "Train Loss: 1.2897, Train Acc: 0.00%\n",
      "Test Loss:  0.4109, Test Acc:  89.09%\n",
      "Saving model with Test Acc: 89.09%\n",
      "\n",
      "Epoch [40/1000]\n"
     ]
    },
    {
     "name": "stderr",
     "output_type": "stream",
     "text": [
      "                                                          \r"
     ]
    },
    {
     "name": "stdout",
     "output_type": "stream",
     "text": [
      "Train Loss: 1.2525, Train Acc: 0.00%\n",
      "Test Loss:  0.5846, Test Acc:  83.88%\n",
      "\n",
      "Epoch [41/1000]\n"
     ]
    },
    {
     "name": "stderr",
     "output_type": "stream",
     "text": [
      "                                                          \r"
     ]
    },
    {
     "name": "stdout",
     "output_type": "stream",
     "text": [
      "Train Loss: 1.2720, Train Acc: 0.00%\n",
      "Test Loss:  0.5801, Test Acc:  83.42%\n",
      "\n",
      "Epoch [42/1000]\n"
     ]
    },
    {
     "name": "stderr",
     "output_type": "stream",
     "text": [
      "                                                          \r"
     ]
    },
    {
     "name": "stdout",
     "output_type": "stream",
     "text": [
      "Train Loss: 1.2784, Train Acc: 0.00%\n",
      "Test Loss:  0.5495, Test Acc:  88.50%\n",
      "\n",
      "Epoch [43/1000]\n"
     ]
    },
    {
     "name": "stderr",
     "output_type": "stream",
     "text": [
      "                                                          \r"
     ]
    },
    {
     "name": "stdout",
     "output_type": "stream",
     "text": [
      "Train Loss: 1.2171, Train Acc: 0.00%\n",
      "Test Loss:  0.5740, Test Acc:  83.15%\n",
      "\n",
      "Epoch [44/1000]\n"
     ]
    },
    {
     "name": "stderr",
     "output_type": "stream",
     "text": [
      "                                                          \r"
     ]
    },
    {
     "name": "stdout",
     "output_type": "stream",
     "text": [
      "Train Loss: 1.1382, Train Acc: 0.00%\n",
      "Test Loss:  0.4416, Test Acc:  88.33%\n",
      "\n",
      "Epoch [45/1000]\n"
     ]
    },
    {
     "name": "stderr",
     "output_type": "stream",
     "text": [
      "                                                          \r"
     ]
    },
    {
     "name": "stdout",
     "output_type": "stream",
     "text": [
      "Train Loss: 1.1951, Train Acc: 0.00%\n",
      "Test Loss:  0.5500, Test Acc:  84.99%\n",
      "\n",
      "Epoch [46/1000]\n"
     ]
    },
    {
     "name": "stderr",
     "output_type": "stream",
     "text": [
      "                                                          \r"
     ]
    },
    {
     "name": "stdout",
     "output_type": "stream",
     "text": [
      "Train Loss: 1.2097, Train Acc: 0.00%\n",
      "Test Loss:  0.5044, Test Acc:  86.79%\n",
      "\n",
      "Epoch [47/1000]\n"
     ]
    },
    {
     "name": "stderr",
     "output_type": "stream",
     "text": [
      "                                                          \r"
     ]
    },
    {
     "name": "stdout",
     "output_type": "stream",
     "text": [
      "Train Loss: 1.1769, Train Acc: 0.00%\n",
      "Test Loss:  0.4537, Test Acc:  88.43%\n",
      "\n",
      "Epoch [48/1000]\n"
     ]
    },
    {
     "name": "stderr",
     "output_type": "stream",
     "text": [
      "                                                           \r"
     ]
    },
    {
     "name": "stdout",
     "output_type": "stream",
     "text": [
      "Train Loss: 1.1705, Train Acc: 0.00%\n",
      "Test Loss:  0.5751, Test Acc:  84.28%\n",
      "\n",
      "Epoch [49/1000]\n"
     ]
    },
    {
     "name": "stderr",
     "output_type": "stream",
     "text": [
      "                                                          \r"
     ]
    },
    {
     "name": "stdout",
     "output_type": "stream",
     "text": [
      "Train Loss: 1.2139, Train Acc: 0.00%\n",
      "Test Loss:  0.4225, Test Acc:  89.92%\n",
      "Saving model with Test Acc: 89.92%\n",
      "\n",
      "Epoch [50/1000]\n"
     ]
    },
    {
     "name": "stderr",
     "output_type": "stream",
     "text": [
      "                                                          \r"
     ]
    },
    {
     "name": "stdout",
     "output_type": "stream",
     "text": [
      "Train Loss: 1.0468, Train Acc: 0.00%\n",
      "Test Loss:  0.4311, Test Acc:  88.54%\n",
      "\n",
      "Epoch [51/1000]\n"
     ]
    },
    {
     "name": "stderr",
     "output_type": "stream",
     "text": [
      "                                                          \r"
     ]
    },
    {
     "name": "stdout",
     "output_type": "stream",
     "text": [
      "Train Loss: 1.2729, Train Acc: 0.00%\n",
      "Test Loss:  0.5005, Test Acc:  88.50%\n",
      "\n",
      "Epoch [52/1000]\n"
     ]
    },
    {
     "name": "stderr",
     "output_type": "stream",
     "text": [
      "                                                          \r"
     ]
    },
    {
     "name": "stdout",
     "output_type": "stream",
     "text": [
      "Train Loss: 1.2389, Train Acc: 0.00%\n",
      "Test Loss:  0.4848, Test Acc:  89.37%\n",
      "\n",
      "Epoch [53/1000]\n"
     ]
    },
    {
     "name": "stderr",
     "output_type": "stream",
     "text": [
      "                                                          \r"
     ]
    },
    {
     "name": "stdout",
     "output_type": "stream",
     "text": [
      "Train Loss: 1.1160, Train Acc: 0.00%\n",
      "Test Loss:  0.4269, Test Acc:  87.80%\n",
      "\n",
      "Epoch [54/1000]\n"
     ]
    },
    {
     "name": "stderr",
     "output_type": "stream",
     "text": [
      "                                                          \r"
     ]
    },
    {
     "name": "stdout",
     "output_type": "stream",
     "text": [
      "Train Loss: 1.1995, Train Acc: 0.00%\n",
      "Test Loss:  0.4342, Test Acc:  90.32%\n",
      "Saving model with Test Acc: 90.32%\n",
      "\n",
      "Epoch [55/1000]\n"
     ]
    },
    {
     "name": "stderr",
     "output_type": "stream",
     "text": [
      "                                                          \r"
     ]
    },
    {
     "name": "stdout",
     "output_type": "stream",
     "text": [
      "Train Loss: 1.1588, Train Acc: 0.00%\n",
      "Test Loss:  0.6144, Test Acc:  89.98%\n",
      "\n",
      "Epoch [56/1000]\n"
     ]
    },
    {
     "name": "stderr",
     "output_type": "stream",
     "text": [
      "                                                          \r"
     ]
    },
    {
     "name": "stdout",
     "output_type": "stream",
     "text": [
      "Train Loss: 1.1499, Train Acc: 0.00%\n",
      "Test Loss:  0.3442, Test Acc:  89.81%\n",
      "\n",
      "Epoch [57/1000]\n"
     ]
    },
    {
     "name": "stderr",
     "output_type": "stream",
     "text": [
      "                                                          \r"
     ]
    },
    {
     "name": "stdout",
     "output_type": "stream",
     "text": [
      "Train Loss: 1.2335, Train Acc: 0.00%\n",
      "Test Loss:  0.4162, Test Acc:  88.71%\n",
      "\n",
      "Epoch [58/1000]\n"
     ]
    },
    {
     "name": "stderr",
     "output_type": "stream",
     "text": [
      "                                                           \r"
     ]
    },
    {
     "name": "stdout",
     "output_type": "stream",
     "text": [
      "Train Loss: 1.1988, Train Acc: 0.00%\n",
      "Test Loss:  0.3965, Test Acc:  90.43%\n",
      "Saving model with Test Acc: 90.43%\n",
      "\n",
      "Epoch [59/1000]\n"
     ]
    },
    {
     "name": "stderr",
     "output_type": "stream",
     "text": [
      "                                                          \r"
     ]
    },
    {
     "name": "stdout",
     "output_type": "stream",
     "text": [
      "Train Loss: 1.2623, Train Acc: 0.00%\n",
      "Test Loss:  0.4309, Test Acc:  90.82%\n",
      "Saving model with Test Acc: 90.82%\n",
      "\n",
      "Epoch [60/1000]\n"
     ]
    },
    {
     "name": "stderr",
     "output_type": "stream",
     "text": [
      "                                                          \r"
     ]
    },
    {
     "name": "stdout",
     "output_type": "stream",
     "text": [
      "Train Loss: 1.2407, Train Acc: 0.00%\n",
      "Test Loss:  0.4745, Test Acc:  90.92%\n",
      "Saving model with Test Acc: 90.92%\n",
      "\n",
      "Epoch [61/1000]\n"
     ]
    },
    {
     "name": "stderr",
     "output_type": "stream",
     "text": [
      "                                                          \r"
     ]
    },
    {
     "name": "stdout",
     "output_type": "stream",
     "text": [
      "Train Loss: 1.2192, Train Acc: 0.00%\n",
      "Test Loss:  0.4940, Test Acc:  88.03%\n",
      "\n",
      "Epoch [62/1000]\n"
     ]
    },
    {
     "name": "stderr",
     "output_type": "stream",
     "text": [
      "                                                          \r"
     ]
    },
    {
     "name": "stdout",
     "output_type": "stream",
     "text": [
      "Train Loss: 1.1091, Train Acc: 0.00%\n",
      "Test Loss:  0.4426, Test Acc:  89.34%\n",
      "\n",
      "Epoch [63/1000]\n"
     ]
    },
    {
     "name": "stderr",
     "output_type": "stream",
     "text": [
      "                                                          \r"
     ]
    },
    {
     "name": "stdout",
     "output_type": "stream",
     "text": [
      "Train Loss: 1.1995, Train Acc: 0.00%\n",
      "Test Loss:  0.5098, Test Acc:  89.60%\n",
      "\n",
      "Epoch [64/1000]\n"
     ]
    },
    {
     "name": "stderr",
     "output_type": "stream",
     "text": [
      "                                                          \r"
     ]
    },
    {
     "name": "stdout",
     "output_type": "stream",
     "text": [
      "Train Loss: 1.1223, Train Acc: 0.00%\n",
      "Test Loss:  0.4516, Test Acc:  89.48%\n",
      "\n",
      "Epoch [65/1000]\n"
     ]
    },
    {
     "name": "stderr",
     "output_type": "stream",
     "text": [
      "                                                          \r"
     ]
    },
    {
     "name": "stdout",
     "output_type": "stream",
     "text": [
      "Train Loss: 1.2501, Train Acc: 0.00%\n",
      "Test Loss:  0.4211, Test Acc:  90.67%\n",
      "\n",
      "Epoch [66/1000]\n"
     ]
    },
    {
     "name": "stderr",
     "output_type": "stream",
     "text": [
      "                                                          \r"
     ]
    },
    {
     "name": "stdout",
     "output_type": "stream",
     "text": [
      "Train Loss: 1.1485, Train Acc: 0.00%\n",
      "Test Loss:  0.4599, Test Acc:  89.15%\n",
      "\n",
      "Epoch [67/1000]\n"
     ]
    },
    {
     "name": "stderr",
     "output_type": "stream",
     "text": [
      "                                                          \r"
     ]
    },
    {
     "name": "stdout",
     "output_type": "stream",
     "text": [
      "Train Loss: 1.2065, Train Acc: 0.00%\n",
      "Test Loss:  0.4786, Test Acc:  88.77%\n",
      "\n",
      "Epoch [68/1000]\n"
     ]
    },
    {
     "name": "stderr",
     "output_type": "stream",
     "text": [
      "                                                          \r"
     ]
    },
    {
     "name": "stdout",
     "output_type": "stream",
     "text": [
      "Train Loss: 1.0924, Train Acc: 0.00%\n",
      "Test Loss:  0.5690, Test Acc:  84.48%\n",
      "\n",
      "Epoch [69/1000]\n"
     ]
    },
    {
     "name": "stderr",
     "output_type": "stream",
     "text": [
      "                                                          \r"
     ]
    },
    {
     "name": "stdout",
     "output_type": "stream",
     "text": [
      "Train Loss: 1.1485, Train Acc: 0.00%\n",
      "Test Loss:  0.4560, Test Acc:  87.06%\n",
      "\n",
      "Epoch [70/1000]\n"
     ]
    },
    {
     "name": "stderr",
     "output_type": "stream",
     "text": [
      "                                                          \r"
     ]
    },
    {
     "name": "stdout",
     "output_type": "stream",
     "text": [
      "Train Loss: 1.1298, Train Acc: 0.00%\n",
      "Test Loss:  0.4568, Test Acc:  90.42%\n",
      "\n",
      "Epoch [71/1000]\n"
     ]
    },
    {
     "name": "stderr",
     "output_type": "stream",
     "text": [
      "                                                          \r"
     ]
    },
    {
     "name": "stdout",
     "output_type": "stream",
     "text": [
      "Train Loss: 1.1590, Train Acc: 0.00%\n",
      "Test Loss:  0.4473, Test Acc:  90.23%\n",
      "\n",
      "Epoch [72/1000]\n"
     ]
    },
    {
     "name": "stderr",
     "output_type": "stream",
     "text": [
      "                                                          \r"
     ]
    },
    {
     "name": "stdout",
     "output_type": "stream",
     "text": [
      "Train Loss: 1.1605, Train Acc: 0.00%\n",
      "Test Loss:  0.4534, Test Acc:  87.29%\n",
      "\n",
      "Epoch [73/1000]\n"
     ]
    },
    {
     "name": "stderr",
     "output_type": "stream",
     "text": [
      "                                                          \r"
     ]
    },
    {
     "name": "stdout",
     "output_type": "stream",
     "text": [
      "Train Loss: 1.0844, Train Acc: 0.00%\n",
      "Test Loss:  0.4173, Test Acc:  89.43%\n",
      "\n",
      "Epoch [74/1000]\n"
     ]
    },
    {
     "name": "stderr",
     "output_type": "stream",
     "text": [
      "                                                          \r"
     ]
    },
    {
     "name": "stdout",
     "output_type": "stream",
     "text": [
      "Train Loss: 1.1577, Train Acc: 0.00%\n",
      "Test Loss:  0.3997, Test Acc:  89.82%\n",
      "\n",
      "Epoch [75/1000]\n"
     ]
    },
    {
     "name": "stderr",
     "output_type": "stream",
     "text": [
      "                                                          \r"
     ]
    },
    {
     "name": "stdout",
     "output_type": "stream",
     "text": [
      "Train Loss: 1.1953, Train Acc: 0.00%\n",
      "Test Loss:  0.5150, Test Acc:  88.02%\n",
      "\n",
      "Epoch [76/1000]\n"
     ]
    },
    {
     "name": "stderr",
     "output_type": "stream",
     "text": [
      "                                                          \r"
     ]
    },
    {
     "name": "stdout",
     "output_type": "stream",
     "text": [
      "Train Loss: 1.1276, Train Acc: 0.00%\n",
      "Test Loss:  0.4823, Test Acc:  88.13%\n",
      "\n",
      "Epoch [77/1000]\n"
     ]
    },
    {
     "name": "stderr",
     "output_type": "stream",
     "text": [
      "                                                          \r"
     ]
    },
    {
     "name": "stdout",
     "output_type": "stream",
     "text": [
      "Train Loss: 1.1682, Train Acc: 0.00%\n",
      "Test Loss:  0.4562, Test Acc:  90.07%\n",
      "\n",
      "Epoch [78/1000]\n"
     ]
    },
    {
     "name": "stderr",
     "output_type": "stream",
     "text": [
      "                                                          \r"
     ]
    },
    {
     "name": "stdout",
     "output_type": "stream",
     "text": [
      "Train Loss: 1.0754, Train Acc: 0.00%\n",
      "Test Loss:  0.4057, Test Acc:  88.78%\n",
      "\n",
      "Epoch [79/1000]\n"
     ]
    },
    {
     "name": "stderr",
     "output_type": "stream",
     "text": [
      "                                                          \r"
     ]
    },
    {
     "name": "stdout",
     "output_type": "stream",
     "text": [
      "Train Loss: 1.1686, Train Acc: 0.00%\n",
      "Test Loss:  0.5096, Test Acc:  87.53%\n",
      "\n",
      "Epoch [80/1000]\n"
     ]
    },
    {
     "name": "stderr",
     "output_type": "stream",
     "text": [
      "                                                          \r"
     ]
    },
    {
     "name": "stdout",
     "output_type": "stream",
     "text": [
      "Train Loss: 1.0983, Train Acc: 0.00%\n",
      "Test Loss:  0.3441, Test Acc:  92.00%\n",
      "Saving model with Test Acc: 92.00%\n",
      "\n",
      "Epoch [81/1000]\n"
     ]
    },
    {
     "name": "stderr",
     "output_type": "stream",
     "text": [
      "                                                          \r"
     ]
    },
    {
     "name": "stdout",
     "output_type": "stream",
     "text": [
      "Train Loss: 1.0755, Train Acc: 0.00%\n",
      "Test Loss:  0.4262, Test Acc:  89.44%\n",
      "\n",
      "Epoch [82/1000]\n"
     ]
    },
    {
     "name": "stderr",
     "output_type": "stream",
     "text": [
      "                                                          \r"
     ]
    },
    {
     "name": "stdout",
     "output_type": "stream",
     "text": [
      "Train Loss: 1.1165, Train Acc: 0.00%\n",
      "Test Loss:  0.3811, Test Acc:  88.74%\n",
      "\n",
      "Epoch [83/1000]\n"
     ]
    },
    {
     "name": "stderr",
     "output_type": "stream",
     "text": [
      "                                                          \r"
     ]
    },
    {
     "name": "stdout",
     "output_type": "stream",
     "text": [
      "Train Loss: 1.1474, Train Acc: 0.00%\n",
      "Test Loss:  0.4072, Test Acc:  90.41%\n",
      "\n",
      "Epoch [84/1000]\n"
     ]
    },
    {
     "name": "stderr",
     "output_type": "stream",
     "text": [
      "                                                          \r"
     ]
    },
    {
     "name": "stdout",
     "output_type": "stream",
     "text": [
      "Train Loss: 1.1434, Train Acc: 0.00%\n",
      "Test Loss:  0.4635, Test Acc:  89.99%\n",
      "\n",
      "Epoch [85/1000]\n"
     ]
    },
    {
     "name": "stderr",
     "output_type": "stream",
     "text": [
      "                                                          \r"
     ]
    },
    {
     "name": "stdout",
     "output_type": "stream",
     "text": [
      "Train Loss: 1.1183, Train Acc: 0.00%\n",
      "Test Loss:  0.3713, Test Acc:  90.59%\n",
      "\n",
      "Epoch [86/1000]\n"
     ]
    },
    {
     "name": "stderr",
     "output_type": "stream",
     "text": [
      "                                                          \r"
     ]
    },
    {
     "name": "stdout",
     "output_type": "stream",
     "text": [
      "Train Loss: 1.1289, Train Acc: 0.00%\n",
      "Test Loss:  0.4542, Test Acc:  89.99%\n",
      "\n",
      "Epoch [87/1000]\n"
     ]
    },
    {
     "name": "stderr",
     "output_type": "stream",
     "text": [
      "                                                          \r"
     ]
    },
    {
     "name": "stdout",
     "output_type": "stream",
     "text": [
      "Train Loss: 1.0974, Train Acc: 0.00%\n",
      "Test Loss:  0.4073, Test Acc:  91.48%\n",
      "\n",
      "Epoch [88/1000]\n"
     ]
    },
    {
     "name": "stderr",
     "output_type": "stream",
     "text": [
      "                                                          \r"
     ]
    },
    {
     "name": "stdout",
     "output_type": "stream",
     "text": [
      "Train Loss: 1.0544, Train Acc: 0.00%\n",
      "Test Loss:  0.3550, Test Acc:  90.51%\n",
      "\n",
      "Epoch [89/1000]\n"
     ]
    },
    {
     "name": "stderr",
     "output_type": "stream",
     "text": [
      "                                                          \r"
     ]
    },
    {
     "name": "stdout",
     "output_type": "stream",
     "text": [
      "Train Loss: 1.0996, Train Acc: 0.00%\n",
      "Test Loss:  0.5168, Test Acc:  89.22%\n",
      "\n",
      "Epoch [90/1000]\n"
     ]
    },
    {
     "name": "stderr",
     "output_type": "stream",
     "text": [
      "                                                          \r"
     ]
    },
    {
     "name": "stdout",
     "output_type": "stream",
     "text": [
      "Train Loss: 1.0645, Train Acc: 0.00%\n",
      "Test Loss:  0.4227, Test Acc:  89.02%\n",
      "\n",
      "Epoch [91/1000]\n"
     ]
    },
    {
     "name": "stderr",
     "output_type": "stream",
     "text": [
      "                                                          \r"
     ]
    },
    {
     "name": "stdout",
     "output_type": "stream",
     "text": [
      "Train Loss: 1.0892, Train Acc: 0.00%\n",
      "Test Loss:  0.4216, Test Acc:  88.94%\n",
      "\n",
      "Epoch [92/1000]\n"
     ]
    },
    {
     "name": "stderr",
     "output_type": "stream",
     "text": [
      "                                                          \r"
     ]
    },
    {
     "name": "stdout",
     "output_type": "stream",
     "text": [
      "Train Loss: 1.1191, Train Acc: 0.00%\n",
      "Test Loss:  0.3830, Test Acc:  90.01%\n",
      "\n",
      "Epoch [93/1000]\n"
     ]
    },
    {
     "name": "stderr",
     "output_type": "stream",
     "text": [
      "                                                          \r"
     ]
    },
    {
     "name": "stdout",
     "output_type": "stream",
     "text": [
      "Train Loss: 1.1247, Train Acc: 0.00%\n",
      "Test Loss:  0.4211, Test Acc:  89.63%\n",
      "\n",
      "Epoch [94/1000]\n"
     ]
    },
    {
     "name": "stderr",
     "output_type": "stream",
     "text": [
      "                                                          \r"
     ]
    },
    {
     "name": "stdout",
     "output_type": "stream",
     "text": [
      "Train Loss: 1.0460, Train Acc: 0.00%\n",
      "Test Loss:  0.3998, Test Acc:  90.04%\n",
      "\n",
      "Epoch [95/1000]\n"
     ]
    },
    {
     "name": "stderr",
     "output_type": "stream",
     "text": [
      "                                                          \r"
     ]
    },
    {
     "name": "stdout",
     "output_type": "stream",
     "text": [
      "Train Loss: 1.1474, Train Acc: 0.00%\n",
      "Test Loss:  0.3582, Test Acc:  92.90%\n",
      "Saving model with Test Acc: 92.90%\n",
      "\n",
      "Epoch [96/1000]\n"
     ]
    },
    {
     "name": "stderr",
     "output_type": "stream",
     "text": [
      "                                                          \r"
     ]
    },
    {
     "name": "stdout",
     "output_type": "stream",
     "text": [
      "Train Loss: 1.1370, Train Acc: 0.00%\n",
      "Test Loss:  0.5457, Test Acc:  86.82%\n",
      "\n",
      "Epoch [97/1000]\n"
     ]
    },
    {
     "name": "stderr",
     "output_type": "stream",
     "text": [
      "                                                          \r"
     ]
    },
    {
     "name": "stdout",
     "output_type": "stream",
     "text": [
      "Train Loss: 1.0980, Train Acc: 0.00%\n",
      "Test Loss:  0.4314, Test Acc:  90.97%\n",
      "\n",
      "Epoch [98/1000]\n"
     ]
    },
    {
     "name": "stderr",
     "output_type": "stream",
     "text": [
      "                                                          \r"
     ]
    },
    {
     "name": "stdout",
     "output_type": "stream",
     "text": [
      "Train Loss: 1.1118, Train Acc: 0.00%\n",
      "Test Loss:  0.3708, Test Acc:  91.60%\n",
      "\n",
      "Epoch [99/1000]\n"
     ]
    },
    {
     "name": "stderr",
     "output_type": "stream",
     "text": [
      "                                                          \r"
     ]
    },
    {
     "name": "stdout",
     "output_type": "stream",
     "text": [
      "Train Loss: 1.0911, Train Acc: 0.00%\n",
      "Test Loss:  0.3785, Test Acc:  90.40%\n",
      "\n",
      "Epoch [100/1000]\n"
     ]
    },
    {
     "name": "stderr",
     "output_type": "stream",
     "text": [
      "                                                          \r"
     ]
    },
    {
     "name": "stdout",
     "output_type": "stream",
     "text": [
      "Train Loss: 1.1017, Train Acc: 0.00%\n",
      "Test Loss:  0.3920, Test Acc:  92.15%\n",
      "\n",
      "Epoch [101/1000]\n"
     ]
    },
    {
     "name": "stderr",
     "output_type": "stream",
     "text": [
      "                                                          \r"
     ]
    },
    {
     "name": "stdout",
     "output_type": "stream",
     "text": [
      "Train Loss: 1.0740, Train Acc: 0.00%\n",
      "Test Loss:  0.4369, Test Acc:  91.31%\n",
      "\n",
      "Epoch [102/1000]\n"
     ]
    },
    {
     "name": "stderr",
     "output_type": "stream",
     "text": [
      "                                                          \r"
     ]
    },
    {
     "name": "stdout",
     "output_type": "stream",
     "text": [
      "Train Loss: 1.1685, Train Acc: 0.00%\n",
      "Test Loss:  0.3755, Test Acc:  91.72%\n",
      "\n",
      "Epoch [103/1000]\n"
     ]
    },
    {
     "name": "stderr",
     "output_type": "stream",
     "text": [
      "                                                          \r"
     ]
    },
    {
     "name": "stdout",
     "output_type": "stream",
     "text": [
      "Train Loss: 1.2137, Train Acc: 0.00%\n",
      "Test Loss:  0.4894, Test Acc:  89.29%\n",
      "\n",
      "Epoch [104/1000]\n"
     ]
    },
    {
     "name": "stderr",
     "output_type": "stream",
     "text": [
      "                                                          \r"
     ]
    },
    {
     "name": "stdout",
     "output_type": "stream",
     "text": [
      "Train Loss: 1.0895, Train Acc: 0.00%\n",
      "Test Loss:  0.2846, Test Acc:  93.12%\n",
      "Saving model with Test Acc: 93.12%\n",
      "\n",
      "Epoch [105/1000]\n"
     ]
    },
    {
     "name": "stderr",
     "output_type": "stream",
     "text": [
      "                                                          \r"
     ]
    },
    {
     "name": "stdout",
     "output_type": "stream",
     "text": [
      "Train Loss: 1.0932, Train Acc: 0.00%\n",
      "Test Loss:  0.3604, Test Acc:  91.76%\n",
      "\n",
      "Epoch [106/1000]\n"
     ]
    },
    {
     "name": "stderr",
     "output_type": "stream",
     "text": [
      "                                                          \r"
     ]
    },
    {
     "name": "stdout",
     "output_type": "stream",
     "text": [
      "Train Loss: 1.0161, Train Acc: 0.00%\n",
      "Test Loss:  0.4227, Test Acc:  90.91%\n",
      "\n",
      "Epoch [107/1000]\n"
     ]
    },
    {
     "name": "stderr",
     "output_type": "stream",
     "text": [
      "                                                          \r"
     ]
    },
    {
     "name": "stdout",
     "output_type": "stream",
     "text": [
      "Train Loss: 1.0631, Train Acc: 0.00%\n",
      "Test Loss:  0.3620, Test Acc:  90.46%\n",
      "\n",
      "Epoch [108/1000]\n"
     ]
    },
    {
     "name": "stderr",
     "output_type": "stream",
     "text": [
      "                                                          \r"
     ]
    },
    {
     "name": "stdout",
     "output_type": "stream",
     "text": [
      "Train Loss: 1.1232, Train Acc: 0.00%\n",
      "Test Loss:  0.4364, Test Acc:  89.55%\n",
      "\n",
      "Epoch [109/1000]\n"
     ]
    },
    {
     "name": "stderr",
     "output_type": "stream",
     "text": [
      "                                                          \r"
     ]
    },
    {
     "name": "stdout",
     "output_type": "stream",
     "text": [
      "Train Loss: 1.1342, Train Acc: 0.00%\n",
      "Test Loss:  0.3818, Test Acc:  91.70%\n",
      "\n",
      "Epoch [110/1000]\n"
     ]
    },
    {
     "name": "stderr",
     "output_type": "stream",
     "text": [
      "                                                          \r"
     ]
    },
    {
     "name": "stdout",
     "output_type": "stream",
     "text": [
      "Train Loss: 1.1141, Train Acc: 0.00%\n",
      "Test Loss:  0.4294, Test Acc:  90.69%\n",
      "\n",
      "Epoch [111/1000]\n"
     ]
    },
    {
     "name": "stderr",
     "output_type": "stream",
     "text": [
      "                                                          \r"
     ]
    },
    {
     "name": "stdout",
     "output_type": "stream",
     "text": [
      "Train Loss: 1.1154, Train Acc: 0.00%\n",
      "Test Loss:  0.4225, Test Acc:  90.14%\n",
      "\n",
      "Epoch [112/1000]\n"
     ]
    },
    {
     "name": "stderr",
     "output_type": "stream",
     "text": [
      "                                                          \r"
     ]
    },
    {
     "name": "stdout",
     "output_type": "stream",
     "text": [
      "Train Loss: 1.0936, Train Acc: 0.00%\n",
      "Test Loss:  0.3538, Test Acc:  91.99%\n",
      "\n",
      "Epoch [113/1000]\n"
     ]
    },
    {
     "name": "stderr",
     "output_type": "stream",
     "text": [
      "                                                           \r"
     ]
    },
    {
     "name": "stdout",
     "output_type": "stream",
     "text": [
      "Train Loss: 1.0596, Train Acc: 0.00%\n",
      "Test Loss:  0.3271, Test Acc:  91.24%\n",
      "\n",
      "Epoch [114/1000]\n"
     ]
    },
    {
     "name": "stderr",
     "output_type": "stream",
     "text": [
      "                                                          \r"
     ]
    },
    {
     "name": "stdout",
     "output_type": "stream",
     "text": [
      "Train Loss: 1.1422, Train Acc: 0.00%\n",
      "Test Loss:  0.4302, Test Acc:  90.81%\n",
      "\n",
      "Epoch [115/1000]\n"
     ]
    },
    {
     "name": "stderr",
     "output_type": "stream",
     "text": [
      "                                                          \r"
     ]
    },
    {
     "name": "stdout",
     "output_type": "stream",
     "text": [
      "Train Loss: 1.0530, Train Acc: 0.00%\n",
      "Test Loss:  0.3577, Test Acc:  92.98%\n",
      "\n",
      "Epoch [116/1000]\n"
     ]
    },
    {
     "name": "stderr",
     "output_type": "stream",
     "text": [
      "                                                          \r"
     ]
    },
    {
     "name": "stdout",
     "output_type": "stream",
     "text": [
      "Train Loss: 0.9903, Train Acc: 0.00%\n",
      "Test Loss:  0.3762, Test Acc:  91.42%\n",
      "\n",
      "Epoch [117/1000]\n"
     ]
    },
    {
     "name": "stderr",
     "output_type": "stream",
     "text": [
      "                                                          \r"
     ]
    },
    {
     "name": "stdout",
     "output_type": "stream",
     "text": [
      "Train Loss: 1.0688, Train Acc: 0.00%\n",
      "Test Loss:  0.4494, Test Acc:  88.93%\n",
      "\n",
      "Epoch [118/1000]\n"
     ]
    },
    {
     "name": "stderr",
     "output_type": "stream",
     "text": [
      "                                                          \r"
     ]
    },
    {
     "name": "stdout",
     "output_type": "stream",
     "text": [
      "Train Loss: 1.1073, Train Acc: 0.00%\n",
      "Test Loss:  0.4367, Test Acc:  90.67%\n",
      "\n",
      "Epoch [119/1000]\n"
     ]
    },
    {
     "name": "stderr",
     "output_type": "stream",
     "text": [
      "                                                          \r"
     ]
    },
    {
     "name": "stdout",
     "output_type": "stream",
     "text": [
      "Train Loss: 1.0688, Train Acc: 0.00%\n",
      "Test Loss:  0.3205, Test Acc:  93.22%\n",
      "Saving model with Test Acc: 93.22%\n",
      "\n",
      "Epoch [120/1000]\n"
     ]
    },
    {
     "name": "stderr",
     "output_type": "stream",
     "text": [
      "                                                          \r"
     ]
    },
    {
     "name": "stdout",
     "output_type": "stream",
     "text": [
      "Train Loss: 1.1395, Train Acc: 0.00%\n",
      "Test Loss:  0.3547, Test Acc:  91.28%\n",
      "\n",
      "Epoch [121/1000]\n"
     ]
    },
    {
     "name": "stderr",
     "output_type": "stream",
     "text": [
      "                                                          \r"
     ]
    },
    {
     "name": "stdout",
     "output_type": "stream",
     "text": [
      "Train Loss: 1.0009, Train Acc: 0.00%\n",
      "Test Loss:  0.4057, Test Acc:  91.40%\n",
      "\n",
      "Epoch [122/1000]\n"
     ]
    },
    {
     "name": "stderr",
     "output_type": "stream",
     "text": [
      "                                                           \r"
     ]
    },
    {
     "name": "stdout",
     "output_type": "stream",
     "text": [
      "Train Loss: 1.1685, Train Acc: 0.00%\n",
      "Test Loss:  0.3555, Test Acc:  89.09%\n",
      "\n",
      "Epoch [123/1000]\n"
     ]
    },
    {
     "name": "stderr",
     "output_type": "stream",
     "text": [
      "                                                          \r"
     ]
    },
    {
     "name": "stdout",
     "output_type": "stream",
     "text": [
      "Train Loss: 1.1484, Train Acc: 0.00%\n",
      "Test Loss:  0.4282, Test Acc:  91.59%\n",
      "\n",
      "Epoch [124/1000]\n"
     ]
    },
    {
     "name": "stderr",
     "output_type": "stream",
     "text": [
      "                                                          \r"
     ]
    },
    {
     "name": "stdout",
     "output_type": "stream",
     "text": [
      "Train Loss: 1.1106, Train Acc: 0.00%\n",
      "Test Loss:  0.4147, Test Acc:  91.42%\n",
      "\n",
      "Epoch [125/1000]\n"
     ]
    },
    {
     "name": "stderr",
     "output_type": "stream",
     "text": [
      "                                                          \r"
     ]
    },
    {
     "name": "stdout",
     "output_type": "stream",
     "text": [
      "Train Loss: 1.1241, Train Acc: 0.00%\n",
      "Test Loss:  0.3985, Test Acc:  89.01%\n",
      "\n",
      "Epoch [126/1000]\n"
     ]
    },
    {
     "name": "stderr",
     "output_type": "stream",
     "text": [
      "                                                          \r"
     ]
    },
    {
     "name": "stdout",
     "output_type": "stream",
     "text": [
      "Train Loss: 1.0457, Train Acc: 0.00%\n",
      "Test Loss:  0.3684, Test Acc:  90.99%\n",
      "\n",
      "Epoch [127/1000]\n"
     ]
    },
    {
     "name": "stderr",
     "output_type": "stream",
     "text": [
      "                                                           \r"
     ]
    },
    {
     "name": "stdout",
     "output_type": "stream",
     "text": [
      "Train Loss: 1.0932, Train Acc: 0.00%\n",
      "Test Loss:  0.3864, Test Acc:  90.16%\n",
      "\n",
      "Epoch [128/1000]\n"
     ]
    },
    {
     "name": "stderr",
     "output_type": "stream",
     "text": [
      "                                                          \r"
     ]
    },
    {
     "name": "stdout",
     "output_type": "stream",
     "text": [
      "Train Loss: 1.1227, Train Acc: 0.00%\n",
      "Test Loss:  0.4160, Test Acc:  91.19%\n",
      "\n",
      "Epoch [129/1000]\n"
     ]
    },
    {
     "name": "stderr",
     "output_type": "stream",
     "text": [
      "                                                          \r"
     ]
    },
    {
     "name": "stdout",
     "output_type": "stream",
     "text": [
      "Train Loss: 1.1227, Train Acc: 0.00%\n",
      "Test Loss:  0.6563, Test Acc:  85.14%\n",
      "\n",
      "Epoch [130/1000]\n"
     ]
    },
    {
     "name": "stderr",
     "output_type": "stream",
     "text": [
      "                                                          \r"
     ]
    },
    {
     "name": "stdout",
     "output_type": "stream",
     "text": [
      "Train Loss: 1.1263, Train Acc: 0.00%\n",
      "Test Loss:  0.3637, Test Acc:  92.14%\n",
      "\n",
      "Epoch [131/1000]\n"
     ]
    },
    {
     "name": "stderr",
     "output_type": "stream",
     "text": [
      "                                                          \r"
     ]
    },
    {
     "name": "stdout",
     "output_type": "stream",
     "text": [
      "Train Loss: 1.0273, Train Acc: 0.00%\n",
      "Test Loss:  0.3246, Test Acc:  92.19%\n",
      "\n",
      "Epoch [132/1000]\n"
     ]
    },
    {
     "name": "stderr",
     "output_type": "stream",
     "text": [
      "                                                          \r"
     ]
    },
    {
     "name": "stdout",
     "output_type": "stream",
     "text": [
      "Train Loss: 1.0318, Train Acc: 0.00%\n",
      "Test Loss:  0.2926, Test Acc:  91.92%\n",
      "\n",
      "Epoch [133/1000]\n"
     ]
    },
    {
     "name": "stderr",
     "output_type": "stream",
     "text": [
      "                                                           \r"
     ]
    },
    {
     "name": "stdout",
     "output_type": "stream",
     "text": [
      "Train Loss: 1.0734, Train Acc: 0.00%\n",
      "Test Loss:  0.3634, Test Acc:  91.22%\n",
      "\n",
      "Epoch [134/1000]\n"
     ]
    },
    {
     "name": "stderr",
     "output_type": "stream",
     "text": [
      "                                                          \r"
     ]
    },
    {
     "name": "stdout",
     "output_type": "stream",
     "text": [
      "Train Loss: 1.0564, Train Acc: 0.00%\n",
      "Test Loss:  0.4172, Test Acc:  90.00%\n",
      "\n",
      "Epoch [135/1000]\n"
     ]
    },
    {
     "name": "stderr",
     "output_type": "stream",
     "text": [
      "                                                          \r"
     ]
    },
    {
     "name": "stdout",
     "output_type": "stream",
     "text": [
      "Train Loss: 1.0545, Train Acc: 0.00%\n",
      "Test Loss:  0.3468, Test Acc:  91.79%\n",
      "\n",
      "Epoch [136/1000]\n"
     ]
    },
    {
     "name": "stderr",
     "output_type": "stream",
     "text": [
      "                                                          \r"
     ]
    },
    {
     "name": "stdout",
     "output_type": "stream",
     "text": [
      "Train Loss: 1.0405, Train Acc: 0.00%\n",
      "Test Loss:  0.3408, Test Acc:  90.78%\n",
      "\n",
      "Epoch [137/1000]\n"
     ]
    },
    {
     "name": "stderr",
     "output_type": "stream",
     "text": [
      "                                                          \r"
     ]
    },
    {
     "name": "stdout",
     "output_type": "stream",
     "text": [
      "Train Loss: 1.0795, Train Acc: 0.00%\n",
      "Test Loss:  0.3848, Test Acc:  91.20%\n",
      "\n",
      "Epoch [138/1000]\n"
     ]
    },
    {
     "name": "stderr",
     "output_type": "stream",
     "text": [
      "                                                          \r"
     ]
    },
    {
     "name": "stdout",
     "output_type": "stream",
     "text": [
      "Train Loss: 1.1006, Train Acc: 0.00%\n",
      "Test Loss:  0.4653, Test Acc:  88.77%\n",
      "\n",
      "Epoch [139/1000]\n"
     ]
    },
    {
     "name": "stderr",
     "output_type": "stream",
     "text": [
      "                                                          \r"
     ]
    },
    {
     "name": "stdout",
     "output_type": "stream",
     "text": [
      "Train Loss: 1.0528, Train Acc: 0.00%\n",
      "Test Loss:  0.4387, Test Acc:  88.61%\n",
      "\n",
      "Epoch [140/1000]\n"
     ]
    },
    {
     "name": "stderr",
     "output_type": "stream",
     "text": [
      "                                                          \r"
     ]
    },
    {
     "name": "stdout",
     "output_type": "stream",
     "text": [
      "Train Loss: 1.0614, Train Acc: 0.00%\n",
      "Test Loss:  0.4231, Test Acc:  91.94%\n",
      "\n",
      "Epoch [141/1000]\n"
     ]
    },
    {
     "name": "stderr",
     "output_type": "stream",
     "text": [
      "                                                          \r"
     ]
    },
    {
     "name": "stdout",
     "output_type": "stream",
     "text": [
      "Train Loss: 1.1491, Train Acc: 0.00%\n",
      "Test Loss:  0.3937, Test Acc:  90.60%\n",
      "\n",
      "Epoch [142/1000]\n"
     ]
    },
    {
     "name": "stderr",
     "output_type": "stream",
     "text": [
      "                                                          \r"
     ]
    },
    {
     "name": "stdout",
     "output_type": "stream",
     "text": [
      "Train Loss: 1.0276, Train Acc: 0.00%\n",
      "Test Loss:  0.4118, Test Acc:  90.10%\n",
      "\n",
      "Epoch [143/1000]\n"
     ]
    },
    {
     "name": "stderr",
     "output_type": "stream",
     "text": [
      "                                                          \r"
     ]
    },
    {
     "name": "stdout",
     "output_type": "stream",
     "text": [
      "Train Loss: 1.0652, Train Acc: 0.00%\n",
      "Test Loss:  0.4607, Test Acc:  89.56%\n",
      "\n",
      "Epoch [144/1000]\n"
     ]
    },
    {
     "name": "stderr",
     "output_type": "stream",
     "text": [
      "                                                          \r"
     ]
    },
    {
     "name": "stdout",
     "output_type": "stream",
     "text": [
      "Train Loss: 1.1546, Train Acc: 0.00%\n",
      "Test Loss:  0.4501, Test Acc:  91.15%\n",
      "\n",
      "Epoch [145/1000]\n"
     ]
    },
    {
     "name": "stderr",
     "output_type": "stream",
     "text": [
      "                                                          \r"
     ]
    },
    {
     "name": "stdout",
     "output_type": "stream",
     "text": [
      "Train Loss: 1.1409, Train Acc: 0.00%\n",
      "Test Loss:  0.3532, Test Acc:  93.17%\n",
      "\n",
      "Epoch [146/1000]\n"
     ]
    },
    {
     "name": "stderr",
     "output_type": "stream",
     "text": [
      "                                                          \r"
     ]
    },
    {
     "name": "stdout",
     "output_type": "stream",
     "text": [
      "Train Loss: 1.0970, Train Acc: 0.00%\n",
      "Test Loss:  0.4889, Test Acc:  89.13%\n",
      "\n",
      "Epoch [147/1000]\n"
     ]
    },
    {
     "name": "stderr",
     "output_type": "stream",
     "text": [
      "                                                          \r"
     ]
    },
    {
     "name": "stdout",
     "output_type": "stream",
     "text": [
      "Train Loss: 1.0500, Train Acc: 0.00%\n",
      "Test Loss:  0.3529, Test Acc:  92.32%\n",
      "\n",
      "Epoch [148/1000]\n"
     ]
    },
    {
     "name": "stderr",
     "output_type": "stream",
     "text": [
      "                                                          \r"
     ]
    },
    {
     "name": "stdout",
     "output_type": "stream",
     "text": [
      "Train Loss: 0.9996, Train Acc: 0.00%\n",
      "Test Loss:  0.3384, Test Acc:  91.96%\n",
      "\n",
      "Epoch [149/1000]\n"
     ]
    },
    {
     "name": "stderr",
     "output_type": "stream",
     "text": [
      "                                                          \r"
     ]
    },
    {
     "name": "stdout",
     "output_type": "stream",
     "text": [
      "Train Loss: 0.9990, Train Acc: 0.00%\n",
      "Test Loss:  0.4912, Test Acc:  86.68%\n",
      "\n",
      "Epoch [150/1000]\n"
     ]
    },
    {
     "name": "stderr",
     "output_type": "stream",
     "text": [
      "                                                          \r"
     ]
    },
    {
     "name": "stdout",
     "output_type": "stream",
     "text": [
      "Train Loss: 1.0325, Train Acc: 0.00%\n",
      "Test Loss:  0.3680, Test Acc:  91.11%\n",
      "\n",
      "Epoch [151/1000]\n"
     ]
    },
    {
     "name": "stderr",
     "output_type": "stream",
     "text": [
      "                                                          \r"
     ]
    },
    {
     "name": "stdout",
     "output_type": "stream",
     "text": [
      "Train Loss: 1.0553, Train Acc: 0.00%\n",
      "Test Loss:  0.4038, Test Acc:  91.94%\n",
      "\n",
      "Epoch [152/1000]\n"
     ]
    },
    {
     "name": "stderr",
     "output_type": "stream",
     "text": [
      "                                                          \r"
     ]
    },
    {
     "name": "stdout",
     "output_type": "stream",
     "text": [
      "Train Loss: 1.0766, Train Acc: 0.00%\n",
      "Test Loss:  0.3791, Test Acc:  92.42%\n",
      "\n",
      "Epoch [153/1000]\n"
     ]
    },
    {
     "name": "stderr",
     "output_type": "stream",
     "text": [
      "                                                           \r"
     ]
    },
    {
     "name": "stdout",
     "output_type": "stream",
     "text": [
      "Train Loss: 1.1719, Train Acc: 0.00%\n",
      "Test Loss:  0.4657, Test Acc:  90.63%\n",
      "\n",
      "Epoch [154/1000]\n"
     ]
    },
    {
     "name": "stderr",
     "output_type": "stream",
     "text": [
      "                                                          \r"
     ]
    },
    {
     "name": "stdout",
     "output_type": "stream",
     "text": [
      "Train Loss: 1.1442, Train Acc: 0.00%\n",
      "Test Loss:  0.3961, Test Acc:  92.54%\n",
      "\n",
      "Epoch [155/1000]\n"
     ]
    },
    {
     "name": "stderr",
     "output_type": "stream",
     "text": [
      "                                                          \r"
     ]
    },
    {
     "name": "stdout",
     "output_type": "stream",
     "text": [
      "Train Loss: 1.1514, Train Acc: 0.00%\n",
      "Test Loss:  0.4338, Test Acc:  91.28%\n",
      "\n",
      "Epoch [156/1000]\n"
     ]
    },
    {
     "name": "stderr",
     "output_type": "stream",
     "text": [
      "                                                          \r"
     ]
    },
    {
     "name": "stdout",
     "output_type": "stream",
     "text": [
      "Train Loss: 0.9924, Train Acc: 0.00%\n",
      "Test Loss:  0.6126, Test Acc:  80.37%\n",
      "\n",
      "Epoch [157/1000]\n"
     ]
    },
    {
     "name": "stderr",
     "output_type": "stream",
     "text": [
      "                                                          \r"
     ]
    },
    {
     "name": "stdout",
     "output_type": "stream",
     "text": [
      "Train Loss: 1.0688, Train Acc: 0.00%\n",
      "Test Loss:  0.3356, Test Acc:  92.71%\n",
      "\n",
      "Epoch [158/1000]\n"
     ]
    },
    {
     "name": "stderr",
     "output_type": "stream",
     "text": [
      "                                                          \r"
     ]
    },
    {
     "name": "stdout",
     "output_type": "stream",
     "text": [
      "Train Loss: 1.0833, Train Acc: 0.00%\n",
      "Test Loss:  0.3565, Test Acc:  91.65%\n",
      "\n",
      "Epoch [159/1000]\n"
     ]
    },
    {
     "name": "stderr",
     "output_type": "stream",
     "text": [
      "                                                          \r"
     ]
    },
    {
     "name": "stdout",
     "output_type": "stream",
     "text": [
      "Train Loss: 1.0422, Train Acc: 0.00%\n",
      "Test Loss:  0.3935, Test Acc:  90.46%\n",
      "\n",
      "Epoch [160/1000]\n"
     ]
    },
    {
     "name": "stderr",
     "output_type": "stream",
     "text": [
      "                                                          \r"
     ]
    },
    {
     "name": "stdout",
     "output_type": "stream",
     "text": [
      "Train Loss: 1.0447, Train Acc: 0.00%\n",
      "Test Loss:  0.5371, Test Acc:  88.01%\n",
      "\n",
      "Epoch [161/1000]\n"
     ]
    },
    {
     "name": "stderr",
     "output_type": "stream",
     "text": [
      "                                                          \r"
     ]
    },
    {
     "name": "stdout",
     "output_type": "stream",
     "text": [
      "Train Loss: 0.9918, Train Acc: 0.00%\n",
      "Test Loss:  0.5020, Test Acc:  86.20%\n",
      "\n",
      "Epoch [162/1000]\n"
     ]
    },
    {
     "name": "stderr",
     "output_type": "stream",
     "text": [
      "                                                          \r"
     ]
    },
    {
     "name": "stdout",
     "output_type": "stream",
     "text": [
      "Train Loss: 1.0973, Train Acc: 0.00%\n",
      "Test Loss:  0.3890, Test Acc:  90.43%\n",
      "\n",
      "Epoch [163/1000]\n"
     ]
    },
    {
     "name": "stderr",
     "output_type": "stream",
     "text": [
      "                                                          \r"
     ]
    },
    {
     "name": "stdout",
     "output_type": "stream",
     "text": [
      "Train Loss: 1.0578, Train Acc: 0.00%\n",
      "Test Loss:  0.4710, Test Acc:  88.68%\n",
      "\n",
      "Epoch [164/1000]\n"
     ]
    },
    {
     "name": "stderr",
     "output_type": "stream",
     "text": [
      "                                                          \r"
     ]
    },
    {
     "name": "stdout",
     "output_type": "stream",
     "text": [
      "Train Loss: 1.1616, Train Acc: 0.00%\n",
      "Test Loss:  0.4237, Test Acc:  92.41%\n",
      "\n",
      "Epoch [165/1000]\n"
     ]
    },
    {
     "name": "stderr",
     "output_type": "stream",
     "text": [
      "                                                          \r"
     ]
    },
    {
     "name": "stdout",
     "output_type": "stream",
     "text": [
      "Train Loss: 1.0760, Train Acc: 0.00%\n",
      "Test Loss:  0.3860, Test Acc:  92.35%\n",
      "\n",
      "Epoch [166/1000]\n"
     ]
    },
    {
     "name": "stderr",
     "output_type": "stream",
     "text": [
      "                                                          \r"
     ]
    },
    {
     "name": "stdout",
     "output_type": "stream",
     "text": [
      "Train Loss: 1.0373, Train Acc: 0.00%\n",
      "Test Loss:  0.4001, Test Acc:  90.34%\n",
      "\n",
      "Epoch [167/1000]\n"
     ]
    },
    {
     "name": "stderr",
     "output_type": "stream",
     "text": [
      "                                                          \r"
     ]
    },
    {
     "name": "stdout",
     "output_type": "stream",
     "text": [
      "Train Loss: 1.1467, Train Acc: 0.00%\n",
      "Test Loss:  0.3794, Test Acc:  92.33%\n",
      "\n",
      "Epoch [168/1000]\n"
     ]
    },
    {
     "name": "stderr",
     "output_type": "stream",
     "text": [
      "                                                          \r"
     ]
    },
    {
     "name": "stdout",
     "output_type": "stream",
     "text": [
      "Train Loss: 1.0489, Train Acc: 0.00%\n",
      "Test Loss:  0.4627, Test Acc:  88.47%\n",
      "\n",
      "Epoch [169/1000]\n"
     ]
    },
    {
     "name": "stderr",
     "output_type": "stream",
     "text": [
      "                                                          \r"
     ]
    },
    {
     "name": "stdout",
     "output_type": "stream",
     "text": [
      "Train Loss: 1.0132, Train Acc: 0.00%\n",
      "Test Loss:  0.4248, Test Acc:  92.97%\n",
      "\n",
      "Epoch [170/1000]\n"
     ]
    },
    {
     "name": "stderr",
     "output_type": "stream",
     "text": [
      "                                                          \r"
     ]
    },
    {
     "name": "stdout",
     "output_type": "stream",
     "text": [
      "Train Loss: 1.0810, Train Acc: 0.00%\n",
      "Test Loss:  0.3658, Test Acc:  93.20%\n",
      "\n",
      "Epoch [171/1000]\n"
     ]
    },
    {
     "name": "stderr",
     "output_type": "stream",
     "text": [
      "                                                          \r"
     ]
    },
    {
     "name": "stdout",
     "output_type": "stream",
     "text": [
      "Train Loss: 1.0162, Train Acc: 0.00%\n",
      "Test Loss:  0.3492, Test Acc:  93.08%\n",
      "\n",
      "Epoch [172/1000]\n"
     ]
    },
    {
     "name": "stderr",
     "output_type": "stream",
     "text": [
      "                                                          \r"
     ]
    },
    {
     "name": "stdout",
     "output_type": "stream",
     "text": [
      "Train Loss: 0.9782, Train Acc: 0.00%\n",
      "Test Loss:  0.3907, Test Acc:  90.67%\n",
      "\n",
      "Epoch [173/1000]\n"
     ]
    },
    {
     "name": "stderr",
     "output_type": "stream",
     "text": [
      "                                                          \r"
     ]
    },
    {
     "name": "stdout",
     "output_type": "stream",
     "text": [
      "Train Loss: 1.0475, Train Acc: 0.00%\n",
      "Test Loss:  0.5111, Test Acc:  89.20%\n",
      "\n",
      "Epoch [174/1000]\n"
     ]
    },
    {
     "name": "stderr",
     "output_type": "stream",
     "text": [
      "                                                          \r"
     ]
    },
    {
     "name": "stdout",
     "output_type": "stream",
     "text": [
      "Train Loss: 1.1606, Train Acc: 0.00%\n",
      "Test Loss:  0.4173, Test Acc:  93.15%\n",
      "\n",
      "Epoch [175/1000]\n"
     ]
    },
    {
     "name": "stderr",
     "output_type": "stream",
     "text": [
      "                                                           \r"
     ]
    },
    {
     "name": "stdout",
     "output_type": "stream",
     "text": [
      "Train Loss: 1.0973, Train Acc: 0.00%\n",
      "Test Loss:  0.4544, Test Acc:  92.06%\n",
      "\n",
      "Epoch [176/1000]\n"
     ]
    },
    {
     "name": "stderr",
     "output_type": "stream",
     "text": [
      "                                                          \r"
     ]
    },
    {
     "name": "stdout",
     "output_type": "stream",
     "text": [
      "Train Loss: 1.0022, Train Acc: 0.00%\n",
      "Test Loss:  0.3774, Test Acc:  92.93%\n",
      "\n",
      "Epoch [177/1000]\n"
     ]
    },
    {
     "name": "stderr",
     "output_type": "stream",
     "text": [
      "                                                          \r"
     ]
    },
    {
     "name": "stdout",
     "output_type": "stream",
     "text": [
      "Train Loss: 0.9605, Train Acc: 0.00%\n",
      "Test Loss:  0.3514, Test Acc:  91.08%\n",
      "\n",
      "Epoch [178/1000]\n"
     ]
    },
    {
     "name": "stderr",
     "output_type": "stream",
     "text": [
      "                                                          \r"
     ]
    },
    {
     "name": "stdout",
     "output_type": "stream",
     "text": [
      "Train Loss: 1.0911, Train Acc: 0.00%\n",
      "Test Loss:  0.3456, Test Acc:  91.98%\n",
      "\n",
      "Epoch [179/1000]\n"
     ]
    },
    {
     "name": "stderr",
     "output_type": "stream",
     "text": [
      "                                                          \r"
     ]
    },
    {
     "name": "stdout",
     "output_type": "stream",
     "text": [
      "Train Loss: 1.1109, Train Acc: 0.00%\n",
      "Test Loss:  0.3685, Test Acc:  93.12%\n",
      "\n",
      "Epoch [180/1000]\n"
     ]
    },
    {
     "name": "stderr",
     "output_type": "stream",
     "text": [
      "                                                          \r"
     ]
    },
    {
     "name": "stdout",
     "output_type": "stream",
     "text": [
      "Train Loss: 1.0421, Train Acc: 0.00%\n",
      "Test Loss:  0.3857, Test Acc:  92.23%\n",
      "\n",
      "Epoch [181/1000]\n"
     ]
    },
    {
     "name": "stderr",
     "output_type": "stream",
     "text": [
      "                                                          \r"
     ]
    },
    {
     "name": "stdout",
     "output_type": "stream",
     "text": [
      "Train Loss: 1.0706, Train Acc: 0.00%\n",
      "Test Loss:  0.3372, Test Acc:  92.08%\n",
      "\n",
      "Epoch [182/1000]\n"
     ]
    },
    {
     "name": "stderr",
     "output_type": "stream",
     "text": [
      "                                                          \r"
     ]
    },
    {
     "name": "stdout",
     "output_type": "stream",
     "text": [
      "Train Loss: 1.0793, Train Acc: 0.00%\n",
      "Test Loss:  0.4305, Test Acc:  91.10%\n",
      "\n",
      "Epoch [183/1000]\n"
     ]
    },
    {
     "name": "stderr",
     "output_type": "stream",
     "text": [
      "                                                          \r"
     ]
    },
    {
     "name": "stdout",
     "output_type": "stream",
     "text": [
      "Train Loss: 1.0781, Train Acc: 0.00%\n",
      "Test Loss:  0.3843, Test Acc:  92.50%\n",
      "\n",
      "Epoch [184/1000]\n"
     ]
    },
    {
     "name": "stderr",
     "output_type": "stream",
     "text": [
      "                                                          \r"
     ]
    },
    {
     "name": "stdout",
     "output_type": "stream",
     "text": [
      "Train Loss: 1.0761, Train Acc: 0.00%\n",
      "Test Loss:  0.3809, Test Acc:  93.48%\n",
      "Saving model with Test Acc: 93.48%\n",
      "\n",
      "Epoch [185/1000]\n"
     ]
    },
    {
     "name": "stderr",
     "output_type": "stream",
     "text": [
      "                                                          \r"
     ]
    },
    {
     "name": "stdout",
     "output_type": "stream",
     "text": [
      "Train Loss: 1.0803, Train Acc: 0.00%\n",
      "Test Loss:  0.4041, Test Acc:  91.56%\n",
      "\n",
      "Epoch [186/1000]\n"
     ]
    },
    {
     "name": "stderr",
     "output_type": "stream",
     "text": [
      "                                                          \r"
     ]
    },
    {
     "name": "stdout",
     "output_type": "stream",
     "text": [
      "Train Loss: 1.0774, Train Acc: 0.00%\n",
      "Test Loss:  0.4085, Test Acc:  92.04%\n",
      "\n",
      "Epoch [187/1000]\n"
     ]
    },
    {
     "name": "stderr",
     "output_type": "stream",
     "text": [
      "                                                          \r"
     ]
    },
    {
     "name": "stdout",
     "output_type": "stream",
     "text": [
      "Train Loss: 1.0390, Train Acc: 0.00%\n",
      "Test Loss:  0.3710, Test Acc:  92.03%\n",
      "\n",
      "Epoch [188/1000]\n"
     ]
    },
    {
     "name": "stderr",
     "output_type": "stream",
     "text": [
      "                                                          \r"
     ]
    },
    {
     "name": "stdout",
     "output_type": "stream",
     "text": [
      "Train Loss: 0.9846, Train Acc: 0.00%\n",
      "Test Loss:  0.4275, Test Acc:  90.87%\n",
      "\n",
      "Epoch [189/1000]\n"
     ]
    },
    {
     "name": "stderr",
     "output_type": "stream",
     "text": [
      "                                                          \r"
     ]
    },
    {
     "name": "stdout",
     "output_type": "stream",
     "text": [
      "Train Loss: 1.0385, Train Acc: 0.00%\n",
      "Test Loss:  0.3498, Test Acc:  92.61%\n",
      "\n",
      "Epoch [190/1000]\n"
     ]
    },
    {
     "name": "stderr",
     "output_type": "stream",
     "text": [
      "                                                          \r"
     ]
    },
    {
     "name": "stdout",
     "output_type": "stream",
     "text": [
      "Train Loss: 1.0637, Train Acc: 0.00%\n",
      "Test Loss:  0.4228, Test Acc:  90.88%\n",
      "\n",
      "Epoch [191/1000]\n"
     ]
    },
    {
     "name": "stderr",
     "output_type": "stream",
     "text": [
      "                                                          \r"
     ]
    },
    {
     "name": "stdout",
     "output_type": "stream",
     "text": [
      "Train Loss: 1.0201, Train Acc: 0.00%\n",
      "Test Loss:  0.4749, Test Acc:  91.12%\n",
      "\n",
      "Epoch [192/1000]\n"
     ]
    },
    {
     "name": "stderr",
     "output_type": "stream",
     "text": [
      "                                                          \r"
     ]
    },
    {
     "name": "stdout",
     "output_type": "stream",
     "text": [
      "Train Loss: 1.0684, Train Acc: 0.00%\n",
      "Test Loss:  0.3625, Test Acc:  92.78%\n",
      "\n",
      "Epoch [193/1000]\n"
     ]
    },
    {
     "name": "stderr",
     "output_type": "stream",
     "text": [
      "                                                          \r"
     ]
    },
    {
     "name": "stdout",
     "output_type": "stream",
     "text": [
      "Train Loss: 1.0245, Train Acc: 0.00%\n",
      "Test Loss:  0.3322, Test Acc:  91.90%\n",
      "\n",
      "Epoch [194/1000]\n"
     ]
    },
    {
     "name": "stderr",
     "output_type": "stream",
     "text": [
      "                                                          \r"
     ]
    },
    {
     "name": "stdout",
     "output_type": "stream",
     "text": [
      "Train Loss: 1.0229, Train Acc: 0.00%\n",
      "Test Loss:  0.3554, Test Acc:  92.53%\n",
      "\n",
      "Epoch [195/1000]\n"
     ]
    },
    {
     "name": "stderr",
     "output_type": "stream",
     "text": [
      "                                                          \r"
     ]
    },
    {
     "name": "stdout",
     "output_type": "stream",
     "text": [
      "Train Loss: 1.0206, Train Acc: 0.00%\n",
      "Test Loss:  0.3821, Test Acc:  91.65%\n",
      "\n",
      "Epoch [196/1000]\n"
     ]
    },
    {
     "name": "stderr",
     "output_type": "stream",
     "text": [
      "                                                          \r"
     ]
    },
    {
     "name": "stdout",
     "output_type": "stream",
     "text": [
      "Train Loss: 1.0476, Train Acc: 0.00%\n",
      "Test Loss:  0.3540, Test Acc:  92.82%\n",
      "\n",
      "Epoch [197/1000]\n"
     ]
    },
    {
     "name": "stderr",
     "output_type": "stream",
     "text": [
      "                                                          \r"
     ]
    },
    {
     "name": "stdout",
     "output_type": "stream",
     "text": [
      "Train Loss: 1.0347, Train Acc: 0.00%\n",
      "Test Loss:  0.4044, Test Acc:  90.48%\n",
      "\n",
      "Epoch [198/1000]\n"
     ]
    },
    {
     "name": "stderr",
     "output_type": "stream",
     "text": [
      "                                                          \r"
     ]
    },
    {
     "name": "stdout",
     "output_type": "stream",
     "text": [
      "Train Loss: 1.0344, Train Acc: 0.00%\n",
      "Test Loss:  0.3802, Test Acc:  90.57%\n",
      "\n",
      "Epoch [199/1000]\n"
     ]
    },
    {
     "name": "stderr",
     "output_type": "stream",
     "text": [
      "                                                          \r"
     ]
    },
    {
     "name": "stdout",
     "output_type": "stream",
     "text": [
      "Train Loss: 0.9310, Train Acc: 0.00%\n",
      "Test Loss:  0.3757, Test Acc:  92.61%\n",
      "\n",
      "Epoch [200/1000]\n"
     ]
    },
    {
     "name": "stderr",
     "output_type": "stream",
     "text": [
      "                                                          \r"
     ]
    },
    {
     "name": "stdout",
     "output_type": "stream",
     "text": [
      "Train Loss: 1.0928, Train Acc: 0.00%\n",
      "Test Loss:  0.3067, Test Acc:  93.79%\n",
      "Saving model with Test Acc: 93.79%\n",
      "\n",
      "Epoch [201/1000]\n"
     ]
    },
    {
     "name": "stderr",
     "output_type": "stream",
     "text": [
      "                                                          \r"
     ]
    },
    {
     "name": "stdout",
     "output_type": "stream",
     "text": [
      "Train Loss: 1.0703, Train Acc: 0.00%\n",
      "Test Loss:  0.4087, Test Acc:  91.53%\n",
      "\n",
      "Epoch [202/1000]\n"
     ]
    },
    {
     "name": "stderr",
     "output_type": "stream",
     "text": [
      "                                                          \r"
     ]
    },
    {
     "name": "stdout",
     "output_type": "stream",
     "text": [
      "Train Loss: 0.9889, Train Acc: 0.00%\n",
      "Test Loss:  0.5065, Test Acc:  87.21%\n",
      "\n",
      "Epoch [203/1000]\n"
     ]
    },
    {
     "name": "stderr",
     "output_type": "stream",
     "text": [
      "                                                          \r"
     ]
    },
    {
     "name": "stdout",
     "output_type": "stream",
     "text": [
      "Train Loss: 1.0897, Train Acc: 0.00%\n",
      "Test Loss:  0.4030, Test Acc:  92.20%\n",
      "\n",
      "Epoch [204/1000]\n"
     ]
    },
    {
     "name": "stderr",
     "output_type": "stream",
     "text": [
      "                                                          \r"
     ]
    },
    {
     "name": "stdout",
     "output_type": "stream",
     "text": [
      "Train Loss: 0.9561, Train Acc: 0.00%\n",
      "Test Loss:  0.4065, Test Acc:  91.87%\n",
      "\n",
      "Epoch [205/1000]\n"
     ]
    },
    {
     "name": "stderr",
     "output_type": "stream",
     "text": [
      "                                                          \r"
     ]
    },
    {
     "name": "stdout",
     "output_type": "stream",
     "text": [
      "Train Loss: 1.0869, Train Acc: 0.00%\n",
      "Test Loss:  0.3989, Test Acc:  92.82%\n",
      "\n",
      "Epoch [206/1000]\n"
     ]
    },
    {
     "name": "stderr",
     "output_type": "stream",
     "text": [
      "                                                          \r"
     ]
    },
    {
     "name": "stdout",
     "output_type": "stream",
     "text": [
      "Train Loss: 1.0876, Train Acc: 0.00%\n",
      "Test Loss:  0.4652, Test Acc:  91.04%\n",
      "\n",
      "Epoch [207/1000]\n"
     ]
    },
    {
     "name": "stderr",
     "output_type": "stream",
     "text": [
      "                                                          \r"
     ]
    },
    {
     "name": "stdout",
     "output_type": "stream",
     "text": [
      "Train Loss: 1.0490, Train Acc: 0.00%\n",
      "Test Loss:  0.3250, Test Acc:  93.94%\n",
      "Saving model with Test Acc: 93.94%\n",
      "\n",
      "Epoch [208/1000]\n"
     ]
    },
    {
     "name": "stderr",
     "output_type": "stream",
     "text": [
      "                                                          \r"
     ]
    },
    {
     "name": "stdout",
     "output_type": "stream",
     "text": [
      "Train Loss: 1.0247, Train Acc: 0.00%\n",
      "Test Loss:  0.4109, Test Acc:  90.90%\n",
      "\n",
      "Epoch [209/1000]\n"
     ]
    },
    {
     "name": "stderr",
     "output_type": "stream",
     "text": [
      "                                                           \r"
     ]
    },
    {
     "name": "stdout",
     "output_type": "stream",
     "text": [
      "Train Loss: 1.0786, Train Acc: 0.00%\n",
      "Test Loss:  0.4366, Test Acc:  91.59%\n",
      "\n",
      "Epoch [210/1000]\n"
     ]
    },
    {
     "name": "stderr",
     "output_type": "stream",
     "text": [
      "                                                          \r"
     ]
    },
    {
     "name": "stdout",
     "output_type": "stream",
     "text": [
      "Train Loss: 1.0493, Train Acc: 0.00%\n",
      "Test Loss:  0.4596, Test Acc:  91.19%\n",
      "\n",
      "Epoch [211/1000]\n"
     ]
    },
    {
     "name": "stderr",
     "output_type": "stream",
     "text": [
      "                                                          \r"
     ]
    },
    {
     "name": "stdout",
     "output_type": "stream",
     "text": [
      "Train Loss: 1.0354, Train Acc: 0.00%\n",
      "Test Loss:  0.3816, Test Acc:  92.20%\n",
      "\n",
      "Epoch [212/1000]\n"
     ]
    },
    {
     "name": "stderr",
     "output_type": "stream",
     "text": [
      "                                                          \r"
     ]
    },
    {
     "name": "stdout",
     "output_type": "stream",
     "text": [
      "Train Loss: 1.0197, Train Acc: 0.00%\n",
      "Test Loss:  0.3679, Test Acc:  91.89%\n",
      "\n",
      "Epoch [213/1000]\n"
     ]
    },
    {
     "name": "stderr",
     "output_type": "stream",
     "text": [
      "                                                          \r"
     ]
    },
    {
     "name": "stdout",
     "output_type": "stream",
     "text": [
      "Train Loss: 1.1369, Train Acc: 0.00%\n",
      "Test Loss:  0.4419, Test Acc:  93.35%\n",
      "\n",
      "Epoch [214/1000]\n"
     ]
    },
    {
     "name": "stderr",
     "output_type": "stream",
     "text": [
      "                                                          \r"
     ]
    },
    {
     "name": "stdout",
     "output_type": "stream",
     "text": [
      "Train Loss: 1.0966, Train Acc: 0.00%\n",
      "Test Loss:  0.4260, Test Acc:  92.37%\n",
      "\n",
      "Epoch [215/1000]\n"
     ]
    },
    {
     "name": "stderr",
     "output_type": "stream",
     "text": [
      "                                                          \r"
     ]
    },
    {
     "name": "stdout",
     "output_type": "stream",
     "text": [
      "Train Loss: 1.1166, Train Acc: 0.00%\n",
      "Test Loss:  0.4336, Test Acc:  92.80%\n",
      "\n",
      "Epoch [216/1000]\n"
     ]
    },
    {
     "name": "stderr",
     "output_type": "stream",
     "text": [
      "                                                          \r"
     ]
    },
    {
     "name": "stdout",
     "output_type": "stream",
     "text": [
      "Train Loss: 0.9592, Train Acc: 0.00%\n",
      "Test Loss:  0.3888, Test Acc:  91.81%\n",
      "\n",
      "Epoch [217/1000]\n"
     ]
    },
    {
     "name": "stderr",
     "output_type": "stream",
     "text": [
      "                                                          \r"
     ]
    },
    {
     "name": "stdout",
     "output_type": "stream",
     "text": [
      "Train Loss: 1.0538, Train Acc: 0.00%\n",
      "Test Loss:  0.4086, Test Acc:  91.19%\n",
      "\n",
      "Epoch [218/1000]\n"
     ]
    },
    {
     "name": "stderr",
     "output_type": "stream",
     "text": [
      "                                                          \r"
     ]
    },
    {
     "name": "stdout",
     "output_type": "stream",
     "text": [
      "Train Loss: 1.0484, Train Acc: 0.00%\n",
      "Test Loss:  0.3942, Test Acc:  92.37%\n",
      "\n",
      "Epoch [219/1000]\n"
     ]
    },
    {
     "name": "stderr",
     "output_type": "stream",
     "text": [
      "                                                          \r"
     ]
    },
    {
     "name": "stdout",
     "output_type": "stream",
     "text": [
      "Train Loss: 1.0634, Train Acc: 0.00%\n",
      "Test Loss:  0.3718, Test Acc:  93.48%\n",
      "\n",
      "Epoch [220/1000]\n"
     ]
    },
    {
     "name": "stderr",
     "output_type": "stream",
     "text": [
      "                                                          \r"
     ]
    },
    {
     "name": "stdout",
     "output_type": "stream",
     "text": [
      "Train Loss: 0.9369, Train Acc: 0.00%\n",
      "Test Loss:  0.3506, Test Acc:  92.11%\n",
      "\n",
      "Epoch [221/1000]\n"
     ]
    },
    {
     "name": "stderr",
     "output_type": "stream",
     "text": [
      "                                                          \r"
     ]
    },
    {
     "name": "stdout",
     "output_type": "stream",
     "text": [
      "Train Loss: 1.0268, Train Acc: 0.00%\n",
      "Test Loss:  0.2861, Test Acc:  93.69%\n",
      "\n",
      "Epoch [222/1000]\n"
     ]
    },
    {
     "name": "stderr",
     "output_type": "stream",
     "text": [
      "                                                          \r"
     ]
    },
    {
     "name": "stdout",
     "output_type": "stream",
     "text": [
      "Train Loss: 0.9998, Train Acc: 0.00%\n",
      "Test Loss:  0.2959, Test Acc:  92.93%\n",
      "\n",
      "Epoch [223/1000]\n"
     ]
    },
    {
     "name": "stderr",
     "output_type": "stream",
     "text": [
      "                                                          \r"
     ]
    },
    {
     "name": "stdout",
     "output_type": "stream",
     "text": [
      "Train Loss: 1.0950, Train Acc: 0.00%\n",
      "Test Loss:  0.3468, Test Acc:  92.28%\n",
      "\n",
      "Epoch [224/1000]\n"
     ]
    },
    {
     "name": "stderr",
     "output_type": "stream",
     "text": [
      "                                                          \r"
     ]
    },
    {
     "name": "stdout",
     "output_type": "stream",
     "text": [
      "Train Loss: 0.9710, Train Acc: 0.00%\n",
      "Test Loss:  0.3857, Test Acc:  92.57%\n",
      "\n",
      "Epoch [225/1000]\n"
     ]
    },
    {
     "name": "stderr",
     "output_type": "stream",
     "text": [
      "                                                          \r"
     ]
    },
    {
     "name": "stdout",
     "output_type": "stream",
     "text": [
      "Train Loss: 1.0656, Train Acc: 0.00%\n",
      "Test Loss:  0.3555, Test Acc:  93.99%\n",
      "Saving model with Test Acc: 93.99%\n",
      "\n",
      "Epoch [226/1000]\n"
     ]
    },
    {
     "name": "stderr",
     "output_type": "stream",
     "text": [
      "                                                          \r"
     ]
    },
    {
     "name": "stdout",
     "output_type": "stream",
     "text": [
      "Train Loss: 1.0516, Train Acc: 0.00%\n",
      "Test Loss:  0.4267, Test Acc:  93.79%\n",
      "\n",
      "Epoch [227/1000]\n"
     ]
    },
    {
     "name": "stderr",
     "output_type": "stream",
     "text": [
      "                                                          \r"
     ]
    },
    {
     "name": "stdout",
     "output_type": "stream",
     "text": [
      "Train Loss: 1.0192, Train Acc: 0.00%\n",
      "Test Loss:  0.3831, Test Acc:  90.69%\n",
      "\n",
      "Epoch [228/1000]\n"
     ]
    },
    {
     "name": "stderr",
     "output_type": "stream",
     "text": [
      "                                                          \r"
     ]
    },
    {
     "name": "stdout",
     "output_type": "stream",
     "text": [
      "Train Loss: 0.9672, Train Acc: 0.00%\n",
      "Test Loss:  0.3961, Test Acc:  92.65%\n",
      "\n",
      "Epoch [229/1000]\n"
     ]
    },
    {
     "name": "stderr",
     "output_type": "stream",
     "text": [
      "                                                          \r"
     ]
    },
    {
     "name": "stdout",
     "output_type": "stream",
     "text": [
      "Train Loss: 0.9904, Train Acc: 0.00%\n",
      "Test Loss:  0.3098, Test Acc:  92.47%\n",
      "\n",
      "Epoch [230/1000]\n"
     ]
    },
    {
     "name": "stderr",
     "output_type": "stream",
     "text": [
      "                                                           \r"
     ]
    },
    {
     "name": "stdout",
     "output_type": "stream",
     "text": [
      "Train Loss: 1.0249, Train Acc: 0.00%\n",
      "Test Loss:  0.3718, Test Acc:  93.33%\n",
      "\n",
      "Epoch [231/1000]\n"
     ]
    },
    {
     "name": "stderr",
     "output_type": "stream",
     "text": [
      "                                                          \r"
     ]
    },
    {
     "name": "stdout",
     "output_type": "stream",
     "text": [
      "Train Loss: 0.9260, Train Acc: 0.00%\n",
      "Test Loss:  0.3917, Test Acc:  91.87%\n",
      "\n",
      "Epoch [232/1000]\n"
     ]
    },
    {
     "name": "stderr",
     "output_type": "stream",
     "text": [
      "                                                          \r"
     ]
    },
    {
     "name": "stdout",
     "output_type": "stream",
     "text": [
      "Train Loss: 1.0302, Train Acc: 0.00%\n",
      "Test Loss:  0.3814, Test Acc:  91.84%\n",
      "\n",
      "Epoch [233/1000]\n"
     ]
    },
    {
     "name": "stderr",
     "output_type": "stream",
     "text": [
      "                                                          \r"
     ]
    },
    {
     "name": "stdout",
     "output_type": "stream",
     "text": [
      "Train Loss: 1.0312, Train Acc: 0.00%\n",
      "Test Loss:  0.4293, Test Acc:  92.84%\n",
      "\n",
      "Epoch [234/1000]\n"
     ]
    },
    {
     "name": "stderr",
     "output_type": "stream",
     "text": [
      "                                                          \r"
     ]
    },
    {
     "name": "stdout",
     "output_type": "stream",
     "text": [
      "Train Loss: 1.0495, Train Acc: 0.00%\n",
      "Test Loss:  0.3634, Test Acc:  92.89%\n",
      "\n",
      "Epoch [235/1000]\n"
     ]
    },
    {
     "name": "stderr",
     "output_type": "stream",
     "text": [
      "                                                          \r"
     ]
    },
    {
     "name": "stdout",
     "output_type": "stream",
     "text": [
      "Train Loss: 1.0398, Train Acc: 0.00%\n",
      "Test Loss:  0.3651, Test Acc:  93.22%\n",
      "\n",
      "Epoch [236/1000]\n"
     ]
    },
    {
     "name": "stderr",
     "output_type": "stream",
     "text": [
      "                                                          \r"
     ]
    },
    {
     "name": "stdout",
     "output_type": "stream",
     "text": [
      "Train Loss: 1.0582, Train Acc: 0.00%\n",
      "Test Loss:  0.3735, Test Acc:  93.09%\n",
      "\n",
      "Epoch [237/1000]\n"
     ]
    },
    {
     "name": "stderr",
     "output_type": "stream",
     "text": [
      "                                                          \r"
     ]
    },
    {
     "name": "stdout",
     "output_type": "stream",
     "text": [
      "Train Loss: 1.0484, Train Acc: 0.00%\n",
      "Test Loss:  0.4258, Test Acc:  92.59%\n",
      "\n",
      "Epoch [238/1000]\n"
     ]
    },
    {
     "name": "stderr",
     "output_type": "stream",
     "text": [
      "                                                          \r"
     ]
    },
    {
     "name": "stdout",
     "output_type": "stream",
     "text": [
      "Train Loss: 1.0510, Train Acc: 0.00%\n",
      "Test Loss:  0.4082, Test Acc:  92.78%\n",
      "\n",
      "Epoch [239/1000]\n"
     ]
    },
    {
     "name": "stderr",
     "output_type": "stream",
     "text": [
      "                                                          \r"
     ]
    },
    {
     "name": "stdout",
     "output_type": "stream",
     "text": [
      "Train Loss: 1.0650, Train Acc: 0.00%\n",
      "Test Loss:  0.5141, Test Acc:  89.30%\n",
      "\n",
      "Epoch [240/1000]\n"
     ]
    },
    {
     "name": "stderr",
     "output_type": "stream",
     "text": [
      "                                                          \r"
     ]
    },
    {
     "name": "stdout",
     "output_type": "stream",
     "text": [
      "Train Loss: 0.9723, Train Acc: 0.00%\n",
      "Test Loss:  0.3877, Test Acc:  92.80%\n",
      "\n",
      "Epoch [241/1000]\n"
     ]
    },
    {
     "name": "stderr",
     "output_type": "stream",
     "text": [
      "                                                          \r"
     ]
    },
    {
     "name": "stdout",
     "output_type": "stream",
     "text": [
      "Train Loss: 1.1095, Train Acc: 0.00%\n",
      "Test Loss:  0.4408, Test Acc:  92.17%\n",
      "\n",
      "Epoch [242/1000]\n"
     ]
    },
    {
     "name": "stderr",
     "output_type": "stream",
     "text": [
      "                                                          \r"
     ]
    },
    {
     "name": "stdout",
     "output_type": "stream",
     "text": [
      "Train Loss: 0.9631, Train Acc: 0.00%\n",
      "Test Loss:  0.3297, Test Acc:  93.55%\n",
      "\n",
      "Epoch [243/1000]\n"
     ]
    },
    {
     "name": "stderr",
     "output_type": "stream",
     "text": [
      "                                                          \r"
     ]
    },
    {
     "name": "stdout",
     "output_type": "stream",
     "text": [
      "Train Loss: 1.0187, Train Acc: 0.00%\n",
      "Test Loss:  0.3462, Test Acc:  92.14%\n",
      "\n",
      "Epoch [244/1000]\n"
     ]
    },
    {
     "name": "stderr",
     "output_type": "stream",
     "text": [
      "                                                          \r"
     ]
    },
    {
     "name": "stdout",
     "output_type": "stream",
     "text": [
      "Train Loss: 0.9914, Train Acc: 0.00%\n",
      "Test Loss:  0.3796, Test Acc:  93.50%\n",
      "\n",
      "Epoch [245/1000]\n"
     ]
    },
    {
     "name": "stderr",
     "output_type": "stream",
     "text": [
      "                                                          \r"
     ]
    },
    {
     "name": "stdout",
     "output_type": "stream",
     "text": [
      "Train Loss: 1.0723, Train Acc: 0.00%\n",
      "Test Loss:  0.3344, Test Acc:  93.60%\n",
      "\n",
      "Epoch [246/1000]\n"
     ]
    },
    {
     "name": "stderr",
     "output_type": "stream",
     "text": [
      "                                                          \r"
     ]
    },
    {
     "name": "stdout",
     "output_type": "stream",
     "text": [
      "Train Loss: 1.0719, Train Acc: 0.00%\n",
      "Test Loss:  0.3972, Test Acc:  92.40%\n",
      "\n",
      "Epoch [247/1000]\n"
     ]
    },
    {
     "name": "stderr",
     "output_type": "stream",
     "text": [
      "                                                          \r"
     ]
    },
    {
     "name": "stdout",
     "output_type": "stream",
     "text": [
      "Train Loss: 1.0035, Train Acc: 0.00%\n",
      "Test Loss:  0.3836, Test Acc:  92.40%\n",
      "\n",
      "Epoch [248/1000]\n"
     ]
    },
    {
     "name": "stderr",
     "output_type": "stream",
     "text": [
      "                                                          \r"
     ]
    },
    {
     "name": "stdout",
     "output_type": "stream",
     "text": [
      "Train Loss: 1.0902, Train Acc: 0.00%\n",
      "Test Loss:  0.3793, Test Acc:  93.43%\n",
      "\n",
      "Epoch [249/1000]\n"
     ]
    },
    {
     "name": "stderr",
     "output_type": "stream",
     "text": [
      "                                                          \r"
     ]
    },
    {
     "name": "stdout",
     "output_type": "stream",
     "text": [
      "Train Loss: 0.9788, Train Acc: 0.00%\n",
      "Test Loss:  0.3614, Test Acc:  92.81%\n",
      "\n",
      "Epoch [250/1000]\n"
     ]
    },
    {
     "name": "stderr",
     "output_type": "stream",
     "text": [
      "                                                          \r"
     ]
    },
    {
     "name": "stdout",
     "output_type": "stream",
     "text": [
      "Train Loss: 1.0489, Train Acc: 0.00%\n",
      "Test Loss:  0.4359, Test Acc:  92.62%\n",
      "\n",
      "Epoch [251/1000]\n"
     ]
    },
    {
     "name": "stderr",
     "output_type": "stream",
     "text": [
      "                                                          \r"
     ]
    },
    {
     "name": "stdout",
     "output_type": "stream",
     "text": [
      "Train Loss: 0.9472, Train Acc: 0.00%\n",
      "Test Loss:  0.4225, Test Acc:  92.30%\n",
      "\n",
      "Epoch [252/1000]\n"
     ]
    },
    {
     "name": "stderr",
     "output_type": "stream",
     "text": [
      "                                                          \r"
     ]
    },
    {
     "name": "stdout",
     "output_type": "stream",
     "text": [
      "Train Loss: 0.9976, Train Acc: 0.00%\n",
      "Test Loss:  0.3717, Test Acc:  92.51%\n",
      "\n",
      "Epoch [253/1000]\n"
     ]
    },
    {
     "name": "stderr",
     "output_type": "stream",
     "text": [
      "                                                          \r"
     ]
    },
    {
     "name": "stdout",
     "output_type": "stream",
     "text": [
      "Train Loss: 1.1056, Train Acc: 0.00%\n",
      "Test Loss:  0.3915, Test Acc:  93.27%\n",
      "\n",
      "Epoch [254/1000]\n"
     ]
    },
    {
     "name": "stderr",
     "output_type": "stream",
     "text": [
      "                                                          \r"
     ]
    },
    {
     "name": "stdout",
     "output_type": "stream",
     "text": [
      "Train Loss: 1.0421, Train Acc: 0.00%\n",
      "Test Loss:  0.3698, Test Acc:  92.62%\n",
      "\n",
      "Epoch [255/1000]\n"
     ]
    },
    {
     "name": "stderr",
     "output_type": "stream",
     "text": [
      "                                                          \r"
     ]
    },
    {
     "name": "stdout",
     "output_type": "stream",
     "text": [
      "Train Loss: 1.0062, Train Acc: 0.00%\n",
      "Test Loss:  0.3589, Test Acc:  92.46%\n",
      "\n",
      "Epoch [256/1000]\n"
     ]
    },
    {
     "name": "stderr",
     "output_type": "stream",
     "text": [
      "                                                          \r"
     ]
    },
    {
     "name": "stdout",
     "output_type": "stream",
     "text": [
      "Train Loss: 0.9958, Train Acc: 0.00%\n",
      "Test Loss:  0.3485, Test Acc:  92.83%\n",
      "\n",
      "Epoch [257/1000]\n"
     ]
    },
    {
     "name": "stderr",
     "output_type": "stream",
     "text": [
      "                                                          \r"
     ]
    },
    {
     "name": "stdout",
     "output_type": "stream",
     "text": [
      "Train Loss: 1.0098, Train Acc: 0.00%\n",
      "Test Loss:  0.3139, Test Acc:  93.39%\n",
      "\n",
      "Epoch [258/1000]\n"
     ]
    },
    {
     "name": "stderr",
     "output_type": "stream",
     "text": [
      "                                                          \r"
     ]
    },
    {
     "name": "stdout",
     "output_type": "stream",
     "text": [
      "Train Loss: 1.0174, Train Acc: 0.00%\n",
      "Test Loss:  0.3924, Test Acc:  92.68%\n",
      "\n",
      "Epoch [259/1000]\n"
     ]
    },
    {
     "name": "stderr",
     "output_type": "stream",
     "text": [
      "                                                          \r"
     ]
    },
    {
     "name": "stdout",
     "output_type": "stream",
     "text": [
      "Train Loss: 1.0305, Train Acc: 0.00%\n",
      "Test Loss:  0.3884, Test Acc:  94.28%\n",
      "Saving model with Test Acc: 94.28%\n",
      "\n",
      "Epoch [260/1000]\n"
     ]
    },
    {
     "name": "stderr",
     "output_type": "stream",
     "text": [
      "                                                          \r"
     ]
    },
    {
     "name": "stdout",
     "output_type": "stream",
     "text": [
      "Train Loss: 1.0876, Train Acc: 0.00%\n",
      "Test Loss:  0.3828, Test Acc:  92.77%\n",
      "\n",
      "Epoch [261/1000]\n"
     ]
    },
    {
     "name": "stderr",
     "output_type": "stream",
     "text": [
      "                                                          \r"
     ]
    },
    {
     "name": "stdout",
     "output_type": "stream",
     "text": [
      "Train Loss: 0.9993, Train Acc: 0.00%\n",
      "Test Loss:  0.3736, Test Acc:  92.76%\n",
      "\n",
      "Epoch [262/1000]\n"
     ]
    },
    {
     "name": "stderr",
     "output_type": "stream",
     "text": [
      "                                                          \r"
     ]
    },
    {
     "name": "stdout",
     "output_type": "stream",
     "text": [
      "Train Loss: 0.8541, Train Acc: 0.00%\n",
      "Test Loss:  0.3311, Test Acc:  91.94%\n",
      "\n",
      "Epoch [263/1000]\n"
     ]
    },
    {
     "name": "stderr",
     "output_type": "stream",
     "text": [
      "                                                          \r"
     ]
    },
    {
     "name": "stdout",
     "output_type": "stream",
     "text": [
      "Train Loss: 1.0252, Train Acc: 0.00%\n",
      "Test Loss:  0.3609, Test Acc:  92.31%\n",
      "\n",
      "Epoch [264/1000]\n"
     ]
    },
    {
     "name": "stderr",
     "output_type": "stream",
     "text": [
      "                                                          \r"
     ]
    },
    {
     "name": "stdout",
     "output_type": "stream",
     "text": [
      "Train Loss: 1.1314, Train Acc: 0.00%\n",
      "Test Loss:  0.4808, Test Acc:  90.94%\n",
      "\n",
      "Epoch [265/1000]\n"
     ]
    },
    {
     "name": "stderr",
     "output_type": "stream",
     "text": [
      "                                                          \r"
     ]
    },
    {
     "name": "stdout",
     "output_type": "stream",
     "text": [
      "Train Loss: 1.0383, Train Acc: 0.00%\n",
      "Test Loss:  0.4561, Test Acc:  93.10%\n",
      "\n",
      "Epoch [266/1000]\n"
     ]
    },
    {
     "name": "stderr",
     "output_type": "stream",
     "text": [
      "                                                          \r"
     ]
    },
    {
     "name": "stdout",
     "output_type": "stream",
     "text": [
      "Train Loss: 1.0803, Train Acc: 0.00%\n",
      "Test Loss:  0.3656, Test Acc:  93.09%\n",
      "\n",
      "Epoch [267/1000]\n"
     ]
    },
    {
     "name": "stderr",
     "output_type": "stream",
     "text": [
      "                                                          \r"
     ]
    },
    {
     "name": "stdout",
     "output_type": "stream",
     "text": [
      "Train Loss: 1.0923, Train Acc: 0.00%\n",
      "Test Loss:  0.3930, Test Acc:  93.15%\n",
      "\n",
      "Epoch [268/1000]\n"
     ]
    },
    {
     "name": "stderr",
     "output_type": "stream",
     "text": [
      "                                                          \r"
     ]
    },
    {
     "name": "stdout",
     "output_type": "stream",
     "text": [
      "Train Loss: 1.0240, Train Acc: 0.00%\n",
      "Test Loss:  0.4340, Test Acc:  92.32%\n",
      "\n",
      "Epoch [269/1000]\n"
     ]
    },
    {
     "name": "stderr",
     "output_type": "stream",
     "text": [
      "                                                          \r"
     ]
    },
    {
     "name": "stdout",
     "output_type": "stream",
     "text": [
      "Train Loss: 1.0060, Train Acc: 0.00%\n",
      "Test Loss:  0.3105, Test Acc:  91.98%\n",
      "\n",
      "Epoch [270/1000]\n"
     ]
    },
    {
     "name": "stderr",
     "output_type": "stream",
     "text": [
      "                                                          \r"
     ]
    },
    {
     "name": "stdout",
     "output_type": "stream",
     "text": [
      "Train Loss: 1.0643, Train Acc: 0.00%\n",
      "Test Loss:  0.4696, Test Acc:  91.96%\n",
      "\n",
      "Epoch [271/1000]\n"
     ]
    },
    {
     "name": "stderr",
     "output_type": "stream",
     "text": [
      "                                                          \r"
     ]
    },
    {
     "name": "stdout",
     "output_type": "stream",
     "text": [
      "Train Loss: 1.0381, Train Acc: 0.00%\n",
      "Test Loss:  0.4319, Test Acc:  91.62%\n",
      "\n",
      "Epoch [272/1000]\n"
     ]
    },
    {
     "name": "stderr",
     "output_type": "stream",
     "text": [
      "                                                          \r"
     ]
    },
    {
     "name": "stdout",
     "output_type": "stream",
     "text": [
      "Train Loss: 0.9649, Train Acc: 0.00%\n",
      "Test Loss:  0.4267, Test Acc:  91.79%\n",
      "\n",
      "Epoch [273/1000]\n"
     ]
    },
    {
     "name": "stderr",
     "output_type": "stream",
     "text": [
      "                                                          \r"
     ]
    },
    {
     "name": "stdout",
     "output_type": "stream",
     "text": [
      "Train Loss: 1.0061, Train Acc: 0.00%\n",
      "Test Loss:  0.4128, Test Acc:  91.86%\n",
      "\n",
      "Epoch [274/1000]\n"
     ]
    },
    {
     "name": "stderr",
     "output_type": "stream",
     "text": [
      "                                                          \r"
     ]
    },
    {
     "name": "stdout",
     "output_type": "stream",
     "text": [
      "Train Loss: 0.9659, Train Acc: 0.00%\n",
      "Test Loss:  0.3551, Test Acc:  92.86%\n",
      "\n",
      "Epoch [275/1000]\n"
     ]
    },
    {
     "name": "stderr",
     "output_type": "stream",
     "text": [
      "                                                          \r"
     ]
    },
    {
     "name": "stdout",
     "output_type": "stream",
     "text": [
      "Train Loss: 1.0272, Train Acc: 0.00%\n",
      "Test Loss:  0.4045, Test Acc:  90.96%\n",
      "\n",
      "Epoch [276/1000]\n"
     ]
    },
    {
     "name": "stderr",
     "output_type": "stream",
     "text": [
      "                                                          \r"
     ]
    },
    {
     "name": "stdout",
     "output_type": "stream",
     "text": [
      "Train Loss: 0.9830, Train Acc: 0.00%\n",
      "Test Loss:  0.3851, Test Acc:  92.34%\n",
      "\n",
      "Epoch [277/1000]\n"
     ]
    },
    {
     "name": "stderr",
     "output_type": "stream",
     "text": [
      "                                                          \r"
     ]
    },
    {
     "name": "stdout",
     "output_type": "stream",
     "text": [
      "Train Loss: 1.0801, Train Acc: 0.00%\n",
      "Test Loss:  0.3993, Test Acc:  94.21%\n",
      "\n",
      "Epoch [278/1000]\n"
     ]
    },
    {
     "name": "stderr",
     "output_type": "stream",
     "text": [
      "                                                          \r"
     ]
    },
    {
     "name": "stdout",
     "output_type": "stream",
     "text": [
      "Train Loss: 0.9541, Train Acc: 0.00%\n",
      "Test Loss:  0.3590, Test Acc:  93.53%\n",
      "\n",
      "Epoch [279/1000]\n"
     ]
    },
    {
     "name": "stderr",
     "output_type": "stream",
     "text": [
      "                                                          \r"
     ]
    },
    {
     "name": "stdout",
     "output_type": "stream",
     "text": [
      "Train Loss: 1.0650, Train Acc: 0.00%\n",
      "Test Loss:  0.4032, Test Acc:  92.37%\n",
      "\n",
      "Epoch [280/1000]\n"
     ]
    },
    {
     "name": "stderr",
     "output_type": "stream",
     "text": [
      "                                                          \r"
     ]
    },
    {
     "name": "stdout",
     "output_type": "stream",
     "text": [
      "Train Loss: 1.0338, Train Acc: 0.00%\n",
      "Test Loss:  0.3117, Test Acc:  93.79%\n",
      "\n",
      "Epoch [281/1000]\n"
     ]
    },
    {
     "name": "stderr",
     "output_type": "stream",
     "text": [
      "                                                          \r"
     ]
    },
    {
     "name": "stdout",
     "output_type": "stream",
     "text": [
      "Train Loss: 0.8958, Train Acc: 0.00%\n",
      "Test Loss:  0.3097, Test Acc:  93.20%\n",
      "\n",
      "Epoch [282/1000]\n"
     ]
    },
    {
     "name": "stderr",
     "output_type": "stream",
     "text": [
      "                                                          \r"
     ]
    },
    {
     "name": "stdout",
     "output_type": "stream",
     "text": [
      "Train Loss: 1.0150, Train Acc: 0.00%\n",
      "Test Loss:  0.3869, Test Acc:  92.55%\n",
      "\n",
      "Epoch [283/1000]\n"
     ]
    },
    {
     "name": "stderr",
     "output_type": "stream",
     "text": [
      "                                                          \r"
     ]
    },
    {
     "name": "stdout",
     "output_type": "stream",
     "text": [
      "Train Loss: 0.9910, Train Acc: 0.00%\n",
      "Test Loss:  0.3942, Test Acc:  91.76%\n",
      "\n",
      "Epoch [284/1000]\n"
     ]
    },
    {
     "name": "stderr",
     "output_type": "stream",
     "text": [
      "                                                          \r"
     ]
    },
    {
     "name": "stdout",
     "output_type": "stream",
     "text": [
      "Train Loss: 0.9794, Train Acc: 0.00%\n",
      "Test Loss:  0.3847, Test Acc:  92.43%\n",
      "\n",
      "Epoch [285/1000]\n"
     ]
    },
    {
     "name": "stderr",
     "output_type": "stream",
     "text": [
      "                                                           \r"
     ]
    },
    {
     "name": "stdout",
     "output_type": "stream",
     "text": [
      "Train Loss: 1.0799, Train Acc: 0.00%\n",
      "Test Loss:  0.4321, Test Acc:  92.54%\n",
      "\n",
      "Epoch [286/1000]\n"
     ]
    },
    {
     "name": "stderr",
     "output_type": "stream",
     "text": [
      "                                                          \r"
     ]
    },
    {
     "name": "stdout",
     "output_type": "stream",
     "text": [
      "Train Loss: 0.9927, Train Acc: 0.00%\n",
      "Test Loss:  0.3670, Test Acc:  93.32%\n",
      "\n",
      "Epoch [287/1000]\n"
     ]
    },
    {
     "name": "stderr",
     "output_type": "stream",
     "text": [
      "                                                          \r"
     ]
    },
    {
     "name": "stdout",
     "output_type": "stream",
     "text": [
      "Train Loss: 1.0538, Train Acc: 0.00%\n",
      "Test Loss:  0.4126, Test Acc:  93.73%\n",
      "\n",
      "Epoch [288/1000]\n"
     ]
    },
    {
     "name": "stderr",
     "output_type": "stream",
     "text": [
      "                                                          \r"
     ]
    },
    {
     "name": "stdout",
     "output_type": "stream",
     "text": [
      "Train Loss: 1.1158, Train Acc: 0.00%\n",
      "Test Loss:  0.3866, Test Acc:  92.75%\n",
      "\n",
      "Epoch [289/1000]\n"
     ]
    },
    {
     "name": "stderr",
     "output_type": "stream",
     "text": [
      "                                                          \r"
     ]
    },
    {
     "name": "stdout",
     "output_type": "stream",
     "text": [
      "Train Loss: 1.0595, Train Acc: 0.00%\n",
      "Test Loss:  0.4659, Test Acc:  92.40%\n",
      "\n",
      "Epoch [290/1000]\n"
     ]
    },
    {
     "name": "stderr",
     "output_type": "stream",
     "text": [
      "                                                          \r"
     ]
    },
    {
     "name": "stdout",
     "output_type": "stream",
     "text": [
      "Train Loss: 1.0734, Train Acc: 0.00%\n",
      "Test Loss:  0.4188, Test Acc:  91.87%\n",
      "\n",
      "Epoch [291/1000]\n"
     ]
    },
    {
     "name": "stderr",
     "output_type": "stream",
     "text": [
      "                                                          \r"
     ]
    },
    {
     "name": "stdout",
     "output_type": "stream",
     "text": [
      "Train Loss: 0.9992, Train Acc: 0.00%\n",
      "Test Loss:  0.3602, Test Acc:  92.50%\n",
      "\n",
      "Epoch [292/1000]\n"
     ]
    },
    {
     "name": "stderr",
     "output_type": "stream",
     "text": [
      "                                                          \r"
     ]
    },
    {
     "name": "stdout",
     "output_type": "stream",
     "text": [
      "Train Loss: 0.9740, Train Acc: 0.00%\n",
      "Test Loss:  0.3571, Test Acc:  93.41%\n",
      "\n",
      "Epoch [293/1000]\n"
     ]
    },
    {
     "name": "stderr",
     "output_type": "stream",
     "text": [
      "                                                          \r"
     ]
    },
    {
     "name": "stdout",
     "output_type": "stream",
     "text": [
      "Train Loss: 0.9848, Train Acc: 0.00%\n",
      "Test Loss:  0.3875, Test Acc:  92.18%\n",
      "\n",
      "Epoch [294/1000]\n"
     ]
    },
    {
     "name": "stderr",
     "output_type": "stream",
     "text": [
      "                                                          \r"
     ]
    },
    {
     "name": "stdout",
     "output_type": "stream",
     "text": [
      "Train Loss: 1.0290, Train Acc: 0.00%\n",
      "Test Loss:  0.3867, Test Acc:  93.81%\n",
      "\n",
      "Epoch [295/1000]\n"
     ]
    },
    {
     "name": "stderr",
     "output_type": "stream",
     "text": [
      "                                                          \r"
     ]
    },
    {
     "name": "stdout",
     "output_type": "stream",
     "text": [
      "Train Loss: 0.9560, Train Acc: 0.00%\n",
      "Test Loss:  0.3919, Test Acc:  90.40%\n",
      "\n",
      "Epoch [296/1000]\n"
     ]
    },
    {
     "name": "stderr",
     "output_type": "stream",
     "text": [
      "                                                          \r"
     ]
    },
    {
     "name": "stdout",
     "output_type": "stream",
     "text": [
      "Train Loss: 1.0382, Train Acc: 0.00%\n",
      "Test Loss:  0.4147, Test Acc:  92.46%\n",
      "\n",
      "Epoch [297/1000]\n"
     ]
    },
    {
     "name": "stderr",
     "output_type": "stream",
     "text": [
      "                                                          \r"
     ]
    },
    {
     "name": "stdout",
     "output_type": "stream",
     "text": [
      "Train Loss: 1.0302, Train Acc: 0.00%\n",
      "Test Loss:  0.4070, Test Acc:  92.37%\n",
      "\n",
      "Epoch [298/1000]\n"
     ]
    },
    {
     "name": "stderr",
     "output_type": "stream",
     "text": [
      "                                                          \r"
     ]
    },
    {
     "name": "stdout",
     "output_type": "stream",
     "text": [
      "Train Loss: 1.0201, Train Acc: 0.00%\n",
      "Test Loss:  0.3669, Test Acc:  92.65%\n",
      "\n",
      "Epoch [299/1000]\n"
     ]
    },
    {
     "name": "stderr",
     "output_type": "stream",
     "text": [
      "                                                          \r"
     ]
    },
    {
     "name": "stdout",
     "output_type": "stream",
     "text": [
      "Train Loss: 1.0230, Train Acc: 0.00%\n",
      "Test Loss:  0.3767, Test Acc:  92.62%\n",
      "\n",
      "Epoch [300/1000]\n"
     ]
    },
    {
     "name": "stderr",
     "output_type": "stream",
     "text": [
      "                                                          \r"
     ]
    },
    {
     "name": "stdout",
     "output_type": "stream",
     "text": [
      "Train Loss: 1.0749, Train Acc: 0.00%\n",
      "Test Loss:  0.4031, Test Acc:  93.43%\n",
      "\n",
      "Epoch [301/1000]\n"
     ]
    },
    {
     "name": "stderr",
     "output_type": "stream",
     "text": [
      "                                                          \r"
     ]
    },
    {
     "name": "stdout",
     "output_type": "stream",
     "text": [
      "Train Loss: 0.9940, Train Acc: 0.00%\n",
      "Test Loss:  0.3737, Test Acc:  92.81%\n",
      "\n",
      "Epoch [302/1000]\n"
     ]
    },
    {
     "name": "stderr",
     "output_type": "stream",
     "text": [
      "                                                          \r"
     ]
    },
    {
     "name": "stdout",
     "output_type": "stream",
     "text": [
      "Train Loss: 1.0724, Train Acc: 0.00%\n",
      "Test Loss:  0.3159, Test Acc:  94.29%\n",
      "Saving model with Test Acc: 94.29%\n",
      "\n",
      "Epoch [303/1000]\n"
     ]
    },
    {
     "name": "stderr",
     "output_type": "stream",
     "text": [
      "                                                          \r"
     ]
    },
    {
     "name": "stdout",
     "output_type": "stream",
     "text": [
      "Train Loss: 1.0580, Train Acc: 0.00%\n",
      "Test Loss:  0.4429, Test Acc:  93.22%\n",
      "\n",
      "Epoch [304/1000]\n"
     ]
    },
    {
     "name": "stderr",
     "output_type": "stream",
     "text": [
      "                                                          \r"
     ]
    },
    {
     "name": "stdout",
     "output_type": "stream",
     "text": [
      "Train Loss: 1.1046, Train Acc: 0.00%\n",
      "Test Loss:  0.3713, Test Acc:  92.66%\n",
      "\n",
      "Epoch [305/1000]\n"
     ]
    },
    {
     "name": "stderr",
     "output_type": "stream",
     "text": [
      "                                                          \r"
     ]
    },
    {
     "name": "stdout",
     "output_type": "stream",
     "text": [
      "Train Loss: 0.9899, Train Acc: 0.00%\n",
      "Test Loss:  0.3488, Test Acc:  93.51%\n",
      "\n",
      "Epoch [306/1000]\n"
     ]
    },
    {
     "name": "stderr",
     "output_type": "stream",
     "text": [
      "                                                          \r"
     ]
    },
    {
     "name": "stdout",
     "output_type": "stream",
     "text": [
      "Train Loss: 0.9265, Train Acc: 0.00%\n",
      "Test Loss:  0.3798, Test Acc:  91.74%\n",
      "\n",
      "Epoch [307/1000]\n"
     ]
    },
    {
     "name": "stderr",
     "output_type": "stream",
     "text": [
      "                                                          \r"
     ]
    },
    {
     "name": "stdout",
     "output_type": "stream",
     "text": [
      "Train Loss: 1.0268, Train Acc: 0.00%\n",
      "Test Loss:  0.3170, Test Acc:  94.41%\n",
      "Saving model with Test Acc: 94.41%\n",
      "\n",
      "Epoch [308/1000]\n"
     ]
    },
    {
     "name": "stderr",
     "output_type": "stream",
     "text": [
      "                                                          \r"
     ]
    },
    {
     "name": "stdout",
     "output_type": "stream",
     "text": [
      "Train Loss: 1.0339, Train Acc: 0.00%\n",
      "Test Loss:  0.4516, Test Acc:  93.53%\n",
      "\n",
      "Epoch [309/1000]\n"
     ]
    },
    {
     "name": "stderr",
     "output_type": "stream",
     "text": [
      "                                                          \r"
     ]
    },
    {
     "name": "stdout",
     "output_type": "stream",
     "text": [
      "Train Loss: 1.0022, Train Acc: 0.00%\n",
      "Test Loss:  0.4133, Test Acc:  94.26%\n",
      "\n",
      "Epoch [310/1000]\n"
     ]
    },
    {
     "name": "stderr",
     "output_type": "stream",
     "text": [
      "                                                          \r"
     ]
    },
    {
     "name": "stdout",
     "output_type": "stream",
     "text": [
      "Train Loss: 1.0045, Train Acc: 0.00%\n",
      "Test Loss:  0.3455, Test Acc:  94.09%\n",
      "\n",
      "Epoch [311/1000]\n"
     ]
    },
    {
     "name": "stderr",
     "output_type": "stream",
     "text": [
      "                                                          \r"
     ]
    },
    {
     "name": "stdout",
     "output_type": "stream",
     "text": [
      "Train Loss: 1.0409, Train Acc: 0.00%\n",
      "Test Loss:  0.4333, Test Acc:  92.72%\n",
      "\n",
      "Epoch [312/1000]\n"
     ]
    },
    {
     "name": "stderr",
     "output_type": "stream",
     "text": [
      "                                                          \r"
     ]
    },
    {
     "name": "stdout",
     "output_type": "stream",
     "text": [
      "Train Loss: 1.0370, Train Acc: 0.00%\n",
      "Test Loss:  0.3916, Test Acc:  92.58%\n",
      "\n",
      "Epoch [313/1000]\n"
     ]
    },
    {
     "name": "stderr",
     "output_type": "stream",
     "text": [
      "                                                          \r"
     ]
    },
    {
     "name": "stdout",
     "output_type": "stream",
     "text": [
      "Train Loss: 1.0084, Train Acc: 0.00%\n",
      "Test Loss:  0.3487, Test Acc:  92.81%\n",
      "\n",
      "Epoch [314/1000]\n"
     ]
    },
    {
     "name": "stderr",
     "output_type": "stream",
     "text": [
      "                                                          \r"
     ]
    },
    {
     "name": "stdout",
     "output_type": "stream",
     "text": [
      "Train Loss: 1.0191, Train Acc: 0.00%\n",
      "Test Loss:  0.4431, Test Acc:  92.35%\n",
      "\n",
      "Epoch [315/1000]\n"
     ]
    },
    {
     "name": "stderr",
     "output_type": "stream",
     "text": [
      "                                                          \r"
     ]
    },
    {
     "name": "stdout",
     "output_type": "stream",
     "text": [
      "Train Loss: 1.0503, Train Acc: 0.00%\n",
      "Test Loss:  0.4046, Test Acc:  93.55%\n",
      "\n",
      "Epoch [316/1000]\n"
     ]
    },
    {
     "name": "stderr",
     "output_type": "stream",
     "text": [
      "                                                          \r"
     ]
    },
    {
     "name": "stdout",
     "output_type": "stream",
     "text": [
      "Train Loss: 1.0377, Train Acc: 0.00%\n",
      "Test Loss:  0.4040, Test Acc:  92.69%\n",
      "\n",
      "Epoch [317/1000]\n"
     ]
    },
    {
     "name": "stderr",
     "output_type": "stream",
     "text": [
      "                                                          \r"
     ]
    },
    {
     "name": "stdout",
     "output_type": "stream",
     "text": [
      "Train Loss: 1.0750, Train Acc: 0.00%\n",
      "Test Loss:  0.3608, Test Acc:  93.70%\n",
      "\n",
      "Epoch [318/1000]\n"
     ]
    },
    {
     "name": "stderr",
     "output_type": "stream",
     "text": [
      "                                                          \r"
     ]
    },
    {
     "name": "stdout",
     "output_type": "stream",
     "text": [
      "Train Loss: 0.9874, Train Acc: 0.00%\n",
      "Test Loss:  0.4982, Test Acc:  90.43%\n",
      "\n",
      "Epoch [319/1000]\n"
     ]
    },
    {
     "name": "stderr",
     "output_type": "stream",
     "text": [
      "                                                          \r"
     ]
    },
    {
     "name": "stdout",
     "output_type": "stream",
     "text": [
      "Train Loss: 1.0452, Train Acc: 0.00%\n",
      "Test Loss:  0.3900, Test Acc:  93.69%\n",
      "\n",
      "Epoch [320/1000]\n"
     ]
    },
    {
     "name": "stderr",
     "output_type": "stream",
     "text": [
      "                                                          \r"
     ]
    },
    {
     "name": "stdout",
     "output_type": "stream",
     "text": [
      "Train Loss: 0.9389, Train Acc: 0.00%\n",
      "Test Loss:  0.3911, Test Acc:  92.73%\n",
      "\n",
      "Epoch [321/1000]\n"
     ]
    },
    {
     "name": "stderr",
     "output_type": "stream",
     "text": [
      "                                                          \r"
     ]
    },
    {
     "name": "stdout",
     "output_type": "stream",
     "text": [
      "Train Loss: 0.9590, Train Acc: 0.00%\n",
      "Test Loss:  0.3321, Test Acc:  94.29%\n",
      "\n",
      "Epoch [322/1000]\n"
     ]
    },
    {
     "name": "stderr",
     "output_type": "stream",
     "text": [
      "                                                          \r"
     ]
    },
    {
     "name": "stdout",
     "output_type": "stream",
     "text": [
      "Train Loss: 1.0330, Train Acc: 0.00%\n",
      "Test Loss:  0.4139, Test Acc:  92.04%\n",
      "\n",
      "Epoch [323/1000]\n"
     ]
    },
    {
     "name": "stderr",
     "output_type": "stream",
     "text": [
      "                                                          \r"
     ]
    },
    {
     "name": "stdout",
     "output_type": "stream",
     "text": [
      "Train Loss: 1.0168, Train Acc: 0.00%\n",
      "Test Loss:  0.4652, Test Acc:  92.46%\n",
      "\n",
      "Epoch [324/1000]\n"
     ]
    },
    {
     "name": "stderr",
     "output_type": "stream",
     "text": [
      "                                                          \r"
     ]
    },
    {
     "name": "stdout",
     "output_type": "stream",
     "text": [
      "Train Loss: 0.9785, Train Acc: 0.00%\n",
      "Test Loss:  0.3105, Test Acc:  93.61%\n",
      "\n",
      "Epoch [325/1000]\n"
     ]
    },
    {
     "name": "stderr",
     "output_type": "stream",
     "text": [
      "                                                          \r"
     ]
    },
    {
     "name": "stdout",
     "output_type": "stream",
     "text": [
      "Train Loss: 0.9987, Train Acc: 0.00%\n",
      "Test Loss:  0.3922, Test Acc:  91.95%\n",
      "\n",
      "Epoch [326/1000]\n"
     ]
    },
    {
     "name": "stderr",
     "output_type": "stream",
     "text": [
      "                                                          \r"
     ]
    },
    {
     "name": "stdout",
     "output_type": "stream",
     "text": [
      "Train Loss: 0.9493, Train Acc: 0.00%\n",
      "Test Loss:  0.3147, Test Acc:  93.85%\n",
      "\n",
      "Epoch [327/1000]\n"
     ]
    },
    {
     "name": "stderr",
     "output_type": "stream",
     "text": [
      "                                                          \r"
     ]
    },
    {
     "name": "stdout",
     "output_type": "stream",
     "text": [
      "Train Loss: 1.0159, Train Acc: 0.00%\n",
      "Test Loss:  0.3646, Test Acc:  92.28%\n",
      "\n",
      "Epoch [328/1000]\n"
     ]
    },
    {
     "name": "stderr",
     "output_type": "stream",
     "text": [
      "                                                          \r"
     ]
    },
    {
     "name": "stdout",
     "output_type": "stream",
     "text": [
      "Train Loss: 1.0222, Train Acc: 0.00%\n",
      "Test Loss:  0.3596, Test Acc:  94.83%\n",
      "Saving model with Test Acc: 94.83%\n",
      "\n",
      "Epoch [329/1000]\n"
     ]
    },
    {
     "name": "stderr",
     "output_type": "stream",
     "text": [
      "                                                          \r"
     ]
    },
    {
     "name": "stdout",
     "output_type": "stream",
     "text": [
      "Train Loss: 1.0801, Train Acc: 0.00%\n",
      "Test Loss:  0.3441, Test Acc:  93.98%\n",
      "\n",
      "Epoch [330/1000]\n"
     ]
    },
    {
     "name": "stderr",
     "output_type": "stream",
     "text": [
      "                                                          \r"
     ]
    },
    {
     "name": "stdout",
     "output_type": "stream",
     "text": [
      "Train Loss: 1.0131, Train Acc: 0.00%\n",
      "Test Loss:  0.4716, Test Acc:  90.99%\n",
      "\n",
      "Epoch [331/1000]\n"
     ]
    },
    {
     "name": "stderr",
     "output_type": "stream",
     "text": [
      "                                                          \r"
     ]
    },
    {
     "name": "stdout",
     "output_type": "stream",
     "text": [
      "Train Loss: 0.9985, Train Acc: 0.00%\n",
      "Test Loss:  0.4099, Test Acc:  93.07%\n",
      "\n",
      "Epoch [332/1000]\n"
     ]
    },
    {
     "name": "stderr",
     "output_type": "stream",
     "text": [
      "                                                          \r"
     ]
    },
    {
     "name": "stdout",
     "output_type": "stream",
     "text": [
      "Train Loss: 1.0132, Train Acc: 0.00%\n",
      "Test Loss:  0.3615, Test Acc:  93.92%\n",
      "\n",
      "Epoch [333/1000]\n"
     ]
    },
    {
     "name": "stderr",
     "output_type": "stream",
     "text": [
      "                                                          \r"
     ]
    },
    {
     "name": "stdout",
     "output_type": "stream",
     "text": [
      "Train Loss: 0.9332, Train Acc: 0.00%\n",
      "Test Loss:  0.3447, Test Acc:  92.65%\n",
      "\n",
      "Epoch [334/1000]\n"
     ]
    },
    {
     "name": "stderr",
     "output_type": "stream",
     "text": [
      "                                                          \r"
     ]
    },
    {
     "name": "stdout",
     "output_type": "stream",
     "text": [
      "Train Loss: 1.0624, Train Acc: 0.00%\n",
      "Test Loss:  0.3868, Test Acc:  92.89%\n",
      "\n",
      "Epoch [335/1000]\n"
     ]
    },
    {
     "name": "stderr",
     "output_type": "stream",
     "text": [
      "                                                          \r"
     ]
    },
    {
     "name": "stdout",
     "output_type": "stream",
     "text": [
      "Train Loss: 1.0406, Train Acc: 0.00%\n",
      "Test Loss:  0.4368, Test Acc:  93.34%\n",
      "\n",
      "Epoch [336/1000]\n"
     ]
    },
    {
     "name": "stderr",
     "output_type": "stream",
     "text": [
      "                                                          \r"
     ]
    },
    {
     "name": "stdout",
     "output_type": "stream",
     "text": [
      "Train Loss: 0.9573, Train Acc: 0.00%\n",
      "Test Loss:  0.3971, Test Acc:  92.71%\n",
      "\n",
      "Epoch [337/1000]\n"
     ]
    },
    {
     "name": "stderr",
     "output_type": "stream",
     "text": [
      "                                                          \r"
     ]
    },
    {
     "name": "stdout",
     "output_type": "stream",
     "text": [
      "Train Loss: 1.0357, Train Acc: 0.00%\n",
      "Test Loss:  0.4189, Test Acc:  93.38%\n",
      "\n",
      "Epoch [338/1000]\n"
     ]
    },
    {
     "name": "stderr",
     "output_type": "stream",
     "text": [
      "                                                          \r"
     ]
    },
    {
     "name": "stdout",
     "output_type": "stream",
     "text": [
      "Train Loss: 0.9937, Train Acc: 0.00%\n",
      "Test Loss:  0.4022, Test Acc:  94.07%\n",
      "\n",
      "Epoch [339/1000]\n"
     ]
    },
    {
     "name": "stderr",
     "output_type": "stream",
     "text": [
      "                                                          \r"
     ]
    },
    {
     "name": "stdout",
     "output_type": "stream",
     "text": [
      "Train Loss: 1.0405, Train Acc: 0.00%\n",
      "Test Loss:  0.4101, Test Acc:  92.98%\n",
      "\n",
      "Epoch [340/1000]\n"
     ]
    },
    {
     "name": "stderr",
     "output_type": "stream",
     "text": [
      "                                                          \r"
     ]
    },
    {
     "name": "stdout",
     "output_type": "stream",
     "text": [
      "Train Loss: 0.9675, Train Acc: 0.00%\n",
      "Test Loss:  0.3887, Test Acc:  93.11%\n",
      "\n",
      "Epoch [341/1000]\n"
     ]
    },
    {
     "name": "stderr",
     "output_type": "stream",
     "text": [
      "                                                          \r"
     ]
    },
    {
     "name": "stdout",
     "output_type": "stream",
     "text": [
      "Train Loss: 0.9932, Train Acc: 0.00%\n",
      "Test Loss:  0.3247, Test Acc:  94.29%\n",
      "\n",
      "Epoch [342/1000]\n"
     ]
    },
    {
     "name": "stderr",
     "output_type": "stream",
     "text": [
      "                                                           \r"
     ]
    },
    {
     "name": "stdout",
     "output_type": "stream",
     "text": [
      "Train Loss: 0.9803, Train Acc: 0.00%\n",
      "Test Loss:  0.3506, Test Acc:  92.19%\n",
      "\n",
      "Epoch [343/1000]\n"
     ]
    },
    {
     "name": "stderr",
     "output_type": "stream",
     "text": [
      "                                                           \r"
     ]
    },
    {
     "name": "stdout",
     "output_type": "stream",
     "text": [
      "Train Loss: 1.0136, Train Acc: 0.00%\n",
      "Test Loss:  0.3816, Test Acc:  92.41%\n",
      "\n",
      "Epoch [344/1000]\n"
     ]
    },
    {
     "name": "stderr",
     "output_type": "stream",
     "text": [
      "                                                          \r"
     ]
    },
    {
     "name": "stdout",
     "output_type": "stream",
     "text": [
      "Train Loss: 0.9788, Train Acc: 0.00%\n",
      "Test Loss:  0.3456, Test Acc:  93.54%\n",
      "\n",
      "Epoch [345/1000]\n"
     ]
    },
    {
     "name": "stderr",
     "output_type": "stream",
     "text": [
      "                                                          \r"
     ]
    },
    {
     "name": "stdout",
     "output_type": "stream",
     "text": [
      "Train Loss: 0.9629, Train Acc: 0.00%\n",
      "Test Loss:  0.3197, Test Acc:  94.03%\n",
      "\n",
      "Epoch [346/1000]\n"
     ]
    },
    {
     "name": "stderr",
     "output_type": "stream",
     "text": [
      "                                                          \r"
     ]
    },
    {
     "name": "stdout",
     "output_type": "stream",
     "text": [
      "Train Loss: 1.0453, Train Acc: 0.00%\n",
      "Test Loss:  0.3595, Test Acc:  93.65%\n",
      "\n",
      "Epoch [347/1000]\n"
     ]
    },
    {
     "name": "stderr",
     "output_type": "stream",
     "text": [
      "                                                          \r"
     ]
    },
    {
     "name": "stdout",
     "output_type": "stream",
     "text": [
      "Train Loss: 1.0244, Train Acc: 0.00%\n",
      "Test Loss:  0.3899, Test Acc:  92.89%\n",
      "\n",
      "Epoch [348/1000]\n"
     ]
    },
    {
     "name": "stderr",
     "output_type": "stream",
     "text": [
      "                                                          \r"
     ]
    },
    {
     "name": "stdout",
     "output_type": "stream",
     "text": [
      "Train Loss: 1.0776, Train Acc: 0.00%\n",
      "Test Loss:  0.3790, Test Acc:  92.36%\n",
      "\n",
      "Epoch [349/1000]\n"
     ]
    },
    {
     "name": "stderr",
     "output_type": "stream",
     "text": [
      "                                                          \r"
     ]
    },
    {
     "name": "stdout",
     "output_type": "stream",
     "text": [
      "Train Loss: 0.9739, Train Acc: 0.00%\n",
      "Test Loss:  0.3856, Test Acc:  93.89%\n",
      "\n",
      "Epoch [350/1000]\n"
     ]
    },
    {
     "name": "stderr",
     "output_type": "stream",
     "text": [
      "                                                          \r"
     ]
    },
    {
     "name": "stdout",
     "output_type": "stream",
     "text": [
      "Train Loss: 1.0173, Train Acc: 0.00%\n",
      "Test Loss:  0.3730, Test Acc:  93.85%\n",
      "\n",
      "Epoch [351/1000]\n"
     ]
    },
    {
     "name": "stderr",
     "output_type": "stream",
     "text": [
      "                                                          \r"
     ]
    },
    {
     "name": "stdout",
     "output_type": "stream",
     "text": [
      "Train Loss: 0.9968, Train Acc: 0.00%\n",
      "Test Loss:  0.3188, Test Acc:  94.15%\n",
      "\n",
      "Epoch [352/1000]\n"
     ]
    },
    {
     "name": "stderr",
     "output_type": "stream",
     "text": [
      "                                                          \r"
     ]
    },
    {
     "name": "stdout",
     "output_type": "stream",
     "text": [
      "Train Loss: 1.1132, Train Acc: 0.00%\n",
      "Test Loss:  0.4752, Test Acc:  93.78%\n",
      "\n",
      "Epoch [353/1000]\n"
     ]
    },
    {
     "name": "stderr",
     "output_type": "stream",
     "text": [
      "                                                          \r"
     ]
    },
    {
     "name": "stdout",
     "output_type": "stream",
     "text": [
      "Train Loss: 0.9904, Train Acc: 0.00%\n",
      "Test Loss:  0.3531, Test Acc:  93.10%\n",
      "\n",
      "Epoch [354/1000]\n"
     ]
    },
    {
     "name": "stderr",
     "output_type": "stream",
     "text": [
      "                                                          \r"
     ]
    },
    {
     "name": "stdout",
     "output_type": "stream",
     "text": [
      "Train Loss: 1.0631, Train Acc: 0.00%\n",
      "Test Loss:  0.4524, Test Acc:  91.09%\n",
      "\n",
      "Epoch [355/1000]\n"
     ]
    },
    {
     "name": "stderr",
     "output_type": "stream",
     "text": [
      "                                                          \r"
     ]
    },
    {
     "name": "stdout",
     "output_type": "stream",
     "text": [
      "Train Loss: 1.0478, Train Acc: 0.00%\n",
      "Test Loss:  0.3878, Test Acc:  92.42%\n",
      "\n",
      "Epoch [356/1000]\n"
     ]
    },
    {
     "name": "stderr",
     "output_type": "stream",
     "text": [
      "                                                          \r"
     ]
    },
    {
     "name": "stdout",
     "output_type": "stream",
     "text": [
      "Train Loss: 0.9800, Train Acc: 0.00%\n",
      "Test Loss:  0.3664, Test Acc:  92.44%\n",
      "\n",
      "Epoch [357/1000]\n"
     ]
    },
    {
     "name": "stderr",
     "output_type": "stream",
     "text": [
      "                                                          \r"
     ]
    },
    {
     "name": "stdout",
     "output_type": "stream",
     "text": [
      "Train Loss: 0.9209, Train Acc: 0.00%\n",
      "Test Loss:  0.2766, Test Acc:  94.61%\n",
      "\n",
      "Epoch [358/1000]\n"
     ]
    },
    {
     "name": "stderr",
     "output_type": "stream",
     "text": [
      "                                                          \r"
     ]
    },
    {
     "name": "stdout",
     "output_type": "stream",
     "text": [
      "Train Loss: 1.0461, Train Acc: 0.00%\n",
      "Test Loss:  0.4399, Test Acc:  92.61%\n",
      "\n",
      "Epoch [359/1000]\n"
     ]
    },
    {
     "name": "stderr",
     "output_type": "stream",
     "text": [
      "                                                          \r"
     ]
    },
    {
     "name": "stdout",
     "output_type": "stream",
     "text": [
      "Train Loss: 0.9682, Train Acc: 0.00%\n",
      "Test Loss:  0.3673, Test Acc:  92.61%\n",
      "\n",
      "Epoch [360/1000]\n"
     ]
    },
    {
     "name": "stderr",
     "output_type": "stream",
     "text": [
      "                                                          \r"
     ]
    },
    {
     "name": "stdout",
     "output_type": "stream",
     "text": [
      "Train Loss: 1.0204, Train Acc: 0.00%\n",
      "Test Loss:  0.3333, Test Acc:  93.93%\n",
      "\n",
      "Epoch [361/1000]\n"
     ]
    },
    {
     "name": "stderr",
     "output_type": "stream",
     "text": [
      "                                                          \r"
     ]
    },
    {
     "name": "stdout",
     "output_type": "stream",
     "text": [
      "Train Loss: 1.0048, Train Acc: 0.00%\n",
      "Test Loss:  0.4062, Test Acc:  93.10%\n",
      "\n",
      "Epoch [362/1000]\n"
     ]
    },
    {
     "name": "stderr",
     "output_type": "stream",
     "text": [
      "                                                          \r"
     ]
    },
    {
     "name": "stdout",
     "output_type": "stream",
     "text": [
      "Train Loss: 1.0098, Train Acc: 0.00%\n",
      "Test Loss:  0.3633, Test Acc:  93.28%\n",
      "\n",
      "Epoch [363/1000]\n"
     ]
    },
    {
     "name": "stderr",
     "output_type": "stream",
     "text": [
      "                                                          \r"
     ]
    },
    {
     "name": "stdout",
     "output_type": "stream",
     "text": [
      "Train Loss: 0.9801, Train Acc: 0.00%\n",
      "Test Loss:  0.3881, Test Acc:  93.06%\n",
      "\n",
      "Epoch [364/1000]\n"
     ]
    },
    {
     "name": "stderr",
     "output_type": "stream",
     "text": [
      "                                                          \r"
     ]
    },
    {
     "name": "stdout",
     "output_type": "stream",
     "text": [
      "Train Loss: 1.0262, Train Acc: 0.00%\n",
      "Test Loss:  0.3122, Test Acc:  94.17%\n",
      "\n",
      "Epoch [365/1000]\n"
     ]
    },
    {
     "name": "stderr",
     "output_type": "stream",
     "text": [
      "                                                          \r"
     ]
    },
    {
     "name": "stdout",
     "output_type": "stream",
     "text": [
      "Train Loss: 0.9520, Train Acc: 0.00%\n",
      "Test Loss:  0.4073, Test Acc:  93.64%\n",
      "\n",
      "Epoch [366/1000]\n"
     ]
    },
    {
     "name": "stderr",
     "output_type": "stream",
     "text": [
      "                                                          \r"
     ]
    },
    {
     "name": "stdout",
     "output_type": "stream",
     "text": [
      "Train Loss: 0.9378, Train Acc: 0.00%\n",
      "Test Loss:  0.3451, Test Acc:  93.21%\n",
      "\n",
      "Epoch [367/1000]\n"
     ]
    },
    {
     "name": "stderr",
     "output_type": "stream",
     "text": [
      "                                                          \r"
     ]
    },
    {
     "name": "stdout",
     "output_type": "stream",
     "text": [
      "Train Loss: 1.0453, Train Acc: 0.00%\n",
      "Test Loss:  0.3194, Test Acc:  94.20%\n",
      "\n",
      "Epoch [368/1000]\n"
     ]
    },
    {
     "name": "stderr",
     "output_type": "stream",
     "text": [
      "                                                          \r"
     ]
    },
    {
     "name": "stdout",
     "output_type": "stream",
     "text": [
      "Train Loss: 0.9708, Train Acc: 0.00%\n",
      "Test Loss:  0.3502, Test Acc:  94.69%\n",
      "\n",
      "Epoch [369/1000]\n"
     ]
    },
    {
     "name": "stderr",
     "output_type": "stream",
     "text": [
      "                                                          \r"
     ]
    },
    {
     "name": "stdout",
     "output_type": "stream",
     "text": [
      "Train Loss: 1.0440, Train Acc: 0.00%\n",
      "Test Loss:  0.2858, Test Acc:  94.09%\n",
      "\n",
      "Epoch [370/1000]\n"
     ]
    },
    {
     "name": "stderr",
     "output_type": "stream",
     "text": [
      "                                                          \r"
     ]
    },
    {
     "name": "stdout",
     "output_type": "stream",
     "text": [
      "Train Loss: 0.9915, Train Acc: 0.00%\n",
      "Test Loss:  0.3782, Test Acc:  94.58%\n",
      "\n",
      "Epoch [371/1000]\n"
     ]
    },
    {
     "name": "stderr",
     "output_type": "stream",
     "text": [
      "                                                          \r"
     ]
    },
    {
     "name": "stdout",
     "output_type": "stream",
     "text": [
      "Train Loss: 0.9444, Train Acc: 0.00%\n",
      "Test Loss:  0.3365, Test Acc:  94.04%\n",
      "\n",
      "Epoch [372/1000]\n"
     ]
    },
    {
     "name": "stderr",
     "output_type": "stream",
     "text": [
      "                                                          \r"
     ]
    },
    {
     "name": "stdout",
     "output_type": "stream",
     "text": [
      "Train Loss: 0.9748, Train Acc: 0.00%\n",
      "Test Loss:  0.4782, Test Acc:  93.46%\n",
      "\n",
      "Epoch [373/1000]\n"
     ]
    },
    {
     "name": "stderr",
     "output_type": "stream",
     "text": [
      "                                                          \r"
     ]
    },
    {
     "name": "stdout",
     "output_type": "stream",
     "text": [
      "Train Loss: 1.0065, Train Acc: 0.00%\n",
      "Test Loss:  0.3234, Test Acc:  93.75%\n",
      "\n",
      "Epoch [374/1000]\n"
     ]
    },
    {
     "name": "stderr",
     "output_type": "stream",
     "text": [
      "                                                          \r"
     ]
    },
    {
     "name": "stdout",
     "output_type": "stream",
     "text": [
      "Train Loss: 0.9505, Train Acc: 0.00%\n",
      "Test Loss:  0.3495, Test Acc:  93.22%\n",
      "\n",
      "Epoch [375/1000]\n"
     ]
    },
    {
     "name": "stderr",
     "output_type": "stream",
     "text": [
      "                                                          \r"
     ]
    },
    {
     "name": "stdout",
     "output_type": "stream",
     "text": [
      "Train Loss: 1.0360, Train Acc: 0.00%\n",
      "Test Loss:  0.3744, Test Acc:  93.71%\n",
      "\n",
      "Epoch [376/1000]\n"
     ]
    },
    {
     "name": "stderr",
     "output_type": "stream",
     "text": [
      "                                                          \r"
     ]
    },
    {
     "name": "stdout",
     "output_type": "stream",
     "text": [
      "Train Loss: 1.0443, Train Acc: 0.00%\n",
      "Test Loss:  0.3813, Test Acc:  93.34%\n",
      "\n",
      "Epoch [377/1000]\n"
     ]
    },
    {
     "name": "stderr",
     "output_type": "stream",
     "text": [
      "                                                          \r"
     ]
    },
    {
     "name": "stdout",
     "output_type": "stream",
     "text": [
      "Train Loss: 1.0018, Train Acc: 0.00%\n",
      "Test Loss:  0.4000, Test Acc:  94.53%\n",
      "\n",
      "Epoch [378/1000]\n"
     ]
    },
    {
     "name": "stderr",
     "output_type": "stream",
     "text": [
      "                                                          \r"
     ]
    },
    {
     "name": "stdout",
     "output_type": "stream",
     "text": [
      "Train Loss: 0.9661, Train Acc: 0.00%\n",
      "Test Loss:  0.3221, Test Acc:  93.19%\n",
      "\n",
      "Epoch [379/1000]\n"
     ]
    },
    {
     "name": "stderr",
     "output_type": "stream",
     "text": [
      "                                                          \r"
     ]
    },
    {
     "name": "stdout",
     "output_type": "stream",
     "text": [
      "Train Loss: 0.9884, Train Acc: 0.00%\n",
      "Test Loss:  0.3799, Test Acc:  93.53%\n",
      "\n",
      "Epoch [380/1000]\n"
     ]
    },
    {
     "name": "stderr",
     "output_type": "stream",
     "text": [
      "                                                          \r"
     ]
    },
    {
     "name": "stdout",
     "output_type": "stream",
     "text": [
      "Train Loss: 1.0246, Train Acc: 0.00%\n",
      "Test Loss:  0.3371, Test Acc:  94.52%\n",
      "\n",
      "Epoch [381/1000]\n"
     ]
    },
    {
     "name": "stderr",
     "output_type": "stream",
     "text": [
      "                                                          \r"
     ]
    },
    {
     "name": "stdout",
     "output_type": "stream",
     "text": [
      "Train Loss: 1.0141, Train Acc: 0.00%\n",
      "Test Loss:  0.4796, Test Acc:  91.19%\n",
      "\n",
      "Epoch [382/1000]\n"
     ]
    },
    {
     "name": "stderr",
     "output_type": "stream",
     "text": [
      "                                                          \r"
     ]
    },
    {
     "name": "stdout",
     "output_type": "stream",
     "text": [
      "Train Loss: 1.0109, Train Acc: 0.00%\n",
      "Test Loss:  0.3582, Test Acc:  93.60%\n",
      "\n",
      "Epoch [383/1000]\n"
     ]
    },
    {
     "name": "stderr",
     "output_type": "stream",
     "text": [
      "                                                          \r"
     ]
    },
    {
     "name": "stdout",
     "output_type": "stream",
     "text": [
      "Train Loss: 0.9347, Train Acc: 0.00%\n",
      "Test Loss:  0.3333, Test Acc:  94.04%\n",
      "\n",
      "Epoch [384/1000]\n"
     ]
    },
    {
     "name": "stderr",
     "output_type": "stream",
     "text": [
      "                                                          \r"
     ]
    },
    {
     "name": "stdout",
     "output_type": "stream",
     "text": [
      "Train Loss: 1.0549, Train Acc: 0.00%\n",
      "Test Loss:  0.3806, Test Acc:  93.66%\n",
      "\n",
      "Epoch [385/1000]\n"
     ]
    },
    {
     "name": "stderr",
     "output_type": "stream",
     "text": [
      "                                                          \r"
     ]
    },
    {
     "name": "stdout",
     "output_type": "stream",
     "text": [
      "Train Loss: 0.9728, Train Acc: 0.00%\n",
      "Test Loss:  0.3864, Test Acc:  93.49%\n",
      "\n",
      "Epoch [386/1000]\n"
     ]
    },
    {
     "name": "stderr",
     "output_type": "stream",
     "text": [
      "                                                          \r"
     ]
    },
    {
     "name": "stdout",
     "output_type": "stream",
     "text": [
      "Train Loss: 0.9864, Train Acc: 0.00%\n",
      "Test Loss:  0.3745, Test Acc:  94.03%\n",
      "\n",
      "Epoch [387/1000]\n"
     ]
    },
    {
     "name": "stderr",
     "output_type": "stream",
     "text": [
      "                                                          \r"
     ]
    },
    {
     "name": "stdout",
     "output_type": "stream",
     "text": [
      "Train Loss: 1.0034, Train Acc: 0.00%\n",
      "Test Loss:  0.4623, Test Acc:  90.83%\n",
      "\n",
      "Epoch [388/1000]\n"
     ]
    },
    {
     "name": "stderr",
     "output_type": "stream",
     "text": [
      "                                                          \r"
     ]
    },
    {
     "name": "stdout",
     "output_type": "stream",
     "text": [
      "Train Loss: 1.0842, Train Acc: 0.00%\n",
      "Test Loss:  0.3883, Test Acc:  93.42%\n",
      "\n",
      "Epoch [389/1000]\n"
     ]
    },
    {
     "name": "stderr",
     "output_type": "stream",
     "text": [
      "                                                          \r"
     ]
    },
    {
     "name": "stdout",
     "output_type": "stream",
     "text": [
      "Train Loss: 0.9264, Train Acc: 0.00%\n",
      "Test Loss:  0.4263, Test Acc:  92.89%\n",
      "\n",
      "Epoch [390/1000]\n"
     ]
    },
    {
     "name": "stderr",
     "output_type": "stream",
     "text": [
      "                                                          \r"
     ]
    },
    {
     "name": "stdout",
     "output_type": "stream",
     "text": [
      "Train Loss: 0.9553, Train Acc: 0.00%\n",
      "Test Loss:  0.3461, Test Acc:  93.87%\n",
      "\n",
      "Epoch [391/1000]\n"
     ]
    },
    {
     "name": "stderr",
     "output_type": "stream",
     "text": [
      "                                                           \r"
     ]
    },
    {
     "name": "stdout",
     "output_type": "stream",
     "text": [
      "Train Loss: 1.0439, Train Acc: 0.00%\n",
      "Test Loss:  0.3713, Test Acc:  93.74%\n",
      "\n",
      "Epoch [392/1000]\n"
     ]
    },
    {
     "name": "stderr",
     "output_type": "stream",
     "text": [
      "                                                          \r"
     ]
    },
    {
     "name": "stdout",
     "output_type": "stream",
     "text": [
      "Train Loss: 1.0078, Train Acc: 0.00%\n",
      "Test Loss:  0.3831, Test Acc:  92.95%\n",
      "\n",
      "Epoch [393/1000]\n"
     ]
    },
    {
     "name": "stderr",
     "output_type": "stream",
     "text": [
      "                                                          \r"
     ]
    },
    {
     "name": "stdout",
     "output_type": "stream",
     "text": [
      "Train Loss: 1.0879, Train Acc: 0.00%\n",
      "Test Loss:  0.4003, Test Acc:  93.30%\n",
      "\n",
      "Epoch [394/1000]\n"
     ]
    },
    {
     "name": "stderr",
     "output_type": "stream",
     "text": [
      "                                                          \r"
     ]
    },
    {
     "name": "stdout",
     "output_type": "stream",
     "text": [
      "Train Loss: 1.0372, Train Acc: 0.00%\n",
      "Test Loss:  0.3963, Test Acc:  93.31%\n",
      "\n",
      "Epoch [395/1000]\n"
     ]
    },
    {
     "name": "stderr",
     "output_type": "stream",
     "text": [
      "                                                          \r"
     ]
    },
    {
     "name": "stdout",
     "output_type": "stream",
     "text": [
      "Train Loss: 1.0004, Train Acc: 0.00%\n",
      "Test Loss:  0.4042, Test Acc:  94.37%\n",
      "\n",
      "Epoch [396/1000]\n"
     ]
    },
    {
     "name": "stderr",
     "output_type": "stream",
     "text": [
      "                                                          \r"
     ]
    },
    {
     "name": "stdout",
     "output_type": "stream",
     "text": [
      "Train Loss: 0.9985, Train Acc: 0.00%\n",
      "Test Loss:  0.3675, Test Acc:  94.54%\n",
      "\n",
      "Epoch [397/1000]\n"
     ]
    },
    {
     "name": "stderr",
     "output_type": "stream",
     "text": [
      "                                                          \r"
     ]
    },
    {
     "name": "stdout",
     "output_type": "stream",
     "text": [
      "Train Loss: 0.9133, Train Acc: 0.00%\n",
      "Test Loss:  0.3192, Test Acc:  93.80%\n",
      "\n",
      "Epoch [398/1000]\n"
     ]
    },
    {
     "name": "stderr",
     "output_type": "stream",
     "text": [
      "                                                          \r"
     ]
    },
    {
     "name": "stdout",
     "output_type": "stream",
     "text": [
      "Train Loss: 1.0077, Train Acc: 0.00%\n",
      "Test Loss:  0.3803, Test Acc:  94.30%\n",
      "\n",
      "Epoch [399/1000]\n"
     ]
    },
    {
     "name": "stderr",
     "output_type": "stream",
     "text": [
      "                                                          \r"
     ]
    },
    {
     "name": "stdout",
     "output_type": "stream",
     "text": [
      "Train Loss: 1.0296, Train Acc: 0.00%\n",
      "Test Loss:  0.3338, Test Acc:  93.87%\n",
      "\n",
      "Epoch [400/1000]\n"
     ]
    },
    {
     "name": "stderr",
     "output_type": "stream",
     "text": [
      "                                                          \r"
     ]
    },
    {
     "name": "stdout",
     "output_type": "stream",
     "text": [
      "Train Loss: 0.9878, Train Acc: 0.00%\n",
      "Test Loss:  0.3396, Test Acc:  94.42%\n",
      "\n",
      "Epoch [401/1000]\n"
     ]
    },
    {
     "name": "stderr",
     "output_type": "stream",
     "text": [
      "                                                          \r"
     ]
    },
    {
     "name": "stdout",
     "output_type": "stream",
     "text": [
      "Train Loss: 0.9728, Train Acc: 0.00%\n",
      "Test Loss:  0.3337, Test Acc:  93.60%\n",
      "\n",
      "Epoch [402/1000]\n"
     ]
    },
    {
     "name": "stderr",
     "output_type": "stream",
     "text": [
      "                                                          \r"
     ]
    },
    {
     "name": "stdout",
     "output_type": "stream",
     "text": [
      "Train Loss: 0.9357, Train Acc: 0.00%\n",
      "Test Loss:  0.3955, Test Acc:  93.97%\n",
      "\n",
      "Epoch [403/1000]\n"
     ]
    },
    {
     "name": "stderr",
     "output_type": "stream",
     "text": [
      "                                                          \r"
     ]
    },
    {
     "name": "stdout",
     "output_type": "stream",
     "text": [
      "Train Loss: 1.0183, Train Acc: 0.00%\n",
      "Test Loss:  0.3866, Test Acc:  94.85%\n",
      "Saving model with Test Acc: 94.85%\n",
      "\n",
      "Epoch [404/1000]\n"
     ]
    },
    {
     "name": "stderr",
     "output_type": "stream",
     "text": [
      "                                                          \r"
     ]
    },
    {
     "name": "stdout",
     "output_type": "stream",
     "text": [
      "Train Loss: 1.0051, Train Acc: 0.00%\n",
      "Test Loss:  0.3533, Test Acc:  93.69%\n",
      "\n",
      "Epoch [405/1000]\n"
     ]
    },
    {
     "name": "stderr",
     "output_type": "stream",
     "text": [
      "                                                          \r"
     ]
    },
    {
     "name": "stdout",
     "output_type": "stream",
     "text": [
      "Train Loss: 0.9644, Train Acc: 0.00%\n",
      "Test Loss:  0.3705, Test Acc:  91.25%\n",
      "\n",
      "Epoch [406/1000]\n"
     ]
    },
    {
     "name": "stderr",
     "output_type": "stream",
     "text": [
      "                                                           \r"
     ]
    },
    {
     "name": "stdout",
     "output_type": "stream",
     "text": [
      "Train Loss: 0.9868, Train Acc: 0.00%\n",
      "Test Loss:  0.3967, Test Acc:  93.92%\n",
      "\n",
      "Epoch [407/1000]\n"
     ]
    },
    {
     "name": "stderr",
     "output_type": "stream",
     "text": [
      "                                                          \r"
     ]
    },
    {
     "name": "stdout",
     "output_type": "stream",
     "text": [
      "Train Loss: 0.9801, Train Acc: 0.00%\n",
      "Test Loss:  0.3922, Test Acc:  92.84%\n",
      "\n",
      "Epoch [408/1000]\n"
     ]
    },
    {
     "name": "stderr",
     "output_type": "stream",
     "text": [
      "                                                          \r"
     ]
    },
    {
     "name": "stdout",
     "output_type": "stream",
     "text": [
      "Train Loss: 0.9144, Train Acc: 0.00%\n",
      "Test Loss:  0.3552, Test Acc:  94.64%\n",
      "\n",
      "Epoch [409/1000]\n"
     ]
    },
    {
     "name": "stderr",
     "output_type": "stream",
     "text": [
      "                                                          \r"
     ]
    },
    {
     "name": "stdout",
     "output_type": "stream",
     "text": [
      "Train Loss: 0.9851, Train Acc: 0.00%\n",
      "Test Loss:  0.3169, Test Acc:  94.67%\n",
      "\n",
      "Epoch [410/1000]\n"
     ]
    },
    {
     "name": "stderr",
     "output_type": "stream",
     "text": [
      "                                                          \r"
     ]
    },
    {
     "name": "stdout",
     "output_type": "stream",
     "text": [
      "Train Loss: 1.0403, Train Acc: 0.00%\n",
      "Test Loss:  0.3774, Test Acc:  94.38%\n",
      "\n",
      "Epoch [411/1000]\n"
     ]
    },
    {
     "name": "stderr",
     "output_type": "stream",
     "text": [
      "                                                          \r"
     ]
    },
    {
     "name": "stdout",
     "output_type": "stream",
     "text": [
      "Train Loss: 1.0167, Train Acc: 0.00%\n",
      "Test Loss:  0.4113, Test Acc:  93.22%\n",
      "\n",
      "Epoch [412/1000]\n"
     ]
    },
    {
     "name": "stderr",
     "output_type": "stream",
     "text": [
      "                                                          \r"
     ]
    },
    {
     "name": "stdout",
     "output_type": "stream",
     "text": [
      "Train Loss: 1.0099, Train Acc: 0.00%\n",
      "Test Loss:  0.4006, Test Acc:  94.41%\n",
      "\n",
      "Epoch [413/1000]\n"
     ]
    },
    {
     "name": "stderr",
     "output_type": "stream",
     "text": [
      "                                                          \r"
     ]
    },
    {
     "name": "stdout",
     "output_type": "stream",
     "text": [
      "Train Loss: 1.0179, Train Acc: 0.00%\n",
      "Test Loss:  0.3770, Test Acc:  93.60%\n",
      "\n",
      "Epoch [414/1000]\n"
     ]
    },
    {
     "name": "stderr",
     "output_type": "stream",
     "text": [
      "                                                          \r"
     ]
    },
    {
     "name": "stdout",
     "output_type": "stream",
     "text": [
      "Train Loss: 0.9519, Train Acc: 0.00%\n",
      "Test Loss:  0.3916, Test Acc:  92.47%\n",
      "\n",
      "Epoch [415/1000]\n"
     ]
    },
    {
     "name": "stderr",
     "output_type": "stream",
     "text": [
      "                                                          \r"
     ]
    },
    {
     "name": "stdout",
     "output_type": "stream",
     "text": [
      "Train Loss: 0.9502, Train Acc: 0.00%\n",
      "Test Loss:  0.3904, Test Acc:  94.13%\n",
      "\n",
      "Epoch [416/1000]\n"
     ]
    },
    {
     "name": "stderr",
     "output_type": "stream",
     "text": [
      "                                                          \r"
     ]
    },
    {
     "name": "stdout",
     "output_type": "stream",
     "text": [
      "Train Loss: 0.9416, Train Acc: 0.00%\n",
      "Test Loss:  0.2865, Test Acc:  93.25%\n",
      "\n",
      "Epoch [417/1000]\n"
     ]
    },
    {
     "name": "stderr",
     "output_type": "stream",
     "text": [
      "                                                          \r"
     ]
    },
    {
     "name": "stdout",
     "output_type": "stream",
     "text": [
      "Train Loss: 0.9584, Train Acc: 0.00%\n",
      "Test Loss:  0.3312, Test Acc:  93.82%\n",
      "\n",
      "Epoch [418/1000]\n"
     ]
    },
    {
     "name": "stderr",
     "output_type": "stream",
     "text": [
      "                                                          \r"
     ]
    },
    {
     "name": "stdout",
     "output_type": "stream",
     "text": [
      "Train Loss: 1.0580, Train Acc: 0.00%\n",
      "Test Loss:  0.3405, Test Acc:  94.79%\n",
      "\n",
      "Epoch [419/1000]\n"
     ]
    },
    {
     "name": "stderr",
     "output_type": "stream",
     "text": [
      "                                                          \r"
     ]
    },
    {
     "name": "stdout",
     "output_type": "stream",
     "text": [
      "Train Loss: 0.9231, Train Acc: 0.00%\n",
      "Test Loss:  0.3440, Test Acc:  94.27%\n",
      "\n",
      "Epoch [420/1000]\n"
     ]
    },
    {
     "name": "stderr",
     "output_type": "stream",
     "text": [
      "                                                          \r"
     ]
    },
    {
     "name": "stdout",
     "output_type": "stream",
     "text": [
      "Train Loss: 0.9109, Train Acc: 0.00%\n",
      "Test Loss:  0.3742, Test Acc:  93.53%\n",
      "\n",
      "Epoch [421/1000]\n"
     ]
    },
    {
     "name": "stderr",
     "output_type": "stream",
     "text": [
      "                                                          \r"
     ]
    },
    {
     "name": "stdout",
     "output_type": "stream",
     "text": [
      "Train Loss: 1.0129, Train Acc: 0.00%\n",
      "Test Loss:  0.3533, Test Acc:  94.75%\n",
      "\n",
      "Epoch [422/1000]\n"
     ]
    },
    {
     "name": "stderr",
     "output_type": "stream",
     "text": [
      "                                                          \r"
     ]
    },
    {
     "name": "stdout",
     "output_type": "stream",
     "text": [
      "Train Loss: 0.9333, Train Acc: 0.00%\n",
      "Test Loss:  0.3127, Test Acc:  94.83%\n",
      "\n",
      "Epoch [423/1000]\n"
     ]
    },
    {
     "name": "stderr",
     "output_type": "stream",
     "text": [
      "                                                          \r"
     ]
    },
    {
     "name": "stdout",
     "output_type": "stream",
     "text": [
      "Train Loss: 0.8837, Train Acc: 0.00%\n",
      "Test Loss:  0.3519, Test Acc:  93.44%\n",
      "\n",
      "Epoch [424/1000]\n"
     ]
    },
    {
     "name": "stderr",
     "output_type": "stream",
     "text": [
      "                                                          \r"
     ]
    },
    {
     "name": "stdout",
     "output_type": "stream",
     "text": [
      "Train Loss: 0.9919, Train Acc: 0.00%\n",
      "Test Loss:  0.3967, Test Acc:  93.17%\n",
      "\n",
      "Epoch [425/1000]\n"
     ]
    },
    {
     "name": "stderr",
     "output_type": "stream",
     "text": [
      "                                                          \r"
     ]
    },
    {
     "name": "stdout",
     "output_type": "stream",
     "text": [
      "Train Loss: 1.0084, Train Acc: 0.00%\n",
      "Test Loss:  0.3494, Test Acc:  94.94%\n",
      "Saving model with Test Acc: 94.94%\n",
      "\n",
      "Epoch [426/1000]\n"
     ]
    },
    {
     "name": "stderr",
     "output_type": "stream",
     "text": [
      "                                                          \r"
     ]
    },
    {
     "name": "stdout",
     "output_type": "stream",
     "text": [
      "Train Loss: 0.9002, Train Acc: 0.00%\n",
      "Test Loss:  0.3482, Test Acc:  93.73%\n",
      "\n",
      "Epoch [427/1000]\n"
     ]
    },
    {
     "name": "stderr",
     "output_type": "stream",
     "text": [
      "                                                          \r"
     ]
    },
    {
     "name": "stdout",
     "output_type": "stream",
     "text": [
      "Train Loss: 1.0282, Train Acc: 0.00%\n",
      "Test Loss:  0.3170, Test Acc:  94.09%\n",
      "\n",
      "Epoch [428/1000]\n"
     ]
    },
    {
     "name": "stderr",
     "output_type": "stream",
     "text": [
      "                                                          \r"
     ]
    },
    {
     "name": "stdout",
     "output_type": "stream",
     "text": [
      "Train Loss: 0.9559, Train Acc: 0.00%\n",
      "Test Loss:  0.3348, Test Acc:  94.23%\n",
      "\n",
      "Epoch [429/1000]\n"
     ]
    },
    {
     "name": "stderr",
     "output_type": "stream",
     "text": [
      "                                                          \r"
     ]
    },
    {
     "name": "stdout",
     "output_type": "stream",
     "text": [
      "Train Loss: 0.9932, Train Acc: 0.00%\n",
      "Test Loss:  0.3475, Test Acc:  92.92%\n",
      "\n",
      "Epoch [430/1000]\n"
     ]
    },
    {
     "name": "stderr",
     "output_type": "stream",
     "text": [
      "                                                           \r"
     ]
    },
    {
     "name": "stdout",
     "output_type": "stream",
     "text": [
      "Train Loss: 1.0151, Train Acc: 0.00%\n",
      "Test Loss:  0.4462, Test Acc:  91.40%\n",
      "\n",
      "Epoch [431/1000]\n"
     ]
    },
    {
     "name": "stderr",
     "output_type": "stream",
     "text": [
      "                                                          \r"
     ]
    },
    {
     "name": "stdout",
     "output_type": "stream",
     "text": [
      "Train Loss: 0.9493, Train Acc: 0.00%\n",
      "Test Loss:  0.2850, Test Acc:  94.77%\n",
      "\n",
      "Epoch [432/1000]\n"
     ]
    },
    {
     "name": "stderr",
     "output_type": "stream",
     "text": [
      "                                                          \r"
     ]
    },
    {
     "name": "stdout",
     "output_type": "stream",
     "text": [
      "Train Loss: 0.9375, Train Acc: 0.00%\n",
      "Test Loss:  0.3215, Test Acc:  94.02%\n",
      "\n",
      "Epoch [433/1000]\n"
     ]
    },
    {
     "name": "stderr",
     "output_type": "stream",
     "text": [
      "                                                          \r"
     ]
    },
    {
     "name": "stdout",
     "output_type": "stream",
     "text": [
      "Train Loss: 0.9705, Train Acc: 0.00%\n",
      "Test Loss:  0.3454, Test Acc:  93.89%\n",
      "\n",
      "Epoch [434/1000]\n"
     ]
    },
    {
     "name": "stderr",
     "output_type": "stream",
     "text": [
      "                                                          \r"
     ]
    },
    {
     "name": "stdout",
     "output_type": "stream",
     "text": [
      "Train Loss: 0.9606, Train Acc: 0.00%\n",
      "Test Loss:  0.3984, Test Acc:  94.80%\n",
      "\n",
      "Epoch [435/1000]\n"
     ]
    },
    {
     "name": "stderr",
     "output_type": "stream",
     "text": [
      "                                                          \r"
     ]
    },
    {
     "name": "stdout",
     "output_type": "stream",
     "text": [
      "Train Loss: 1.0406, Train Acc: 0.00%\n",
      "Test Loss:  0.3504, Test Acc:  95.00%\n",
      "Saving model with Test Acc: 95.00%\n",
      "\n",
      "Epoch [436/1000]\n"
     ]
    },
    {
     "name": "stderr",
     "output_type": "stream",
     "text": [
      "                                                          \r"
     ]
    },
    {
     "name": "stdout",
     "output_type": "stream",
     "text": [
      "Train Loss: 0.9952, Train Acc: 0.00%\n",
      "Test Loss:  0.3563, Test Acc:  94.26%\n",
      "\n",
      "Epoch [437/1000]\n"
     ]
    },
    {
     "name": "stderr",
     "output_type": "stream",
     "text": [
      "                                                          \r"
     ]
    },
    {
     "name": "stdout",
     "output_type": "stream",
     "text": [
      "Train Loss: 0.9592, Train Acc: 0.00%\n",
      "Test Loss:  0.3527, Test Acc:  94.42%\n",
      "\n",
      "Epoch [438/1000]\n"
     ]
    },
    {
     "name": "stderr",
     "output_type": "stream",
     "text": [
      "                                                          \r"
     ]
    },
    {
     "name": "stdout",
     "output_type": "stream",
     "text": [
      "Train Loss: 0.9234, Train Acc: 0.00%\n",
      "Test Loss:  0.3696, Test Acc:  94.06%\n",
      "\n",
      "Epoch [439/1000]\n"
     ]
    },
    {
     "name": "stderr",
     "output_type": "stream",
     "text": [
      "                                                          \r"
     ]
    },
    {
     "name": "stdout",
     "output_type": "stream",
     "text": [
      "Train Loss: 0.9777, Train Acc: 0.00%\n",
      "Test Loss:  0.2927, Test Acc:  94.06%\n",
      "\n",
      "Epoch [440/1000]\n"
     ]
    },
    {
     "name": "stderr",
     "output_type": "stream",
     "text": [
      "                                                           \r"
     ]
    },
    {
     "name": "stdout",
     "output_type": "stream",
     "text": [
      "Train Loss: 0.9871, Train Acc: 0.00%\n",
      "Test Loss:  0.3646, Test Acc:  94.43%\n",
      "\n",
      "Epoch [441/1000]\n"
     ]
    },
    {
     "name": "stderr",
     "output_type": "stream",
     "text": [
      "                                                          \r"
     ]
    },
    {
     "name": "stdout",
     "output_type": "stream",
     "text": [
      "Train Loss: 0.9998, Train Acc: 0.00%\n",
      "Test Loss:  0.3604, Test Acc:  94.15%\n",
      "\n",
      "Epoch [442/1000]\n"
     ]
    },
    {
     "name": "stderr",
     "output_type": "stream",
     "text": [
      "                                                          \r"
     ]
    },
    {
     "name": "stdout",
     "output_type": "stream",
     "text": [
      "Train Loss: 0.8879, Train Acc: 0.00%\n",
      "Test Loss:  0.4063, Test Acc:  91.98%\n",
      "\n",
      "Epoch [443/1000]\n"
     ]
    },
    {
     "name": "stderr",
     "output_type": "stream",
     "text": [
      "                                                          \r"
     ]
    },
    {
     "name": "stdout",
     "output_type": "stream",
     "text": [
      "Train Loss: 0.9800, Train Acc: 0.00%\n",
      "Test Loss:  0.3313, Test Acc:  93.23%\n",
      "\n",
      "Epoch [444/1000]\n"
     ]
    },
    {
     "name": "stderr",
     "output_type": "stream",
     "text": [
      "                                                          \r"
     ]
    },
    {
     "name": "stdout",
     "output_type": "stream",
     "text": [
      "Train Loss: 0.8950, Train Acc: 0.00%\n",
      "Test Loss:  0.3473, Test Acc:  93.53%\n",
      "\n",
      "Epoch [445/1000]\n"
     ]
    },
    {
     "name": "stderr",
     "output_type": "stream",
     "text": [
      "                                                          \r"
     ]
    },
    {
     "name": "stdout",
     "output_type": "stream",
     "text": [
      "Train Loss: 1.0706, Train Acc: 0.00%\n",
      "Test Loss:  0.3789, Test Acc:  94.63%\n",
      "\n",
      "Epoch [446/1000]\n"
     ]
    },
    {
     "name": "stderr",
     "output_type": "stream",
     "text": [
      "                                                          \r"
     ]
    },
    {
     "name": "stdout",
     "output_type": "stream",
     "text": [
      "Train Loss: 1.0538, Train Acc: 0.00%\n",
      "Test Loss:  0.3631, Test Acc:  94.93%\n",
      "\n",
      "Epoch [447/1000]\n"
     ]
    },
    {
     "name": "stderr",
     "output_type": "stream",
     "text": [
      "                                                          \r"
     ]
    },
    {
     "name": "stdout",
     "output_type": "stream",
     "text": [
      "Train Loss: 0.9630, Train Acc: 0.00%\n",
      "Test Loss:  0.3872, Test Acc:  93.71%\n",
      "\n",
      "Epoch [448/1000]\n"
     ]
    },
    {
     "name": "stderr",
     "output_type": "stream",
     "text": [
      "                                                          \r"
     ]
    },
    {
     "name": "stdout",
     "output_type": "stream",
     "text": [
      "Train Loss: 0.9721, Train Acc: 0.00%\n",
      "Test Loss:  0.3274, Test Acc:  95.36%\n",
      "Saving model with Test Acc: 95.36%\n",
      "\n",
      "Epoch [449/1000]\n"
     ]
    },
    {
     "name": "stderr",
     "output_type": "stream",
     "text": [
      "                                                          \r"
     ]
    },
    {
     "name": "stdout",
     "output_type": "stream",
     "text": [
      "Train Loss: 0.9460, Train Acc: 0.00%\n",
      "Test Loss:  0.3076, Test Acc:  94.57%\n",
      "\n",
      "Epoch [450/1000]\n"
     ]
    },
    {
     "name": "stderr",
     "output_type": "stream",
     "text": [
      "                                                          \r"
     ]
    },
    {
     "name": "stdout",
     "output_type": "stream",
     "text": [
      "Train Loss: 0.9355, Train Acc: 0.00%\n",
      "Test Loss:  0.3996, Test Acc:  93.62%\n",
      "\n",
      "Epoch [451/1000]\n"
     ]
    },
    {
     "name": "stderr",
     "output_type": "stream",
     "text": [
      "                                                          \r"
     ]
    },
    {
     "name": "stdout",
     "output_type": "stream",
     "text": [
      "Train Loss: 0.9485, Train Acc: 0.00%\n",
      "Test Loss:  0.3309, Test Acc:  94.03%\n",
      "\n",
      "Epoch [452/1000]\n"
     ]
    },
    {
     "name": "stderr",
     "output_type": "stream",
     "text": [
      "                                                          \r"
     ]
    },
    {
     "name": "stdout",
     "output_type": "stream",
     "text": [
      "Train Loss: 0.9883, Train Acc: 0.00%\n",
      "Test Loss:  0.3060, Test Acc:  94.80%\n",
      "\n",
      "Epoch [453/1000]\n"
     ]
    },
    {
     "name": "stderr",
     "output_type": "stream",
     "text": [
      "                                                          \r"
     ]
    },
    {
     "name": "stdout",
     "output_type": "stream",
     "text": [
      "Train Loss: 1.0447, Train Acc: 0.00%\n",
      "Test Loss:  0.3820, Test Acc:  94.46%\n",
      "\n",
      "Epoch [454/1000]\n"
     ]
    },
    {
     "name": "stderr",
     "output_type": "stream",
     "text": [
      "                                                          \r"
     ]
    },
    {
     "name": "stdout",
     "output_type": "stream",
     "text": [
      "Train Loss: 0.9633, Train Acc: 0.00%\n",
      "Test Loss:  0.2871, Test Acc:  95.24%\n",
      "\n",
      "Epoch [455/1000]\n"
     ]
    },
    {
     "name": "stderr",
     "output_type": "stream",
     "text": [
      "                                                          \r"
     ]
    },
    {
     "name": "stdout",
     "output_type": "stream",
     "text": [
      "Train Loss: 0.9431, Train Acc: 0.00%\n",
      "Test Loss:  0.2652, Test Acc:  94.34%\n",
      "\n",
      "Epoch [456/1000]\n"
     ]
    },
    {
     "name": "stderr",
     "output_type": "stream",
     "text": [
      "                                                          \r"
     ]
    },
    {
     "name": "stdout",
     "output_type": "stream",
     "text": [
      "Train Loss: 0.9821, Train Acc: 0.00%\n",
      "Test Loss:  0.3891, Test Acc:  94.05%\n",
      "\n",
      "Epoch [457/1000]\n"
     ]
    },
    {
     "name": "stderr",
     "output_type": "stream",
     "text": [
      "                                                          \r"
     ]
    },
    {
     "name": "stdout",
     "output_type": "stream",
     "text": [
      "Train Loss: 0.9603, Train Acc: 0.00%\n",
      "Test Loss:  0.3958, Test Acc:  94.11%\n",
      "\n",
      "Epoch [458/1000]\n"
     ]
    },
    {
     "name": "stderr",
     "output_type": "stream",
     "text": [
      "                                                          \r"
     ]
    },
    {
     "name": "stdout",
     "output_type": "stream",
     "text": [
      "Train Loss: 0.9881, Train Acc: 0.00%\n",
      "Test Loss:  0.4859, Test Acc:  89.91%\n",
      "\n",
      "Epoch [459/1000]\n"
     ]
    },
    {
     "name": "stderr",
     "output_type": "stream",
     "text": [
      "                                                          \r"
     ]
    },
    {
     "name": "stdout",
     "output_type": "stream",
     "text": [
      "Train Loss: 0.9499, Train Acc: 0.00%\n",
      "Test Loss:  0.3169, Test Acc:  94.90%\n",
      "\n",
      "Epoch [460/1000]\n"
     ]
    },
    {
     "name": "stderr",
     "output_type": "stream",
     "text": [
      "                                                          \r"
     ]
    },
    {
     "name": "stdout",
     "output_type": "stream",
     "text": [
      "Train Loss: 0.9377, Train Acc: 0.00%\n",
      "Test Loss:  0.3680, Test Acc:  94.87%\n",
      "\n",
      "Epoch [461/1000]\n"
     ]
    },
    {
     "name": "stderr",
     "output_type": "stream",
     "text": [
      "                                                          \r"
     ]
    },
    {
     "name": "stdout",
     "output_type": "stream",
     "text": [
      "Train Loss: 1.0193, Train Acc: 0.00%\n",
      "Test Loss:  0.4059, Test Acc:  94.81%\n",
      "\n",
      "Epoch [462/1000]\n"
     ]
    },
    {
     "name": "stderr",
     "output_type": "stream",
     "text": [
      "                                                           \r"
     ]
    },
    {
     "name": "stdout",
     "output_type": "stream",
     "text": [
      "Train Loss: 0.9638, Train Acc: 0.00%\n",
      "Test Loss:  0.4457, Test Acc:  93.82%\n",
      "\n",
      "Epoch [463/1000]\n"
     ]
    },
    {
     "name": "stderr",
     "output_type": "stream",
     "text": [
      "                                                          \r"
     ]
    },
    {
     "name": "stdout",
     "output_type": "stream",
     "text": [
      "Train Loss: 0.9333, Train Acc: 0.00%\n",
      "Test Loss:  0.3552, Test Acc:  94.27%\n",
      "\n",
      "Epoch [464/1000]\n"
     ]
    },
    {
     "name": "stderr",
     "output_type": "stream",
     "text": [
      "                                                          \r"
     ]
    },
    {
     "name": "stdout",
     "output_type": "stream",
     "text": [
      "Train Loss: 0.9216, Train Acc: 0.00%\n",
      "Test Loss:  0.3800, Test Acc:  94.68%\n",
      "\n",
      "Epoch [465/1000]\n"
     ]
    },
    {
     "name": "stderr",
     "output_type": "stream",
     "text": [
      "                                                          \r"
     ]
    },
    {
     "name": "stdout",
     "output_type": "stream",
     "text": [
      "Train Loss: 0.9759, Train Acc: 0.00%\n",
      "Test Loss:  0.3273, Test Acc:  94.62%\n",
      "\n",
      "Epoch [466/1000]\n"
     ]
    },
    {
     "name": "stderr",
     "output_type": "stream",
     "text": [
      "                                                          \r"
     ]
    },
    {
     "name": "stdout",
     "output_type": "stream",
     "text": [
      "Train Loss: 1.0089, Train Acc: 0.00%\n",
      "Test Loss:  0.4010, Test Acc:  94.17%\n",
      "\n",
      "Epoch [467/1000]\n"
     ]
    },
    {
     "name": "stderr",
     "output_type": "stream",
     "text": [
      "                                                          \r"
     ]
    },
    {
     "name": "stdout",
     "output_type": "stream",
     "text": [
      "Train Loss: 0.8685, Train Acc: 0.00%\n",
      "Test Loss:  0.3338, Test Acc:  94.19%\n",
      "\n",
      "Epoch [468/1000]\n"
     ]
    },
    {
     "name": "stderr",
     "output_type": "stream",
     "text": [
      "                                                          \r"
     ]
    },
    {
     "name": "stdout",
     "output_type": "stream",
     "text": [
      "Train Loss: 0.9599, Train Acc: 0.00%\n",
      "Test Loss:  0.3741, Test Acc:  93.90%\n",
      "\n",
      "Epoch [469/1000]\n"
     ]
    },
    {
     "name": "stderr",
     "output_type": "stream",
     "text": [
      "                                                           \r"
     ]
    },
    {
     "name": "stdout",
     "output_type": "stream",
     "text": [
      "Train Loss: 1.0075, Train Acc: 0.00%\n",
      "Test Loss:  0.3651, Test Acc:  95.13%\n",
      "\n",
      "Epoch [470/1000]\n"
     ]
    },
    {
     "name": "stderr",
     "output_type": "stream",
     "text": [
      "                                                          \r"
     ]
    },
    {
     "name": "stdout",
     "output_type": "stream",
     "text": [
      "Train Loss: 0.8811, Train Acc: 0.00%\n",
      "Test Loss:  0.3624, Test Acc:  92.74%\n",
      "\n",
      "Epoch [471/1000]\n"
     ]
    },
    {
     "name": "stderr",
     "output_type": "stream",
     "text": [
      "                                                          \r"
     ]
    },
    {
     "name": "stdout",
     "output_type": "stream",
     "text": [
      "Train Loss: 0.9936, Train Acc: 0.00%\n",
      "Test Loss:  0.3885, Test Acc:  94.49%\n",
      "\n",
      "Epoch [472/1000]\n"
     ]
    },
    {
     "name": "stderr",
     "output_type": "stream",
     "text": [
      "                                                          \r"
     ]
    },
    {
     "name": "stdout",
     "output_type": "stream",
     "text": [
      "Train Loss: 0.8955, Train Acc: 0.00%\n",
      "Test Loss:  0.3725, Test Acc:  93.67%\n",
      "\n",
      "Epoch [473/1000]\n"
     ]
    },
    {
     "name": "stderr",
     "output_type": "stream",
     "text": [
      "                                                          \r"
     ]
    },
    {
     "name": "stdout",
     "output_type": "stream",
     "text": [
      "Train Loss: 0.9637, Train Acc: 0.00%\n",
      "Test Loss:  0.3262, Test Acc:  94.12%\n",
      "\n",
      "Epoch [474/1000]\n"
     ]
    },
    {
     "name": "stderr",
     "output_type": "stream",
     "text": [
      "                                                          \r"
     ]
    },
    {
     "name": "stdout",
     "output_type": "stream",
     "text": [
      "Train Loss: 0.9631, Train Acc: 0.00%\n",
      "Test Loss:  0.3121, Test Acc:  94.67%\n",
      "\n",
      "Epoch [475/1000]\n"
     ]
    },
    {
     "name": "stderr",
     "output_type": "stream",
     "text": [
      "                                                          \r"
     ]
    },
    {
     "name": "stdout",
     "output_type": "stream",
     "text": [
      "Train Loss: 0.9860, Train Acc: 0.00%\n",
      "Test Loss:  0.3808, Test Acc:  94.30%\n",
      "\n",
      "Epoch [476/1000]\n"
     ]
    },
    {
     "name": "stderr",
     "output_type": "stream",
     "text": [
      "                                                          \r"
     ]
    },
    {
     "name": "stdout",
     "output_type": "stream",
     "text": [
      "Train Loss: 0.9556, Train Acc: 0.00%\n",
      "Test Loss:  0.3236, Test Acc:  94.75%\n",
      "\n",
      "Epoch [477/1000]\n"
     ]
    },
    {
     "name": "stderr",
     "output_type": "stream",
     "text": [
      "                                                          \r"
     ]
    },
    {
     "name": "stdout",
     "output_type": "stream",
     "text": [
      "Train Loss: 0.9218, Train Acc: 0.00%\n",
      "Test Loss:  0.3537, Test Acc:  92.25%\n",
      "\n",
      "Epoch [478/1000]\n"
     ]
    },
    {
     "name": "stderr",
     "output_type": "stream",
     "text": [
      "                                                          \r"
     ]
    },
    {
     "name": "stdout",
     "output_type": "stream",
     "text": [
      "Train Loss: 0.9554, Train Acc: 0.00%\n",
      "Test Loss:  0.3115, Test Acc:  94.17%\n",
      "\n",
      "Epoch [479/1000]\n"
     ]
    },
    {
     "name": "stderr",
     "output_type": "stream",
     "text": [
      "                                                          \r"
     ]
    },
    {
     "name": "stdout",
     "output_type": "stream",
     "text": [
      "Train Loss: 0.9882, Train Acc: 0.00%\n",
      "Test Loss:  0.3662, Test Acc:  94.80%\n",
      "\n",
      "Epoch [480/1000]\n"
     ]
    },
    {
     "name": "stderr",
     "output_type": "stream",
     "text": [
      "                                                          \r"
     ]
    },
    {
     "name": "stdout",
     "output_type": "stream",
     "text": [
      "Train Loss: 0.9268, Train Acc: 0.00%\n",
      "Test Loss:  0.3026, Test Acc:  95.17%\n",
      "\n",
      "Epoch [481/1000]\n"
     ]
    },
    {
     "name": "stderr",
     "output_type": "stream",
     "text": [
      "                                                          \r"
     ]
    },
    {
     "name": "stdout",
     "output_type": "stream",
     "text": [
      "Train Loss: 0.9974, Train Acc: 0.00%\n",
      "Test Loss:  0.3288, Test Acc:  94.76%\n",
      "\n",
      "Epoch [482/1000]\n"
     ]
    },
    {
     "name": "stderr",
     "output_type": "stream",
     "text": [
      "                                                          \r"
     ]
    },
    {
     "name": "stdout",
     "output_type": "stream",
     "text": [
      "Train Loss: 0.9180, Train Acc: 0.00%\n",
      "Test Loss:  0.3072, Test Acc:  95.39%\n",
      "Saving model with Test Acc: 95.39%\n",
      "\n",
      "Epoch [483/1000]\n"
     ]
    },
    {
     "name": "stderr",
     "output_type": "stream",
     "text": [
      "                                                          \r"
     ]
    },
    {
     "name": "stdout",
     "output_type": "stream",
     "text": [
      "Train Loss: 0.9768, Train Acc: 0.00%\n",
      "Test Loss:  0.3588, Test Acc:  94.64%\n",
      "\n",
      "Epoch [484/1000]\n"
     ]
    },
    {
     "name": "stderr",
     "output_type": "stream",
     "text": [
      "                                                          \r"
     ]
    },
    {
     "name": "stdout",
     "output_type": "stream",
     "text": [
      "Train Loss: 0.9166, Train Acc: 0.00%\n",
      "Test Loss:  0.3784, Test Acc:  94.53%\n",
      "\n",
      "Epoch [485/1000]\n"
     ]
    },
    {
     "name": "stderr",
     "output_type": "stream",
     "text": [
      "                                                          \r"
     ]
    },
    {
     "name": "stdout",
     "output_type": "stream",
     "text": [
      "Train Loss: 0.9694, Train Acc: 0.00%\n",
      "Test Loss:  0.3486, Test Acc:  94.46%\n",
      "\n",
      "Epoch [486/1000]\n"
     ]
    },
    {
     "name": "stderr",
     "output_type": "stream",
     "text": [
      "                                                          \r"
     ]
    },
    {
     "name": "stdout",
     "output_type": "stream",
     "text": [
      "Train Loss: 0.9373, Train Acc: 0.00%\n",
      "Test Loss:  0.3660, Test Acc:  94.83%\n",
      "\n",
      "Epoch [487/1000]\n"
     ]
    },
    {
     "name": "stderr",
     "output_type": "stream",
     "text": [
      "                                                          \r"
     ]
    },
    {
     "name": "stdout",
     "output_type": "stream",
     "text": [
      "Train Loss: 0.9637, Train Acc: 0.00%\n",
      "Test Loss:  0.3906, Test Acc:  95.21%\n",
      "\n",
      "Epoch [488/1000]\n"
     ]
    },
    {
     "name": "stderr",
     "output_type": "stream",
     "text": [
      "                                                          \r"
     ]
    },
    {
     "name": "stdout",
     "output_type": "stream",
     "text": [
      "Train Loss: 0.9633, Train Acc: 0.00%\n",
      "Test Loss:  0.4120, Test Acc:  93.71%\n",
      "\n",
      "Epoch [489/1000]\n"
     ]
    },
    {
     "name": "stderr",
     "output_type": "stream",
     "text": [
      "                                                          \r"
     ]
    },
    {
     "name": "stdout",
     "output_type": "stream",
     "text": [
      "Train Loss: 0.9423, Train Acc: 0.00%\n",
      "Test Loss:  0.3893, Test Acc:  94.11%\n",
      "\n",
      "Epoch [490/1000]\n"
     ]
    },
    {
     "name": "stderr",
     "output_type": "stream",
     "text": [
      "                                                          \r"
     ]
    },
    {
     "name": "stdout",
     "output_type": "stream",
     "text": [
      "Train Loss: 0.8740, Train Acc: 0.00%\n",
      "Test Loss:  0.3372, Test Acc:  94.23%\n",
      "\n",
      "Epoch [491/1000]\n"
     ]
    },
    {
     "name": "stderr",
     "output_type": "stream",
     "text": [
      "                                                          \r"
     ]
    },
    {
     "name": "stdout",
     "output_type": "stream",
     "text": [
      "Train Loss: 0.9809, Train Acc: 0.00%\n",
      "Test Loss:  0.3695, Test Acc:  94.35%\n",
      "\n",
      "Epoch [492/1000]\n"
     ]
    },
    {
     "name": "stderr",
     "output_type": "stream",
     "text": [
      "                                                          \r"
     ]
    },
    {
     "name": "stdout",
     "output_type": "stream",
     "text": [
      "Train Loss: 0.8792, Train Acc: 0.00%\n",
      "Test Loss:  0.2494, Test Acc:  95.42%\n",
      "Saving model with Test Acc: 95.42%\n",
      "\n",
      "Epoch [493/1000]\n"
     ]
    },
    {
     "name": "stderr",
     "output_type": "stream",
     "text": [
      "                                                          \r"
     ]
    },
    {
     "name": "stdout",
     "output_type": "stream",
     "text": [
      "Train Loss: 0.9851, Train Acc: 0.00%\n",
      "Test Loss:  0.4193, Test Acc:  93.81%\n",
      "\n",
      "Epoch [494/1000]\n"
     ]
    },
    {
     "name": "stderr",
     "output_type": "stream",
     "text": [
      "                                                          \r"
     ]
    },
    {
     "name": "stdout",
     "output_type": "stream",
     "text": [
      "Train Loss: 0.9604, Train Acc: 0.00%\n",
      "Test Loss:  0.3743, Test Acc:  94.71%\n",
      "\n",
      "Epoch [495/1000]\n"
     ]
    },
    {
     "name": "stderr",
     "output_type": "stream",
     "text": [
      "                                                          \r"
     ]
    },
    {
     "name": "stdout",
     "output_type": "stream",
     "text": [
      "Train Loss: 0.8864, Train Acc: 0.00%\n",
      "Test Loss:  0.3139, Test Acc:  94.68%\n",
      "\n",
      "Epoch [496/1000]\n"
     ]
    },
    {
     "name": "stderr",
     "output_type": "stream",
     "text": [
      "                                                          \r"
     ]
    },
    {
     "name": "stdout",
     "output_type": "stream",
     "text": [
      "Train Loss: 0.9745, Train Acc: 0.00%\n",
      "Test Loss:  0.3664, Test Acc:  94.18%\n",
      "\n",
      "Epoch [497/1000]\n"
     ]
    },
    {
     "name": "stderr",
     "output_type": "stream",
     "text": [
      "                                                          \r"
     ]
    },
    {
     "name": "stdout",
     "output_type": "stream",
     "text": [
      "Train Loss: 0.9598, Train Acc: 0.00%\n",
      "Test Loss:  0.3316, Test Acc:  94.13%\n",
      "\n",
      "Epoch [498/1000]\n"
     ]
    },
    {
     "name": "stderr",
     "output_type": "stream",
     "text": [
      "                                                          \r"
     ]
    },
    {
     "name": "stdout",
     "output_type": "stream",
     "text": [
      "Train Loss: 0.9795, Train Acc: 0.00%\n",
      "Test Loss:  0.3266, Test Acc:  94.07%\n",
      "\n",
      "Epoch [499/1000]\n"
     ]
    },
    {
     "name": "stderr",
     "output_type": "stream",
     "text": [
      "                                                          \r"
     ]
    },
    {
     "name": "stdout",
     "output_type": "stream",
     "text": [
      "Train Loss: 0.9165, Train Acc: 0.00%\n",
      "Test Loss:  0.3439, Test Acc:  94.52%\n",
      "\n",
      "Epoch [500/1000]\n"
     ]
    },
    {
     "name": "stderr",
     "output_type": "stream",
     "text": [
      "                                                          \r"
     ]
    },
    {
     "name": "stdout",
     "output_type": "stream",
     "text": [
      "Train Loss: 1.0467, Train Acc: 0.00%\n",
      "Test Loss:  0.3695, Test Acc:  94.33%\n",
      "\n",
      "Epoch [501/1000]\n"
     ]
    },
    {
     "name": "stderr",
     "output_type": "stream",
     "text": [
      "                                                          \r"
     ]
    },
    {
     "name": "stdout",
     "output_type": "stream",
     "text": [
      "Train Loss: 0.9992, Train Acc: 0.00%\n",
      "Test Loss:  0.3601, Test Acc:  94.52%\n",
      "\n",
      "Epoch [502/1000]\n"
     ]
    },
    {
     "name": "stderr",
     "output_type": "stream",
     "text": [
      "                                                          \r"
     ]
    },
    {
     "name": "stdout",
     "output_type": "stream",
     "text": [
      "Train Loss: 0.8606, Train Acc: 0.00%\n",
      "Test Loss:  0.3422, Test Acc:  94.23%\n",
      "\n",
      "Epoch [503/1000]\n"
     ]
    },
    {
     "name": "stderr",
     "output_type": "stream",
     "text": [
      "                                                          \r"
     ]
    },
    {
     "name": "stdout",
     "output_type": "stream",
     "text": [
      "Train Loss: 0.9904, Train Acc: 0.00%\n",
      "Test Loss:  0.3474, Test Acc:  94.63%\n",
      "\n",
      "Epoch [504/1000]\n"
     ]
    },
    {
     "name": "stderr",
     "output_type": "stream",
     "text": [
      "                                                          \r"
     ]
    },
    {
     "name": "stdout",
     "output_type": "stream",
     "text": [
      "Train Loss: 0.9350, Train Acc: 0.00%\n",
      "Test Loss:  0.3397, Test Acc:  94.39%\n",
      "\n",
      "Epoch [505/1000]\n"
     ]
    },
    {
     "name": "stderr",
     "output_type": "stream",
     "text": [
      "                                                          \r"
     ]
    },
    {
     "name": "stdout",
     "output_type": "stream",
     "text": [
      "Train Loss: 1.0157, Train Acc: 0.00%\n",
      "Test Loss:  0.3458, Test Acc:  95.20%\n",
      "\n",
      "Epoch [506/1000]\n"
     ]
    },
    {
     "name": "stderr",
     "output_type": "stream",
     "text": [
      "                                                           \r"
     ]
    },
    {
     "name": "stdout",
     "output_type": "stream",
     "text": [
      "Train Loss: 0.9580, Train Acc: 0.00%\n",
      "Test Loss:  0.3742, Test Acc:  93.78%\n",
      "\n",
      "Epoch [507/1000]\n"
     ]
    },
    {
     "name": "stderr",
     "output_type": "stream",
     "text": [
      "                                                          \r"
     ]
    },
    {
     "name": "stdout",
     "output_type": "stream",
     "text": [
      "Train Loss: 0.9469, Train Acc: 0.00%\n",
      "Test Loss:  0.3222, Test Acc:  94.99%\n",
      "\n",
      "Epoch [508/1000]\n"
     ]
    },
    {
     "name": "stderr",
     "output_type": "stream",
     "text": [
      "                                                          \r"
     ]
    },
    {
     "name": "stdout",
     "output_type": "stream",
     "text": [
      "Train Loss: 0.9602, Train Acc: 0.00%\n",
      "Test Loss:  0.3155, Test Acc:  95.24%\n",
      "\n",
      "Epoch [509/1000]\n"
     ]
    },
    {
     "name": "stderr",
     "output_type": "stream",
     "text": [
      "                                                          \r"
     ]
    },
    {
     "name": "stdout",
     "output_type": "stream",
     "text": [
      "Train Loss: 0.9954, Train Acc: 0.00%\n",
      "Test Loss:  0.3805, Test Acc:  95.32%\n",
      "\n",
      "Epoch [510/1000]\n"
     ]
    },
    {
     "name": "stderr",
     "output_type": "stream",
     "text": [
      "                                                          \r"
     ]
    },
    {
     "name": "stdout",
     "output_type": "stream",
     "text": [
      "Train Loss: 0.9784, Train Acc: 0.00%\n",
      "Test Loss:  0.3969, Test Acc:  95.25%\n",
      "\n",
      "Epoch [511/1000]\n"
     ]
    },
    {
     "name": "stderr",
     "output_type": "stream",
     "text": [
      "                                                          \r"
     ]
    },
    {
     "name": "stdout",
     "output_type": "stream",
     "text": [
      "Train Loss: 0.9186, Train Acc: 0.00%\n",
      "Test Loss:  0.3644, Test Acc:  94.51%\n",
      "\n",
      "Epoch [512/1000]\n"
     ]
    },
    {
     "name": "stderr",
     "output_type": "stream",
     "text": [
      "                                                          \r"
     ]
    },
    {
     "name": "stdout",
     "output_type": "stream",
     "text": [
      "Train Loss: 0.8846, Train Acc: 0.00%\n",
      "Test Loss:  0.2482, Test Acc:  95.34%\n",
      "\n",
      "Epoch [513/1000]\n"
     ]
    },
    {
     "name": "stderr",
     "output_type": "stream",
     "text": [
      "                                                          \r"
     ]
    },
    {
     "name": "stdout",
     "output_type": "stream",
     "text": [
      "Train Loss: 0.9128, Train Acc: 0.00%\n",
      "Test Loss:  0.3716, Test Acc:  94.61%\n",
      "\n",
      "Epoch [514/1000]\n"
     ]
    },
    {
     "name": "stderr",
     "output_type": "stream",
     "text": [
      "                                                          \r"
     ]
    },
    {
     "name": "stdout",
     "output_type": "stream",
     "text": [
      "Train Loss: 0.9178, Train Acc: 0.00%\n",
      "Test Loss:  0.3802, Test Acc:  94.51%\n",
      "\n",
      "Epoch [515/1000]\n"
     ]
    },
    {
     "name": "stderr",
     "output_type": "stream",
     "text": [
      "                                                          \r"
     ]
    },
    {
     "name": "stdout",
     "output_type": "stream",
     "text": [
      "Train Loss: 0.9211, Train Acc: 0.00%\n",
      "Test Loss:  0.3315, Test Acc:  95.19%\n",
      "\n",
      "Epoch [516/1000]\n"
     ]
    },
    {
     "name": "stderr",
     "output_type": "stream",
     "text": [
      "                                                          \r"
     ]
    },
    {
     "name": "stdout",
     "output_type": "stream",
     "text": [
      "Train Loss: 0.9289, Train Acc: 0.00%\n",
      "Test Loss:  0.3134, Test Acc:  94.71%\n",
      "\n",
      "Epoch [517/1000]\n"
     ]
    },
    {
     "name": "stderr",
     "output_type": "stream",
     "text": [
      "                                                          \r"
     ]
    },
    {
     "name": "stdout",
     "output_type": "stream",
     "text": [
      "Train Loss: 0.8759, Train Acc: 0.00%\n",
      "Test Loss:  0.2959, Test Acc:  94.65%\n",
      "\n",
      "Epoch [518/1000]\n"
     ]
    },
    {
     "name": "stderr",
     "output_type": "stream",
     "text": [
      "                                                          \r"
     ]
    },
    {
     "name": "stdout",
     "output_type": "stream",
     "text": [
      "Train Loss: 0.9407, Train Acc: 0.00%\n",
      "Test Loss:  0.3240, Test Acc:  95.35%\n",
      "\n",
      "Epoch [519/1000]\n"
     ]
    },
    {
     "name": "stderr",
     "output_type": "stream",
     "text": [
      "                                                          \r"
     ]
    },
    {
     "name": "stdout",
     "output_type": "stream",
     "text": [
      "Train Loss: 0.9711, Train Acc: 0.00%\n",
      "Test Loss:  0.4145, Test Acc:  93.34%\n",
      "\n",
      "Epoch [520/1000]\n"
     ]
    },
    {
     "name": "stderr",
     "output_type": "stream",
     "text": [
      "                                                          \r"
     ]
    },
    {
     "name": "stdout",
     "output_type": "stream",
     "text": [
      "Train Loss: 0.9362, Train Acc: 0.00%\n",
      "Test Loss:  0.3491, Test Acc:  94.64%\n",
      "\n",
      "Epoch [521/1000]\n"
     ]
    },
    {
     "name": "stderr",
     "output_type": "stream",
     "text": [
      "                                                          \r"
     ]
    },
    {
     "name": "stdout",
     "output_type": "stream",
     "text": [
      "Train Loss: 0.9284, Train Acc: 0.00%\n",
      "Test Loss:  0.3125, Test Acc:  93.72%\n",
      "\n",
      "Epoch [522/1000]\n"
     ]
    },
    {
     "name": "stderr",
     "output_type": "stream",
     "text": [
      "                                                          \r"
     ]
    },
    {
     "name": "stdout",
     "output_type": "stream",
     "text": [
      "Train Loss: 0.9951, Train Acc: 0.00%\n",
      "Test Loss:  0.3768, Test Acc:  94.92%\n",
      "\n",
      "Epoch [523/1000]\n"
     ]
    },
    {
     "name": "stderr",
     "output_type": "stream",
     "text": [
      "                                                          \r"
     ]
    },
    {
     "name": "stdout",
     "output_type": "stream",
     "text": [
      "Train Loss: 0.9389, Train Acc: 0.00%\n",
      "Test Loss:  0.3477, Test Acc:  94.72%\n",
      "\n",
      "Epoch [524/1000]\n"
     ]
    },
    {
     "name": "stderr",
     "output_type": "stream",
     "text": [
      "                                                          \r"
     ]
    },
    {
     "name": "stdout",
     "output_type": "stream",
     "text": [
      "Train Loss: 0.9462, Train Acc: 0.00%\n",
      "Test Loss:  0.3647, Test Acc:  94.76%\n",
      "\n",
      "Epoch [525/1000]\n"
     ]
    },
    {
     "name": "stderr",
     "output_type": "stream",
     "text": [
      "                                                          \r"
     ]
    },
    {
     "name": "stdout",
     "output_type": "stream",
     "text": [
      "Train Loss: 0.9974, Train Acc: 0.00%\n",
      "Test Loss:  0.3432, Test Acc:  94.80%\n",
      "\n",
      "Epoch [526/1000]\n"
     ]
    },
    {
     "name": "stderr",
     "output_type": "stream",
     "text": [
      "                                                          \r"
     ]
    },
    {
     "name": "stdout",
     "output_type": "stream",
     "text": [
      "Train Loss: 0.9784, Train Acc: 0.00%\n",
      "Test Loss:  0.3594, Test Acc:  94.15%\n",
      "\n",
      "Epoch [527/1000]\n"
     ]
    },
    {
     "name": "stderr",
     "output_type": "stream",
     "text": [
      "                                                          \r"
     ]
    },
    {
     "name": "stdout",
     "output_type": "stream",
     "text": [
      "Train Loss: 0.9827, Train Acc: 0.00%\n",
      "Test Loss:  0.3436, Test Acc:  95.57%\n",
      "Saving model with Test Acc: 95.57%\n",
      "\n",
      "Epoch [528/1000]\n"
     ]
    },
    {
     "name": "stderr",
     "output_type": "stream",
     "text": [
      "                                                          \r"
     ]
    },
    {
     "name": "stdout",
     "output_type": "stream",
     "text": [
      "Train Loss: 0.9372, Train Acc: 0.00%\n",
      "Test Loss:  0.3465, Test Acc:  94.18%\n",
      "\n",
      "Epoch [529/1000]\n"
     ]
    },
    {
     "name": "stderr",
     "output_type": "stream",
     "text": [
      "                                                          \r"
     ]
    },
    {
     "name": "stdout",
     "output_type": "stream",
     "text": [
      "Train Loss: 0.9458, Train Acc: 0.00%\n",
      "Test Loss:  0.3421, Test Acc:  95.05%\n",
      "\n",
      "Epoch [530/1000]\n"
     ]
    },
    {
     "name": "stderr",
     "output_type": "stream",
     "text": [
      "                                                          \r"
     ]
    },
    {
     "name": "stdout",
     "output_type": "stream",
     "text": [
      "Train Loss: 0.9986, Train Acc: 0.00%\n",
      "Test Loss:  0.3636, Test Acc:  95.10%\n",
      "\n",
      "Epoch [531/1000]\n"
     ]
    },
    {
     "name": "stderr",
     "output_type": "stream",
     "text": [
      "                                                          \r"
     ]
    },
    {
     "name": "stdout",
     "output_type": "stream",
     "text": [
      "Train Loss: 0.9053, Train Acc: 0.00%\n",
      "Test Loss:  0.3764, Test Acc:  94.32%\n",
      "\n",
      "Epoch [532/1000]\n"
     ]
    },
    {
     "name": "stderr",
     "output_type": "stream",
     "text": [
      "                                                          \r"
     ]
    },
    {
     "name": "stdout",
     "output_type": "stream",
     "text": [
      "Train Loss: 1.0007, Train Acc: 0.00%\n",
      "Test Loss:  0.3676, Test Acc:  95.55%\n",
      "\n",
      "Epoch [533/1000]\n"
     ]
    },
    {
     "name": "stderr",
     "output_type": "stream",
     "text": [
      "                                                          \r"
     ]
    },
    {
     "name": "stdout",
     "output_type": "stream",
     "text": [
      "Train Loss: 0.9265, Train Acc: 0.00%\n",
      "Test Loss:  0.3330, Test Acc:  95.46%\n",
      "\n",
      "Epoch [534/1000]\n"
     ]
    },
    {
     "name": "stderr",
     "output_type": "stream",
     "text": [
      "                                                          \r"
     ]
    },
    {
     "name": "stdout",
     "output_type": "stream",
     "text": [
      "Train Loss: 0.8208, Train Acc: 0.00%\n",
      "Test Loss:  0.2782, Test Acc:  94.06%\n",
      "\n",
      "Epoch [535/1000]\n"
     ]
    },
    {
     "name": "stderr",
     "output_type": "stream",
     "text": [
      "                                                          \r"
     ]
    },
    {
     "name": "stdout",
     "output_type": "stream",
     "text": [
      "Train Loss: 0.9278, Train Acc: 0.00%\n",
      "Test Loss:  0.3535, Test Acc:  93.99%\n",
      "\n",
      "Epoch [536/1000]\n"
     ]
    },
    {
     "name": "stderr",
     "output_type": "stream",
     "text": [
      "                                                          \r"
     ]
    },
    {
     "name": "stdout",
     "output_type": "stream",
     "text": [
      "Train Loss: 0.9344, Train Acc: 0.00%\n",
      "Test Loss:  0.3519, Test Acc:  95.42%\n",
      "\n",
      "Epoch [537/1000]\n"
     ]
    },
    {
     "name": "stderr",
     "output_type": "stream",
     "text": [
      "                                                          \r"
     ]
    },
    {
     "name": "stdout",
     "output_type": "stream",
     "text": [
      "Train Loss: 0.9652, Train Acc: 0.00%\n",
      "Test Loss:  0.3412, Test Acc:  95.35%\n",
      "\n",
      "Epoch [538/1000]\n"
     ]
    },
    {
     "name": "stderr",
     "output_type": "stream",
     "text": [
      "                                                          \r"
     ]
    },
    {
     "name": "stdout",
     "output_type": "stream",
     "text": [
      "Train Loss: 0.9506, Train Acc: 0.00%\n",
      "Test Loss:  0.3439, Test Acc:  95.57%\n",
      "\n",
      "Epoch [539/1000]\n"
     ]
    },
    {
     "name": "stderr",
     "output_type": "stream",
     "text": [
      "                                                          \r"
     ]
    },
    {
     "name": "stdout",
     "output_type": "stream",
     "text": [
      "Train Loss: 0.8187, Train Acc: 0.00%\n",
      "Test Loss:  0.3222, Test Acc:  95.05%\n",
      "\n",
      "Epoch [540/1000]\n"
     ]
    },
    {
     "name": "stderr",
     "output_type": "stream",
     "text": [
      "                                                          \r"
     ]
    },
    {
     "name": "stdout",
     "output_type": "stream",
     "text": [
      "Train Loss: 0.9922, Train Acc: 0.00%\n",
      "Test Loss:  0.3686, Test Acc:  95.38%\n",
      "\n",
      "Epoch [541/1000]\n"
     ]
    },
    {
     "name": "stderr",
     "output_type": "stream",
     "text": [
      "                                                          \r"
     ]
    },
    {
     "name": "stdout",
     "output_type": "stream",
     "text": [
      "Train Loss: 0.9852, Train Acc: 0.00%\n",
      "Test Loss:  0.3589, Test Acc:  95.24%\n",
      "\n",
      "Epoch [542/1000]\n"
     ]
    },
    {
     "name": "stderr",
     "output_type": "stream",
     "text": [
      "                                                          \r"
     ]
    },
    {
     "name": "stdout",
     "output_type": "stream",
     "text": [
      "Train Loss: 0.9792, Train Acc: 0.00%\n",
      "Test Loss:  0.3065, Test Acc:  95.80%\n",
      "Saving model with Test Acc: 95.80%\n",
      "\n",
      "Epoch [543/1000]\n"
     ]
    },
    {
     "name": "stderr",
     "output_type": "stream",
     "text": [
      "                                                          \r"
     ]
    },
    {
     "name": "stdout",
     "output_type": "stream",
     "text": [
      "Train Loss: 0.9823, Train Acc: 0.00%\n",
      "Test Loss:  0.3556, Test Acc:  94.95%\n",
      "\n",
      "Epoch [544/1000]\n"
     ]
    },
    {
     "name": "stderr",
     "output_type": "stream",
     "text": [
      "                                                          \r"
     ]
    },
    {
     "name": "stdout",
     "output_type": "stream",
     "text": [
      "Train Loss: 0.9003, Train Acc: 0.00%\n",
      "Test Loss:  0.3538, Test Acc:  94.95%\n",
      "\n",
      "Epoch [545/1000]\n"
     ]
    },
    {
     "name": "stderr",
     "output_type": "stream",
     "text": [
      "                                                          \r"
     ]
    },
    {
     "name": "stdout",
     "output_type": "stream",
     "text": [
      "Train Loss: 0.8850, Train Acc: 0.00%\n",
      "Test Loss:  0.3435, Test Acc:  95.09%\n",
      "\n",
      "Epoch [546/1000]\n"
     ]
    },
    {
     "name": "stderr",
     "output_type": "stream",
     "text": [
      "                                                          \r"
     ]
    },
    {
     "name": "stdout",
     "output_type": "stream",
     "text": [
      "Train Loss: 0.9595, Train Acc: 0.00%\n",
      "Test Loss:  0.3328, Test Acc:  95.40%\n",
      "\n",
      "Epoch [547/1000]\n"
     ]
    },
    {
     "name": "stderr",
     "output_type": "stream",
     "text": [
      "                                                          \r"
     ]
    },
    {
     "name": "stdout",
     "output_type": "stream",
     "text": [
      "Train Loss: 0.9044, Train Acc: 0.00%\n",
      "Test Loss:  0.3673, Test Acc:  94.98%\n",
      "\n",
      "Epoch [548/1000]\n"
     ]
    },
    {
     "name": "stderr",
     "output_type": "stream",
     "text": [
      "                                                          \r"
     ]
    },
    {
     "name": "stdout",
     "output_type": "stream",
     "text": [
      "Train Loss: 0.9958, Train Acc: 0.00%\n",
      "Test Loss:  0.3919, Test Acc:  95.40%\n",
      "\n",
      "Epoch [549/1000]\n"
     ]
    },
    {
     "name": "stderr",
     "output_type": "stream",
     "text": [
      "                                                          \r"
     ]
    },
    {
     "name": "stdout",
     "output_type": "stream",
     "text": [
      "Train Loss: 0.8874, Train Acc: 0.00%\n",
      "Test Loss:  0.3338, Test Acc:  95.26%\n",
      "\n",
      "Epoch [550/1000]\n"
     ]
    },
    {
     "name": "stderr",
     "output_type": "stream",
     "text": [
      "                                                          \r"
     ]
    },
    {
     "name": "stdout",
     "output_type": "stream",
     "text": [
      "Train Loss: 0.9207, Train Acc: 0.00%\n",
      "Test Loss:  0.3772, Test Acc:  93.67%\n",
      "\n",
      "Epoch [551/1000]\n"
     ]
    },
    {
     "name": "stderr",
     "output_type": "stream",
     "text": [
      "                                                          \r"
     ]
    },
    {
     "name": "stdout",
     "output_type": "stream",
     "text": [
      "Train Loss: 1.0093, Train Acc: 0.00%\n",
      "Test Loss:  0.2845, Test Acc:  95.97%\n",
      "Saving model with Test Acc: 95.97%\n",
      "\n",
      "Epoch [552/1000]\n"
     ]
    },
    {
     "name": "stderr",
     "output_type": "stream",
     "text": [
      "                                                          \r"
     ]
    },
    {
     "name": "stdout",
     "output_type": "stream",
     "text": [
      "Train Loss: 0.8973, Train Acc: 0.00%\n",
      "Test Loss:  0.3744, Test Acc:  94.82%\n",
      "\n",
      "Epoch [553/1000]\n"
     ]
    },
    {
     "name": "stderr",
     "output_type": "stream",
     "text": [
      "                                                          \r"
     ]
    },
    {
     "name": "stdout",
     "output_type": "stream",
     "text": [
      "Train Loss: 0.9037, Train Acc: 0.00%\n",
      "Test Loss:  0.3971, Test Acc:  94.69%\n",
      "\n",
      "Epoch [554/1000]\n"
     ]
    },
    {
     "name": "stderr",
     "output_type": "stream",
     "text": [
      "                                                          \r"
     ]
    },
    {
     "name": "stdout",
     "output_type": "stream",
     "text": [
      "Train Loss: 0.8995, Train Acc: 0.00%\n",
      "Test Loss:  0.3636, Test Acc:  94.43%\n",
      "\n",
      "Epoch [555/1000]\n"
     ]
    },
    {
     "name": "stderr",
     "output_type": "stream",
     "text": [
      "                                                          \r"
     ]
    },
    {
     "name": "stdout",
     "output_type": "stream",
     "text": [
      "Train Loss: 0.8704, Train Acc: 0.00%\n",
      "Test Loss:  0.2670, Test Acc:  94.66%\n",
      "\n",
      "Epoch [556/1000]\n"
     ]
    },
    {
     "name": "stderr",
     "output_type": "stream",
     "text": [
      "                                                          \r"
     ]
    },
    {
     "name": "stdout",
     "output_type": "stream",
     "text": [
      "Train Loss: 0.9089, Train Acc: 0.00%\n",
      "Test Loss:  0.3259, Test Acc:  94.58%\n",
      "\n",
      "Epoch [557/1000]\n"
     ]
    },
    {
     "name": "stderr",
     "output_type": "stream",
     "text": [
      "                                                           \r"
     ]
    },
    {
     "name": "stdout",
     "output_type": "stream",
     "text": [
      "Train Loss: 0.8881, Train Acc: 0.00%\n",
      "Test Loss:  0.3485, Test Acc:  95.29%\n",
      "\n",
      "Epoch [558/1000]\n"
     ]
    },
    {
     "name": "stderr",
     "output_type": "stream",
     "text": [
      "                                                          \r"
     ]
    },
    {
     "name": "stdout",
     "output_type": "stream",
     "text": [
      "Train Loss: 0.9059, Train Acc: 0.00%\n",
      "Test Loss:  0.3528, Test Acc:  93.59%\n",
      "\n",
      "Epoch [559/1000]\n"
     ]
    },
    {
     "name": "stderr",
     "output_type": "stream",
     "text": [
      "                                                          \r"
     ]
    },
    {
     "name": "stdout",
     "output_type": "stream",
     "text": [
      "Train Loss: 0.9618, Train Acc: 0.00%\n",
      "Test Loss:  0.3438, Test Acc:  95.18%\n",
      "\n",
      "Epoch [560/1000]\n"
     ]
    },
    {
     "name": "stderr",
     "output_type": "stream",
     "text": [
      "                                                          \r"
     ]
    },
    {
     "name": "stdout",
     "output_type": "stream",
     "text": [
      "Train Loss: 0.9071, Train Acc: 0.00%\n",
      "Test Loss:  0.3108, Test Acc:  95.66%\n",
      "\n",
      "Epoch [561/1000]\n"
     ]
    },
    {
     "name": "stderr",
     "output_type": "stream",
     "text": [
      "                                                          \r"
     ]
    },
    {
     "name": "stdout",
     "output_type": "stream",
     "text": [
      "Train Loss: 0.8930, Train Acc: 0.00%\n",
      "Test Loss:  0.3265, Test Acc:  94.80%\n",
      "\n",
      "Epoch [562/1000]\n"
     ]
    },
    {
     "name": "stderr",
     "output_type": "stream",
     "text": [
      "                                                          \r"
     ]
    },
    {
     "name": "stdout",
     "output_type": "stream",
     "text": [
      "Train Loss: 0.9483, Train Acc: 0.00%\n",
      "Test Loss:  0.3949, Test Acc:  95.01%\n",
      "\n",
      "Epoch [563/1000]\n"
     ]
    },
    {
     "name": "stderr",
     "output_type": "stream",
     "text": [
      "                                                          \r"
     ]
    },
    {
     "name": "stdout",
     "output_type": "stream",
     "text": [
      "Train Loss: 0.9112, Train Acc: 0.00%\n",
      "Test Loss:  0.2941, Test Acc:  94.57%\n",
      "\n",
      "Epoch [564/1000]\n"
     ]
    },
    {
     "name": "stderr",
     "output_type": "stream",
     "text": [
      "                                                          \r"
     ]
    },
    {
     "name": "stdout",
     "output_type": "stream",
     "text": [
      "Train Loss: 0.9033, Train Acc: 0.00%\n",
      "Test Loss:  0.3338, Test Acc:  95.27%\n",
      "\n",
      "Epoch [565/1000]\n"
     ]
    },
    {
     "name": "stderr",
     "output_type": "stream",
     "text": [
      "                                                          \r"
     ]
    },
    {
     "name": "stdout",
     "output_type": "stream",
     "text": [
      "Train Loss: 0.8658, Train Acc: 0.00%\n",
      "Test Loss:  0.2937, Test Acc:  95.81%\n",
      "\n",
      "Epoch [566/1000]\n"
     ]
    },
    {
     "name": "stderr",
     "output_type": "stream",
     "text": [
      "                                                          \r"
     ]
    },
    {
     "name": "stdout",
     "output_type": "stream",
     "text": [
      "Train Loss: 0.9261, Train Acc: 0.00%\n",
      "Test Loss:  0.3673, Test Acc:  95.21%\n",
      "\n",
      "Epoch [567/1000]\n"
     ]
    },
    {
     "name": "stderr",
     "output_type": "stream",
     "text": [
      "                                                          \r"
     ]
    },
    {
     "name": "stdout",
     "output_type": "stream",
     "text": [
      "Train Loss: 0.9330, Train Acc: 0.00%\n",
      "Test Loss:  0.3798, Test Acc:  95.59%\n",
      "\n",
      "Epoch [568/1000]\n"
     ]
    },
    {
     "name": "stderr",
     "output_type": "stream",
     "text": [
      "                                                           \r"
     ]
    },
    {
     "name": "stdout",
     "output_type": "stream",
     "text": [
      "Train Loss: 0.9695, Train Acc: 0.00%\n",
      "Test Loss:  0.3551, Test Acc:  95.64%\n",
      "\n",
      "Epoch [569/1000]\n"
     ]
    },
    {
     "name": "stderr",
     "output_type": "stream",
     "text": [
      "                                                          \r"
     ]
    },
    {
     "name": "stdout",
     "output_type": "stream",
     "text": [
      "Train Loss: 0.8938, Train Acc: 0.00%\n",
      "Test Loss:  0.3488, Test Acc:  94.67%\n",
      "\n",
      "Epoch [570/1000]\n"
     ]
    },
    {
     "name": "stderr",
     "output_type": "stream",
     "text": [
      "                                                          \r"
     ]
    },
    {
     "name": "stdout",
     "output_type": "stream",
     "text": [
      "Train Loss: 0.9316, Train Acc: 0.00%\n",
      "Test Loss:  0.3659, Test Acc:  95.41%\n",
      "\n",
      "Epoch [571/1000]\n"
     ]
    },
    {
     "name": "stderr",
     "output_type": "stream",
     "text": [
      "                                                          \r"
     ]
    },
    {
     "name": "stdout",
     "output_type": "stream",
     "text": [
      "Train Loss: 0.9763, Train Acc: 0.00%\n",
      "Test Loss:  0.3696, Test Acc:  94.94%\n",
      "\n",
      "Epoch [572/1000]\n"
     ]
    },
    {
     "name": "stderr",
     "output_type": "stream",
     "text": [
      "                                                          \r"
     ]
    },
    {
     "name": "stdout",
     "output_type": "stream",
     "text": [
      "Train Loss: 0.9806, Train Acc: 0.00%\n",
      "Test Loss:  0.3670, Test Acc:  94.89%\n",
      "\n",
      "Epoch [573/1000]\n"
     ]
    },
    {
     "name": "stderr",
     "output_type": "stream",
     "text": [
      "                                                          \r"
     ]
    },
    {
     "name": "stdout",
     "output_type": "stream",
     "text": [
      "Train Loss: 0.9422, Train Acc: 0.00%\n",
      "Test Loss:  0.3358, Test Acc:  94.89%\n",
      "\n",
      "Epoch [574/1000]\n"
     ]
    },
    {
     "name": "stderr",
     "output_type": "stream",
     "text": [
      "                                                          \r"
     ]
    },
    {
     "name": "stdout",
     "output_type": "stream",
     "text": [
      "Train Loss: 0.9651, Train Acc: 0.00%\n",
      "Test Loss:  0.3218, Test Acc:  94.61%\n",
      "\n",
      "Epoch [575/1000]\n"
     ]
    },
    {
     "name": "stderr",
     "output_type": "stream",
     "text": [
      "                                                          \r"
     ]
    },
    {
     "name": "stdout",
     "output_type": "stream",
     "text": [
      "Train Loss: 0.9654, Train Acc: 0.00%\n",
      "Test Loss:  0.3885, Test Acc:  95.23%\n",
      "\n",
      "Epoch [576/1000]\n"
     ]
    },
    {
     "name": "stderr",
     "output_type": "stream",
     "text": [
      "                                                          \r"
     ]
    },
    {
     "name": "stdout",
     "output_type": "stream",
     "text": [
      "Train Loss: 0.9462, Train Acc: 0.00%\n",
      "Test Loss:  0.3116, Test Acc:  95.66%\n",
      "\n",
      "Epoch [577/1000]\n"
     ]
    },
    {
     "name": "stderr",
     "output_type": "stream",
     "text": [
      "                                                          \r"
     ]
    },
    {
     "name": "stdout",
     "output_type": "stream",
     "text": [
      "Train Loss: 0.9463, Train Acc: 0.00%\n",
      "Test Loss:  0.3392, Test Acc:  94.65%\n",
      "\n",
      "Epoch [578/1000]\n"
     ]
    },
    {
     "name": "stderr",
     "output_type": "stream",
     "text": [
      "                                                          \r"
     ]
    },
    {
     "name": "stdout",
     "output_type": "stream",
     "text": [
      "Train Loss: 0.8636, Train Acc: 0.00%\n",
      "Test Loss:  0.2733, Test Acc:  94.97%\n",
      "\n",
      "Epoch [579/1000]\n"
     ]
    },
    {
     "name": "stderr",
     "output_type": "stream",
     "text": [
      "                                                          \r"
     ]
    },
    {
     "name": "stdout",
     "output_type": "stream",
     "text": [
      "Train Loss: 0.8889, Train Acc: 0.00%\n",
      "Test Loss:  0.3014, Test Acc:  95.71%\n",
      "\n",
      "Epoch [580/1000]\n"
     ]
    },
    {
     "name": "stderr",
     "output_type": "stream",
     "text": [
      "                                                          \r"
     ]
    },
    {
     "name": "stdout",
     "output_type": "stream",
     "text": [
      "Train Loss: 0.9467, Train Acc: 0.00%\n",
      "Test Loss:  0.3139, Test Acc:  95.90%\n",
      "\n",
      "Epoch [581/1000]\n"
     ]
    },
    {
     "name": "stderr",
     "output_type": "stream",
     "text": [
      "                                                          \r"
     ]
    },
    {
     "name": "stdout",
     "output_type": "stream",
     "text": [
      "Train Loss: 0.9075, Train Acc: 0.00%\n",
      "Test Loss:  0.3096, Test Acc:  95.58%\n",
      "\n",
      "Epoch [582/1000]\n"
     ]
    },
    {
     "name": "stderr",
     "output_type": "stream",
     "text": [
      "                                                          \r"
     ]
    },
    {
     "name": "stdout",
     "output_type": "stream",
     "text": [
      "Train Loss: 0.8909, Train Acc: 0.00%\n",
      "Test Loss:  0.3663, Test Acc:  95.10%\n",
      "\n",
      "Epoch [583/1000]\n"
     ]
    },
    {
     "name": "stderr",
     "output_type": "stream",
     "text": [
      "                                                          \r"
     ]
    },
    {
     "name": "stdout",
     "output_type": "stream",
     "text": [
      "Train Loss: 0.8479, Train Acc: 0.00%\n",
      "Test Loss:  0.3373, Test Acc:  95.85%\n",
      "\n",
      "Epoch [584/1000]\n"
     ]
    },
    {
     "name": "stderr",
     "output_type": "stream",
     "text": [
      "                                                          \r"
     ]
    },
    {
     "name": "stdout",
     "output_type": "stream",
     "text": [
      "Train Loss: 0.8330, Train Acc: 0.00%\n",
      "Test Loss:  0.2775, Test Acc:  94.95%\n",
      "\n",
      "Epoch [585/1000]\n"
     ]
    },
    {
     "name": "stderr",
     "output_type": "stream",
     "text": [
      "                                                          \r"
     ]
    },
    {
     "name": "stdout",
     "output_type": "stream",
     "text": [
      "Train Loss: 0.9785, Train Acc: 0.00%\n",
      "Test Loss:  0.3791, Test Acc:  95.50%\n",
      "\n",
      "Epoch [586/1000]\n"
     ]
    },
    {
     "name": "stderr",
     "output_type": "stream",
     "text": [
      "                                                           \r"
     ]
    },
    {
     "name": "stdout",
     "output_type": "stream",
     "text": [
      "Train Loss: 0.9840, Train Acc: 0.00%\n",
      "Test Loss:  0.3369, Test Acc:  95.00%\n",
      "\n",
      "Epoch [587/1000]\n"
     ]
    },
    {
     "name": "stderr",
     "output_type": "stream",
     "text": [
      "                                                          \r"
     ]
    },
    {
     "name": "stdout",
     "output_type": "stream",
     "text": [
      "Train Loss: 0.9233, Train Acc: 0.00%\n",
      "Test Loss:  0.3678, Test Acc:  94.47%\n",
      "\n",
      "Epoch [588/1000]\n"
     ]
    },
    {
     "name": "stderr",
     "output_type": "stream",
     "text": [
      "                                                          \r"
     ]
    },
    {
     "name": "stdout",
     "output_type": "stream",
     "text": [
      "Train Loss: 0.9442, Train Acc: 0.00%\n",
      "Test Loss:  0.3377, Test Acc:  95.65%\n",
      "\n",
      "Epoch [589/1000]\n"
     ]
    },
    {
     "name": "stderr",
     "output_type": "stream",
     "text": [
      "                                                          \r"
     ]
    },
    {
     "name": "stdout",
     "output_type": "stream",
     "text": [
      "Train Loss: 0.9246, Train Acc: 0.00%\n",
      "Test Loss:  0.3354, Test Acc:  95.49%\n",
      "\n",
      "Epoch [590/1000]\n"
     ]
    },
    {
     "name": "stderr",
     "output_type": "stream",
     "text": [
      "                                                          \r"
     ]
    },
    {
     "name": "stdout",
     "output_type": "stream",
     "text": [
      "Train Loss: 0.9307, Train Acc: 0.00%\n",
      "Test Loss:  0.3754, Test Acc:  95.04%\n",
      "\n",
      "Epoch [591/1000]\n"
     ]
    },
    {
     "name": "stderr",
     "output_type": "stream",
     "text": [
      "                                                          \r"
     ]
    },
    {
     "name": "stdout",
     "output_type": "stream",
     "text": [
      "Train Loss: 0.9120, Train Acc: 0.00%\n",
      "Test Loss:  0.3235, Test Acc:  95.67%\n",
      "\n",
      "Epoch [592/1000]\n"
     ]
    },
    {
     "name": "stderr",
     "output_type": "stream",
     "text": [
      "                                                          \r"
     ]
    },
    {
     "name": "stdout",
     "output_type": "stream",
     "text": [
      "Train Loss: 0.9875, Train Acc: 0.00%\n",
      "Test Loss:  0.3792, Test Acc:  95.40%\n",
      "\n",
      "Epoch [593/1000]\n"
     ]
    },
    {
     "name": "stderr",
     "output_type": "stream",
     "text": [
      "                                                          \r"
     ]
    },
    {
     "name": "stdout",
     "output_type": "stream",
     "text": [
      "Train Loss: 0.9681, Train Acc: 0.00%\n",
      "Test Loss:  0.4070, Test Acc:  95.58%\n",
      "\n",
      "Epoch [594/1000]\n"
     ]
    },
    {
     "name": "stderr",
     "output_type": "stream",
     "text": [
      "                                                          \r"
     ]
    },
    {
     "name": "stdout",
     "output_type": "stream",
     "text": [
      "Train Loss: 0.9067, Train Acc: 0.00%\n",
      "Test Loss:  0.3156, Test Acc:  95.63%\n",
      "\n",
      "Epoch [595/1000]\n"
     ]
    },
    {
     "name": "stderr",
     "output_type": "stream",
     "text": [
      "                                                          \r"
     ]
    },
    {
     "name": "stdout",
     "output_type": "stream",
     "text": [
      "Train Loss: 0.9319, Train Acc: 0.00%\n",
      "Test Loss:  0.3148, Test Acc:  95.83%\n",
      "\n",
      "Epoch [596/1000]\n"
     ]
    },
    {
     "name": "stderr",
     "output_type": "stream",
     "text": [
      "                                                          \r"
     ]
    },
    {
     "name": "stdout",
     "output_type": "stream",
     "text": [
      "Train Loss: 0.8572, Train Acc: 0.00%\n",
      "Test Loss:  0.3177, Test Acc:  95.06%\n",
      "\n",
      "Epoch [597/1000]\n"
     ]
    },
    {
     "name": "stderr",
     "output_type": "stream",
     "text": [
      "                                                          \r"
     ]
    },
    {
     "name": "stdout",
     "output_type": "stream",
     "text": [
      "Train Loss: 0.9088, Train Acc: 0.00%\n",
      "Test Loss:  0.3403, Test Acc:  94.50%\n",
      "\n",
      "Epoch [598/1000]\n"
     ]
    },
    {
     "name": "stderr",
     "output_type": "stream",
     "text": [
      "                                                          \r"
     ]
    },
    {
     "name": "stdout",
     "output_type": "stream",
     "text": [
      "Train Loss: 0.9241, Train Acc: 0.00%\n",
      "Test Loss:  0.3821, Test Acc:  95.87%\n",
      "\n",
      "Epoch [599/1000]\n"
     ]
    },
    {
     "name": "stderr",
     "output_type": "stream",
     "text": [
      "                                                          \r"
     ]
    },
    {
     "name": "stdout",
     "output_type": "stream",
     "text": [
      "Train Loss: 0.8854, Train Acc: 0.00%\n",
      "Test Loss:  0.2812, Test Acc:  95.46%\n",
      "\n",
      "Epoch [600/1000]\n"
     ]
    },
    {
     "name": "stderr",
     "output_type": "stream",
     "text": [
      "                                                          \r"
     ]
    },
    {
     "name": "stdout",
     "output_type": "stream",
     "text": [
      "Train Loss: 0.8921, Train Acc: 0.00%\n",
      "Test Loss:  0.3408, Test Acc:  95.25%\n",
      "\n",
      "Epoch [601/1000]\n"
     ]
    },
    {
     "name": "stderr",
     "output_type": "stream",
     "text": [
      "                                                          \r"
     ]
    },
    {
     "name": "stdout",
     "output_type": "stream",
     "text": [
      "Train Loss: 0.8991, Train Acc: 0.00%\n",
      "Test Loss:  0.3225, Test Acc:  95.40%\n",
      "\n",
      "Epoch [602/1000]\n"
     ]
    },
    {
     "name": "stderr",
     "output_type": "stream",
     "text": [
      "                                                          \r"
     ]
    },
    {
     "name": "stdout",
     "output_type": "stream",
     "text": [
      "Train Loss: 0.9324, Train Acc: 0.00%\n",
      "Test Loss:  0.2988, Test Acc:  94.77%\n",
      "\n",
      "Epoch [603/1000]\n"
     ]
    },
    {
     "name": "stderr",
     "output_type": "stream",
     "text": [
      "                                                          \r"
     ]
    },
    {
     "name": "stdout",
     "output_type": "stream",
     "text": [
      "Train Loss: 0.8940, Train Acc: 0.00%\n",
      "Test Loss:  0.4088, Test Acc:  95.46%\n",
      "\n",
      "Epoch [604/1000]\n"
     ]
    },
    {
     "name": "stderr",
     "output_type": "stream",
     "text": [
      "                                                          \r"
     ]
    },
    {
     "name": "stdout",
     "output_type": "stream",
     "text": [
      "Train Loss: 0.9405, Train Acc: 0.00%\n",
      "Test Loss:  0.3315, Test Acc:  95.61%\n",
      "\n",
      "Epoch [605/1000]\n"
     ]
    },
    {
     "name": "stderr",
     "output_type": "stream",
     "text": [
      "                                                          \r"
     ]
    },
    {
     "name": "stdout",
     "output_type": "stream",
     "text": [
      "Train Loss: 0.9423, Train Acc: 0.00%\n",
      "Test Loss:  0.3814, Test Acc:  95.08%\n",
      "\n",
      "Epoch [606/1000]\n"
     ]
    },
    {
     "name": "stderr",
     "output_type": "stream",
     "text": [
      "                                                          \r"
     ]
    },
    {
     "name": "stdout",
     "output_type": "stream",
     "text": [
      "Train Loss: 0.8696, Train Acc: 0.00%\n",
      "Test Loss:  0.2996, Test Acc:  95.70%\n",
      "\n",
      "Epoch [607/1000]\n"
     ]
    },
    {
     "name": "stderr",
     "output_type": "stream",
     "text": [
      "                                                           \r"
     ]
    },
    {
     "name": "stdout",
     "output_type": "stream",
     "text": [
      "Train Loss: 0.8860, Train Acc: 0.00%\n",
      "Test Loss:  0.3253, Test Acc:  95.94%\n",
      "\n",
      "Epoch [608/1000]\n"
     ]
    },
    {
     "name": "stderr",
     "output_type": "stream",
     "text": [
      "                                                          \r"
     ]
    },
    {
     "name": "stdout",
     "output_type": "stream",
     "text": [
      "Train Loss: 0.9081, Train Acc: 0.00%\n",
      "Test Loss:  0.2890, Test Acc:  96.03%\n",
      "Saving model with Test Acc: 96.03%\n",
      "\n",
      "Epoch [609/1000]\n"
     ]
    },
    {
     "name": "stderr",
     "output_type": "stream",
     "text": [
      "                                                          \r"
     ]
    },
    {
     "name": "stdout",
     "output_type": "stream",
     "text": [
      "Train Loss: 0.8696, Train Acc: 0.00%\n",
      "Test Loss:  0.3372, Test Acc:  94.68%\n",
      "\n",
      "Epoch [610/1000]\n"
     ]
    },
    {
     "name": "stderr",
     "output_type": "stream",
     "text": [
      "                                                          \r"
     ]
    },
    {
     "name": "stdout",
     "output_type": "stream",
     "text": [
      "Train Loss: 0.9590, Train Acc: 0.00%\n",
      "Test Loss:  0.3663, Test Acc:  96.11%\n",
      "Saving model with Test Acc: 96.11%\n",
      "\n",
      "Epoch [611/1000]\n"
     ]
    },
    {
     "name": "stderr",
     "output_type": "stream",
     "text": [
      "                                                          \r"
     ]
    },
    {
     "name": "stdout",
     "output_type": "stream",
     "text": [
      "Train Loss: 0.9488, Train Acc: 0.00%\n",
      "Test Loss:  0.3566, Test Acc:  94.08%\n",
      "\n",
      "Epoch [612/1000]\n"
     ]
    },
    {
     "name": "stderr",
     "output_type": "stream",
     "text": [
      "                                                          \r"
     ]
    },
    {
     "name": "stdout",
     "output_type": "stream",
     "text": [
      "Train Loss: 0.9354, Train Acc: 0.00%\n",
      "Test Loss:  0.3195, Test Acc:  95.15%\n",
      "\n",
      "Epoch [613/1000]\n"
     ]
    },
    {
     "name": "stderr",
     "output_type": "stream",
     "text": [
      "                                                          \r"
     ]
    },
    {
     "name": "stdout",
     "output_type": "stream",
     "text": [
      "Train Loss: 0.9061, Train Acc: 0.00%\n",
      "Test Loss:  0.2995, Test Acc:  95.31%\n",
      "\n",
      "Epoch [614/1000]\n"
     ]
    },
    {
     "name": "stderr",
     "output_type": "stream",
     "text": [
      "                                                          \r"
     ]
    },
    {
     "name": "stdout",
     "output_type": "stream",
     "text": [
      "Train Loss: 0.8181, Train Acc: 0.00%\n",
      "Test Loss:  0.3371, Test Acc:  95.62%\n",
      "\n",
      "Epoch [615/1000]\n"
     ]
    },
    {
     "name": "stderr",
     "output_type": "stream",
     "text": [
      "                                                          \r"
     ]
    },
    {
     "name": "stdout",
     "output_type": "stream",
     "text": [
      "Train Loss: 0.8451, Train Acc: 0.00%\n",
      "Test Loss:  0.3167, Test Acc:  95.51%\n",
      "\n",
      "Epoch [616/1000]\n"
     ]
    },
    {
     "name": "stderr",
     "output_type": "stream",
     "text": [
      "                                                          \r"
     ]
    },
    {
     "name": "stdout",
     "output_type": "stream",
     "text": [
      "Train Loss: 0.8284, Train Acc: 0.00%\n",
      "Test Loss:  0.2962, Test Acc:  95.84%\n",
      "\n",
      "Epoch [617/1000]\n"
     ]
    },
    {
     "name": "stderr",
     "output_type": "stream",
     "text": [
      "                                                          \r"
     ]
    },
    {
     "name": "stdout",
     "output_type": "stream",
     "text": [
      "Train Loss: 0.8907, Train Acc: 0.00%\n",
      "Test Loss:  0.3392, Test Acc:  94.67%\n",
      "\n",
      "Epoch [618/1000]\n"
     ]
    },
    {
     "name": "stderr",
     "output_type": "stream",
     "text": [
      "                                                          \r"
     ]
    },
    {
     "name": "stdout",
     "output_type": "stream",
     "text": [
      "Train Loss: 1.0093, Train Acc: 0.00%\n",
      "Test Loss:  0.3087, Test Acc:  95.65%\n",
      "\n",
      "Epoch [619/1000]\n"
     ]
    },
    {
     "name": "stderr",
     "output_type": "stream",
     "text": [
      "                                                          \r"
     ]
    },
    {
     "name": "stdout",
     "output_type": "stream",
     "text": [
      "Train Loss: 0.9319, Train Acc: 0.00%\n",
      "Test Loss:  0.3331, Test Acc:  95.16%\n",
      "\n",
      "Epoch [620/1000]\n"
     ]
    },
    {
     "name": "stderr",
     "output_type": "stream",
     "text": [
      "                                                          \r"
     ]
    },
    {
     "name": "stdout",
     "output_type": "stream",
     "text": [
      "Train Loss: 0.8812, Train Acc: 0.00%\n",
      "Test Loss:  0.2657, Test Acc:  95.98%\n",
      "\n",
      "Epoch [621/1000]\n"
     ]
    },
    {
     "name": "stderr",
     "output_type": "stream",
     "text": [
      "                                                          \r"
     ]
    },
    {
     "name": "stdout",
     "output_type": "stream",
     "text": [
      "Train Loss: 0.9379, Train Acc: 0.00%\n",
      "Test Loss:  0.3552, Test Acc:  96.11%\n",
      "\n",
      "Epoch [622/1000]\n"
     ]
    },
    {
     "name": "stderr",
     "output_type": "stream",
     "text": [
      "                                                          \r"
     ]
    },
    {
     "name": "stdout",
     "output_type": "stream",
     "text": [
      "Train Loss: 0.9299, Train Acc: 0.00%\n",
      "Test Loss:  0.3135, Test Acc:  95.36%\n",
      "\n",
      "Epoch [623/1000]\n"
     ]
    },
    {
     "name": "stderr",
     "output_type": "stream",
     "text": [
      "                                                          \r"
     ]
    },
    {
     "name": "stdout",
     "output_type": "stream",
     "text": [
      "Train Loss: 0.9330, Train Acc: 0.00%\n",
      "Test Loss:  0.2659, Test Acc:  95.61%\n",
      "\n",
      "Epoch [624/1000]\n"
     ]
    },
    {
     "name": "stderr",
     "output_type": "stream",
     "text": [
      "                                                          \r"
     ]
    },
    {
     "name": "stdout",
     "output_type": "stream",
     "text": [
      "Train Loss: 0.8315, Train Acc: 0.00%\n",
      "Test Loss:  0.2671, Test Acc:  95.66%\n",
      "\n",
      "Epoch [625/1000]\n"
     ]
    },
    {
     "name": "stderr",
     "output_type": "stream",
     "text": [
      "                                                          \r"
     ]
    },
    {
     "name": "stdout",
     "output_type": "stream",
     "text": [
      "Train Loss: 0.9252, Train Acc: 0.00%\n",
      "Test Loss:  0.3388, Test Acc:  95.21%\n",
      "\n",
      "Epoch [626/1000]\n"
     ]
    },
    {
     "name": "stderr",
     "output_type": "stream",
     "text": [
      "                                                          \r"
     ]
    },
    {
     "name": "stdout",
     "output_type": "stream",
     "text": [
      "Train Loss: 0.9065, Train Acc: 0.00%\n",
      "Test Loss:  0.3441, Test Acc:  96.16%\n",
      "Saving model with Test Acc: 96.16%\n",
      "\n",
      "Epoch [627/1000]\n"
     ]
    },
    {
     "name": "stderr",
     "output_type": "stream",
     "text": [
      "                                                          \r"
     ]
    },
    {
     "name": "stdout",
     "output_type": "stream",
     "text": [
      "Train Loss: 0.8672, Train Acc: 0.00%\n",
      "Test Loss:  0.3301, Test Acc:  95.55%\n",
      "\n",
      "Epoch [628/1000]\n"
     ]
    },
    {
     "name": "stderr",
     "output_type": "stream",
     "text": [
      "                                                          \r"
     ]
    },
    {
     "name": "stdout",
     "output_type": "stream",
     "text": [
      "Train Loss: 0.9111, Train Acc: 0.00%\n",
      "Test Loss:  0.2824, Test Acc:  95.09%\n",
      "\n",
      "Epoch [629/1000]\n"
     ]
    },
    {
     "name": "stderr",
     "output_type": "stream",
     "text": [
      "                                                          \r"
     ]
    },
    {
     "name": "stdout",
     "output_type": "stream",
     "text": [
      "Train Loss: 0.8695, Train Acc: 0.00%\n",
      "Test Loss:  0.3144, Test Acc:  95.80%\n",
      "\n",
      "Epoch [630/1000]\n"
     ]
    },
    {
     "name": "stderr",
     "output_type": "stream",
     "text": [
      "                                                          \r"
     ]
    },
    {
     "name": "stdout",
     "output_type": "stream",
     "text": [
      "Train Loss: 0.8930, Train Acc: 0.00%\n",
      "Test Loss:  0.3735, Test Acc:  95.28%\n",
      "\n",
      "Epoch [631/1000]\n"
     ]
    },
    {
     "name": "stderr",
     "output_type": "stream",
     "text": [
      "                                                          \r"
     ]
    },
    {
     "name": "stdout",
     "output_type": "stream",
     "text": [
      "Train Loss: 0.9401, Train Acc: 0.00%\n",
      "Test Loss:  0.3592, Test Acc:  95.44%\n",
      "\n",
      "Epoch [632/1000]\n"
     ]
    },
    {
     "name": "stderr",
     "output_type": "stream",
     "text": [
      "                                                          \r"
     ]
    },
    {
     "name": "stdout",
     "output_type": "stream",
     "text": [
      "Train Loss: 0.9165, Train Acc: 0.00%\n",
      "Test Loss:  0.3226, Test Acc:  95.52%\n",
      "\n",
      "Epoch [633/1000]\n"
     ]
    },
    {
     "name": "stderr",
     "output_type": "stream",
     "text": [
      "                                                          \r"
     ]
    },
    {
     "name": "stdout",
     "output_type": "stream",
     "text": [
      "Train Loss: 0.8733, Train Acc: 0.00%\n",
      "Test Loss:  0.2826, Test Acc:  96.01%\n",
      "\n",
      "Epoch [634/1000]\n"
     ]
    },
    {
     "name": "stderr",
     "output_type": "stream",
     "text": [
      "                                                          \r"
     ]
    },
    {
     "name": "stdout",
     "output_type": "stream",
     "text": [
      "Train Loss: 0.9336, Train Acc: 0.00%\n",
      "Test Loss:  0.3148, Test Acc:  95.82%\n",
      "\n",
      "Epoch [635/1000]\n"
     ]
    },
    {
     "name": "stderr",
     "output_type": "stream",
     "text": [
      "                                                          \r"
     ]
    },
    {
     "name": "stdout",
     "output_type": "stream",
     "text": [
      "Train Loss: 0.9320, Train Acc: 0.00%\n",
      "Test Loss:  0.3460, Test Acc:  96.10%\n",
      "\n",
      "Epoch [636/1000]\n"
     ]
    },
    {
     "name": "stderr",
     "output_type": "stream",
     "text": [
      "                                                          \r"
     ]
    },
    {
     "name": "stdout",
     "output_type": "stream",
     "text": [
      "Train Loss: 0.8935, Train Acc: 0.00%\n",
      "Test Loss:  0.2928, Test Acc:  95.82%\n",
      "\n",
      "Epoch [637/1000]\n"
     ]
    },
    {
     "name": "stderr",
     "output_type": "stream",
     "text": [
      "                                                          \r"
     ]
    },
    {
     "name": "stdout",
     "output_type": "stream",
     "text": [
      "Train Loss: 0.9408, Train Acc: 0.00%\n",
      "Test Loss:  0.2890, Test Acc:  95.11%\n",
      "\n",
      "Epoch [638/1000]\n"
     ]
    },
    {
     "name": "stderr",
     "output_type": "stream",
     "text": [
      "                                                          \r"
     ]
    },
    {
     "name": "stdout",
     "output_type": "stream",
     "text": [
      "Train Loss: 0.8410, Train Acc: 0.00%\n",
      "Test Loss:  0.2828, Test Acc:  95.90%\n",
      "\n",
      "Epoch [639/1000]\n"
     ]
    },
    {
     "name": "stderr",
     "output_type": "stream",
     "text": [
      "                                                          \r"
     ]
    },
    {
     "name": "stdout",
     "output_type": "stream",
     "text": [
      "Train Loss: 0.8941, Train Acc: 0.00%\n",
      "Test Loss:  0.2972, Test Acc:  95.40%\n",
      "\n",
      "Epoch [640/1000]\n"
     ]
    },
    {
     "name": "stderr",
     "output_type": "stream",
     "text": [
      "                                                          \r"
     ]
    },
    {
     "name": "stdout",
     "output_type": "stream",
     "text": [
      "Train Loss: 0.8793, Train Acc: 0.00%\n",
      "Test Loss:  0.3078, Test Acc:  94.92%\n",
      "\n",
      "Epoch [641/1000]\n"
     ]
    },
    {
     "name": "stderr",
     "output_type": "stream",
     "text": [
      "                                                           \r"
     ]
    },
    {
     "name": "stdout",
     "output_type": "stream",
     "text": [
      "Train Loss: 0.8788, Train Acc: 0.00%\n",
      "Test Loss:  0.4106, Test Acc:  95.29%\n",
      "\n",
      "Epoch [642/1000]\n"
     ]
    },
    {
     "name": "stderr",
     "output_type": "stream",
     "text": [
      "                                                          \r"
     ]
    },
    {
     "name": "stdout",
     "output_type": "stream",
     "text": [
      "Train Loss: 0.9425, Train Acc: 0.00%\n",
      "Test Loss:  0.3417, Test Acc:  95.26%\n",
      "\n",
      "Epoch [643/1000]\n"
     ]
    },
    {
     "name": "stderr",
     "output_type": "stream",
     "text": [
      "                                                          \r"
     ]
    },
    {
     "name": "stdout",
     "output_type": "stream",
     "text": [
      "Train Loss: 0.8902, Train Acc: 0.00%\n",
      "Test Loss:  0.3558, Test Acc:  95.65%\n",
      "\n",
      "Epoch [644/1000]\n"
     ]
    },
    {
     "name": "stderr",
     "output_type": "stream",
     "text": [
      "                                                          \r"
     ]
    },
    {
     "name": "stdout",
     "output_type": "stream",
     "text": [
      "Train Loss: 0.8754, Train Acc: 0.00%\n",
      "Test Loss:  0.2657, Test Acc:  95.82%\n",
      "\n",
      "Epoch [645/1000]\n"
     ]
    },
    {
     "name": "stderr",
     "output_type": "stream",
     "text": [
      "                                                          \r"
     ]
    },
    {
     "name": "stdout",
     "output_type": "stream",
     "text": [
      "Train Loss: 0.9516, Train Acc: 0.00%\n",
      "Test Loss:  0.3093, Test Acc:  96.06%\n",
      "\n",
      "Epoch [646/1000]\n"
     ]
    },
    {
     "name": "stderr",
     "output_type": "stream",
     "text": [
      "                                                          \r"
     ]
    },
    {
     "name": "stdout",
     "output_type": "stream",
     "text": [
      "Train Loss: 0.8808, Train Acc: 0.00%\n",
      "Test Loss:  0.3146, Test Acc:  95.73%\n",
      "\n",
      "Epoch [647/1000]\n"
     ]
    },
    {
     "name": "stderr",
     "output_type": "stream",
     "text": [
      "                                                           \r"
     ]
    },
    {
     "name": "stdout",
     "output_type": "stream",
     "text": [
      "Train Loss: 0.8626, Train Acc: 0.00%\n",
      "Test Loss:  0.3114, Test Acc:  96.00%\n",
      "\n",
      "Epoch [648/1000]\n"
     ]
    },
    {
     "name": "stderr",
     "output_type": "stream",
     "text": [
      "                                                          \r"
     ]
    },
    {
     "name": "stdout",
     "output_type": "stream",
     "text": [
      "Train Loss: 0.9099, Train Acc: 0.00%\n",
      "Test Loss:  0.3420, Test Acc:  94.73%\n",
      "\n",
      "Epoch [649/1000]\n"
     ]
    },
    {
     "name": "stderr",
     "output_type": "stream",
     "text": [
      "                                                          \r"
     ]
    },
    {
     "name": "stdout",
     "output_type": "stream",
     "text": [
      "Train Loss: 0.8645, Train Acc: 0.00%\n",
      "Test Loss:  0.3040, Test Acc:  95.92%\n",
      "\n",
      "Epoch [650/1000]\n"
     ]
    },
    {
     "name": "stderr",
     "output_type": "stream",
     "text": [
      "                                                          \r"
     ]
    },
    {
     "name": "stdout",
     "output_type": "stream",
     "text": [
      "Train Loss: 0.8926, Train Acc: 0.00%\n",
      "Test Loss:  0.3667, Test Acc:  95.31%\n",
      "\n",
      "Epoch [651/1000]\n"
     ]
    },
    {
     "name": "stderr",
     "output_type": "stream",
     "text": [
      "                                                          \r"
     ]
    },
    {
     "name": "stdout",
     "output_type": "stream",
     "text": [
      "Train Loss: 0.8952, Train Acc: 0.00%\n",
      "Test Loss:  0.3404, Test Acc:  96.07%\n",
      "\n",
      "Epoch [652/1000]\n"
     ]
    },
    {
     "name": "stderr",
     "output_type": "stream",
     "text": [
      "                                                          \r"
     ]
    },
    {
     "name": "stdout",
     "output_type": "stream",
     "text": [
      "Train Loss: 0.9712, Train Acc: 0.00%\n",
      "Test Loss:  0.3944, Test Acc:  95.48%\n",
      "\n",
      "Epoch [653/1000]\n"
     ]
    },
    {
     "name": "stderr",
     "output_type": "stream",
     "text": [
      "                                                          \r"
     ]
    },
    {
     "name": "stdout",
     "output_type": "stream",
     "text": [
      "Train Loss: 0.9582, Train Acc: 0.00%\n",
      "Test Loss:  0.3957, Test Acc:  95.11%\n",
      "\n",
      "Epoch [654/1000]\n"
     ]
    },
    {
     "name": "stderr",
     "output_type": "stream",
     "text": [
      "                                                          \r"
     ]
    },
    {
     "name": "stdout",
     "output_type": "stream",
     "text": [
      "Train Loss: 0.9328, Train Acc: 0.00%\n",
      "Test Loss:  0.3495, Test Acc:  95.72%\n",
      "\n",
      "Epoch [655/1000]\n"
     ]
    },
    {
     "name": "stderr",
     "output_type": "stream",
     "text": [
      "                                                          \r"
     ]
    },
    {
     "name": "stdout",
     "output_type": "stream",
     "text": [
      "Train Loss: 0.8958, Train Acc: 0.00%\n",
      "Test Loss:  0.3159, Test Acc:  96.14%\n",
      "\n",
      "Epoch [656/1000]\n"
     ]
    },
    {
     "name": "stderr",
     "output_type": "stream",
     "text": [
      "                                                          \r"
     ]
    },
    {
     "name": "stdout",
     "output_type": "stream",
     "text": [
      "Train Loss: 0.9133, Train Acc: 0.00%\n",
      "Test Loss:  0.3685, Test Acc:  95.97%\n",
      "\n",
      "Epoch [657/1000]\n"
     ]
    },
    {
     "name": "stderr",
     "output_type": "stream",
     "text": [
      "                                                          \r"
     ]
    },
    {
     "name": "stdout",
     "output_type": "stream",
     "text": [
      "Train Loss: 0.9206, Train Acc: 0.00%\n",
      "Test Loss:  0.3813, Test Acc:  96.18%\n",
      "Saving model with Test Acc: 96.18%\n",
      "\n",
      "Epoch [658/1000]\n"
     ]
    },
    {
     "name": "stderr",
     "output_type": "stream",
     "text": [
      "                                                           \r"
     ]
    },
    {
     "name": "stdout",
     "output_type": "stream",
     "text": [
      "Train Loss: 0.8983, Train Acc: 0.00%\n",
      "Test Loss:  0.3627, Test Acc:  96.11%\n",
      "\n",
      "Epoch [659/1000]\n"
     ]
    },
    {
     "name": "stderr",
     "output_type": "stream",
     "text": [
      "                                                          \r"
     ]
    },
    {
     "name": "stdout",
     "output_type": "stream",
     "text": [
      "Train Loss: 0.8766, Train Acc: 0.00%\n",
      "Test Loss:  0.3517, Test Acc:  96.27%\n",
      "Saving model with Test Acc: 96.27%\n",
      "\n",
      "Epoch [660/1000]\n"
     ]
    },
    {
     "name": "stderr",
     "output_type": "stream",
     "text": [
      "                                                          \r"
     ]
    },
    {
     "name": "stdout",
     "output_type": "stream",
     "text": [
      "Train Loss: 0.8226, Train Acc: 0.00%\n",
      "Test Loss:  0.3022, Test Acc:  96.17%\n",
      "\n",
      "Epoch [661/1000]\n"
     ]
    },
    {
     "name": "stderr",
     "output_type": "stream",
     "text": [
      "                                                          \r"
     ]
    },
    {
     "name": "stdout",
     "output_type": "stream",
     "text": [
      "Train Loss: 0.9151, Train Acc: 0.00%\n",
      "Test Loss:  0.3235, Test Acc:  95.87%\n",
      "\n",
      "Epoch [662/1000]\n"
     ]
    },
    {
     "name": "stderr",
     "output_type": "stream",
     "text": [
      "                                                          \r"
     ]
    },
    {
     "name": "stdout",
     "output_type": "stream",
     "text": [
      "Train Loss: 0.9312, Train Acc: 0.00%\n",
      "Test Loss:  0.3504, Test Acc:  94.73%\n",
      "\n",
      "Epoch [663/1000]\n"
     ]
    },
    {
     "name": "stderr",
     "output_type": "stream",
     "text": [
      "                                                          \r"
     ]
    },
    {
     "name": "stdout",
     "output_type": "stream",
     "text": [
      "Train Loss: 0.8865, Train Acc: 0.00%\n",
      "Test Loss:  0.3286, Test Acc:  95.85%\n",
      "\n",
      "Epoch [664/1000]\n"
     ]
    },
    {
     "name": "stderr",
     "output_type": "stream",
     "text": [
      "                                                          \r"
     ]
    },
    {
     "name": "stdout",
     "output_type": "stream",
     "text": [
      "Train Loss: 0.8925, Train Acc: 0.00%\n",
      "Test Loss:  0.3360, Test Acc:  95.64%\n",
      "\n",
      "Epoch [665/1000]\n"
     ]
    },
    {
     "name": "stderr",
     "output_type": "stream",
     "text": [
      "                                                          \r"
     ]
    },
    {
     "name": "stdout",
     "output_type": "stream",
     "text": [
      "Train Loss: 0.9110, Train Acc: 0.00%\n",
      "Test Loss:  0.2351, Test Acc:  95.87%\n",
      "\n",
      "Epoch [666/1000]\n"
     ]
    },
    {
     "name": "stderr",
     "output_type": "stream",
     "text": [
      "                                                           \r"
     ]
    },
    {
     "name": "stdout",
     "output_type": "stream",
     "text": [
      "Train Loss: 0.8762, Train Acc: 0.00%\n",
      "Test Loss:  0.2587, Test Acc:  95.81%\n",
      "\n",
      "Epoch [667/1000]\n"
     ]
    },
    {
     "name": "stderr",
     "output_type": "stream",
     "text": [
      "                                                          \r"
     ]
    },
    {
     "name": "stdout",
     "output_type": "stream",
     "text": [
      "Train Loss: 0.8730, Train Acc: 0.00%\n",
      "Test Loss:  0.2931, Test Acc:  95.85%\n",
      "\n",
      "Epoch [668/1000]\n"
     ]
    },
    {
     "name": "stderr",
     "output_type": "stream",
     "text": [
      "                                                          \r"
     ]
    },
    {
     "name": "stdout",
     "output_type": "stream",
     "text": [
      "Train Loss: 0.8965, Train Acc: 0.00%\n",
      "Test Loss:  0.3439, Test Acc:  95.63%\n",
      "\n",
      "Epoch [669/1000]\n"
     ]
    },
    {
     "name": "stderr",
     "output_type": "stream",
     "text": [
      "                                                          \r"
     ]
    },
    {
     "name": "stdout",
     "output_type": "stream",
     "text": [
      "Train Loss: 0.8974, Train Acc: 0.00%\n",
      "Test Loss:  0.3002, Test Acc:  95.92%\n",
      "\n",
      "Epoch [670/1000]\n"
     ]
    },
    {
     "name": "stderr",
     "output_type": "stream",
     "text": [
      "                                                          \r"
     ]
    },
    {
     "name": "stdout",
     "output_type": "stream",
     "text": [
      "Train Loss: 0.8946, Train Acc: 0.00%\n",
      "Test Loss:  0.3048, Test Acc:  96.24%\n",
      "\n",
      "Epoch [671/1000]\n"
     ]
    },
    {
     "name": "stderr",
     "output_type": "stream",
     "text": [
      "                                                          \r"
     ]
    },
    {
     "name": "stdout",
     "output_type": "stream",
     "text": [
      "Train Loss: 0.8679, Train Acc: 0.00%\n",
      "Test Loss:  0.3576, Test Acc:  95.67%\n",
      "\n",
      "Epoch [672/1000]\n"
     ]
    },
    {
     "name": "stderr",
     "output_type": "stream",
     "text": [
      "                                                          \r"
     ]
    },
    {
     "name": "stdout",
     "output_type": "stream",
     "text": [
      "Train Loss: 0.8785, Train Acc: 0.00%\n",
      "Test Loss:  0.3095, Test Acc:  96.49%\n",
      "Saving model with Test Acc: 96.49%\n",
      "\n",
      "Epoch [673/1000]\n"
     ]
    },
    {
     "name": "stderr",
     "output_type": "stream",
     "text": [
      "                                                          \r"
     ]
    },
    {
     "name": "stdout",
     "output_type": "stream",
     "text": [
      "Train Loss: 0.8603, Train Acc: 0.00%\n",
      "Test Loss:  0.3133, Test Acc:  96.71%\n",
      "Saving model with Test Acc: 96.71%\n",
      "\n",
      "Epoch [674/1000]\n"
     ]
    },
    {
     "name": "stderr",
     "output_type": "stream",
     "text": [
      "                                                          \r"
     ]
    },
    {
     "name": "stdout",
     "output_type": "stream",
     "text": [
      "Train Loss: 0.9185, Train Acc: 0.00%\n",
      "Test Loss:  0.3701, Test Acc:  95.18%\n",
      "\n",
      "Epoch [675/1000]\n"
     ]
    },
    {
     "name": "stderr",
     "output_type": "stream",
     "text": [
      "                                                          \r"
     ]
    },
    {
     "name": "stdout",
     "output_type": "stream",
     "text": [
      "Train Loss: 0.8976, Train Acc: 0.00%\n",
      "Test Loss:  0.2954, Test Acc:  96.09%\n",
      "\n",
      "Epoch [676/1000]\n"
     ]
    },
    {
     "name": "stderr",
     "output_type": "stream",
     "text": [
      "                                                          \r"
     ]
    },
    {
     "name": "stdout",
     "output_type": "stream",
     "text": [
      "Train Loss: 0.8676, Train Acc: 0.00%\n",
      "Test Loss:  0.3172, Test Acc:  96.06%\n",
      "\n",
      "Epoch [677/1000]\n"
     ]
    },
    {
     "name": "stderr",
     "output_type": "stream",
     "text": [
      "                                                          \r"
     ]
    },
    {
     "name": "stdout",
     "output_type": "stream",
     "text": [
      "Train Loss: 0.8655, Train Acc: 0.00%\n",
      "Test Loss:  0.3268, Test Acc:  95.96%\n",
      "\n",
      "Epoch [678/1000]\n"
     ]
    },
    {
     "name": "stderr",
     "output_type": "stream",
     "text": [
      "                                                          \r"
     ]
    },
    {
     "name": "stdout",
     "output_type": "stream",
     "text": [
      "Train Loss: 0.9255, Train Acc: 0.00%\n",
      "Test Loss:  0.3873, Test Acc:  96.13%\n",
      "\n",
      "Epoch [679/1000]\n"
     ]
    },
    {
     "name": "stderr",
     "output_type": "stream",
     "text": [
      "                                                          \r"
     ]
    },
    {
     "name": "stdout",
     "output_type": "stream",
     "text": [
      "Train Loss: 0.8868, Train Acc: 0.00%\n",
      "Test Loss:  0.3352, Test Acc:  96.32%\n",
      "\n",
      "Epoch [680/1000]\n"
     ]
    },
    {
     "name": "stderr",
     "output_type": "stream",
     "text": [
      "                                                          \r"
     ]
    },
    {
     "name": "stdout",
     "output_type": "stream",
     "text": [
      "Train Loss: 0.9655, Train Acc: 0.00%\n",
      "Test Loss:  0.3122, Test Acc:  96.01%\n",
      "\n",
      "Epoch [681/1000]\n"
     ]
    },
    {
     "name": "stderr",
     "output_type": "stream",
     "text": [
      "                                                          \r"
     ]
    },
    {
     "name": "stdout",
     "output_type": "stream",
     "text": [
      "Train Loss: 0.7728, Train Acc: 0.00%\n",
      "Test Loss:  0.2832, Test Acc:  95.75%\n",
      "\n",
      "Epoch [682/1000]\n"
     ]
    },
    {
     "name": "stderr",
     "output_type": "stream",
     "text": [
      "                                                          \r"
     ]
    },
    {
     "name": "stdout",
     "output_type": "stream",
     "text": [
      "Train Loss: 0.9053, Train Acc: 0.00%\n",
      "Test Loss:  0.3219, Test Acc:  96.52%\n",
      "\n",
      "Epoch [683/1000]\n"
     ]
    },
    {
     "name": "stderr",
     "output_type": "stream",
     "text": [
      "                                                          \r"
     ]
    },
    {
     "name": "stdout",
     "output_type": "stream",
     "text": [
      "Train Loss: 0.8982, Train Acc: 0.00%\n",
      "Test Loss:  0.2871, Test Acc:  95.94%\n",
      "\n",
      "Epoch [684/1000]\n"
     ]
    },
    {
     "name": "stderr",
     "output_type": "stream",
     "text": [
      "                                                          \r"
     ]
    },
    {
     "name": "stdout",
     "output_type": "stream",
     "text": [
      "Train Loss: 0.8698, Train Acc: 0.00%\n",
      "Test Loss:  0.3234, Test Acc:  96.51%\n",
      "\n",
      "Epoch [685/1000]\n"
     ]
    },
    {
     "name": "stderr",
     "output_type": "stream",
     "text": [
      "                                                           \r"
     ]
    },
    {
     "name": "stdout",
     "output_type": "stream",
     "text": [
      "Train Loss: 0.8864, Train Acc: 0.00%\n",
      "Test Loss:  0.2823, Test Acc:  96.24%\n",
      "\n",
      "Epoch [686/1000]\n"
     ]
    },
    {
     "name": "stderr",
     "output_type": "stream",
     "text": [
      "                                                           \r"
     ]
    },
    {
     "name": "stdout",
     "output_type": "stream",
     "text": [
      "Train Loss: 0.8741, Train Acc: 0.00%\n",
      "Test Loss:  0.3593, Test Acc:  96.27%\n",
      "\n",
      "Epoch [687/1000]\n"
     ]
    },
    {
     "name": "stderr",
     "output_type": "stream",
     "text": [
      "                                                          \r"
     ]
    },
    {
     "name": "stdout",
     "output_type": "stream",
     "text": [
      "Train Loss: 0.8273, Train Acc: 0.00%\n",
      "Test Loss:  0.2868, Test Acc:  96.18%\n",
      "\n",
      "Epoch [688/1000]\n"
     ]
    },
    {
     "name": "stderr",
     "output_type": "stream",
     "text": [
      "                                                          \r"
     ]
    },
    {
     "name": "stdout",
     "output_type": "stream",
     "text": [
      "Train Loss: 0.8693, Train Acc: 0.00%\n",
      "Test Loss:  0.2970, Test Acc:  96.35%\n",
      "\n",
      "Epoch [689/1000]\n"
     ]
    },
    {
     "name": "stderr",
     "output_type": "stream",
     "text": [
      "                                                           \r"
     ]
    },
    {
     "name": "stdout",
     "output_type": "stream",
     "text": [
      "Train Loss: 0.8896, Train Acc: 0.00%\n",
      "Test Loss:  0.3115, Test Acc:  96.44%\n",
      "\n",
      "Epoch [690/1000]\n"
     ]
    },
    {
     "name": "stderr",
     "output_type": "stream",
     "text": [
      "                                                          \r"
     ]
    },
    {
     "name": "stdout",
     "output_type": "stream",
     "text": [
      "Train Loss: 0.8538, Train Acc: 0.00%\n",
      "Test Loss:  0.3360, Test Acc:  95.95%\n",
      "\n",
      "Epoch [691/1000]\n"
     ]
    },
    {
     "name": "stderr",
     "output_type": "stream",
     "text": [
      "                                                          \r"
     ]
    },
    {
     "name": "stdout",
     "output_type": "stream",
     "text": [
      "Train Loss: 0.8283, Train Acc: 0.00%\n",
      "Test Loss:  0.2777, Test Acc:  96.38%\n",
      "\n",
      "Epoch [692/1000]\n"
     ]
    },
    {
     "name": "stderr",
     "output_type": "stream",
     "text": [
      "                                                          \r"
     ]
    },
    {
     "name": "stdout",
     "output_type": "stream",
     "text": [
      "Train Loss: 0.8430, Train Acc: 0.00%\n",
      "Test Loss:  0.2698, Test Acc:  96.11%\n",
      "\n",
      "Epoch [693/1000]\n"
     ]
    },
    {
     "name": "stderr",
     "output_type": "stream",
     "text": [
      "                                                          \r"
     ]
    },
    {
     "name": "stdout",
     "output_type": "stream",
     "text": [
      "Train Loss: 0.8647, Train Acc: 0.00%\n",
      "Test Loss:  0.3216, Test Acc:  96.02%\n",
      "\n",
      "Epoch [694/1000]\n"
     ]
    },
    {
     "name": "stderr",
     "output_type": "stream",
     "text": [
      "                                                          \r"
     ]
    },
    {
     "name": "stdout",
     "output_type": "stream",
     "text": [
      "Train Loss: 0.8211, Train Acc: 0.00%\n",
      "Test Loss:  0.2957, Test Acc:  96.25%\n",
      "\n",
      "Epoch [695/1000]\n"
     ]
    },
    {
     "name": "stderr",
     "output_type": "stream",
     "text": [
      "                                                          \r"
     ]
    },
    {
     "name": "stdout",
     "output_type": "stream",
     "text": [
      "Train Loss: 0.8615, Train Acc: 0.00%\n",
      "Test Loss:  0.3097, Test Acc:  96.22%\n",
      "\n",
      "Epoch [696/1000]\n"
     ]
    },
    {
     "name": "stderr",
     "output_type": "stream",
     "text": [
      "                                                          \r"
     ]
    },
    {
     "name": "stdout",
     "output_type": "stream",
     "text": [
      "Train Loss: 0.8330, Train Acc: 0.00%\n",
      "Test Loss:  0.3024, Test Acc:  96.25%\n",
      "\n",
      "Epoch [697/1000]\n"
     ]
    },
    {
     "name": "stderr",
     "output_type": "stream",
     "text": [
      "                                                          \r"
     ]
    },
    {
     "name": "stdout",
     "output_type": "stream",
     "text": [
      "Train Loss: 0.9109, Train Acc: 0.00%\n",
      "Test Loss:  0.3165, Test Acc:  95.95%\n",
      "\n",
      "Epoch [698/1000]\n"
     ]
    },
    {
     "name": "stderr",
     "output_type": "stream",
     "text": [
      "                                                          \r"
     ]
    },
    {
     "name": "stdout",
     "output_type": "stream",
     "text": [
      "Train Loss: 0.8427, Train Acc: 0.00%\n",
      "Test Loss:  0.2825, Test Acc:  96.29%\n",
      "\n",
      "Epoch [699/1000]\n"
     ]
    },
    {
     "name": "stderr",
     "output_type": "stream",
     "text": [
      "                                                          \r"
     ]
    },
    {
     "name": "stdout",
     "output_type": "stream",
     "text": [
      "Train Loss: 0.8597, Train Acc: 0.00%\n",
      "Test Loss:  0.3159, Test Acc:  95.69%\n",
      "\n",
      "Epoch [700/1000]\n"
     ]
    },
    {
     "name": "stderr",
     "output_type": "stream",
     "text": [
      "                                                          \r"
     ]
    },
    {
     "name": "stdout",
     "output_type": "stream",
     "text": [
      "Train Loss: 0.9168, Train Acc: 0.00%\n",
      "Test Loss:  0.3731, Test Acc:  96.20%\n",
      "\n",
      "Epoch [701/1000]\n"
     ]
    },
    {
     "name": "stderr",
     "output_type": "stream",
     "text": [
      "                                                          \r"
     ]
    },
    {
     "name": "stdout",
     "output_type": "stream",
     "text": [
      "Train Loss: 0.8361, Train Acc: 0.00%\n",
      "Test Loss:  0.3320, Test Acc:  96.25%\n",
      "\n",
      "Epoch [702/1000]\n"
     ]
    },
    {
     "name": "stderr",
     "output_type": "stream",
     "text": [
      "                                                          \r"
     ]
    },
    {
     "name": "stdout",
     "output_type": "stream",
     "text": [
      "Train Loss: 0.8934, Train Acc: 0.00%\n",
      "Test Loss:  0.3342, Test Acc:  95.95%\n",
      "\n",
      "Epoch [703/1000]\n"
     ]
    },
    {
     "name": "stderr",
     "output_type": "stream",
     "text": [
      "                                                          \r"
     ]
    },
    {
     "name": "stdout",
     "output_type": "stream",
     "text": [
      "Train Loss: 0.7835, Train Acc: 0.00%\n",
      "Test Loss:  0.2587, Test Acc:  96.35%\n",
      "\n",
      "Epoch [704/1000]\n"
     ]
    },
    {
     "name": "stderr",
     "output_type": "stream",
     "text": [
      "                                                          \r"
     ]
    },
    {
     "name": "stdout",
     "output_type": "stream",
     "text": [
      "Train Loss: 0.8421, Train Acc: 0.00%\n",
      "Test Loss:  0.3125, Test Acc:  96.49%\n",
      "\n",
      "Epoch [705/1000]\n"
     ]
    },
    {
     "name": "stderr",
     "output_type": "stream",
     "text": [
      "                                                          \r"
     ]
    },
    {
     "name": "stdout",
     "output_type": "stream",
     "text": [
      "Train Loss: 0.8547, Train Acc: 0.00%\n",
      "Test Loss:  0.2915, Test Acc:  95.80%\n",
      "\n",
      "Epoch [706/1000]\n"
     ]
    },
    {
     "name": "stderr",
     "output_type": "stream",
     "text": [
      "                                                          \r"
     ]
    },
    {
     "name": "stdout",
     "output_type": "stream",
     "text": [
      "Train Loss: 0.8506, Train Acc: 0.00%\n",
      "Test Loss:  0.2869, Test Acc:  96.06%\n",
      "\n",
      "Epoch [707/1000]\n"
     ]
    },
    {
     "name": "stderr",
     "output_type": "stream",
     "text": [
      "                                                          \r"
     ]
    },
    {
     "name": "stdout",
     "output_type": "stream",
     "text": [
      "Train Loss: 0.9356, Train Acc: 0.00%\n",
      "Test Loss:  0.3278, Test Acc:  95.72%\n",
      "\n",
      "Epoch [708/1000]\n"
     ]
    },
    {
     "name": "stderr",
     "output_type": "stream",
     "text": [
      "                                                          \r"
     ]
    },
    {
     "name": "stdout",
     "output_type": "stream",
     "text": [
      "Train Loss: 0.8359, Train Acc: 0.00%\n",
      "Test Loss:  0.2976, Test Acc:  95.97%\n",
      "\n",
      "Epoch [709/1000]\n"
     ]
    },
    {
     "name": "stderr",
     "output_type": "stream",
     "text": [
      "                                                          \r"
     ]
    },
    {
     "name": "stdout",
     "output_type": "stream",
     "text": [
      "Train Loss: 0.9008, Train Acc: 0.00%\n",
      "Test Loss:  0.2906, Test Acc:  96.76%\n",
      "Saving model with Test Acc: 96.76%\n",
      "\n",
      "Epoch [710/1000]\n"
     ]
    },
    {
     "name": "stderr",
     "output_type": "stream",
     "text": [
      "                                                          \r"
     ]
    },
    {
     "name": "stdout",
     "output_type": "stream",
     "text": [
      "Train Loss: 0.8744, Train Acc: 0.00%\n",
      "Test Loss:  0.2955, Test Acc:  96.47%\n",
      "\n",
      "Epoch [711/1000]\n"
     ]
    },
    {
     "name": "stderr",
     "output_type": "stream",
     "text": [
      "                                                          \r"
     ]
    },
    {
     "name": "stdout",
     "output_type": "stream",
     "text": [
      "Train Loss: 0.8655, Train Acc: 0.00%\n",
      "Test Loss:  0.3030, Test Acc:  96.29%\n",
      "\n",
      "Epoch [712/1000]\n"
     ]
    },
    {
     "name": "stderr",
     "output_type": "stream",
     "text": [
      "                                                          \r"
     ]
    },
    {
     "name": "stdout",
     "output_type": "stream",
     "text": [
      "Train Loss: 0.7622, Train Acc: 0.00%\n",
      "Test Loss:  0.2580, Test Acc:  96.39%\n",
      "\n",
      "Epoch [713/1000]\n"
     ]
    },
    {
     "name": "stderr",
     "output_type": "stream",
     "text": [
      "                                                          \r"
     ]
    },
    {
     "name": "stdout",
     "output_type": "stream",
     "text": [
      "Train Loss: 0.8171, Train Acc: 0.00%\n",
      "Test Loss:  0.2550, Test Acc:  95.92%\n",
      "\n",
      "Epoch [714/1000]\n"
     ]
    },
    {
     "name": "stderr",
     "output_type": "stream",
     "text": [
      "                                                          \r"
     ]
    },
    {
     "name": "stdout",
     "output_type": "stream",
     "text": [
      "Train Loss: 0.9407, Train Acc: 0.00%\n",
      "Test Loss:  0.3185, Test Acc:  96.14%\n",
      "\n",
      "Epoch [715/1000]\n"
     ]
    },
    {
     "name": "stderr",
     "output_type": "stream",
     "text": [
      "                                                          \r"
     ]
    },
    {
     "name": "stdout",
     "output_type": "stream",
     "text": [
      "Train Loss: 0.7710, Train Acc: 0.00%\n",
      "Test Loss:  0.2651, Test Acc:  96.38%\n",
      "\n",
      "Epoch [716/1000]\n"
     ]
    },
    {
     "name": "stderr",
     "output_type": "stream",
     "text": [
      "                                                          \r"
     ]
    },
    {
     "name": "stdout",
     "output_type": "stream",
     "text": [
      "Train Loss: 0.9290, Train Acc: 0.00%\n",
      "Test Loss:  0.2895, Test Acc:  96.04%\n",
      "\n",
      "Epoch [717/1000]\n"
     ]
    },
    {
     "name": "stderr",
     "output_type": "stream",
     "text": [
      "                                                          \r"
     ]
    },
    {
     "name": "stdout",
     "output_type": "stream",
     "text": [
      "Train Loss: 0.8450, Train Acc: 0.00%\n",
      "Test Loss:  0.2917, Test Acc:  96.53%\n",
      "\n",
      "Epoch [718/1000]\n"
     ]
    },
    {
     "name": "stderr",
     "output_type": "stream",
     "text": [
      "                                                          \r"
     ]
    },
    {
     "name": "stdout",
     "output_type": "stream",
     "text": [
      "Train Loss: 0.9435, Train Acc: 0.00%\n",
      "Test Loss:  0.3367, Test Acc:  96.31%\n",
      "\n",
      "Epoch [719/1000]\n"
     ]
    },
    {
     "name": "stderr",
     "output_type": "stream",
     "text": [
      "                                                          \r"
     ]
    },
    {
     "name": "stdout",
     "output_type": "stream",
     "text": [
      "Train Loss: 0.8341, Train Acc: 0.00%\n",
      "Test Loss:  0.2705, Test Acc:  96.07%\n",
      "\n",
      "Epoch [720/1000]\n"
     ]
    },
    {
     "name": "stderr",
     "output_type": "stream",
     "text": [
      "                                                          \r"
     ]
    },
    {
     "name": "stdout",
     "output_type": "stream",
     "text": [
      "Train Loss: 0.8926, Train Acc: 0.00%\n",
      "Test Loss:  0.3417, Test Acc:  96.15%\n",
      "\n",
      "Epoch [721/1000]\n"
     ]
    },
    {
     "name": "stderr",
     "output_type": "stream",
     "text": [
      "                                                          \r"
     ]
    },
    {
     "name": "stdout",
     "output_type": "stream",
     "text": [
      "Train Loss: 0.8770, Train Acc: 0.00%\n",
      "Test Loss:  0.3083, Test Acc:  96.55%\n",
      "\n",
      "Epoch [722/1000]\n"
     ]
    },
    {
     "name": "stderr",
     "output_type": "stream",
     "text": [
      "                                                          \r"
     ]
    },
    {
     "name": "stdout",
     "output_type": "stream",
     "text": [
      "Train Loss: 0.8301, Train Acc: 0.00%\n",
      "Test Loss:  0.3212, Test Acc:  96.61%\n",
      "\n",
      "Epoch [723/1000]\n"
     ]
    },
    {
     "name": "stderr",
     "output_type": "stream",
     "text": [
      "                                                          \r"
     ]
    },
    {
     "name": "stdout",
     "output_type": "stream",
     "text": [
      "Train Loss: 0.8370, Train Acc: 0.00%\n",
      "Test Loss:  0.3083, Test Acc:  96.48%\n",
      "\n",
      "Epoch [724/1000]\n"
     ]
    },
    {
     "name": "stderr",
     "output_type": "stream",
     "text": [
      "                                                          \r"
     ]
    },
    {
     "name": "stdout",
     "output_type": "stream",
     "text": [
      "Train Loss: 0.8043, Train Acc: 0.00%\n",
      "Test Loss:  0.2769, Test Acc:  96.53%\n",
      "\n",
      "Epoch [725/1000]\n"
     ]
    },
    {
     "name": "stderr",
     "output_type": "stream",
     "text": [
      "                                                           \r"
     ]
    },
    {
     "name": "stdout",
     "output_type": "stream",
     "text": [
      "Train Loss: 0.8921, Train Acc: 0.00%\n",
      "Test Loss:  0.3917, Test Acc:  96.38%\n",
      "\n",
      "Epoch [726/1000]\n"
     ]
    },
    {
     "name": "stderr",
     "output_type": "stream",
     "text": [
      "                                                          \r"
     ]
    },
    {
     "name": "stdout",
     "output_type": "stream",
     "text": [
      "Train Loss: 0.8147, Train Acc: 0.00%\n",
      "Test Loss:  0.3054, Test Acc:  96.48%\n",
      "\n",
      "Epoch [727/1000]\n"
     ]
    },
    {
     "name": "stderr",
     "output_type": "stream",
     "text": [
      "                                                          \r"
     ]
    },
    {
     "name": "stdout",
     "output_type": "stream",
     "text": [
      "Train Loss: 0.8443, Train Acc: 0.00%\n",
      "Test Loss:  0.3058, Test Acc:  96.25%\n",
      "\n",
      "Epoch [728/1000]\n"
     ]
    },
    {
     "name": "stderr",
     "output_type": "stream",
     "text": [
      "                                                          \r"
     ]
    },
    {
     "name": "stdout",
     "output_type": "stream",
     "text": [
      "Train Loss: 0.8856, Train Acc: 0.00%\n",
      "Test Loss:  0.3191, Test Acc:  96.59%\n",
      "\n",
      "Epoch [729/1000]\n"
     ]
    },
    {
     "name": "stderr",
     "output_type": "stream",
     "text": [
      "                                                          \r"
     ]
    },
    {
     "name": "stdout",
     "output_type": "stream",
     "text": [
      "Train Loss: 0.8687, Train Acc: 0.00%\n",
      "Test Loss:  0.2627, Test Acc:  96.40%\n",
      "\n",
      "Epoch [730/1000]\n"
     ]
    },
    {
     "name": "stderr",
     "output_type": "stream",
     "text": [
      "                                                          \r"
     ]
    },
    {
     "name": "stdout",
     "output_type": "stream",
     "text": [
      "Train Loss: 0.8813, Train Acc: 0.00%\n",
      "Test Loss:  0.3358, Test Acc:  96.44%\n",
      "\n",
      "Epoch [731/1000]\n"
     ]
    },
    {
     "name": "stderr",
     "output_type": "stream",
     "text": [
      "                                                          \r"
     ]
    },
    {
     "name": "stdout",
     "output_type": "stream",
     "text": [
      "Train Loss: 0.8077, Train Acc: 0.00%\n",
      "Test Loss:  0.3542, Test Acc:  96.26%\n",
      "\n",
      "Epoch [732/1000]\n"
     ]
    },
    {
     "name": "stderr",
     "output_type": "stream",
     "text": [
      "                                                          \r"
     ]
    },
    {
     "name": "stdout",
     "output_type": "stream",
     "text": [
      "Train Loss: 0.8275, Train Acc: 0.00%\n",
      "Test Loss:  0.3144, Test Acc:  96.59%\n",
      "\n",
      "Epoch [733/1000]\n"
     ]
    },
    {
     "name": "stderr",
     "output_type": "stream",
     "text": [
      "                                                          \r"
     ]
    },
    {
     "name": "stdout",
     "output_type": "stream",
     "text": [
      "Train Loss: 0.8206, Train Acc: 0.00%\n",
      "Test Loss:  0.2878, Test Acc:  96.45%\n",
      "\n",
      "Epoch [734/1000]\n"
     ]
    },
    {
     "name": "stderr",
     "output_type": "stream",
     "text": [
      "                                                          \r"
     ]
    },
    {
     "name": "stdout",
     "output_type": "stream",
     "text": [
      "Train Loss: 0.8585, Train Acc: 0.00%\n",
      "Test Loss:  0.2786, Test Acc:  96.58%\n",
      "\n",
      "Epoch [735/1000]\n"
     ]
    },
    {
     "name": "stderr",
     "output_type": "stream",
     "text": [
      "                                                          \r"
     ]
    },
    {
     "name": "stdout",
     "output_type": "stream",
     "text": [
      "Train Loss: 0.8476, Train Acc: 0.00%\n",
      "Test Loss:  0.3415, Test Acc:  96.50%\n",
      "\n",
      "Epoch [736/1000]\n"
     ]
    },
    {
     "name": "stderr",
     "output_type": "stream",
     "text": [
      "                                                          \r"
     ]
    },
    {
     "name": "stdout",
     "output_type": "stream",
     "text": [
      "Train Loss: 0.7904, Train Acc: 0.00%\n",
      "Test Loss:  0.2898, Test Acc:  96.68%\n",
      "\n",
      "Epoch [737/1000]\n"
     ]
    },
    {
     "name": "stderr",
     "output_type": "stream",
     "text": [
      "                                                          \r"
     ]
    },
    {
     "name": "stdout",
     "output_type": "stream",
     "text": [
      "Train Loss: 0.9233, Train Acc: 0.00%\n",
      "Test Loss:  0.3434, Test Acc:  96.24%\n",
      "\n",
      "Epoch [738/1000]\n"
     ]
    },
    {
     "name": "stderr",
     "output_type": "stream",
     "text": [
      "                                                          \r"
     ]
    },
    {
     "name": "stdout",
     "output_type": "stream",
     "text": [
      "Train Loss: 0.8434, Train Acc: 0.00%\n",
      "Test Loss:  0.3523, Test Acc:  96.41%\n",
      "\n",
      "Epoch [739/1000]\n"
     ]
    },
    {
     "name": "stderr",
     "output_type": "stream",
     "text": [
      "                                                          \r"
     ]
    },
    {
     "name": "stdout",
     "output_type": "stream",
     "text": [
      "Train Loss: 0.9080, Train Acc: 0.00%\n",
      "Test Loss:  0.3059, Test Acc:  95.96%\n",
      "\n",
      "Epoch [740/1000]\n"
     ]
    },
    {
     "name": "stderr",
     "output_type": "stream",
     "text": [
      "                                                          \r"
     ]
    },
    {
     "name": "stdout",
     "output_type": "stream",
     "text": [
      "Train Loss: 0.8632, Train Acc: 0.00%\n",
      "Test Loss:  0.2988, Test Acc:  95.86%\n",
      "\n",
      "Epoch [741/1000]\n"
     ]
    },
    {
     "name": "stderr",
     "output_type": "stream",
     "text": [
      "                                                          \r"
     ]
    },
    {
     "name": "stdout",
     "output_type": "stream",
     "text": [
      "Train Loss: 0.8114, Train Acc: 0.00%\n",
      "Test Loss:  0.3362, Test Acc:  96.26%\n",
      "\n",
      "Epoch [742/1000]\n"
     ]
    },
    {
     "name": "stderr",
     "output_type": "stream",
     "text": [
      "                                                          \r"
     ]
    },
    {
     "name": "stdout",
     "output_type": "stream",
     "text": [
      "Train Loss: 0.8738, Train Acc: 0.00%\n",
      "Test Loss:  0.3289, Test Acc:  96.57%\n",
      "\n",
      "Epoch [743/1000]\n"
     ]
    },
    {
     "name": "stderr",
     "output_type": "stream",
     "text": [
      "                                                           \r"
     ]
    },
    {
     "name": "stdout",
     "output_type": "stream",
     "text": [
      "Train Loss: 0.8212, Train Acc: 0.00%\n",
      "Test Loss:  0.2605, Test Acc:  96.18%\n",
      "\n",
      "Epoch [744/1000]\n"
     ]
    },
    {
     "name": "stderr",
     "output_type": "stream",
     "text": [
      "                                                           \r"
     ]
    },
    {
     "name": "stdout",
     "output_type": "stream",
     "text": [
      "Train Loss: 0.8037, Train Acc: 0.00%\n",
      "Test Loss:  0.2936, Test Acc:  96.48%\n",
      "\n",
      "Epoch [745/1000]\n"
     ]
    },
    {
     "name": "stderr",
     "output_type": "stream",
     "text": [
      "                                                          \r"
     ]
    },
    {
     "name": "stdout",
     "output_type": "stream",
     "text": [
      "Train Loss: 0.8225, Train Acc: 0.00%\n",
      "Test Loss:  0.3087, Test Acc:  96.59%\n",
      "\n",
      "Epoch [746/1000]\n"
     ]
    },
    {
     "name": "stderr",
     "output_type": "stream",
     "text": [
      "                                                          \r"
     ]
    },
    {
     "name": "stdout",
     "output_type": "stream",
     "text": [
      "Train Loss: 0.8295, Train Acc: 0.00%\n",
      "Test Loss:  0.3162, Test Acc:  95.96%\n",
      "\n",
      "Epoch [747/1000]\n"
     ]
    },
    {
     "name": "stderr",
     "output_type": "stream",
     "text": [
      "                                                          \r"
     ]
    },
    {
     "name": "stdout",
     "output_type": "stream",
     "text": [
      "Train Loss: 0.7916, Train Acc: 0.00%\n",
      "Test Loss:  0.3145, Test Acc:  96.71%\n",
      "\n",
      "Epoch [748/1000]\n"
     ]
    },
    {
     "name": "stderr",
     "output_type": "stream",
     "text": [
      "                                                          \r"
     ]
    },
    {
     "name": "stdout",
     "output_type": "stream",
     "text": [
      "Train Loss: 0.8828, Train Acc: 0.00%\n",
      "Test Loss:  0.2830, Test Acc:  96.74%\n",
      "\n",
      "Epoch [749/1000]\n"
     ]
    },
    {
     "name": "stderr",
     "output_type": "stream",
     "text": [
      "                                                          \r"
     ]
    },
    {
     "name": "stdout",
     "output_type": "stream",
     "text": [
      "Train Loss: 0.8482, Train Acc: 0.00%\n",
      "Test Loss:  0.2765, Test Acc:  96.65%\n",
      "\n",
      "Epoch [750/1000]\n"
     ]
    },
    {
     "name": "stderr",
     "output_type": "stream",
     "text": [
      "                                                          \r"
     ]
    },
    {
     "name": "stdout",
     "output_type": "stream",
     "text": [
      "Train Loss: 0.8549, Train Acc: 0.00%\n",
      "Test Loss:  0.2657, Test Acc:  96.65%\n",
      "\n",
      "Epoch [751/1000]\n"
     ]
    },
    {
     "name": "stderr",
     "output_type": "stream",
     "text": [
      "                                                          \r"
     ]
    },
    {
     "name": "stdout",
     "output_type": "stream",
     "text": [
      "Train Loss: 0.7953, Train Acc: 0.00%\n",
      "Test Loss:  0.2421, Test Acc:  96.53%\n",
      "\n",
      "Epoch [752/1000]\n"
     ]
    },
    {
     "name": "stderr",
     "output_type": "stream",
     "text": [
      "                                                           \r"
     ]
    },
    {
     "name": "stdout",
     "output_type": "stream",
     "text": [
      "Train Loss: 0.7598, Train Acc: 0.00%\n",
      "Test Loss:  0.3186, Test Acc:  96.20%\n",
      "\n",
      "Epoch [753/1000]\n"
     ]
    },
    {
     "name": "stderr",
     "output_type": "stream",
     "text": [
      "                                                          \r"
     ]
    },
    {
     "name": "stdout",
     "output_type": "stream",
     "text": [
      "Train Loss: 0.8334, Train Acc: 0.00%\n",
      "Test Loss:  0.2874, Test Acc:  96.38%\n",
      "\n",
      "Epoch [754/1000]\n"
     ]
    },
    {
     "name": "stderr",
     "output_type": "stream",
     "text": [
      "                                                          \r"
     ]
    },
    {
     "name": "stdout",
     "output_type": "stream",
     "text": [
      "Train Loss: 0.8827, Train Acc: 0.00%\n",
      "Test Loss:  0.3383, Test Acc:  96.66%\n",
      "\n",
      "Epoch [755/1000]\n"
     ]
    },
    {
     "name": "stderr",
     "output_type": "stream",
     "text": [
      "                                                           \r"
     ]
    },
    {
     "name": "stdout",
     "output_type": "stream",
     "text": [
      "Train Loss: 0.8011, Train Acc: 0.00%\n",
      "Test Loss:  0.2917, Test Acc:  96.43%\n",
      "\n",
      "Epoch [756/1000]\n"
     ]
    },
    {
     "name": "stderr",
     "output_type": "stream",
     "text": [
      "                                                          \r"
     ]
    },
    {
     "name": "stdout",
     "output_type": "stream",
     "text": [
      "Train Loss: 0.8770, Train Acc: 0.00%\n",
      "Test Loss:  0.3268, Test Acc:  96.46%\n",
      "\n",
      "Epoch [757/1000]\n"
     ]
    },
    {
     "name": "stderr",
     "output_type": "stream",
     "text": [
      "                                                          \r"
     ]
    },
    {
     "name": "stdout",
     "output_type": "stream",
     "text": [
      "Train Loss: 0.8093, Train Acc: 0.00%\n",
      "Test Loss:  0.2848, Test Acc:  96.79%\n",
      "Saving model with Test Acc: 96.79%\n",
      "\n",
      "Epoch [758/1000]\n"
     ]
    },
    {
     "name": "stderr",
     "output_type": "stream",
     "text": [
      "                                                          \r"
     ]
    },
    {
     "name": "stdout",
     "output_type": "stream",
     "text": [
      "Train Loss: 0.8584, Train Acc: 0.00%\n",
      "Test Loss:  0.3626, Test Acc:  96.51%\n",
      "\n",
      "Epoch [759/1000]\n"
     ]
    },
    {
     "name": "stderr",
     "output_type": "stream",
     "text": [
      "                                                          \r"
     ]
    },
    {
     "name": "stdout",
     "output_type": "stream",
     "text": [
      "Train Loss: 0.7964, Train Acc: 0.00%\n",
      "Test Loss:  0.2869, Test Acc:  96.62%\n",
      "\n",
      "Epoch [760/1000]\n"
     ]
    },
    {
     "name": "stderr",
     "output_type": "stream",
     "text": [
      "                                                          \r"
     ]
    },
    {
     "name": "stdout",
     "output_type": "stream",
     "text": [
      "Train Loss: 0.8488, Train Acc: 0.00%\n",
      "Test Loss:  0.3495, Test Acc:  96.65%\n",
      "\n",
      "Epoch [761/1000]\n"
     ]
    },
    {
     "name": "stderr",
     "output_type": "stream",
     "text": [
      "                                                          \r"
     ]
    },
    {
     "name": "stdout",
     "output_type": "stream",
     "text": [
      "Train Loss: 0.8979, Train Acc: 0.00%\n",
      "Test Loss:  0.3663, Test Acc:  96.81%\n",
      "Saving model with Test Acc: 96.81%\n",
      "\n",
      "Epoch [762/1000]\n"
     ]
    },
    {
     "name": "stderr",
     "output_type": "stream",
     "text": [
      "                                                          \r"
     ]
    },
    {
     "name": "stdout",
     "output_type": "stream",
     "text": [
      "Train Loss: 0.8314, Train Acc: 0.00%\n",
      "Test Loss:  0.3105, Test Acc:  96.40%\n",
      "\n",
      "Epoch [763/1000]\n"
     ]
    },
    {
     "name": "stderr",
     "output_type": "stream",
     "text": [
      "                                                          \r"
     ]
    },
    {
     "name": "stdout",
     "output_type": "stream",
     "text": [
      "Train Loss: 0.8053, Train Acc: 0.00%\n",
      "Test Loss:  0.2787, Test Acc:  96.29%\n",
      "\n",
      "Epoch [764/1000]\n"
     ]
    },
    {
     "name": "stderr",
     "output_type": "stream",
     "text": [
      "                                                          \r"
     ]
    },
    {
     "name": "stdout",
     "output_type": "stream",
     "text": [
      "Train Loss: 0.8822, Train Acc: 0.00%\n",
      "Test Loss:  0.3315, Test Acc:  96.33%\n",
      "\n",
      "Epoch [765/1000]\n"
     ]
    },
    {
     "name": "stderr",
     "output_type": "stream",
     "text": [
      "                                                          \r"
     ]
    },
    {
     "name": "stdout",
     "output_type": "stream",
     "text": [
      "Train Loss: 0.7738, Train Acc: 0.00%\n",
      "Test Loss:  0.2714, Test Acc:  96.61%\n",
      "\n",
      "Epoch [766/1000]\n"
     ]
    },
    {
     "name": "stderr",
     "output_type": "stream",
     "text": [
      "                                                          \r"
     ]
    },
    {
     "name": "stdout",
     "output_type": "stream",
     "text": [
      "Train Loss: 0.8097, Train Acc: 0.00%\n",
      "Test Loss:  0.2481, Test Acc:  96.52%\n",
      "\n",
      "Epoch [767/1000]\n"
     ]
    },
    {
     "name": "stderr",
     "output_type": "stream",
     "text": [
      "                                                          \r"
     ]
    },
    {
     "name": "stdout",
     "output_type": "stream",
     "text": [
      "Train Loss: 0.8943, Train Acc: 0.00%\n",
      "Test Loss:  0.2971, Test Acc:  96.36%\n",
      "\n",
      "Epoch [768/1000]\n"
     ]
    },
    {
     "name": "stderr",
     "output_type": "stream",
     "text": [
      "                                                          \r"
     ]
    },
    {
     "name": "stdout",
     "output_type": "stream",
     "text": [
      "Train Loss: 0.8133, Train Acc: 0.00%\n",
      "Test Loss:  0.2841, Test Acc:  96.97%\n",
      "Saving model with Test Acc: 96.97%\n",
      "\n",
      "Epoch [769/1000]\n"
     ]
    },
    {
     "name": "stderr",
     "output_type": "stream",
     "text": [
      "                                                          \r"
     ]
    },
    {
     "name": "stdout",
     "output_type": "stream",
     "text": [
      "Train Loss: 0.7959, Train Acc: 0.00%\n",
      "Test Loss:  0.2998, Test Acc:  96.65%\n",
      "\n",
      "Epoch [770/1000]\n"
     ]
    },
    {
     "name": "stderr",
     "output_type": "stream",
     "text": [
      "                                                          \r"
     ]
    },
    {
     "name": "stdout",
     "output_type": "stream",
     "text": [
      "Train Loss: 0.8293, Train Acc: 0.00%\n",
      "Test Loss:  0.3082, Test Acc:  96.74%\n",
      "\n",
      "Epoch [771/1000]\n"
     ]
    },
    {
     "name": "stderr",
     "output_type": "stream",
     "text": [
      "                                                          \r"
     ]
    },
    {
     "name": "stdout",
     "output_type": "stream",
     "text": [
      "Train Loss: 0.7954, Train Acc: 0.00%\n",
      "Test Loss:  0.2731, Test Acc:  96.25%\n",
      "\n",
      "Epoch [772/1000]\n"
     ]
    },
    {
     "name": "stderr",
     "output_type": "stream",
     "text": [
      "                                                          \r"
     ]
    },
    {
     "name": "stdout",
     "output_type": "stream",
     "text": [
      "Train Loss: 0.7461, Train Acc: 0.00%\n",
      "Test Loss:  0.2625, Test Acc:  96.32%\n",
      "\n",
      "Epoch [773/1000]\n"
     ]
    },
    {
     "name": "stderr",
     "output_type": "stream",
     "text": [
      "                                                          \r"
     ]
    },
    {
     "name": "stdout",
     "output_type": "stream",
     "text": [
      "Train Loss: 0.8254, Train Acc: 0.00%\n",
      "Test Loss:  0.2551, Test Acc:  96.64%\n",
      "\n",
      "Epoch [774/1000]\n"
     ]
    },
    {
     "name": "stderr",
     "output_type": "stream",
     "text": [
      "                                                          \r"
     ]
    },
    {
     "name": "stdout",
     "output_type": "stream",
     "text": [
      "Train Loss: 0.7877, Train Acc: 0.00%\n",
      "Test Loss:  0.2721, Test Acc:  96.70%\n",
      "\n",
      "Epoch [775/1000]\n"
     ]
    },
    {
     "name": "stderr",
     "output_type": "stream",
     "text": [
      "                                                          \r"
     ]
    },
    {
     "name": "stdout",
     "output_type": "stream",
     "text": [
      "Train Loss: 0.8184, Train Acc: 0.00%\n",
      "Test Loss:  0.2833, Test Acc:  96.87%\n",
      "\n",
      "Epoch [776/1000]\n"
     ]
    },
    {
     "name": "stderr",
     "output_type": "stream",
     "text": [
      "                                                          \r"
     ]
    },
    {
     "name": "stdout",
     "output_type": "stream",
     "text": [
      "Train Loss: 0.8916, Train Acc: 0.00%\n",
      "Test Loss:  0.3143, Test Acc:  96.81%\n",
      "\n",
      "Epoch [777/1000]\n"
     ]
    },
    {
     "name": "stderr",
     "output_type": "stream",
     "text": [
      "                                                          \r"
     ]
    },
    {
     "name": "stdout",
     "output_type": "stream",
     "text": [
      "Train Loss: 0.8436, Train Acc: 0.00%\n",
      "Test Loss:  0.3053, Test Acc:  96.75%\n",
      "\n",
      "Epoch [778/1000]\n"
     ]
    },
    {
     "name": "stderr",
     "output_type": "stream",
     "text": [
      "                                                          \r"
     ]
    },
    {
     "name": "stdout",
     "output_type": "stream",
     "text": [
      "Train Loss: 0.8010, Train Acc: 0.00%\n",
      "Test Loss:  0.2780, Test Acc:  96.95%\n",
      "\n",
      "Epoch [779/1000]\n"
     ]
    },
    {
     "name": "stderr",
     "output_type": "stream",
     "text": [
      "                                                          \r"
     ]
    },
    {
     "name": "stdout",
     "output_type": "stream",
     "text": [
      "Train Loss: 0.8555, Train Acc: 0.00%\n",
      "Test Loss:  0.3278, Test Acc:  96.73%\n",
      "\n",
      "Epoch [780/1000]\n"
     ]
    },
    {
     "name": "stderr",
     "output_type": "stream",
     "text": [
      "                                                          \r"
     ]
    },
    {
     "name": "stdout",
     "output_type": "stream",
     "text": [
      "Train Loss: 0.7735, Train Acc: 0.00%\n",
      "Test Loss:  0.2780, Test Acc:  96.79%\n",
      "\n",
      "Epoch [781/1000]\n"
     ]
    },
    {
     "name": "stderr",
     "output_type": "stream",
     "text": [
      "                                                          \r"
     ]
    },
    {
     "name": "stdout",
     "output_type": "stream",
     "text": [
      "Train Loss: 0.8711, Train Acc: 0.00%\n",
      "Test Loss:  0.3871, Test Acc:  96.37%\n",
      "\n",
      "Epoch [782/1000]\n"
     ]
    },
    {
     "name": "stderr",
     "output_type": "stream",
     "text": [
      "                                                          \r"
     ]
    },
    {
     "name": "stdout",
     "output_type": "stream",
     "text": [
      "Train Loss: 0.8441, Train Acc: 0.00%\n",
      "Test Loss:  0.2717, Test Acc:  96.74%\n",
      "\n",
      "Epoch [783/1000]\n"
     ]
    },
    {
     "name": "stderr",
     "output_type": "stream",
     "text": [
      "                                                          \r"
     ]
    },
    {
     "name": "stdout",
     "output_type": "stream",
     "text": [
      "Train Loss: 0.7699, Train Acc: 0.00%\n",
      "Test Loss:  0.3219, Test Acc:  96.25%\n",
      "\n",
      "Epoch [784/1000]\n"
     ]
    },
    {
     "name": "stderr",
     "output_type": "stream",
     "text": [
      "                                                          \r"
     ]
    },
    {
     "name": "stdout",
     "output_type": "stream",
     "text": [
      "Train Loss: 0.7976, Train Acc: 0.00%\n",
      "Test Loss:  0.2913, Test Acc:  97.16%\n",
      "Saving model with Test Acc: 97.16%\n",
      "\n",
      "Epoch [785/1000]\n"
     ]
    },
    {
     "name": "stderr",
     "output_type": "stream",
     "text": [
      "                                                          \r"
     ]
    },
    {
     "name": "stdout",
     "output_type": "stream",
     "text": [
      "Train Loss: 0.8577, Train Acc: 0.00%\n",
      "Test Loss:  0.3319, Test Acc:  96.94%\n",
      "\n",
      "Epoch [786/1000]\n"
     ]
    },
    {
     "name": "stderr",
     "output_type": "stream",
     "text": [
      "                                                          \r"
     ]
    },
    {
     "name": "stdout",
     "output_type": "stream",
     "text": [
      "Train Loss: 0.8767, Train Acc: 0.00%\n",
      "Test Loss:  0.3194, Test Acc:  96.84%\n",
      "\n",
      "Epoch [787/1000]\n"
     ]
    },
    {
     "name": "stderr",
     "output_type": "stream",
     "text": [
      "                                                          \r"
     ]
    },
    {
     "name": "stdout",
     "output_type": "stream",
     "text": [
      "Train Loss: 0.8282, Train Acc: 0.00%\n",
      "Test Loss:  0.2756, Test Acc:  96.60%\n",
      "\n",
      "Epoch [788/1000]\n"
     ]
    },
    {
     "name": "stderr",
     "output_type": "stream",
     "text": [
      "                                                          \r"
     ]
    },
    {
     "name": "stdout",
     "output_type": "stream",
     "text": [
      "Train Loss: 0.7907, Train Acc: 0.00%\n",
      "Test Loss:  0.3233, Test Acc:  96.57%\n",
      "\n",
      "Epoch [789/1000]\n"
     ]
    },
    {
     "name": "stderr",
     "output_type": "stream",
     "text": [
      "                                                          \r"
     ]
    },
    {
     "name": "stdout",
     "output_type": "stream",
     "text": [
      "Train Loss: 0.7423, Train Acc: 0.00%\n",
      "Test Loss:  0.2368, Test Acc:  96.43%\n",
      "\n",
      "Epoch [790/1000]\n"
     ]
    },
    {
     "name": "stderr",
     "output_type": "stream",
     "text": [
      "                                                          \r"
     ]
    },
    {
     "name": "stdout",
     "output_type": "stream",
     "text": [
      "Train Loss: 0.8240, Train Acc: 0.00%\n",
      "Test Loss:  0.3305, Test Acc:  96.72%\n",
      "\n",
      "Epoch [791/1000]\n"
     ]
    },
    {
     "name": "stderr",
     "output_type": "stream",
     "text": [
      "                                                          \r"
     ]
    },
    {
     "name": "stdout",
     "output_type": "stream",
     "text": [
      "Train Loss: 0.8583, Train Acc: 0.00%\n",
      "Test Loss:  0.2923, Test Acc:  96.57%\n",
      "\n",
      "Epoch [792/1000]\n"
     ]
    },
    {
     "name": "stderr",
     "output_type": "stream",
     "text": [
      "                                                          \r"
     ]
    },
    {
     "name": "stdout",
     "output_type": "stream",
     "text": [
      "Train Loss: 0.8503, Train Acc: 0.00%\n",
      "Test Loss:  0.3350, Test Acc:  96.71%\n",
      "\n",
      "Epoch [793/1000]\n"
     ]
    },
    {
     "name": "stderr",
     "output_type": "stream",
     "text": [
      "                                                          \r"
     ]
    },
    {
     "name": "stdout",
     "output_type": "stream",
     "text": [
      "Train Loss: 0.8298, Train Acc: 0.00%\n",
      "Test Loss:  0.2993, Test Acc:  96.98%\n",
      "\n",
      "Epoch [794/1000]\n"
     ]
    },
    {
     "name": "stderr",
     "output_type": "stream",
     "text": [
      "                                                          \r"
     ]
    },
    {
     "name": "stdout",
     "output_type": "stream",
     "text": [
      "Train Loss: 0.8638, Train Acc: 0.00%\n",
      "Test Loss:  0.2722, Test Acc:  97.04%\n",
      "\n",
      "Epoch [795/1000]\n"
     ]
    },
    {
     "name": "stderr",
     "output_type": "stream",
     "text": [
      "                                                          \r"
     ]
    },
    {
     "name": "stdout",
     "output_type": "stream",
     "text": [
      "Train Loss: 0.7954, Train Acc: 0.00%\n",
      "Test Loss:  0.3158, Test Acc:  96.81%\n",
      "\n",
      "Epoch [796/1000]\n"
     ]
    },
    {
     "name": "stderr",
     "output_type": "stream",
     "text": [
      "                                                          \r"
     ]
    },
    {
     "name": "stdout",
     "output_type": "stream",
     "text": [
      "Train Loss: 0.7960, Train Acc: 0.00%\n",
      "Test Loss:  0.2325, Test Acc:  96.79%\n",
      "\n",
      "Epoch [797/1000]\n"
     ]
    },
    {
     "name": "stderr",
     "output_type": "stream",
     "text": [
      "                                                           \r"
     ]
    },
    {
     "name": "stdout",
     "output_type": "stream",
     "text": [
      "Train Loss: 0.7720, Train Acc: 0.00%\n",
      "Test Loss:  0.2615, Test Acc:  96.56%\n",
      "\n",
      "Epoch [798/1000]\n"
     ]
    },
    {
     "name": "stderr",
     "output_type": "stream",
     "text": [
      "                                                          \r"
     ]
    },
    {
     "name": "stdout",
     "output_type": "stream",
     "text": [
      "Train Loss: 0.8632, Train Acc: 0.00%\n",
      "Test Loss:  0.2907, Test Acc:  96.83%\n",
      "\n",
      "Epoch [799/1000]\n"
     ]
    },
    {
     "name": "stderr",
     "output_type": "stream",
     "text": [
      "                                                          \r"
     ]
    },
    {
     "name": "stdout",
     "output_type": "stream",
     "text": [
      "Train Loss: 0.8433, Train Acc: 0.00%\n",
      "Test Loss:  0.3322, Test Acc:  96.75%\n",
      "\n",
      "Epoch [800/1000]\n"
     ]
    },
    {
     "name": "stderr",
     "output_type": "stream",
     "text": [
      "                                                          \r"
     ]
    },
    {
     "name": "stdout",
     "output_type": "stream",
     "text": [
      "Train Loss: 0.7877, Train Acc: 0.00%\n",
      "Test Loss:  0.2523, Test Acc:  96.89%\n",
      "\n",
      "Epoch [801/1000]\n"
     ]
    },
    {
     "name": "stderr",
     "output_type": "stream",
     "text": [
      "                                                          \r"
     ]
    },
    {
     "name": "stdout",
     "output_type": "stream",
     "text": [
      "Train Loss: 0.8030, Train Acc: 0.00%\n",
      "Test Loss:  0.3048, Test Acc:  96.65%\n",
      "\n",
      "Epoch [802/1000]\n"
     ]
    },
    {
     "name": "stderr",
     "output_type": "stream",
     "text": [
      "                                                          \r"
     ]
    },
    {
     "name": "stdout",
     "output_type": "stream",
     "text": [
      "Train Loss: 0.8267, Train Acc: 0.00%\n",
      "Test Loss:  0.2626, Test Acc:  96.95%\n",
      "\n",
      "Epoch [803/1000]\n"
     ]
    },
    {
     "name": "stderr",
     "output_type": "stream",
     "text": [
      "                                                           \r"
     ]
    },
    {
     "name": "stdout",
     "output_type": "stream",
     "text": [
      "Train Loss: 0.7739, Train Acc: 0.00%\n",
      "Test Loss:  0.3086, Test Acc:  97.05%\n",
      "\n",
      "Epoch [804/1000]\n"
     ]
    },
    {
     "name": "stderr",
     "output_type": "stream",
     "text": [
      "                                                          \r"
     ]
    },
    {
     "name": "stdout",
     "output_type": "stream",
     "text": [
      "Train Loss: 0.7953, Train Acc: 0.00%\n",
      "Test Loss:  0.2643, Test Acc:  96.69%\n",
      "\n",
      "Epoch [805/1000]\n"
     ]
    },
    {
     "name": "stderr",
     "output_type": "stream",
     "text": [
      "                                                           \r"
     ]
    },
    {
     "name": "stdout",
     "output_type": "stream",
     "text": [
      "Train Loss: 0.8052, Train Acc: 0.00%\n",
      "Test Loss:  0.2895, Test Acc:  96.92%\n",
      "\n",
      "Epoch [806/1000]\n"
     ]
    },
    {
     "name": "stderr",
     "output_type": "stream",
     "text": [
      "                                                          \r"
     ]
    },
    {
     "name": "stdout",
     "output_type": "stream",
     "text": [
      "Train Loss: 0.8766, Train Acc: 0.00%\n",
      "Test Loss:  0.2899, Test Acc:  97.07%\n",
      "\n",
      "Epoch [807/1000]\n"
     ]
    },
    {
     "name": "stderr",
     "output_type": "stream",
     "text": [
      "                                                          \r"
     ]
    },
    {
     "name": "stdout",
     "output_type": "stream",
     "text": [
      "Train Loss: 0.8413, Train Acc: 0.00%\n",
      "Test Loss:  0.3140, Test Acc:  97.00%\n",
      "\n",
      "Epoch [808/1000]\n"
     ]
    },
    {
     "name": "stderr",
     "output_type": "stream",
     "text": [
      "                                                           \r"
     ]
    },
    {
     "name": "stdout",
     "output_type": "stream",
     "text": [
      "Train Loss: 0.8348, Train Acc: 0.00%\n",
      "Test Loss:  0.3019, Test Acc:  96.77%\n",
      "\n",
      "Epoch [809/1000]\n"
     ]
    },
    {
     "name": "stderr",
     "output_type": "stream",
     "text": [
      "                                                          \r"
     ]
    },
    {
     "name": "stdout",
     "output_type": "stream",
     "text": [
      "Train Loss: 0.8226, Train Acc: 0.00%\n",
      "Test Loss:  0.3112, Test Acc:  96.94%\n",
      "\n",
      "Epoch [810/1000]\n"
     ]
    },
    {
     "name": "stderr",
     "output_type": "stream",
     "text": [
      "                                                          \r"
     ]
    },
    {
     "name": "stdout",
     "output_type": "stream",
     "text": [
      "Train Loss: 0.8236, Train Acc: 0.00%\n",
      "Test Loss:  0.3130, Test Acc:  96.97%\n",
      "\n",
      "Epoch [811/1000]\n"
     ]
    },
    {
     "name": "stderr",
     "output_type": "stream",
     "text": [
      "                                                          \r"
     ]
    },
    {
     "name": "stdout",
     "output_type": "stream",
     "text": [
      "Train Loss: 0.8237, Train Acc: 0.00%\n",
      "Test Loss:  0.3397, Test Acc:  96.96%\n",
      "\n",
      "Epoch [812/1000]\n"
     ]
    },
    {
     "name": "stderr",
     "output_type": "stream",
     "text": [
      "                                                          \r"
     ]
    },
    {
     "name": "stdout",
     "output_type": "stream",
     "text": [
      "Train Loss: 0.8367, Train Acc: 0.00%\n",
      "Test Loss:  0.3221, Test Acc:  96.87%\n",
      "\n",
      "Epoch [813/1000]\n"
     ]
    },
    {
     "name": "stderr",
     "output_type": "stream",
     "text": [
      "                                                          \r"
     ]
    },
    {
     "name": "stdout",
     "output_type": "stream",
     "text": [
      "Train Loss: 0.9027, Train Acc: 0.00%\n",
      "Test Loss:  0.3060, Test Acc:  97.05%\n",
      "\n",
      "Epoch [814/1000]\n"
     ]
    },
    {
     "name": "stderr",
     "output_type": "stream",
     "text": [
      "                                                          \r"
     ]
    },
    {
     "name": "stdout",
     "output_type": "stream",
     "text": [
      "Train Loss: 0.8353, Train Acc: 0.00%\n",
      "Test Loss:  0.2586, Test Acc:  97.04%\n",
      "\n",
      "Epoch [815/1000]\n"
     ]
    },
    {
     "name": "stderr",
     "output_type": "stream",
     "text": [
      "                                                          \r"
     ]
    },
    {
     "name": "stdout",
     "output_type": "stream",
     "text": [
      "Train Loss: 0.8322, Train Acc: 0.00%\n",
      "Test Loss:  0.3450, Test Acc:  96.97%\n",
      "\n",
      "Epoch [816/1000]\n"
     ]
    },
    {
     "name": "stderr",
     "output_type": "stream",
     "text": [
      "                                                          \r"
     ]
    },
    {
     "name": "stdout",
     "output_type": "stream",
     "text": [
      "Train Loss: 0.8105, Train Acc: 0.00%\n",
      "Test Loss:  0.2850, Test Acc:  96.92%\n",
      "\n",
      "Epoch [817/1000]\n"
     ]
    },
    {
     "name": "stderr",
     "output_type": "stream",
     "text": [
      "                                                          \r"
     ]
    },
    {
     "name": "stdout",
     "output_type": "stream",
     "text": [
      "Train Loss: 0.7972, Train Acc: 0.00%\n",
      "Test Loss:  0.2679, Test Acc:  96.76%\n",
      "\n",
      "Epoch [818/1000]\n"
     ]
    },
    {
     "name": "stderr",
     "output_type": "stream",
     "text": [
      "                                                          \r"
     ]
    },
    {
     "name": "stdout",
     "output_type": "stream",
     "text": [
      "Train Loss: 0.8492, Train Acc: 0.00%\n",
      "Test Loss:  0.3148, Test Acc:  96.87%\n",
      "\n",
      "Epoch [819/1000]\n"
     ]
    },
    {
     "name": "stderr",
     "output_type": "stream",
     "text": [
      "                                                          \r"
     ]
    },
    {
     "name": "stdout",
     "output_type": "stream",
     "text": [
      "Train Loss: 0.7594, Train Acc: 0.00%\n",
      "Test Loss:  0.2778, Test Acc:  96.69%\n",
      "\n",
      "Epoch [820/1000]\n"
     ]
    },
    {
     "name": "stderr",
     "output_type": "stream",
     "text": [
      "                                                          \r"
     ]
    },
    {
     "name": "stdout",
     "output_type": "stream",
     "text": [
      "Train Loss: 0.8238, Train Acc: 0.00%\n",
      "Test Loss:  0.2629, Test Acc:  97.02%\n",
      "\n",
      "Epoch [821/1000]\n"
     ]
    },
    {
     "name": "stderr",
     "output_type": "stream",
     "text": [
      "                                                          \r"
     ]
    },
    {
     "name": "stdout",
     "output_type": "stream",
     "text": [
      "Train Loss: 0.8038, Train Acc: 0.00%\n",
      "Test Loss:  0.2586, Test Acc:  97.21%\n",
      "Saving model with Test Acc: 97.21%\n",
      "\n",
      "Epoch [822/1000]\n"
     ]
    },
    {
     "name": "stderr",
     "output_type": "stream",
     "text": [
      "                                                          \r"
     ]
    },
    {
     "name": "stdout",
     "output_type": "stream",
     "text": [
      "Train Loss: 0.8209, Train Acc: 0.00%\n",
      "Test Loss:  0.3163, Test Acc:  97.27%\n",
      "Saving model with Test Acc: 97.27%\n",
      "\n",
      "Epoch [823/1000]\n"
     ]
    },
    {
     "name": "stderr",
     "output_type": "stream",
     "text": [
      "                                                          \r"
     ]
    },
    {
     "name": "stdout",
     "output_type": "stream",
     "text": [
      "Train Loss: 0.7829, Train Acc: 0.00%\n",
      "Test Loss:  0.2831, Test Acc:  96.82%\n",
      "\n",
      "Epoch [824/1000]\n"
     ]
    },
    {
     "name": "stderr",
     "output_type": "stream",
     "text": [
      "                                                          \r"
     ]
    },
    {
     "name": "stdout",
     "output_type": "stream",
     "text": [
      "Train Loss: 0.8087, Train Acc: 0.00%\n",
      "Test Loss:  0.2592, Test Acc:  96.90%\n",
      "\n",
      "Epoch [825/1000]\n"
     ]
    },
    {
     "name": "stderr",
     "output_type": "stream",
     "text": [
      "                                                          \r"
     ]
    },
    {
     "name": "stdout",
     "output_type": "stream",
     "text": [
      "Train Loss: 0.7519, Train Acc: 0.00%\n",
      "Test Loss:  0.2900, Test Acc:  96.63%\n",
      "\n",
      "Epoch [826/1000]\n"
     ]
    },
    {
     "name": "stderr",
     "output_type": "stream",
     "text": [
      "                                                          \r"
     ]
    },
    {
     "name": "stdout",
     "output_type": "stream",
     "text": [
      "Train Loss: 0.8074, Train Acc: 0.00%\n",
      "Test Loss:  0.2901, Test Acc:  97.08%\n",
      "\n",
      "Epoch [827/1000]\n"
     ]
    },
    {
     "name": "stderr",
     "output_type": "stream",
     "text": [
      "                                                          \r"
     ]
    },
    {
     "name": "stdout",
     "output_type": "stream",
     "text": [
      "Train Loss: 0.8037, Train Acc: 0.00%\n",
      "Test Loss:  0.3168, Test Acc:  97.27%\n",
      "\n",
      "Epoch [828/1000]\n"
     ]
    },
    {
     "name": "stderr",
     "output_type": "stream",
     "text": [
      "                                                          \r"
     ]
    },
    {
     "name": "stdout",
     "output_type": "stream",
     "text": [
      "Train Loss: 0.7414, Train Acc: 0.00%\n",
      "Test Loss:  0.2460, Test Acc:  96.90%\n",
      "\n",
      "Epoch [829/1000]\n"
     ]
    },
    {
     "name": "stderr",
     "output_type": "stream",
     "text": [
      "                                                          \r"
     ]
    },
    {
     "name": "stdout",
     "output_type": "stream",
     "text": [
      "Train Loss: 0.7771, Train Acc: 0.00%\n",
      "Test Loss:  0.3090, Test Acc:  96.98%\n",
      "\n",
      "Epoch [830/1000]\n"
     ]
    },
    {
     "name": "stderr",
     "output_type": "stream",
     "text": [
      "                                                          \r"
     ]
    },
    {
     "name": "stdout",
     "output_type": "stream",
     "text": [
      "Train Loss: 0.8154, Train Acc: 0.00%\n",
      "Test Loss:  0.3168, Test Acc:  96.95%\n",
      "\n",
      "Epoch [831/1000]\n"
     ]
    },
    {
     "name": "stderr",
     "output_type": "stream",
     "text": [
      "                                                          \r"
     ]
    },
    {
     "name": "stdout",
     "output_type": "stream",
     "text": [
      "Train Loss: 0.8824, Train Acc: 0.00%\n",
      "Test Loss:  0.3078, Test Acc:  96.77%\n",
      "\n",
      "Epoch [832/1000]\n"
     ]
    },
    {
     "name": "stderr",
     "output_type": "stream",
     "text": [
      "                                                          \r"
     ]
    },
    {
     "name": "stdout",
     "output_type": "stream",
     "text": [
      "Train Loss: 0.7597, Train Acc: 0.00%\n",
      "Test Loss:  0.2815, Test Acc:  97.07%\n",
      "\n",
      "Epoch [833/1000]\n"
     ]
    },
    {
     "name": "stderr",
     "output_type": "stream",
     "text": [
      "                                                          \r"
     ]
    },
    {
     "name": "stdout",
     "output_type": "stream",
     "text": [
      "Train Loss: 0.7647, Train Acc: 0.00%\n",
      "Test Loss:  0.2544, Test Acc:  96.97%\n",
      "\n",
      "Epoch [834/1000]\n"
     ]
    },
    {
     "name": "stderr",
     "output_type": "stream",
     "text": [
      "                                                          \r"
     ]
    },
    {
     "name": "stdout",
     "output_type": "stream",
     "text": [
      "Train Loss: 0.8124, Train Acc: 0.00%\n",
      "Test Loss:  0.2850, Test Acc:  96.98%\n",
      "\n",
      "Epoch [835/1000]\n"
     ]
    },
    {
     "name": "stderr",
     "output_type": "stream",
     "text": [
      "                                                          \r"
     ]
    },
    {
     "name": "stdout",
     "output_type": "stream",
     "text": [
      "Train Loss: 0.7698, Train Acc: 0.00%\n",
      "Test Loss:  0.2726, Test Acc:  97.19%\n",
      "\n",
      "Epoch [836/1000]\n"
     ]
    },
    {
     "name": "stderr",
     "output_type": "stream",
     "text": [
      "                                                          \r"
     ]
    },
    {
     "name": "stdout",
     "output_type": "stream",
     "text": [
      "Train Loss: 0.8329, Train Acc: 0.00%\n",
      "Test Loss:  0.2800, Test Acc:  97.19%\n",
      "\n",
      "Epoch [837/1000]\n"
     ]
    },
    {
     "name": "stderr",
     "output_type": "stream",
     "text": [
      "                                                          \r"
     ]
    },
    {
     "name": "stdout",
     "output_type": "stream",
     "text": [
      "Train Loss: 0.8169, Train Acc: 0.00%\n",
      "Test Loss:  0.3429, Test Acc:  97.04%\n",
      "\n",
      "Epoch [838/1000]\n"
     ]
    },
    {
     "name": "stderr",
     "output_type": "stream",
     "text": [
      "                                                          \r"
     ]
    },
    {
     "name": "stdout",
     "output_type": "stream",
     "text": [
      "Train Loss: 0.7853, Train Acc: 0.00%\n",
      "Test Loss:  0.2590, Test Acc:  96.96%\n",
      "\n",
      "Epoch [839/1000]\n"
     ]
    },
    {
     "name": "stderr",
     "output_type": "stream",
     "text": [
      "                                                          \r"
     ]
    },
    {
     "name": "stdout",
     "output_type": "stream",
     "text": [
      "Train Loss: 0.8192, Train Acc: 0.00%\n",
      "Test Loss:  0.2674, Test Acc:  96.99%\n",
      "\n",
      "Epoch [840/1000]\n"
     ]
    },
    {
     "name": "stderr",
     "output_type": "stream",
     "text": [
      "                                                          \r"
     ]
    },
    {
     "name": "stdout",
     "output_type": "stream",
     "text": [
      "Train Loss: 0.7596, Train Acc: 0.00%\n",
      "Test Loss:  0.2516, Test Acc:  96.92%\n",
      "\n",
      "Epoch [841/1000]\n"
     ]
    },
    {
     "name": "stderr",
     "output_type": "stream",
     "text": [
      "                                                          \r"
     ]
    },
    {
     "name": "stdout",
     "output_type": "stream",
     "text": [
      "Train Loss: 0.7975, Train Acc: 0.00%\n",
      "Test Loss:  0.3162, Test Acc:  96.89%\n",
      "\n",
      "Epoch [842/1000]\n"
     ]
    },
    {
     "name": "stderr",
     "output_type": "stream",
     "text": [
      "                                                          \r"
     ]
    },
    {
     "name": "stdout",
     "output_type": "stream",
     "text": [
      "Train Loss: 0.7728, Train Acc: 0.00%\n",
      "Test Loss:  0.3013, Test Acc:  96.87%\n",
      "\n",
      "Epoch [843/1000]\n"
     ]
    },
    {
     "name": "stderr",
     "output_type": "stream",
     "text": [
      "                                                          \r"
     ]
    },
    {
     "name": "stdout",
     "output_type": "stream",
     "text": [
      "Train Loss: 0.8173, Train Acc: 0.00%\n",
      "Test Loss:  0.2897, Test Acc:  97.37%\n",
      "Saving model with Test Acc: 97.37%\n",
      "\n",
      "Epoch [844/1000]\n"
     ]
    },
    {
     "name": "stderr",
     "output_type": "stream",
     "text": [
      "                                                          \r"
     ]
    },
    {
     "name": "stdout",
     "output_type": "stream",
     "text": [
      "Train Loss: 0.7871, Train Acc: 0.00%\n",
      "Test Loss:  0.2772, Test Acc:  97.17%\n",
      "\n",
      "Epoch [845/1000]\n"
     ]
    },
    {
     "name": "stderr",
     "output_type": "stream",
     "text": [
      "                                                          \r"
     ]
    },
    {
     "name": "stdout",
     "output_type": "stream",
     "text": [
      "Train Loss: 0.7003, Train Acc: 0.00%\n",
      "Test Loss:  0.2962, Test Acc:  97.05%\n",
      "\n",
      "Epoch [846/1000]\n"
     ]
    },
    {
     "name": "stderr",
     "output_type": "stream",
     "text": [
      "                                                          \r"
     ]
    },
    {
     "name": "stdout",
     "output_type": "stream",
     "text": [
      "Train Loss: 0.8550, Train Acc: 0.00%\n",
      "Test Loss:  0.3243, Test Acc:  97.19%\n",
      "\n",
      "Epoch [847/1000]\n"
     ]
    },
    {
     "name": "stderr",
     "output_type": "stream",
     "text": [
      "                                                          \r"
     ]
    },
    {
     "name": "stdout",
     "output_type": "stream",
     "text": [
      "Train Loss: 0.8514, Train Acc: 0.00%\n",
      "Test Loss:  0.3167, Test Acc:  97.34%\n",
      "\n",
      "Epoch [848/1000]\n"
     ]
    },
    {
     "name": "stderr",
     "output_type": "stream",
     "text": [
      "                                                          \r"
     ]
    },
    {
     "name": "stdout",
     "output_type": "stream",
     "text": [
      "Train Loss: 0.7028, Train Acc: 0.00%\n",
      "Test Loss:  0.2293, Test Acc:  97.12%\n",
      "\n",
      "Epoch [849/1000]\n"
     ]
    },
    {
     "name": "stderr",
     "output_type": "stream",
     "text": [
      "                                                          \r"
     ]
    },
    {
     "name": "stdout",
     "output_type": "stream",
     "text": [
      "Train Loss: 0.7988, Train Acc: 0.00%\n",
      "Test Loss:  0.3167, Test Acc:  97.27%\n",
      "\n",
      "Epoch [850/1000]\n"
     ]
    },
    {
     "name": "stderr",
     "output_type": "stream",
     "text": [
      "                                                          \r"
     ]
    },
    {
     "name": "stdout",
     "output_type": "stream",
     "text": [
      "Train Loss: 0.7714, Train Acc: 0.00%\n",
      "Test Loss:  0.2681, Test Acc:  97.28%\n",
      "\n",
      "Epoch [851/1000]\n"
     ]
    },
    {
     "name": "stderr",
     "output_type": "stream",
     "text": [
      "                                                           \r"
     ]
    },
    {
     "name": "stdout",
     "output_type": "stream",
     "text": [
      "Train Loss: 0.7408, Train Acc: 0.00%\n",
      "Test Loss:  0.2392, Test Acc:  97.23%\n",
      "\n",
      "Epoch [852/1000]\n"
     ]
    },
    {
     "name": "stderr",
     "output_type": "stream",
     "text": [
      "                                                          \r"
     ]
    },
    {
     "name": "stdout",
     "output_type": "stream",
     "text": [
      "Train Loss: 0.8186, Train Acc: 0.00%\n",
      "Test Loss:  0.3673, Test Acc:  97.15%\n",
      "\n",
      "Epoch [853/1000]\n"
     ]
    },
    {
     "name": "stderr",
     "output_type": "stream",
     "text": [
      "                                                          \r"
     ]
    },
    {
     "name": "stdout",
     "output_type": "stream",
     "text": [
      "Train Loss: 0.7576, Train Acc: 0.00%\n",
      "Test Loss:  0.2636, Test Acc:  97.36%\n",
      "\n",
      "Epoch [854/1000]\n"
     ]
    },
    {
     "name": "stderr",
     "output_type": "stream",
     "text": [
      "                                                          \r"
     ]
    },
    {
     "name": "stdout",
     "output_type": "stream",
     "text": [
      "Train Loss: 0.8526, Train Acc: 0.00%\n",
      "Test Loss:  0.3062, Test Acc:  97.01%\n",
      "\n",
      "Epoch [855/1000]\n"
     ]
    },
    {
     "name": "stderr",
     "output_type": "stream",
     "text": [
      "                                                          \r"
     ]
    },
    {
     "name": "stdout",
     "output_type": "stream",
     "text": [
      "Train Loss: 0.7913, Train Acc: 0.00%\n",
      "Test Loss:  0.3303, Test Acc:  97.14%\n",
      "\n",
      "Epoch [856/1000]\n"
     ]
    },
    {
     "name": "stderr",
     "output_type": "stream",
     "text": [
      "                                                          \r"
     ]
    },
    {
     "name": "stdout",
     "output_type": "stream",
     "text": [
      "Train Loss: 0.7493, Train Acc: 0.00%\n",
      "Test Loss:  0.2586, Test Acc:  97.26%\n",
      "\n",
      "Epoch [857/1000]\n"
     ]
    },
    {
     "name": "stderr",
     "output_type": "stream",
     "text": [
      "                                                          \r"
     ]
    },
    {
     "name": "stdout",
     "output_type": "stream",
     "text": [
      "Train Loss: 0.8010, Train Acc: 0.00%\n",
      "Test Loss:  0.2727, Test Acc:  97.11%\n",
      "\n",
      "Epoch [858/1000]\n"
     ]
    },
    {
     "name": "stderr",
     "output_type": "stream",
     "text": [
      "                                                          \r"
     ]
    },
    {
     "name": "stdout",
     "output_type": "stream",
     "text": [
      "Train Loss: 0.8216, Train Acc: 0.00%\n",
      "Test Loss:  0.3251, Test Acc:  97.27%\n",
      "\n",
      "Epoch [859/1000]\n"
     ]
    },
    {
     "name": "stderr",
     "output_type": "stream",
     "text": [
      "                                                          \r"
     ]
    },
    {
     "name": "stdout",
     "output_type": "stream",
     "text": [
      "Train Loss: 0.8115, Train Acc: 0.00%\n",
      "Test Loss:  0.2960, Test Acc:  97.11%\n",
      "\n",
      "Epoch [860/1000]\n"
     ]
    },
    {
     "name": "stderr",
     "output_type": "stream",
     "text": [
      "                                                          \r"
     ]
    },
    {
     "name": "stdout",
     "output_type": "stream",
     "text": [
      "Train Loss: 0.7944, Train Acc: 0.00%\n",
      "Test Loss:  0.3070, Test Acc:  97.12%\n",
      "\n",
      "Epoch [861/1000]\n"
     ]
    },
    {
     "name": "stderr",
     "output_type": "stream",
     "text": [
      "                                                          \r"
     ]
    },
    {
     "name": "stdout",
     "output_type": "stream",
     "text": [
      "Train Loss: 0.7682, Train Acc: 0.00%\n",
      "Test Loss:  0.2469, Test Acc:  97.30%\n",
      "\n",
      "Epoch [862/1000]\n"
     ]
    },
    {
     "name": "stderr",
     "output_type": "stream",
     "text": [
      "                                                          \r"
     ]
    },
    {
     "name": "stdout",
     "output_type": "stream",
     "text": [
      "Train Loss: 0.8044, Train Acc: 0.00%\n",
      "Test Loss:  0.3185, Test Acc:  97.12%\n",
      "\n",
      "Epoch [863/1000]\n"
     ]
    },
    {
     "name": "stderr",
     "output_type": "stream",
     "text": [
      "                                                          \r"
     ]
    },
    {
     "name": "stdout",
     "output_type": "stream",
     "text": [
      "Train Loss: 0.6912, Train Acc: 0.00%\n",
      "Test Loss:  0.2617, Test Acc:  97.21%\n",
      "\n",
      "Epoch [864/1000]\n"
     ]
    },
    {
     "name": "stderr",
     "output_type": "stream",
     "text": [
      "                                                          \r"
     ]
    },
    {
     "name": "stdout",
     "output_type": "stream",
     "text": [
      "Train Loss: 0.8545, Train Acc: 0.00%\n",
      "Test Loss:  0.3840, Test Acc:  97.16%\n",
      "\n",
      "Epoch [865/1000]\n"
     ]
    },
    {
     "name": "stderr",
     "output_type": "stream",
     "text": [
      "                                                          \r"
     ]
    },
    {
     "name": "stdout",
     "output_type": "stream",
     "text": [
      "Train Loss: 0.7915, Train Acc: 0.00%\n",
      "Test Loss:  0.2615, Test Acc:  97.16%\n",
      "\n",
      "Epoch [866/1000]\n"
     ]
    },
    {
     "name": "stderr",
     "output_type": "stream",
     "text": [
      "                                                          \r"
     ]
    },
    {
     "name": "stdout",
     "output_type": "stream",
     "text": [
      "Train Loss: 0.8503, Train Acc: 0.00%\n",
      "Test Loss:  0.3049, Test Acc:  97.35%\n",
      "\n",
      "Epoch [867/1000]\n"
     ]
    },
    {
     "name": "stderr",
     "output_type": "stream",
     "text": [
      "                                                          \r"
     ]
    },
    {
     "name": "stdout",
     "output_type": "stream",
     "text": [
      "Train Loss: 0.8079, Train Acc: 0.00%\n",
      "Test Loss:  0.2994, Test Acc:  97.33%\n",
      "\n",
      "Epoch [868/1000]\n"
     ]
    },
    {
     "name": "stderr",
     "output_type": "stream",
     "text": [
      "                                                          \r"
     ]
    },
    {
     "name": "stdout",
     "output_type": "stream",
     "text": [
      "Train Loss: 0.8115, Train Acc: 0.00%\n",
      "Test Loss:  0.2660, Test Acc:  97.18%\n",
      "\n",
      "Epoch [869/1000]\n"
     ]
    },
    {
     "name": "stderr",
     "output_type": "stream",
     "text": [
      "                                                          \r"
     ]
    },
    {
     "name": "stdout",
     "output_type": "stream",
     "text": [
      "Train Loss: 0.7427, Train Acc: 0.00%\n",
      "Test Loss:  0.2491, Test Acc:  97.40%\n",
      "Saving model with Test Acc: 97.40%\n",
      "\n",
      "Epoch [870/1000]\n"
     ]
    },
    {
     "name": "stderr",
     "output_type": "stream",
     "text": [
      "                                                          \r"
     ]
    },
    {
     "name": "stdout",
     "output_type": "stream",
     "text": [
      "Train Loss: 0.8136, Train Acc: 0.00%\n",
      "Test Loss:  0.2572, Test Acc:  97.26%\n",
      "\n",
      "Epoch [871/1000]\n"
     ]
    },
    {
     "name": "stderr",
     "output_type": "stream",
     "text": [
      "                                                          \r"
     ]
    },
    {
     "name": "stdout",
     "output_type": "stream",
     "text": [
      "Train Loss: 0.7784, Train Acc: 0.00%\n",
      "Test Loss:  0.3131, Test Acc:  97.29%\n",
      "\n",
      "Epoch [872/1000]\n"
     ]
    },
    {
     "name": "stderr",
     "output_type": "stream",
     "text": [
      "                                                          \r"
     ]
    },
    {
     "name": "stdout",
     "output_type": "stream",
     "text": [
      "Train Loss: 0.7874, Train Acc: 0.00%\n",
      "Test Loss:  0.2912, Test Acc:  97.05%\n",
      "\n",
      "Epoch [873/1000]\n"
     ]
    },
    {
     "name": "stderr",
     "output_type": "stream",
     "text": [
      "                                                           \r"
     ]
    },
    {
     "name": "stdout",
     "output_type": "stream",
     "text": [
      "Train Loss: 0.8152, Train Acc: 0.00%\n",
      "Test Loss:  0.3256, Test Acc:  97.42%\n",
      "Saving model with Test Acc: 97.42%\n",
      "\n",
      "Epoch [874/1000]\n"
     ]
    },
    {
     "name": "stderr",
     "output_type": "stream",
     "text": [
      "                                                          \r"
     ]
    },
    {
     "name": "stdout",
     "output_type": "stream",
     "text": [
      "Train Loss: 0.7741, Train Acc: 0.00%\n",
      "Test Loss:  0.2632, Test Acc:  97.39%\n",
      "\n",
      "Epoch [875/1000]\n"
     ]
    },
    {
     "name": "stderr",
     "output_type": "stream",
     "text": [
      "                                                          \r"
     ]
    },
    {
     "name": "stdout",
     "output_type": "stream",
     "text": [
      "Train Loss: 0.7456, Train Acc: 0.00%\n",
      "Test Loss:  0.2515, Test Acc:  97.42%\n",
      "\n",
      "Epoch [876/1000]\n"
     ]
    },
    {
     "name": "stderr",
     "output_type": "stream",
     "text": [
      "                                                          \r"
     ]
    },
    {
     "name": "stdout",
     "output_type": "stream",
     "text": [
      "Train Loss: 0.7984, Train Acc: 0.00%\n",
      "Test Loss:  0.2817, Test Acc:  97.29%\n",
      "\n",
      "Epoch [877/1000]\n"
     ]
    },
    {
     "name": "stderr",
     "output_type": "stream",
     "text": [
      "                                                          \r"
     ]
    },
    {
     "name": "stdout",
     "output_type": "stream",
     "text": [
      "Train Loss: 0.7155, Train Acc: 0.00%\n",
      "Test Loss:  0.2509, Test Acc:  97.36%\n",
      "\n",
      "Epoch [878/1000]\n"
     ]
    },
    {
     "name": "stderr",
     "output_type": "stream",
     "text": [
      "                                                          \r"
     ]
    },
    {
     "name": "stdout",
     "output_type": "stream",
     "text": [
      "Train Loss: 0.7975, Train Acc: 0.00%\n",
      "Test Loss:  0.2887, Test Acc:  97.40%\n",
      "\n",
      "Epoch [879/1000]\n"
     ]
    },
    {
     "name": "stderr",
     "output_type": "stream",
     "text": [
      "                                                          \r"
     ]
    },
    {
     "name": "stdout",
     "output_type": "stream",
     "text": [
      "Train Loss: 0.7026, Train Acc: 0.00%\n",
      "Test Loss:  0.2759, Test Acc:  97.46%\n",
      "Saving model with Test Acc: 97.46%\n",
      "\n",
      "Epoch [880/1000]\n"
     ]
    },
    {
     "name": "stderr",
     "output_type": "stream",
     "text": [
      "                                                          \r"
     ]
    },
    {
     "name": "stdout",
     "output_type": "stream",
     "text": [
      "Train Loss: 0.7188, Train Acc: 0.00%\n",
      "Test Loss:  0.2727, Test Acc:  97.45%\n",
      "\n",
      "Epoch [881/1000]\n"
     ]
    },
    {
     "name": "stderr",
     "output_type": "stream",
     "text": [
      "                                                          \r"
     ]
    },
    {
     "name": "stdout",
     "output_type": "stream",
     "text": [
      "Train Loss: 0.8328, Train Acc: 0.00%\n",
      "Test Loss:  0.3065, Test Acc:  97.45%\n",
      "\n",
      "Epoch [882/1000]\n"
     ]
    },
    {
     "name": "stderr",
     "output_type": "stream",
     "text": [
      "                                                          \r"
     ]
    },
    {
     "name": "stdout",
     "output_type": "stream",
     "text": [
      "Train Loss: 0.8489, Train Acc: 0.00%\n",
      "Test Loss:  0.3249, Test Acc:  97.34%\n",
      "\n",
      "Epoch [883/1000]\n"
     ]
    },
    {
     "name": "stderr",
     "output_type": "stream",
     "text": [
      "                                                          \r"
     ]
    },
    {
     "name": "stdout",
     "output_type": "stream",
     "text": [
      "Train Loss: 0.7718, Train Acc: 0.00%\n",
      "Test Loss:  0.2841, Test Acc:  97.49%\n",
      "Saving model with Test Acc: 97.49%\n",
      "\n",
      "Epoch [884/1000]\n"
     ]
    },
    {
     "name": "stderr",
     "output_type": "stream",
     "text": [
      "                                                          \r"
     ]
    },
    {
     "name": "stdout",
     "output_type": "stream",
     "text": [
      "Train Loss: 0.7889, Train Acc: 0.00%\n",
      "Test Loss:  0.2922, Test Acc:  97.38%\n",
      "\n",
      "Epoch [885/1000]\n"
     ]
    },
    {
     "name": "stderr",
     "output_type": "stream",
     "text": [
      "                                                          \r"
     ]
    },
    {
     "name": "stdout",
     "output_type": "stream",
     "text": [
      "Train Loss: 0.7941, Train Acc: 0.00%\n",
      "Test Loss:  0.3210, Test Acc:  97.40%\n",
      "\n",
      "Epoch [886/1000]\n"
     ]
    },
    {
     "name": "stderr",
     "output_type": "stream",
     "text": [
      "                                                          \r"
     ]
    },
    {
     "name": "stdout",
     "output_type": "stream",
     "text": [
      "Train Loss: 0.7816, Train Acc: 0.00%\n",
      "Test Loss:  0.2497, Test Acc:  97.35%\n",
      "\n",
      "Epoch [887/1000]\n"
     ]
    },
    {
     "name": "stderr",
     "output_type": "stream",
     "text": [
      "                                                          \r"
     ]
    },
    {
     "name": "stdout",
     "output_type": "stream",
     "text": [
      "Train Loss: 0.6847, Train Acc: 0.00%\n",
      "Test Loss:  0.2525, Test Acc:  97.37%\n",
      "\n",
      "Epoch [888/1000]\n"
     ]
    },
    {
     "name": "stderr",
     "output_type": "stream",
     "text": [
      "                                                          \r"
     ]
    },
    {
     "name": "stdout",
     "output_type": "stream",
     "text": [
      "Train Loss: 0.7561, Train Acc: 0.00%\n",
      "Test Loss:  0.2784, Test Acc:  97.44%\n",
      "\n",
      "Epoch [889/1000]\n"
     ]
    },
    {
     "name": "stderr",
     "output_type": "stream",
     "text": [
      "                                                           \r"
     ]
    },
    {
     "name": "stdout",
     "output_type": "stream",
     "text": [
      "Train Loss: 0.7128, Train Acc: 0.00%\n",
      "Test Loss:  0.2736, Test Acc:  97.34%\n",
      "\n",
      "Epoch [890/1000]\n"
     ]
    },
    {
     "name": "stderr",
     "output_type": "stream",
     "text": [
      "                                                          \r"
     ]
    },
    {
     "name": "stdout",
     "output_type": "stream",
     "text": [
      "Train Loss: 0.7742, Train Acc: 0.00%\n",
      "Test Loss:  0.3033, Test Acc:  97.39%\n",
      "\n",
      "Epoch [891/1000]\n"
     ]
    },
    {
     "name": "stderr",
     "output_type": "stream",
     "text": [
      "                                                          \r"
     ]
    },
    {
     "name": "stdout",
     "output_type": "stream",
     "text": [
      "Train Loss: 0.7709, Train Acc: 0.00%\n",
      "Test Loss:  0.2431, Test Acc:  97.21%\n",
      "\n",
      "Epoch [892/1000]\n"
     ]
    },
    {
     "name": "stderr",
     "output_type": "stream",
     "text": [
      "                                                          \r"
     ]
    },
    {
     "name": "stdout",
     "output_type": "stream",
     "text": [
      "Train Loss: 0.8592, Train Acc: 0.00%\n",
      "Test Loss:  0.2974, Test Acc:  97.43%\n",
      "\n",
      "Epoch [893/1000]\n"
     ]
    },
    {
     "name": "stderr",
     "output_type": "stream",
     "text": [
      "                                                          \r"
     ]
    },
    {
     "name": "stdout",
     "output_type": "stream",
     "text": [
      "Train Loss: 0.7979, Train Acc: 0.00%\n",
      "Test Loss:  0.2905, Test Acc:  97.35%\n",
      "\n",
      "Epoch [894/1000]\n"
     ]
    },
    {
     "name": "stderr",
     "output_type": "stream",
     "text": [
      "                                                           \r"
     ]
    },
    {
     "name": "stdout",
     "output_type": "stream",
     "text": [
      "Train Loss: 0.8177, Train Acc: 0.00%\n",
      "Test Loss:  0.2949, Test Acc:  97.49%\n",
      "\n",
      "Epoch [895/1000]\n"
     ]
    },
    {
     "name": "stderr",
     "output_type": "stream",
     "text": [
      "                                                          \r"
     ]
    },
    {
     "name": "stdout",
     "output_type": "stream",
     "text": [
      "Train Loss: 0.7860, Train Acc: 0.00%\n",
      "Test Loss:  0.3000, Test Acc:  97.46%\n",
      "\n",
      "Epoch [896/1000]\n"
     ]
    },
    {
     "name": "stderr",
     "output_type": "stream",
     "text": [
      "                                                          \r"
     ]
    },
    {
     "name": "stdout",
     "output_type": "stream",
     "text": [
      "Train Loss: 0.7799, Train Acc: 0.00%\n",
      "Test Loss:  0.2429, Test Acc:  97.29%\n",
      "\n",
      "Epoch [897/1000]\n"
     ]
    },
    {
     "name": "stderr",
     "output_type": "stream",
     "text": [
      "                                                          \r"
     ]
    },
    {
     "name": "stdout",
     "output_type": "stream",
     "text": [
      "Train Loss: 0.7620, Train Acc: 0.00%\n",
      "Test Loss:  0.3116, Test Acc:  97.25%\n",
      "\n",
      "Epoch [898/1000]\n"
     ]
    },
    {
     "name": "stderr",
     "output_type": "stream",
     "text": [
      "                                                          \r"
     ]
    },
    {
     "name": "stdout",
     "output_type": "stream",
     "text": [
      "Train Loss: 0.7422, Train Acc: 0.00%\n",
      "Test Loss:  0.2982, Test Acc:  97.39%\n",
      "\n",
      "Epoch [899/1000]\n"
     ]
    },
    {
     "name": "stderr",
     "output_type": "stream",
     "text": [
      "                                                          \r"
     ]
    },
    {
     "name": "stdout",
     "output_type": "stream",
     "text": [
      "Train Loss: 0.8058, Train Acc: 0.00%\n",
      "Test Loss:  0.2839, Test Acc:  97.18%\n",
      "\n",
      "Epoch [900/1000]\n"
     ]
    },
    {
     "name": "stderr",
     "output_type": "stream",
     "text": [
      "                                                           \r"
     ]
    },
    {
     "name": "stdout",
     "output_type": "stream",
     "text": [
      "Train Loss: 0.8100, Train Acc: 0.00%\n",
      "Test Loss:  0.2758, Test Acc:  97.37%\n",
      "\n",
      "Epoch [901/1000]\n"
     ]
    },
    {
     "name": "stderr",
     "output_type": "stream",
     "text": [
      "                                                          \r"
     ]
    },
    {
     "name": "stdout",
     "output_type": "stream",
     "text": [
      "Train Loss: 0.8132, Train Acc: 0.00%\n",
      "Test Loss:  0.2833, Test Acc:  97.45%\n",
      "\n",
      "Epoch [902/1000]\n"
     ]
    },
    {
     "name": "stderr",
     "output_type": "stream",
     "text": [
      "                                                          \r"
     ]
    },
    {
     "name": "stdout",
     "output_type": "stream",
     "text": [
      "Train Loss: 0.7347, Train Acc: 0.00%\n",
      "Test Loss:  0.2728, Test Acc:  97.53%\n",
      "Saving model with Test Acc: 97.53%\n",
      "\n",
      "Epoch [903/1000]\n"
     ]
    },
    {
     "name": "stderr",
     "output_type": "stream",
     "text": [
      "                                                          \r"
     ]
    },
    {
     "name": "stdout",
     "output_type": "stream",
     "text": [
      "Train Loss: 0.6965, Train Acc: 0.00%\n",
      "Test Loss:  0.2357, Test Acc:  97.34%\n",
      "\n",
      "Epoch [904/1000]\n"
     ]
    },
    {
     "name": "stderr",
     "output_type": "stream",
     "text": [
      "                                                          \r"
     ]
    },
    {
     "name": "stdout",
     "output_type": "stream",
     "text": [
      "Train Loss: 0.7918, Train Acc: 0.00%\n",
      "Test Loss:  0.2641, Test Acc:  97.55%\n",
      "Saving model with Test Acc: 97.55%\n",
      "\n",
      "Epoch [905/1000]\n"
     ]
    },
    {
     "name": "stderr",
     "output_type": "stream",
     "text": [
      "                                                          \r"
     ]
    },
    {
     "name": "stdout",
     "output_type": "stream",
     "text": [
      "Train Loss: 0.7857, Train Acc: 0.00%\n",
      "Test Loss:  0.2998, Test Acc:  97.35%\n",
      "\n",
      "Epoch [906/1000]\n"
     ]
    },
    {
     "name": "stderr",
     "output_type": "stream",
     "text": [
      "                                                          \r"
     ]
    },
    {
     "name": "stdout",
     "output_type": "stream",
     "text": [
      "Train Loss: 0.7826, Train Acc: 0.00%\n",
      "Test Loss:  0.2753, Test Acc:  97.44%\n",
      "\n",
      "Epoch [907/1000]\n"
     ]
    },
    {
     "name": "stderr",
     "output_type": "stream",
     "text": [
      "                                                          \r"
     ]
    },
    {
     "name": "stdout",
     "output_type": "stream",
     "text": [
      "Train Loss: 0.7013, Train Acc: 0.00%\n",
      "Test Loss:  0.2196, Test Acc:  97.52%\n",
      "\n",
      "Epoch [908/1000]\n"
     ]
    },
    {
     "name": "stderr",
     "output_type": "stream",
     "text": [
      "                                                          \r"
     ]
    },
    {
     "name": "stdout",
     "output_type": "stream",
     "text": [
      "Train Loss: 0.8031, Train Acc: 0.00%\n",
      "Test Loss:  0.3069, Test Acc:  97.38%\n",
      "\n",
      "Epoch [909/1000]\n"
     ]
    },
    {
     "name": "stderr",
     "output_type": "stream",
     "text": [
      "                                                          \r"
     ]
    },
    {
     "name": "stdout",
     "output_type": "stream",
     "text": [
      "Train Loss: 0.7857, Train Acc: 0.00%\n",
      "Test Loss:  0.2691, Test Acc:  97.58%\n",
      "Saving model with Test Acc: 97.58%\n",
      "\n",
      "Epoch [910/1000]\n"
     ]
    },
    {
     "name": "stderr",
     "output_type": "stream",
     "text": [
      "                                                          \r"
     ]
    },
    {
     "name": "stdout",
     "output_type": "stream",
     "text": [
      "Train Loss: 0.8426, Train Acc: 0.00%\n",
      "Test Loss:  0.2729, Test Acc:  97.47%\n",
      "\n",
      "Epoch [911/1000]\n"
     ]
    },
    {
     "name": "stderr",
     "output_type": "stream",
     "text": [
      "                                                          \r"
     ]
    },
    {
     "name": "stdout",
     "output_type": "stream",
     "text": [
      "Train Loss: 0.6686, Train Acc: 0.00%\n",
      "Test Loss:  0.2179, Test Acc:  97.52%\n",
      "\n",
      "Epoch [912/1000]\n"
     ]
    },
    {
     "name": "stderr",
     "output_type": "stream",
     "text": [
      "                                                          \r"
     ]
    },
    {
     "name": "stdout",
     "output_type": "stream",
     "text": [
      "Train Loss: 0.7513, Train Acc: 0.00%\n",
      "Test Loss:  0.2869, Test Acc:  97.32%\n",
      "\n",
      "Epoch [913/1000]\n"
     ]
    },
    {
     "name": "stderr",
     "output_type": "stream",
     "text": [
      "                                                          \r"
     ]
    },
    {
     "name": "stdout",
     "output_type": "stream",
     "text": [
      "Train Loss: 0.8591, Train Acc: 0.00%\n",
      "Test Loss:  0.3266, Test Acc:  97.48%\n",
      "\n",
      "Epoch [914/1000]\n"
     ]
    },
    {
     "name": "stderr",
     "output_type": "stream",
     "text": [
      "                                                           \r"
     ]
    },
    {
     "name": "stdout",
     "output_type": "stream",
     "text": [
      "Train Loss: 0.7427, Train Acc: 0.00%\n",
      "Test Loss:  0.2325, Test Acc:  97.57%\n",
      "\n",
      "Epoch [915/1000]\n"
     ]
    },
    {
     "name": "stderr",
     "output_type": "stream",
     "text": [
      "                                                          \r"
     ]
    },
    {
     "name": "stdout",
     "output_type": "stream",
     "text": [
      "Train Loss: 0.7422, Train Acc: 0.00%\n",
      "Test Loss:  0.2771, Test Acc:  97.52%\n",
      "\n",
      "Epoch [916/1000]\n"
     ]
    },
    {
     "name": "stderr",
     "output_type": "stream",
     "text": [
      "                                                          \r"
     ]
    },
    {
     "name": "stdout",
     "output_type": "stream",
     "text": [
      "Train Loss: 0.8754, Train Acc: 0.00%\n",
      "Test Loss:  0.3146, Test Acc:  97.44%\n",
      "\n",
      "Epoch [917/1000]\n"
     ]
    },
    {
     "name": "stderr",
     "output_type": "stream",
     "text": [
      "                                                          \r"
     ]
    },
    {
     "name": "stdout",
     "output_type": "stream",
     "text": [
      "Train Loss: 0.7581, Train Acc: 0.00%\n",
      "Test Loss:  0.2571, Test Acc:  97.59%\n",
      "Saving model with Test Acc: 97.59%\n",
      "\n",
      "Epoch [918/1000]\n"
     ]
    },
    {
     "name": "stderr",
     "output_type": "stream",
     "text": [
      "                                                          \r"
     ]
    },
    {
     "name": "stdout",
     "output_type": "stream",
     "text": [
      "Train Loss: 0.7143, Train Acc: 0.00%\n",
      "Test Loss:  0.2341, Test Acc:  97.56%\n",
      "\n",
      "Epoch [919/1000]\n"
     ]
    },
    {
     "name": "stderr",
     "output_type": "stream",
     "text": [
      "                                                          \r"
     ]
    },
    {
     "name": "stdout",
     "output_type": "stream",
     "text": [
      "Train Loss: 0.7808, Train Acc: 0.00%\n",
      "Test Loss:  0.2885, Test Acc:  97.68%\n",
      "Saving model with Test Acc: 97.68%\n",
      "\n",
      "Epoch [920/1000]\n"
     ]
    },
    {
     "name": "stderr",
     "output_type": "stream",
     "text": [
      "                                                          \r"
     ]
    },
    {
     "name": "stdout",
     "output_type": "stream",
     "text": [
      "Train Loss: 0.7264, Train Acc: 0.00%\n",
      "Test Loss:  0.2319, Test Acc:  97.67%\n",
      "\n",
      "Epoch [921/1000]\n"
     ]
    },
    {
     "name": "stderr",
     "output_type": "stream",
     "text": [
      "                                                          \r"
     ]
    },
    {
     "name": "stdout",
     "output_type": "stream",
     "text": [
      "Train Loss: 0.6766, Train Acc: 0.00%\n",
      "Test Loss:  0.2632, Test Acc:  97.57%\n",
      "\n",
      "Epoch [922/1000]\n"
     ]
    },
    {
     "name": "stderr",
     "output_type": "stream",
     "text": [
      "                                                          \r"
     ]
    },
    {
     "name": "stdout",
     "output_type": "stream",
     "text": [
      "Train Loss: 0.7596, Train Acc: 0.00%\n",
      "Test Loss:  0.2520, Test Acc:  97.58%\n",
      "\n",
      "Epoch [923/1000]\n"
     ]
    },
    {
     "name": "stderr",
     "output_type": "stream",
     "text": [
      "                                                          \r"
     ]
    },
    {
     "name": "stdout",
     "output_type": "stream",
     "text": [
      "Train Loss: 0.7075, Train Acc: 0.00%\n",
      "Test Loss:  0.2298, Test Acc:  97.50%\n",
      "\n",
      "Epoch [924/1000]\n"
     ]
    },
    {
     "name": "stderr",
     "output_type": "stream",
     "text": [
      "                                                          \r"
     ]
    },
    {
     "name": "stdout",
     "output_type": "stream",
     "text": [
      "Train Loss: 0.8208, Train Acc: 0.00%\n",
      "Test Loss:  0.2668, Test Acc:  97.53%\n",
      "\n",
      "Epoch [925/1000]\n"
     ]
    },
    {
     "name": "stderr",
     "output_type": "stream",
     "text": [
      "                                                          \r"
     ]
    },
    {
     "name": "stdout",
     "output_type": "stream",
     "text": [
      "Train Loss: 0.7302, Train Acc: 0.00%\n",
      "Test Loss:  0.2736, Test Acc:  97.59%\n",
      "\n",
      "Epoch [926/1000]\n"
     ]
    },
    {
     "name": "stderr",
     "output_type": "stream",
     "text": [
      "                                                          \r"
     ]
    },
    {
     "name": "stdout",
     "output_type": "stream",
     "text": [
      "Train Loss: 0.7347, Train Acc: 0.00%\n",
      "Test Loss:  0.2642, Test Acc:  97.62%\n",
      "\n",
      "Epoch [927/1000]\n"
     ]
    },
    {
     "name": "stderr",
     "output_type": "stream",
     "text": [
      "                                                          \r"
     ]
    },
    {
     "name": "stdout",
     "output_type": "stream",
     "text": [
      "Train Loss: 0.7460, Train Acc: 0.00%\n",
      "Test Loss:  0.2674, Test Acc:  97.61%\n",
      "\n",
      "Epoch [928/1000]\n"
     ]
    },
    {
     "name": "stderr",
     "output_type": "stream",
     "text": [
      "                                                          \r"
     ]
    },
    {
     "name": "stdout",
     "output_type": "stream",
     "text": [
      "Train Loss: 0.8202, Train Acc: 0.00%\n",
      "Test Loss:  0.2986, Test Acc:  97.64%\n",
      "\n",
      "Epoch [929/1000]\n"
     ]
    },
    {
     "name": "stderr",
     "output_type": "stream",
     "text": [
      "                                                          \r"
     ]
    },
    {
     "name": "stdout",
     "output_type": "stream",
     "text": [
      "Train Loss: 0.7913, Train Acc: 0.00%\n",
      "Test Loss:  0.3066, Test Acc:  97.47%\n",
      "\n",
      "Epoch [930/1000]\n"
     ]
    },
    {
     "name": "stderr",
     "output_type": "stream",
     "text": [
      "                                                          \r"
     ]
    },
    {
     "name": "stdout",
     "output_type": "stream",
     "text": [
      "Train Loss: 0.7497, Train Acc: 0.00%\n",
      "Test Loss:  0.2724, Test Acc:  97.57%\n",
      "\n",
      "Epoch [931/1000]\n"
     ]
    },
    {
     "name": "stderr",
     "output_type": "stream",
     "text": [
      "                                                          \r"
     ]
    },
    {
     "name": "stdout",
     "output_type": "stream",
     "text": [
      "Train Loss: 0.7580, Train Acc: 0.00%\n",
      "Test Loss:  0.2323, Test Acc:  97.51%\n",
      "\n",
      "Epoch [932/1000]\n"
     ]
    },
    {
     "name": "stderr",
     "output_type": "stream",
     "text": [
      "                                                          \r"
     ]
    },
    {
     "name": "stdout",
     "output_type": "stream",
     "text": [
      "Train Loss: 0.7576, Train Acc: 0.00%\n",
      "Test Loss:  0.2784, Test Acc:  97.58%\n",
      "\n",
      "Epoch [933/1000]\n"
     ]
    },
    {
     "name": "stderr",
     "output_type": "stream",
     "text": [
      "                                                          \r"
     ]
    },
    {
     "name": "stdout",
     "output_type": "stream",
     "text": [
      "Train Loss: 0.8071, Train Acc: 0.00%\n",
      "Test Loss:  0.3039, Test Acc:  97.50%\n",
      "\n",
      "Epoch [934/1000]\n"
     ]
    },
    {
     "name": "stderr",
     "output_type": "stream",
     "text": [
      "                                                          \r"
     ]
    },
    {
     "name": "stdout",
     "output_type": "stream",
     "text": [
      "Train Loss: 0.7482, Train Acc: 0.00%\n",
      "Test Loss:  0.2811, Test Acc:  97.54%\n",
      "\n",
      "Epoch [935/1000]\n"
     ]
    },
    {
     "name": "stderr",
     "output_type": "stream",
     "text": [
      "                                                          \r"
     ]
    },
    {
     "name": "stdout",
     "output_type": "stream",
     "text": [
      "Train Loss: 0.6745, Train Acc: 0.00%\n",
      "Test Loss:  0.2199, Test Acc:  97.52%\n",
      "\n",
      "Epoch [936/1000]\n"
     ]
    },
    {
     "name": "stderr",
     "output_type": "stream",
     "text": [
      "                                                          \r"
     ]
    },
    {
     "name": "stdout",
     "output_type": "stream",
     "text": [
      "Train Loss: 0.7026, Train Acc: 0.00%\n",
      "Test Loss:  0.2599, Test Acc:  97.49%\n",
      "\n",
      "Epoch [937/1000]\n"
     ]
    },
    {
     "name": "stderr",
     "output_type": "stream",
     "text": [
      "                                                          \r"
     ]
    },
    {
     "name": "stdout",
     "output_type": "stream",
     "text": [
      "Train Loss: 0.7424, Train Acc: 0.00%\n",
      "Test Loss:  0.2693, Test Acc:  97.42%\n",
      "\n",
      "Epoch [938/1000]\n"
     ]
    },
    {
     "name": "stderr",
     "output_type": "stream",
     "text": [
      "                                                          \r"
     ]
    },
    {
     "name": "stdout",
     "output_type": "stream",
     "text": [
      "Train Loss: 0.8009, Train Acc: 0.00%\n",
      "Test Loss:  0.2871, Test Acc:  97.57%\n",
      "\n",
      "Epoch [939/1000]\n"
     ]
    },
    {
     "name": "stderr",
     "output_type": "stream",
     "text": [
      "                                                          \r"
     ]
    },
    {
     "name": "stdout",
     "output_type": "stream",
     "text": [
      "Train Loss: 0.7719, Train Acc: 0.00%\n",
      "Test Loss:  0.3065, Test Acc:  97.61%\n",
      "\n",
      "Epoch [940/1000]\n"
     ]
    },
    {
     "name": "stderr",
     "output_type": "stream",
     "text": [
      "                                                          \r"
     ]
    },
    {
     "name": "stdout",
     "output_type": "stream",
     "text": [
      "Train Loss: 0.6977, Train Acc: 0.00%\n",
      "Test Loss:  0.2322, Test Acc:  97.68%\n",
      "\n",
      "Epoch [941/1000]\n"
     ]
    },
    {
     "name": "stderr",
     "output_type": "stream",
     "text": [
      "                                                          \r"
     ]
    },
    {
     "name": "stdout",
     "output_type": "stream",
     "text": [
      "Train Loss: 0.8098, Train Acc: 0.00%\n",
      "Test Loss:  0.2899, Test Acc:  97.59%\n",
      "\n",
      "Epoch [942/1000]\n"
     ]
    },
    {
     "name": "stderr",
     "output_type": "stream",
     "text": [
      "                                                          \r"
     ]
    },
    {
     "name": "stdout",
     "output_type": "stream",
     "text": [
      "Train Loss: 0.7003, Train Acc: 0.00%\n",
      "Test Loss:  0.2492, Test Acc:  97.50%\n",
      "\n",
      "Epoch [943/1000]\n"
     ]
    },
    {
     "name": "stderr",
     "output_type": "stream",
     "text": [
      "                                                          \r"
     ]
    },
    {
     "name": "stdout",
     "output_type": "stream",
     "text": [
      "Train Loss: 0.7586, Train Acc: 0.00%\n",
      "Test Loss:  0.2126, Test Acc:  97.62%\n",
      "\n",
      "Epoch [944/1000]\n"
     ]
    },
    {
     "name": "stderr",
     "output_type": "stream",
     "text": [
      "                                                          \r"
     ]
    },
    {
     "name": "stdout",
     "output_type": "stream",
     "text": [
      "Train Loss: 0.7748, Train Acc: 0.00%\n",
      "Test Loss:  0.2637, Test Acc:  97.62%\n",
      "\n",
      "Epoch [945/1000]\n"
     ]
    },
    {
     "name": "stderr",
     "output_type": "stream",
     "text": [
      "                                                          \r"
     ]
    },
    {
     "name": "stdout",
     "output_type": "stream",
     "text": [
      "Train Loss: 0.8185, Train Acc: 0.00%\n",
      "Test Loss:  0.2678, Test Acc:  97.63%\n",
      "\n",
      "Epoch [946/1000]\n"
     ]
    },
    {
     "name": "stderr",
     "output_type": "stream",
     "text": [
      "                                                          \r"
     ]
    },
    {
     "name": "stdout",
     "output_type": "stream",
     "text": [
      "Train Loss: 0.7814, Train Acc: 0.00%\n",
      "Test Loss:  0.2560, Test Acc:  97.66%\n",
      "\n",
      "Epoch [947/1000]\n"
     ]
    },
    {
     "name": "stderr",
     "output_type": "stream",
     "text": [
      "                                                          \r"
     ]
    },
    {
     "name": "stdout",
     "output_type": "stream",
     "text": [
      "Train Loss: 0.7634, Train Acc: 0.00%\n",
      "Test Loss:  0.2667, Test Acc:  97.63%\n",
      "\n",
      "Epoch [948/1000]\n"
     ]
    },
    {
     "name": "stderr",
     "output_type": "stream",
     "text": [
      "                                                          \r"
     ]
    },
    {
     "name": "stdout",
     "output_type": "stream",
     "text": [
      "Train Loss: 0.6855, Train Acc: 0.00%\n",
      "Test Loss:  0.2578, Test Acc:  97.55%\n",
      "\n",
      "Epoch [949/1000]\n"
     ]
    },
    {
     "name": "stderr",
     "output_type": "stream",
     "text": [
      "                                                          \r"
     ]
    },
    {
     "name": "stdout",
     "output_type": "stream",
     "text": [
      "Train Loss: 0.7710, Train Acc: 0.00%\n",
      "Test Loss:  0.2655, Test Acc:  97.58%\n",
      "\n",
      "Epoch [950/1000]\n"
     ]
    },
    {
     "name": "stderr",
     "output_type": "stream",
     "text": [
      "                                                           \r"
     ]
    },
    {
     "name": "stdout",
     "output_type": "stream",
     "text": [
      "Train Loss: 0.7406, Train Acc: 0.00%\n",
      "Test Loss:  0.2356, Test Acc:  97.56%\n",
      "\n",
      "Epoch [951/1000]\n"
     ]
    },
    {
     "name": "stderr",
     "output_type": "stream",
     "text": [
      "                                                          \r"
     ]
    },
    {
     "name": "stdout",
     "output_type": "stream",
     "text": [
      "Train Loss: 0.7612, Train Acc: 0.00%\n",
      "Test Loss:  0.2651, Test Acc:  97.67%\n",
      "\n",
      "Epoch [952/1000]\n"
     ]
    },
    {
     "name": "stderr",
     "output_type": "stream",
     "text": [
      "                                                          \r"
     ]
    },
    {
     "name": "stdout",
     "output_type": "stream",
     "text": [
      "Train Loss: 0.7253, Train Acc: 0.00%\n",
      "Test Loss:  0.2351, Test Acc:  97.77%\n",
      "Saving model with Test Acc: 97.77%\n",
      "\n",
      "Epoch [953/1000]\n"
     ]
    },
    {
     "name": "stderr",
     "output_type": "stream",
     "text": [
      "                                                          \r"
     ]
    },
    {
     "name": "stdout",
     "output_type": "stream",
     "text": [
      "Train Loss: 0.7446, Train Acc: 0.00%\n",
      "Test Loss:  0.2382, Test Acc:  97.59%\n",
      "\n",
      "Epoch [954/1000]\n"
     ]
    },
    {
     "name": "stderr",
     "output_type": "stream",
     "text": [
      "                                                           \r"
     ]
    },
    {
     "name": "stdout",
     "output_type": "stream",
     "text": [
      "Train Loss: 0.7203, Train Acc: 0.00%\n",
      "Test Loss:  0.2572, Test Acc:  97.65%\n",
      "\n",
      "Epoch [955/1000]\n"
     ]
    },
    {
     "name": "stderr",
     "output_type": "stream",
     "text": [
      "                                                          \r"
     ]
    },
    {
     "name": "stdout",
     "output_type": "stream",
     "text": [
      "Train Loss: 0.7914, Train Acc: 0.00%\n",
      "Test Loss:  0.2743, Test Acc:  97.61%\n",
      "\n",
      "Epoch [956/1000]\n"
     ]
    },
    {
     "name": "stderr",
     "output_type": "stream",
     "text": [
      "                                                           \r"
     ]
    },
    {
     "name": "stdout",
     "output_type": "stream",
     "text": [
      "Train Loss: 0.7418, Train Acc: 0.00%\n",
      "Test Loss:  0.2327, Test Acc:  97.65%\n",
      "\n",
      "Epoch [957/1000]\n"
     ]
    },
    {
     "name": "stderr",
     "output_type": "stream",
     "text": [
      "                                                          \r"
     ]
    },
    {
     "name": "stdout",
     "output_type": "stream",
     "text": [
      "Train Loss: 0.7939, Train Acc: 0.00%\n",
      "Test Loss:  0.2915, Test Acc:  97.57%\n",
      "\n",
      "Epoch [958/1000]\n"
     ]
    },
    {
     "name": "stderr",
     "output_type": "stream",
     "text": [
      "                                                          \r"
     ]
    },
    {
     "name": "stdout",
     "output_type": "stream",
     "text": [
      "Train Loss: 0.7662, Train Acc: 0.00%\n",
      "Test Loss:  0.2778, Test Acc:  97.64%\n",
      "\n",
      "Epoch [959/1000]\n"
     ]
    },
    {
     "name": "stderr",
     "output_type": "stream",
     "text": [
      "                                                          \r"
     ]
    },
    {
     "name": "stdout",
     "output_type": "stream",
     "text": [
      "Train Loss: 0.7767, Train Acc: 0.00%\n",
      "Test Loss:  0.2577, Test Acc:  97.68%\n",
      "\n",
      "Epoch [960/1000]\n"
     ]
    },
    {
     "name": "stderr",
     "output_type": "stream",
     "text": [
      "                                                          \r"
     ]
    },
    {
     "name": "stdout",
     "output_type": "stream",
     "text": [
      "Train Loss: 0.8046, Train Acc: 0.00%\n",
      "Test Loss:  0.2714, Test Acc:  97.60%\n",
      "\n",
      "Epoch [961/1000]\n"
     ]
    },
    {
     "name": "stderr",
     "output_type": "stream",
     "text": [
      "Training:  90%|████████▉ | 44/49 [00:09<00:00,  6.03it/s]"
     ]
    }
   ],
   "source": [
    "exp_configs = [\n",
    "        {'num_epochs': 1000, 'batch_size': 1024, 'initial_lr': 0.1, \n",
    "         'mix_prob': 1.0, 'mixup_alpha': 1.0, 'cutmix_alpha': 1.0},\n",
    "        # Add more dicts if for different configurations\n",
    "    ]\n",
    "    \n",
    "for cfg in exp_configs:\n",
    "    print(f'Running Experiment: {cfg}')\n",
    "    best_acc = main_experiment(**cfg)\n",
    "    print(f'Finished Experiment: Best Accuracy = {best_acc:.2f}%')"
   ]
  },
  {
   "cell_type": "markdown",
   "id": "5033695e-43c5-41d7-8449-d50e50c51b63",
   "metadata": {},
   "source": [
    "Notes: The training process did not finish due to Job time constraints in HPC. But you could already see the testing accuracies. With more training, the accuracies would get more robust. However, it will not drastically increase as it reaches the margin."
   ]
  },
  {
   "cell_type": "markdown",
   "id": "5ee6b735-1608-4859-ac4e-31b998b171bb",
   "metadata": {},
   "source": [
    "### Visualize and Post-processing"
   ]
  },
  {
   "cell_type": "code",
   "execution_count": null,
   "id": "ca17a206-998f-4c65-986e-28801521742b",
   "metadata": {},
   "outputs": [],
   "source": [
    "import matplotlib.pyplot as plt\n",
    "epochs_range = range(num_epochs)\n",
    "\n",
    "plt.figure(figsize=(12, 5))\n",
    "plt.subplot(1,2,1)\n",
    "plt.plot(epochs_range, train_loss_history, label='Train Loss')\n",
    "plt.plot(epochs_range, test_loss_history, label='Test Loss')\n",
    "plt.xlabel('Epochs')\n",
    "plt.ylabel('Loss')\n",
    "plt.legend()\n",
    "plt.title('Loss Curves')\n",
    "\n",
    "plt.subplot(1,2,2)\n",
    "plt.plot(epochs_range, train_acc_history, label='Train Accuracy')\n",
    "plt.plot(epochs_range, test_acc_history, label='Test Accuracy')\n",
    "plt.xlabel('Epochs')\n",
    "plt.ylabel('Accuracy (%)')\n",
    "plt.legend()\n",
    "plt.title('Accuracy Curves')\n",
    "\n",
    "plt.show()"
   ]
  },
  {
   "metadata": {},
   "cell_type": "markdown",
   "source": "**For illustrative purposes**, we've included an additional visualization cell below, provided in `draw_fig.py`. Note that this code snippet cannot be executed here:\n",
   "id": "9325203c1de8bb49"
  },
  {
   "metadata": {
    "ExecuteTime": {
     "end_time": "2025-03-15T04:15:53.051817Z",
     "start_time": "2025-03-15T04:15:52.281184Z"
    }
   },
   "cell_type": "code",
   "source": [
    "import re\n",
    "import matplotlib\n",
    "import matplotlib.pyplot as plt\n",
    "import matplotlib.style as style\n",
    "import scienceplots  # Import scienceplots to register the styles\n",
    "\n",
    "# Use SciencePlots style with high resolution\n",
    "plt.style.use(['science', 'high-vis'])\n",
    "\n",
    "# Enable LaTeX-style text rendering and Times New Roman font\n",
    "plt.rcParams.update({\n",
    "    \"font.family\": \"serif\",\n",
    "    \"font.serif\": [\"Times New Roman\"],\n",
    "    \"figure.dpi\": 300,                # Higher resolution\n",
    "    \"axes.facecolor\": \"#f7f7f7\",      # Light grey facecolor for contrast\n",
    "})\n",
    "\n",
    "epochs = []\n",
    "test_losses = []\n",
    "test_accs = []\n",
    "current_epoch = None\n",
    "# Filter to the first 900 epochs\n",
    "epoch_loss_acc = [\n",
    "    (e, l, a) for (e, l, a) in zip(epochs, test_losses, test_accs)\n",
    "    if e <= 900\n",
    "]\n",
    "\n",
    "epochs_900      = [x[0] for x in epoch_loss_acc]\n",
    "test_losses_900 = [x[1] for x in epoch_loss_acc]\n",
    "test_accs_900   = [x[2] for x in epoch_loss_acc]\n",
    "# -----------------------------\n",
    "#  C) PLOT TEST LOSS\n",
    "# -----------------------------\n",
    "fig, ax = plt.subplots()  # higher resolution\n",
    "ax.plot(epochs_900, test_losses_900, linewidth=1, color='navy')\n",
    "\n",
    "ax.set_title(\"Test Loss vs. Epoch (first 900 epochs)\", fontsize=14)\n",
    "ax.set_xlabel(\"Epoch\", fontsize=12)\n",
    "ax.set_ylabel(\"Test Loss\", fontsize=12)\n",
    "ax.grid(True, linestyle='--', linewidth=0.5, alpha=0.7)\n",
    "\n",
    "plt.tight_layout()\n",
    "plt.show()\n",
    "fig.savefig('test_loss_plot.pdf', format='pdf', bbox_inches='tight')\n",
    "# -----------------------------\n",
    "#  D) PLOT TEST ACCURACY\n",
    "# -----------------------------\n",
    "fig, ax = plt.subplots()  # higher resolution\n",
    "ax.plot(epochs_900, test_accs_900, linewidth=1, color='darkorange')\n",
    "\n",
    "ax.set_title(\"Test Accuracy vs. Epoch (first 900 epochs)\")\n",
    "ax.set_xlabel(\"Epoch\")\n",
    "ax.set_ylabel(\"Test Accuracy (\\%)\")  # Corrected label to remove escape character\n",
    "\n",
    "fig.tight_layout()\n",
    "plt.show()\n",
    "fig.savefig('test_accuracy_plot.pdf', format='pdf', bbox_inches='tight')\n"
   ],
   "id": "f958aa15c8af0a60",
   "outputs": [
    {
     "name": "stderr",
     "output_type": "stream",
     "text": [
      "<>:4663: SyntaxWarning: invalid escape sequence '\\%'\n",
      "<>:4663: SyntaxWarning: invalid escape sequence '\\%'\n",
      "C:\\Users\\Holiday\\AppData\\Local\\Temp\\ipykernel_25820\\660968596.py:4663: SyntaxWarning: invalid escape sequence '\\%'\n",
      "  ax.set_ylabel(\"Test Accuracy (\\%)\")  # Corrected label to remove escape character\n"
     ]
    },
    {
     "data": {
      "text/plain": [
       "<Figure size 1050x787.5 with 1 Axes>"
      ],
      "image/png": "[encoded data removed]"
     },
     "metadata": {},
     "output_type": "display_data"
    },
    {
     "data": {
      "text/plain": [
       "<Figure size 1050x787.5 with 1 Axes>"
      ],
      "image/png": "[encoded data removed]"
     },
     "metadata": {},
     "output_type": "display_data"
    }
   ],
   "execution_count": 6
  },
  {
   "cell_type": "code",
   "id": "d0c87311-1c13-4f0b-a82c-e605ed3f4f8d",
   "metadata": {
    "ExecuteTime": {
     "end_time": "2025-03-15T03:32:32.983441Z",
     "start_time": "2025-03-15T03:31:48.238519Z"
    }
   },
   "source": [
    "from sklearn.metrics import confusion_matrix\n",
    "import seaborn as sns\n",
    "import matplotlib.pyplot as plt\n",
    "import scienceplots\n",
    "\n",
    "train_loader, test_loader = load_cifar10_data(batch_size=1024)\n",
    "model = ModifiedResNet(\n",
    "        num_blocks=[4,4,3],\n",
    "        base_channels=64,\n",
    "        num_classes=10,\n",
    "        use_se=True\n",
    "    ).cuda()\n",
    "# load the parameters from best_model.pth\n",
    "model.load_state_dict(torch.load('best_model.pth'))\n",
    "model.cuda()\n",
    "all_preds = []\n",
    "all_labels = []\n",
    "model.eval()\n",
    "with torch.no_grad():\n",
    "    for images, labels in test_loader:\n",
    "        images = images.cuda()\n",
    "        labels = labels.cuda()\n",
    "        logits = model(images)\n",
    "        _, preds = logits.max(dim=1)\n",
    "        all_preds.extend(preds.cpu().numpy())\n",
    "        all_labels.extend(labels.cpu().numpy())\n",
    "\n",
    "# Ensure SciencePlots style is activated\n",
    "plt.style.use(['science', 'high-vis'])\n",
    "\n",
    "# Set Times New Roman and other plotting parameters\n",
    "plt.rcParams.update({\n",
    "    \"font.family\": \"serif\",\n",
    "    \"font.serif\": [\"Times New Roman\"],\n",
    "    \"axes.facecolor\": \"#f9f9f9\",\n",
    "})\n",
    "\n",
    "# Assuming you already have all_labels and all_preds defined:\n",
    "cm = confusion_matrix(all_labels, all_preds)\n",
    "\n",
    "fig, ax = plt.subplots()\n",
    "\n",
    "# Create heatmap\n",
    "sns.heatmap(cm, annot=True, fmt='d', cmap='Blues', cbar=True, ax=ax,\n",
    "            annot_kws={\"size\":10}, linewidths=0.5, linecolor='gray')\n",
    "\n",
    "ax.set_title('Confusion Matrix', fontsize=14)\n",
    "ax.set_xlabel('Predicted Label', fontsize=12)\n",
    "ax.set_ylabel('True Label', fontsize=12)\n",
    "\n",
    "# Adjust tick label size\n",
    "ax.tick_params(axis='both', which='major', labelsize=10)\n",
    "\n",
    "fig.tight_layout()\n",
    "\n",
    "# Save figure as PDF\n",
    "fig.savefig('confusion_matrix.pdf', format='pdf', bbox_inches='tight')\n",
    "\n",
    "plt.show()"
   ],
   "outputs": [
    {
     "data": {
      "text/plain": [
       "<Figure size 350x262.5 with 2 Axes>"
      ],
      "image/png": "[encoded data removed]"
     },
     "metadata": {},
     "output_type": "display_data"
    }
   ],
   "execution_count": 10
  },
  {
   "cell_type": "code",
   "id": "9ec8b711-adef-4e2e-9b06-c54766a8ac4e",
   "metadata": {
    "ExecuteTime": {
     "end_time": "2025-03-15T03:25:45.278680Z",
     "start_time": "2025-03-15T03:25:39.774617Z"
    }
   },
   "source": [
    "all_params = []\n",
    "for name, param in model.named_parameters():\n",
    "    if param.requires_grad:\n",
    "        all_params.extend(param.detach().cpu().numpy().flatten())\n",
    "\n",
    "plt.hist(all_params, bins=50, alpha=0.7)\n",
    "plt.title('Parameter Distribution')\n",
    "plt.xlabel('Value')\n",
    "plt.ylabel('Count')\n",
    "plt.show()"
   ],
   "outputs": [
    {
     "data": {
      "text/plain": [
       "<Figure size 640x480 with 1 Axes>"
      ],
      "image/png": "[encoded data removed]"
     },
     "metadata": {},
     "output_type": "display_data"
    }
   ],
   "execution_count": 9
  }
 ],
 "metadata": {
  "kernelspec": {
   "display_name": "Python 3 (ipykernel)",
   "language": "python",
   "name": "python3"
  },
  "language_info": {
   "codemirror_mode": {
    "name": "ipython",
    "version": 3
   },
   "file_extension": ".py",
   "mimetype": "text/x-python",
   "name": "python",
   "nbconvert_exporter": "python",
   "pygments_lexer": "ipython3",
   "version": "3.9.18"
  }
 },
 "nbformat": 4,
 "nbformat_minor": 5
}
